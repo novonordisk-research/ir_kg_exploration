{
 "cells": [
  {
   "cell_type": "markdown",
   "id": "57205418-6c64-4cfe-ab03-0139c42f9bca",
   "metadata": {},
   "source": [
    "# Occurences of Genes in models\n",
    "\n",
    "This notebook we look at the predictions of the different models and how often the the repetions occurs between the geenes\n",
    "\n"
   ]
  },
  {
   "cell_type": "code",
   "execution_count": null,
   "id": "9f09cd6b-40a5-475a-b56a-3db10274b179",
   "metadata": {},
   "outputs": [],
   "source": [
    "import pandas as pd\n",
    "from matplotlib import cm\n",
    "import matplotlib.pyplot as plt"
   ]
  },
  {
   "cell_type": "code",
   "execution_count": 5,
   "id": "b71faf52-b182-4793-9739-06efe58a88db",
   "metadata": {},
   "outputs": [],
   "source": [
    "df_topo = pd.read_csv(\"../../Topology/gene_100_genes_count_percentages.csv\", sep=\"\\t\")\n",
    "df_transE = pd.read_csv(\"../../TransE/gene_100_genes_count_percentages.csv\", sep=\"\\t\")\n",
    "df_worst = pd.read_csv(\n",
    "    \"./../LocalOutlierFactor_TransE/gene_100_genes_count_percentages.csv\", sep=\"\\t\"\n",
    ")\n",
    "df_RotatE = pd.read_csv(\"../../RotatE/gene_100_genes_count_percentages.csv\", sep=\"\\t\")\n",
    "df_Rotate_boost = pd.read_csv(\n",
    "    \"../../Elkanoto_XGBoost_RotatE/gene_100_genes_count_percentages.csv\", sep=\"\\t\"\n",
    ")"
   ]
  },
  {
   "cell_type": "markdown",
   "id": "111e6e42-bbb0-4e0d-b3ff-debdb83f1f69",
   "metadata": {},
   "source": [
    "Find the number of occurences of gene in the 10 models"
   ]
  },
  {
   "cell_type": "code",
   "execution_count": 6,
   "id": "744e9079-b793-4b7d-ab38-4510eb9d4474",
   "metadata": {},
   "outputs": [],
   "source": [
    "topo_10 = df_topo[df_topo[\"count\"] >= 10].shape[0]\n",
    "worst_10 = df_worst[df_worst[\"count\"] >= 10].shape[0]\n",
    "transE_10 = df_transE[df_transE[\"count\"] >= 10].shape[0]\n",
    "RotatE_10 = df_RotatE[df_RotatE[\"count\"] >= 10].shape[0]\n",
    "RotatE_boost_10 = df_Rotate_boost[df_Rotate_boost[\"count\"] >= 10].shape[0]"
   ]
  },
  {
   "cell_type": "code",
   "execution_count": 7,
   "id": "5c8a806e-96b5-4f85-a966-d75de6f5c393",
   "metadata": {},
   "outputs": [],
   "source": [
    "topo_9 = df_topo[(df_topo[\"count\"] > 8) & (df_topo[\"count\"] <= 9)].shape[0] * 9 / 10\n",
    "worst_9 = df_worst[(df_worst[\"count\"] > 8) & (df_worst[\"count\"] <= 9)].shape[0] * 9 / 10\n",
    "transE_9 = (\n",
    "    df_transE[(df_transE[\"count\"] > 8) & (df_transE[\"count\"] <= 9)].shape[0] * 9 / 10\n",
    ")\n",
    "RotatE_9 = (\n",
    "    df_RotatE[(df_RotatE[\"count\"] > 8) & (df_RotatE[\"count\"] <= 9)].shape[0] * 9 / 10\n",
    ")\n",
    "RotatE_boost_9 = (\n",
    "    df_Rotate_boost[\n",
    "        (df_Rotate_boost[\"count\"] > 8) & (df_Rotate_boost[\"count\"] <= 9)\n",
    "    ].shape[0]\n",
    "    * 9\n",
    "    / 10\n",
    ")"
   ]
  },
  {
   "cell_type": "code",
   "execution_count": 8,
   "id": "17909bc4-0aa0-40b6-875d-09816ca298b6",
   "metadata": {},
   "outputs": [],
   "source": [
    "topo_8 = df_topo[(df_topo[\"count\"] > 7) & (df_topo[\"count\"] <= 8)].shape[0] * 8 / 10\n",
    "worst_8 = df_worst[(df_worst[\"count\"] > 7) & (df_worst[\"count\"] <= 8)].shape[0] * 8 / 10\n",
    "transE_8 = (\n",
    "    df_transE[(df_transE[\"count\"] > 7) & (df_transE[\"count\"] <= 8)].shape[0] * 8 / 10\n",
    ")\n",
    "RotatE_8 = (\n",
    "    df_RotatE[(df_RotatE[\"count\"] > 7) & (df_RotatE[\"count\"] <= 8)].shape[0] * 8 / 10\n",
    ")\n",
    "RotatE_boost_8 = (\n",
    "    df_Rotate_boost[\n",
    "        (df_Rotate_boost[\"count\"] > 7) & (df_Rotate_boost[\"count\"] <= 8)\n",
    "    ].shape[0]\n",
    "    * 8\n",
    "    / 10\n",
    ")"
   ]
  },
  {
   "cell_type": "code",
   "execution_count": 9,
   "id": "2a036f08-7116-4ca9-98d1-db38d091ffd4",
   "metadata": {},
   "outputs": [],
   "source": [
    "topo_7 = df_topo[(df_topo[\"count\"] > 6) & (df_topo[\"count\"] <= 7)].shape[0] * 7 / 10\n",
    "worst_7 = df_worst[(df_worst[\"count\"] > 6) & (df_worst[\"count\"] <= 7)].shape[0] * 7 / 10\n",
    "transE_7 = (\n",
    "    df_transE[(df_transE[\"count\"] > 6) & (df_transE[\"count\"] <= 7)].shape[0] * 7 / 10\n",
    ")\n",
    "RotatE_7 = (\n",
    "    df_RotatE[(df_RotatE[\"count\"] > 6) & (df_RotatE[\"count\"] <= 7)].shape[0] * 7 / 10\n",
    ")\n",
    "RotatE_boost_7 = (\n",
    "    df_Rotate_boost[\n",
    "        (df_Rotate_boost[\"count\"] > 6) & (df_Rotate_boost[\"count\"] <= 7)\n",
    "    ].shape[0]\n",
    "    * 7\n",
    "    / 10\n",
    ")"
   ]
  },
  {
   "cell_type": "code",
   "execution_count": 10,
   "id": "8fb894d9-1eb5-4a2d-8d7c-43b00e2cd433",
   "metadata": {},
   "outputs": [],
   "source": [
    "topo_6 = df_topo[(df_topo[\"count\"] > 5) & (df_topo[\"count\"] <= 6)].shape[0] * 6 / 10\n",
    "worst_6 = df_worst[(df_worst[\"count\"] > 5) & (df_worst[\"count\"] <= 6)].shape[0] * 6 / 10\n",
    "transE_6 = (\n",
    "    df_transE[(df_transE[\"count\"] > 5) & (df_transE[\"count\"] <= 6)].shape[0] * 6 / 10\n",
    ")\n",
    "RotatE_6 = (\n",
    "    df_RotatE[(df_RotatE[\"count\"] > 5) & (df_RotatE[\"count\"] <= 6)].shape[0] * 6 / 10\n",
    ")\n",
    "RotatE_boost_6 = (\n",
    "    df_Rotate_boost[\n",
    "        (df_Rotate_boost[\"count\"] > 5) & (df_Rotate_boost[\"count\"] <= 6)\n",
    "    ].shape[0]\n",
    "    * 6\n",
    "    / 10\n",
    ")"
   ]
  },
  {
   "cell_type": "code",
   "execution_count": 11,
   "id": "dc85c2dd-8da7-49ff-afd2-1722938af8b7",
   "metadata": {},
   "outputs": [],
   "source": [
    "topo_5 = df_topo[(df_topo[\"count\"] > 4) & (df_topo[\"count\"] <= 5)].shape[0] * 5 / 10\n",
    "worst_5 = df_worst[(df_worst[\"count\"] > 4) & (df_worst[\"count\"] <= 5)].shape[0] * 5 / 10\n",
    "transE_5 = (\n",
    "    df_transE[(df_transE[\"count\"] > 4) & (df_transE[\"count\"] <= 5)].shape[0] * 5 / 10\n",
    ")\n",
    "RotatE_5 = (\n",
    "    df_RotatE[(df_RotatE[\"count\"] > 4) & (df_RotatE[\"count\"] <= 5)].shape[0] * 5 / 10\n",
    ")\n",
    "RotatE_boost_5 = (\n",
    "    df_Rotate_boost[\n",
    "        (df_Rotate_boost[\"count\"] > 4) & (df_Rotate_boost[\"count\"] <= 5)\n",
    "    ].shape[0]\n",
    "    * 5\n",
    "    / 10\n",
    ")"
   ]
  },
  {
   "cell_type": "code",
   "execution_count": 12,
   "id": "eccbc5a8-1d0a-44c4-8daa-9579a48860c6",
   "metadata": {},
   "outputs": [],
   "source": [
    "topo_4 = df_topo[(df_topo[\"count\"] > 3) & (df_topo[\"count\"] <= 4)].shape[0] * 4 / 10\n",
    "worst_4 = df_worst[(df_worst[\"count\"] > 3) & (df_worst[\"count\"] <= 4)].shape[0] * 4 / 10\n",
    "transE_4 = (\n",
    "    df_transE[(df_transE[\"count\"] > 3) & (df_transE[\"count\"] <= 4)].shape[0] * 4 / 10\n",
    ")\n",
    "RotatE_4 = (\n",
    "    df_RotatE[(df_RotatE[\"count\"] > 3) & (df_RotatE[\"count\"] <= 4)].shape[0] * 4 / 10\n",
    ")\n",
    "RotatE_boost_4 = (\n",
    "    df_Rotate_boost[\n",
    "        (df_Rotate_boost[\"count\"] > 3) & (df_Rotate_boost[\"count\"] <= 4)\n",
    "    ].shape[0]\n",
    "    * 4\n",
    "    / 10\n",
    ")"
   ]
  },
  {
   "cell_type": "code",
   "execution_count": 13,
   "id": "9cdffd57-5ec3-4a9a-84aa-c5f640142a66",
   "metadata": {},
   "outputs": [],
   "source": [
    "topo_3 = df_topo[(df_topo[\"count\"] > 2) & (df_topo[\"count\"] <= 3)].shape[0] * 3 / 10\n",
    "worst_3 = df_worst[(df_worst[\"count\"] > 2) & (df_worst[\"count\"] <= 3)].shape[0] * 3 / 10\n",
    "transE_3 = (\n",
    "    df_transE[(df_transE[\"count\"] > 2) & (df_transE[\"count\"] <= 3)].shape[0] * 3 / 10\n",
    ")\n",
    "RotatE_3 = (\n",
    "    df_RotatE[(df_RotatE[\"count\"] > 2) & (df_RotatE[\"count\"] <= 3)].shape[0] * 3 / 10\n",
    ")\n",
    "RotatE_boost_3 = (\n",
    "    df_Rotate_boost[\n",
    "        (df_Rotate_boost[\"count\"] > 2) & (df_Rotate_boost[\"count\"] <= 3)\n",
    "    ].shape[0]\n",
    "    * 3\n",
    "    / 10\n",
    ")"
   ]
  },
  {
   "cell_type": "code",
   "execution_count": 14,
   "id": "42c13ecd-3e84-461a-ad1a-0b3fb2e7e757",
   "metadata": {},
   "outputs": [],
   "source": [
    "topo_2 = df_topo[(df_topo[\"count\"] > 1) & (df_topo[\"count\"] <= 2)].shape[0] * 2 / 10\n",
    "worst_2 = df_worst[(df_worst[\"count\"] > 1) & (df_worst[\"count\"] <= 2)].shape[0] * 2 / 10\n",
    "transE_2 = (\n",
    "    df_transE[(df_transE[\"count\"] > 1) & (df_transE[\"count\"] <= 2)].shape[0] * 2 / 10\n",
    ")\n",
    "RotatE_2 = (\n",
    "    df_RotatE[(df_RotatE[\"count\"] > 1) & (df_RotatE[\"count\"] <= 2)].shape[0] * 2 / 10\n",
    ")\n",
    "RotatE_boost_2 = (\n",
    "    df_Rotate_boost[\n",
    "        (df_Rotate_boost[\"count\"] > 1) & (df_Rotate_boost[\"count\"] <= 2)\n",
    "    ].shape[0]\n",
    "    * 2\n",
    "    / 10\n",
    ")"
   ]
  },
  {
   "cell_type": "code",
   "execution_count": 15,
   "id": "b1fdad5a-cd20-4105-9382-280dfdccd197",
   "metadata": {},
   "outputs": [],
   "source": [
    "topo_1 = df_topo[(df_topo[\"count\"] == 1)].shape[0] * 1 / 10\n",
    "worst_1 = df_worst[(df_worst[\"count\"] == 1)].shape[0] * 1 / 10\n",
    "transE_1 = df_transE[(df_transE[\"count\"] == 1)].shape[0] * 1 / 10\n",
    "RotatE_1 = df_RotatE[(df_RotatE[\"count\"] == 1)].shape[0] * 1 / 10\n",
    "RotatE_boost_1 = df_Rotate_boost[(df_Rotate_boost[\"count\"] == 1)].shape[0] * 1 / 10"
   ]
  },
  {
   "cell_type": "code",
   "execution_count": 17,
   "id": "a97894a0-ddb5-431b-9612-22f410c6a812",
   "metadata": {},
   "outputs": [],
   "source": [
    "types = [\n",
    "    \"10\",\n",
    "    \"9\",\n",
    "    \"8\",\n",
    "    \"7\",\n",
    "    \"6\",\n",
    "    \"5\",\n",
    "    \"4\",\n",
    "    \"3\",\n",
    "    \"2\",\n",
    "    \"1\",\n",
    "]\n",
    "\n",
    "\n",
    "results = {\n",
    "    \"10\": [topo_10, worst_10, transE_10, RotatE_10, RotatE_boost_10],\n",
    "    \"9\": [topo_9, worst_9, transE_9, RotatE_9, RotatE_boost_9],\n",
    "    \"8\": [topo_8, worst_8, transE_8, RotatE_8, RotatE_boost_8],\n",
    "    \"7\": [topo_7, worst_7, transE_7, RotatE_7, RotatE_boost_7],\n",
    "    \"6\": [topo_6, worst_6, transE_6, RotatE_6, RotatE_boost_6],\n",
    "    \"5\": [topo_5, worst_5, transE_5, RotatE_5, RotatE_boost_5],\n",
    "    \"4\": [topo_4, worst_4, transE_4, RotatE_4, RotatE_boost_4],\n",
    "    \"3\": [topo_3, worst_3, transE_3, RotatE_3, RotatE_boost_3],\n",
    "    \"2\": [topo_2, worst_2, transE_2, RotatE_2, RotatE_boost_2],\n",
    "    \"1\": [topo_1, worst_1, transE_1, RotatE_1, RotatE_boost_1],\n",
    "}\n",
    "\n",
    "\n",
    "data_a = [results[t][0] for t in types]\n",
    "data_b = [results[t][1] for t in types]\n",
    "data_c = [results[t][2] for t in types]\n",
    "data_d = [results[t][3] for t in types]\n",
    "data_e = [results[t][4] for t in types]\n",
    "\n",
    "# Create DataFrame\n",
    "df = pd.DataFrame(\n",
    "    {\n",
    "        \"Data A\": data_a,\n",
    "        \"Data B\": data_b,\n",
    "        \"Data C\": data_c,\n",
    "        \"Data D\": data_d,\n",
    "        \"Data E\": data_e,\n",
    "    }\n",
    ")"
   ]
  },
  {
   "cell_type": "code",
   "execution_count": 18,
   "id": "92c0bd4c-9505-428f-ba54-14968c97b760",
   "metadata": {},
   "outputs": [],
   "source": [
    "df = df.set_index(pd.Index(types))"
   ]
  },
  {
   "cell_type": "code",
   "execution_count": 23,
   "id": "59ff81e7-de79-44dc-a53a-ab2dfccdd3c4",
   "metadata": {},
   "outputs": [
    {
     "name": "stderr",
     "output_type": "stream",
     "text": [
      "/tmp/ipykernel_4106569/2081327882.py:2: MatplotlibDeprecationWarning: The get_cmap function was deprecated in Matplotlib 3.7 and will be removed two minor releases later. Use ``matplotlib.colormaps[name]`` or ``matplotlib.colormaps.get_cmap(obj)`` instead.\n",
      "  cmap = cm.get_cmap('Set1')  # choose a colormap\n"
     ]
    },
    {
     "data": {
      "image/png": "[encoded data removed]",
      "text/plain": [
       "<Figure size 640x480 with 1 Axes>"
      ]
     },
     "metadata": {},
     "output_type": "display_data"
    }
   ],
   "source": [
    "# plot the data with a colormap\n",
    "cmap = cm.get_cmap(\"Set1\")  # choose a colormap\n",
    "colors = [cmap(i) for i in range(len(df.columns))]  # generate a list of colors\n",
    "ax = df.plot(kind=\"bar\", color=colors, rot=0)\n",
    "plt.xlabel(\"Frequency of the genes appearing in 10 replicates\")\n",
    "plt.ylabel(\"% of top 100 genes\")\n",
    "plt.legend(\n",
    "    [\n",
    "        \"enrichedOBL_Topology_Large\",\n",
    "        \"OBL_LocalOutlierFactor_TransE_Small\",\n",
    "        \"OBL_TransE_Small\",\n",
    "        \"enrichedOBL_RotatE_Large\",\n",
    "        \"enrichedOBL_Elkanoto_XGBoost_RotatE_Large\",\n",
    "    ],\n",
    "    fontsize=9,\n",
    ")\n",
    "plt.savefig(\"occurences.jpg\", bbox_inches=\"tight\", format=\"jpeg\", dpi=600)\n",
    "\n",
    "plt.show()"
   ]
  }
 ],
 "metadata": {
  "kernelspec": {
   "display_name": "GNN_test",
   "language": "python",
   "name": "gnn_test"
  },
  "language_info": {
   "codemirror_mode": {
    "name": "ipython",
    "version": 3
   },
   "file_extension": ".py",
   "mimetype": "text/x-python",
   "name": "python",
   "nbconvert_exporter": "python",
   "pygments_lexer": "ipython3",
   "version": "3.11.0"
  }
 },
 "nbformat": 4,
 "nbformat_minor": 5
}
