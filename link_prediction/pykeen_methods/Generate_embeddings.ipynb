{
 "cells": [
  {
   "cell_type": "code",
   "execution_count": 32,
   "id": "aa510bdc-8cc4-4693-9965-9073f0c90f2b",
   "metadata": {},
   "outputs": [],
   "source": [
    "import pickle\n",
    "import pandas as pd\n",
    "import torch\n",
    "from pykeen import predict\n",
    "from pykeen.pipeline import pipeline\n",
    "from glob import glob\n",
    "from pykeen.datasets import OpenBioLink\n",
    "from Bio.Entrez.Parser import CorruptedXMLError  \n",
    "from typing import List\n",
    "import numpy as np\n",
    "import pykeen\n",
    "import glob"
   ]
  },
  {
   "cell_type": "code",
   "execution_count": 33,
   "id": "16413c3d-92d3-4c54-87f8-8b9f88c93fe9",
   "metadata": {},
   "outputs": [],
   "source": [
    "files = glob.glob('models_large/*')"
   ]
  },
  {
   "cell_type": "code",
   "execution_count": 34,
   "id": "8f043ebd-d7c0-41ba-9111-ca64d1fa6de1",
   "metadata": {},
   "outputs": [],
   "source": [
    "models = []\n",
    "for file in files:\n",
    "    with open(file, 'rb') as fp:\n",
    "        model = pickle.load(fp)\n",
    "        models.append(model)"
   ]
  },
  {
   "cell_type": "code",
   "execution_count": 35,
   "id": "9c4d38e4-5e5b-4879-a620-141ee5144de0",
   "metadata": {},
   "outputs": [],
   "source": [
    "entity_embeddings = []  \n",
    "for model in models:  \n",
    "    entity_embedding_tensor = model.entity_representations[0](indices=None).cpu().detach().numpy()  \n",
    "    entity_embeddings.append(entity_embedding_tensor)  "
   ]
  },
  {
   "cell_type": "code",
   "execution_count": 36,
   "id": "8c5262e4-abf2-450c-a0c8-b8516388af20",
   "metadata": {},
   "outputs": [],
   "source": [
    "entity_embeddings = np.asarray(entity_embeddings) "
   ]
  },
  {
   "cell_type": "code",
   "execution_count": 37,
   "id": "d9e2cca9-4311-4e60-9880-c427ea505bdb",
   "metadata": {},
   "outputs": [],
   "source": [
    "relation_embeddings = []  \n",
    "for model in models:\n",
    "    relation_embedding_tensor = model.relation_representations[0](indices=None).cpu().detach().numpy()  \n",
    "    relation_embeddings.append(relation_embedding_tensor)  \n"
   ]
  },
  {
   "cell_type": "code",
   "execution_count": 38,
   "id": "4065c683-4ae5-43c9-a047-7bdc8352acd1",
   "metadata": {},
   "outputs": [],
   "source": [
    "relation_embeddings = np.asarray(relation_embeddings)"
   ]
  },
  {
   "cell_type": "code",
   "execution_count": 20,
   "id": "328e8597-8a94-4cfb-81cc-107fd8d68d42",
   "metadata": {},
   "outputs": [],
   "source": [
    "\n",
    "np.save('embeddings_large/entity_embedding_RotatE_10models.npy', entity_embeddings)\n",
    "np.save('embeddings_large/relation_embedding_RotatE_10models.npy', relation_embeddings)"
   ]
  },
  {
   "cell_type": "code",
   "execution_count": 27,
   "id": "063e1e13-1d80-4ab6-a59a-3aea704690bd",
   "metadata": {},
   "outputs": [],
   "source": [
    "files = glob.glob('models_small/*')"
   ]
  },
  {
   "cell_type": "code",
   "execution_count": 28,
   "id": "28c65a12-6dd0-411b-8c4b-58cc4122faa5",
   "metadata": {},
   "outputs": [],
   "source": [
    "models = []\n",
    "for file in files:\n",
    "    with open(file, 'rb') as fp:\n",
    "        model = pickle.load(fp)\n",
    "        models.append(model)"
   ]
  },
  {
   "cell_type": "code",
   "execution_count": 29,
   "id": "5904b721-ce36-4fdf-9613-c4ea73985a3a",
   "metadata": {},
   "outputs": [],
   "source": [
    "entity_embeddings = []  \n",
    "for model in models:  \n",
    "    entity_embedding_tensor = model.entity_representations[0](indices=None).cpu().detach().numpy()  \n",
    "    entity_embeddings.append(entity_embedding_tensor) "
   ]
  },
  {
   "cell_type": "code",
   "execution_count": 30,
   "id": "fdf15b52-1b32-4655-a32c-de77f92c4c61",
   "metadata": {},
   "outputs": [],
   "source": [
    "relation_embeddings = []  \n",
    "for model in models:\n",
    "    relation_embedding_tensor = model.relation_representations[0](indices=None).cpu().detach().numpy()  \n",
    "    relation_embeddings.append(relation_embedding_tensor)  \n"
   ]
  },
  {
   "cell_type": "code",
   "execution_count": 39,
   "id": "5f3c1311-ae5b-4102-82dd-404ae04b33f4",
   "metadata": {},
   "outputs": [],
   "source": [
    "\n",
    "np.save('embeddings_small/entity_embedding_RotatE_10models.npy', entity_embeddings)\n",
    "np.save('embeddings_small/relation_embedding_RotatE_10models.npy', relation_embeddings)"
   ]
  },
  {
   "cell_type": "code",
   "execution_count": null,
   "id": "dcc96856-0bbe-4e5e-98bd-464ed6f5a971",
   "metadata": {},
   "outputs": [],
   "source": []
  }
 ],
 "metadata": {
  "kernelspec": {
   "display_name": "GNN_test",
   "language": "python",
   "name": "gnn_test"
  },
  "language_info": {
   "codemirror_mode": {
    "name": "ipython",
    "version": 3
   },
   "file_extension": ".py",
   "mimetype": "text/x-python",
   "name": "python",
   "nbconvert_exporter": "python",
   "pygments_lexer": "ipython3",
   "version": "3.11.0"
  }
 },
 "nbformat": 4,
 "nbformat_minor": 5
}
