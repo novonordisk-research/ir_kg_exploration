{
 "cells": [
  {
   "cell_type": "code",
   "execution_count": 1,
   "id": "ffa78ab0-852e-4460-99c4-b391081b6e82",
   "metadata": {},
   "outputs": [
    {
     "name": "stderr",
     "output_type": "stream",
     "text": [
      "/nfs_home/users/mbvk/.conda/envs/GNN_test/lib/python3.11/site-packages/tqdm/auto.py:21: TqdmWarning: IProgress not found. Please update jupyter and ipywidgets. See https://ipywidgets.readthedocs.io/en/stable/user_install.html\n",
      "  from .autonotebook import tqdm as notebook_tqdm\n"
     ]
    }
   ],
   "source": [
    "import pickle\n",
    "import pandas as pd\n",
    "import torch\n",
    "from pykeen import predict\n",
    "from pykeen.pipeline import pipeline\n",
    "from glob import glob\n",
    "from pykeen.datasets import OpenBioLink\n",
    "from Bio.Entrez.Parser import CorruptedXMLError  \n"
   ]
  },
  {
   "cell_type": "code",
   "execution_count": 2,
   "id": "09c4f493-2f21-4fc2-813a-b535e6009c5e",
   "metadata": {},
   "outputs": [],
   "source": [
    "import pandas as pd"
   ]
  },
  {
   "cell_type": "markdown",
   "id": "bd85e969-5531-4c3b-b46f-83e2b936fbfd",
   "metadata": {},
   "source": [
    "We have trained 10 models with the best hyperparamters we will load them into a list"
   ]
  },
  {
   "cell_type": "code",
   "execution_count": 3,
   "id": "7b9a5b1d-7326-4f45-854b-d45cb32c39a7",
   "metadata": {},
   "outputs": [],
   "source": [
    "model0 = torch.load('replicates/replicate-00000/trained_model.pkl', map_location=torch.device('cpu'))\n",
    "model1 = torch.load('replicates/replicate-00001/trained_model.pkl', map_location=torch.device('cpu'))\n",
    "model2 = torch.load('replicates/replicate-00002/trained_model.pkl', map_location=torch.device('cpu'))\n",
    "model3 = torch.load('replicates/replicate-00003/trained_model.pkl', map_location=torch.device('cpu'))\n",
    "model4 = torch.load('replicates/replicate-00004/trained_model.pkl', map_location=torch.device('cpu'))\n",
    "model5 = torch.load('replicates/replicate-00005/trained_model.pkl', map_location=torch.device('cpu'))\n",
    "model6 = torch.load('replicates/replicate-00006/trained_model.pkl', map_location=torch.device('cpu'))\n",
    "model7 = torch.load('replicates/replicate-00007/trained_model.pkl', map_location=torch.device('cpu'))\n",
    "model8 = torch.load('replicates/replicate-00008/trained_model.pkl', map_location=torch.device('cpu'))\n",
    "model9 = torch.load('replicates/replicate-00009/trained_model.pkl', map_location=torch.device('cpu'))"
   ]
  },
  {
   "cell_type": "code",
   "execution_count": 4,
   "id": "4b1e9e7a-21b2-4d51-8103-46136a5cfd43",
   "metadata": {},
   "outputs": [],
   "source": [
    "models = [model0,\n",
    "         model1,\n",
    "         model2,\n",
    "         model3,\n",
    "         model4,\n",
    "         model5,\n",
    "         model6,\n",
    "         model7,\n",
    "         model8,\n",
    "         model9]"
   ]
  },
  {
   "cell_type": "code",
   "execution_count": 5,
   "id": "6dc30e4e-6d3a-4974-ba7e-e28962226cb8",
   "metadata": {},
   "outputs": [
    {
     "name": "stderr",
     "output_type": "stream",
     "text": [
      "You're trying to map triples with 2052 entities and 0 relations that are not in the training set. These triples will be excluded from the mapping.\n",
      "In total 2047 from 183011 triples were filtered out\n",
      "You're trying to map triples with 2052 entities and 0 relations that are not in the training set. These triples will be excluded from the mapping.\n",
      "In total 2047 from 183011 triples were filtered out\n"
     ]
    }
   ],
   "source": [
    "training = OpenBioLink().training\n",
    "testing = OpenBioLink().testing"
   ]
  },
  {
   "cell_type": "markdown",
   "id": "3b250458-6b2b-424a-94b7-2146990501fe",
   "metadata": {},
   "source": [
    "Loads the Genes we know are IR related from lis file"
   ]
  },
  {
   "cell_type": "code",
   "execution_count": 6,
   "id": "9cd1ca90-12b3-4a5f-89d7-ac6d6a678b49",
   "metadata": {},
   "outputs": [],
   "source": [
    "genes_important = pd.read_csv('../IR_GeneID_names.csv')"
   ]
  },
  {
   "cell_type": "code",
   "execution_count": 7,
   "id": "d2116549-c21c-484b-bd3d-fe9896caaaef",
   "metadata": {},
   "outputs": [],
   "source": [
    "genes_important['Gene ID'] = genes_important['Gene ID'].dropna().astype(int).astype(str)\n",
    "known_values = genes_important['Gene ID']"
   ]
  },
  {
   "cell_type": "code",
   "execution_count": 8,
   "id": "75414dfb-974f-4b07-a63b-b80db7dfd2ab",
   "metadata": {},
   "outputs": [
    {
     "data": {
      "text/plain": [
       "0         19\n",
       "1       5243\n",
       "2       8647\n",
       "3       9429\n",
       "4      64240\n",
       "       ...  \n",
       "619     4904\n",
       "620     7534\n",
       "621    84327\n",
       "622    60685\n",
       "623    54469\n",
       "Name: Gene ID, Length: 624, dtype: object"
      ]
     },
     "execution_count": 8,
     "metadata": {},
     "output_type": "execute_result"
    }
   ],
   "source": [
    "known_values"
   ]
  },
  {
   "cell_type": "markdown",
   "id": "34f783e4-a8a9-4ba5-9009-3b6741a781a1",
   "metadata": {},
   "source": [
    "# Maps names id to name"
   ]
  },
  {
   "cell_type": "code",
   "execution_count": 21,
   "id": "f3408882-93de-44b1-9afe-0f6b6e476396",
   "metadata": {},
   "outputs": [],
   "source": [
    "from Bio import Entrez  \n",
    "  \n",
    "def get_gene_names(gene_ids):\n",
    "    Entrez.email = 'MB00_new@gmail.com'  # Provide your email address to NCBI\n",
    "\n",
    "    # Fetch the gene summaries from NCBI\n",
    "    handle = Entrez.efetch(db='gene',  retmode='xml',id=gene_ids, rettype='gene')\n",
    "    #records = Entrez.read(handle)\n",
    "    # Parse the XML data using Entrez.read(), with error handling  \n",
    "    try:  \n",
    "        records = Entrez.read(handle)  \n",
    "    except CorruptedXMLError as e:  \n",
    "        print(f\"Error: {e}\")  \n",
    "        records = None  \n",
    "\n",
    "    gene_map = {}\n",
    "    for record in records:\n",
    "        gene_id = record['Entrezgene_track-info']['Gene-track']['Gene-track_geneid']\n",
    "        gene_name = record['Entrezgene_gene']['Gene-ref']['Gene-ref_locus']\n",
    "        gene_map[gene_id] = gene_name\n",
    "\n",
    "    return gene_map"
   ]
  },
  {
   "cell_type": "code",
   "execution_count": 12,
   "id": "965ad6ca-b74d-4ea1-9aa2-49d7f5759621",
   "metadata": {},
   "outputs": [
    {
     "data": {
      "text/html": [
       "<div>\n",
       "<style scoped>\n",
       "    .dataframe tbody tr th:only-of-type {\n",
       "        vertical-align: middle;\n",
       "    }\n",
       "\n",
       "    .dataframe tbody tr th {\n",
       "        vertical-align: top;\n",
       "    }\n",
       "\n",
       "    .dataframe thead th {\n",
       "        text-align: right;\n",
       "    }\n",
       "</style>\n",
       "<table border=\"1\" class=\"dataframe\">\n",
       "  <thead>\n",
       "    <tr style=\"text-align: right;\">\n",
       "      <th></th>\n",
       "      <th>Input ID</th>\n",
       "      <th>Gene ID</th>\n",
       "    </tr>\n",
       "  </thead>\n",
       "  <tbody>\n",
       "    <tr>\n",
       "      <th>0</th>\n",
       "      <td>ABCA1</td>\n",
       "      <td>19</td>\n",
       "    </tr>\n",
       "    <tr>\n",
       "      <th>1</th>\n",
       "      <td>ABCB1</td>\n",
       "      <td>5243</td>\n",
       "    </tr>\n",
       "    <tr>\n",
       "      <th>2</th>\n",
       "      <td>ABCB11</td>\n",
       "      <td>8647</td>\n",
       "    </tr>\n",
       "    <tr>\n",
       "      <th>3</th>\n",
       "      <td>ABCG2</td>\n",
       "      <td>9429</td>\n",
       "    </tr>\n",
       "    <tr>\n",
       "      <th>4</th>\n",
       "      <td>ABCG5</td>\n",
       "      <td>64240</td>\n",
       "    </tr>\n",
       "    <tr>\n",
       "      <th>...</th>\n",
       "      <td>...</td>\n",
       "      <td>...</td>\n",
       "    </tr>\n",
       "    <tr>\n",
       "      <th>619</th>\n",
       "      <td>YBX1</td>\n",
       "      <td>4904</td>\n",
       "    </tr>\n",
       "    <tr>\n",
       "      <th>620</th>\n",
       "      <td>YWHAZ</td>\n",
       "      <td>7534</td>\n",
       "    </tr>\n",
       "    <tr>\n",
       "      <th>621</th>\n",
       "      <td>ZBED3</td>\n",
       "      <td>84327</td>\n",
       "    </tr>\n",
       "    <tr>\n",
       "      <th>622</th>\n",
       "      <td>ZFAND3</td>\n",
       "      <td>60685</td>\n",
       "    </tr>\n",
       "    <tr>\n",
       "      <th>623</th>\n",
       "      <td>ZFAND6</td>\n",
       "      <td>54469</td>\n",
       "    </tr>\n",
       "  </tbody>\n",
       "</table>\n",
       "<p>624 rows × 2 columns</p>\n",
       "</div>"
      ],
      "text/plain": [
       "    Input ID Gene ID\n",
       "0      ABCA1      19\n",
       "1      ABCB1    5243\n",
       "2     ABCB11    8647\n",
       "3      ABCG2    9429\n",
       "4      ABCG5   64240\n",
       "..       ...     ...\n",
       "619     YBX1    4904\n",
       "620    YWHAZ    7534\n",
       "621    ZBED3   84327\n",
       "622   ZFAND3   60685\n",
       "623   ZFAND6   54469\n",
       "\n",
       "[624 rows x 2 columns]"
      ]
     },
     "execution_count": 12,
     "metadata": {},
     "output_type": "execute_result"
    }
   ],
   "source": [
    "genes_important"
   ]
  },
  {
   "cell_type": "markdown",
   "id": "5e8a9d42-fc64-41d4-8bb8-e3594cc7339e",
   "metadata": {},
   "source": [
    "# Make predictions\n",
    "\n",
    "The predictions made here filter out the edges present in the training dataset"
   ]
  },
  {
   "cell_type": "code",
   "execution_count": 13,
   "id": "bff7d3cd-f43b-49c7-b227-0d76c888ac7b",
   "metadata": {},
   "outputs": [],
   "source": [
    "genes = []\n",
    "#genes that match the list provided by Lis\n",
    "true_genes = []\n",
    "for model in models:\n",
    "    results = predict.predict_target(model=model, tail=\"HP:0000855\", relation=\"GENE_PHENOTYPE\", triples_factory=testing).filter_triples(training).df\n",
    "    #selects the 100 most likley genes to have edge with IR node\n",
    "    res = results[:100]['head_label'].str.replace('NCBIGENE:', '')\n",
    "    \n",
    "    match_genes = res[res.isin(known_values).to_list()]\n",
    "    \n",
    "    '''gene_name_map = get_gene_names(list(res))'''\n",
    "    genes.append(res)\n",
    "    true_genes.append(match_genes)\n",
    "    "
   ]
  },
  {
   "cell_type": "markdown",
   "id": "1d90037e-1105-4bdf-aa79-a6caba30cff9",
   "metadata": {},
   "source": [
    "Matches the genes numbers to the ID"
   ]
  },
  {
   "cell_type": "code",
   "execution_count": 15,
   "id": "352914b9-a624-4e38-9ce8-1dd575de4389",
   "metadata": {},
   "outputs": [],
   "source": [
    "names = []\n",
    "for i in range(len(genes)):\n",
    "    names.append(get_gene_names(genes[i]))"
   ]
  },
  {
   "cell_type": "code",
   "execution_count": 22,
   "id": "4a2ab928-a80a-4f51-a6f0-4551190eb9cc",
   "metadata": {},
   "outputs": [],
   "source": [
    "match_names = []\n",
    "for i in range(len(genes)):\n",
    "    res = genes[i]\n",
    "    match_genes = res[res.isin(known_values).to_list()]\n",
    "    match_names.append(get_gene_names(match_genes))"
   ]
  },
  {
   "cell_type": "markdown",
   "id": "04674f97-6371-48ab-a73e-f9b1e256957a",
   "metadata": {},
   "source": [
    "Average number of correctly predicted gene ID's"
   ]
  },
  {
   "cell_type": "code",
   "execution_count": 35,
   "id": "1f4ad95d-b901-46a5-8e71-4acbec3b04b5",
   "metadata": {},
   "outputs": [],
   "source": [
    "list_of_genes = [[value for value in dictionary.values()] for dictionary in genes[:]]\n",
    "df = pd.DataFrame(zip(*list_of_genes), columns=[f\"model_{i}\" for i in range(len(list_of_genes))])\n"
   ]
  },
  {
   "cell_type": "code",
   "execution_count": 29,
   "id": "c028d1b5-0563-483a-92c1-5e86f641dc98",
   "metadata": {},
   "outputs": [],
   "source": [
    "df.to_csv('RotatE_10_prediction_models.csv')"
   ]
  }
 ],
 "metadata": {
  "kernelspec": {
   "display_name": "GNN_test",
   "language": "python",
   "name": "gnn_test"
  },
  "language_info": {
   "codemirror_mode": {
    "name": "ipython",
    "version": 3
   },
   "file_extension": ".py",
   "mimetype": "text/x-python",
   "name": "python",
   "nbconvert_exporter": "python",
   "pygments_lexer": "ipython3",
   "version": "3.11.0"
  }
 },
 "nbformat": 4,
 "nbformat_minor": 5
}
