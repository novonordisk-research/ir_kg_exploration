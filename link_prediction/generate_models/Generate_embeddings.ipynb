{
 "cells": [
  {
   "cell_type": "code",
   "execution_count": 32,
   "id": "aa510bdc-8cc4-4693-9965-9073f0c90f2b",
   "metadata": {},
   "outputs": [],
   "source": [
    "import pickle\n",
    "from glob import glob\n",
    "import numpy as np\n",
    "import glob\n",
    "from pathlib import Path"
   ]
  },
  {
   "cell_type": "code",
   "execution_count": 33,
   "id": "16413c3d-92d3-4c54-87f8-8b9f88c93fe9",
   "metadata": {},
   "outputs": [],
   "source": [
    "MODEL_NAME = \"RotatE\"\n",
    "DATASET_NAME = \"OpenBioLink\"\n",
    "DATASET_TYPE = \"large\"\n",
    "\n",
    "model_dir = Path(f\"models/{DATASET_NAME}_{DATASET_TYPE}/{MODEL_NAME}\")\n",
    "files = model_dir.glob(\"*\")"
   ]
  },
  {
   "cell_type": "code",
   "execution_count": 34,
   "id": "8f043ebd-d7c0-41ba-9111-ca64d1fa6de1",
   "metadata": {},
   "outputs": [],
   "source": [
    "models = []\n",
    "for file in files:\n",
    "    with open(file, \"rb\") as fp:\n",
    "        model = pickle.load(fp)\n",
    "        models.append(model)"
   ]
  },
  {
   "cell_type": "code",
   "execution_count": 35,
   "id": "9c4d38e4-5e5b-4879-a620-141ee5144de0",
   "metadata": {},
   "outputs": [],
   "source": [
    "entity_embeddings = []\n",
    "for model in models:\n",
    "    entity_embedding_tensor = (\n",
    "        model.entity_representations[0](indices=None).cpu().detach().numpy()\n",
    "    )\n",
    "    entity_embeddings.append(entity_embedding_tensor)\n",
    "\n",
    "entity_embeddings = np.asarray(entity_embeddings)"
   ]
  },
  {
   "cell_type": "code",
   "execution_count": 37,
   "id": "d9e2cca9-4311-4e60-9880-c427ea505bdb",
   "metadata": {},
   "outputs": [],
   "source": [
    "relation_embeddings = []\n",
    "for model in models:\n",
    "    relation_embedding_tensor = (\n",
    "        model.relation_representations[0](indices=None).cpu().detach().numpy()\n",
    "    )\n",
    "    relation_embeddings.append(relation_embedding_tensor)\n",
    "\n",
    "relation_embeddings = np.asarray(relation_embeddings)"
   ]
  },
  {
   "cell_type": "code",
   "execution_count": 20,
   "id": "328e8597-8a94-4cfb-81cc-107fd8d68d42",
   "metadata": {},
   "outputs": [],
   "source": [
    "Path(\"embeddings_{DATASET_TYPE}\").mkdir(exist_ok=True)\n",
    "np.save(\n",
    "    \"embeddings_{DATASET_TYPE}/entity_embedding_{MODEL_NAME}_10models.npy\",\n",
    "    entity_embeddings,\n",
    ")\n",
    "np.save(\n",
    "    \"embeddings_{DATASET_TYPE}/relation_embedding_{MODEL_NAME}_10models.npy\",\n",
    "    relation_embeddings,\n",
    ")"
   ]
  }
 ],
 "metadata": {
  "kernelspec": {
   "display_name": "GNN_test",
   "language": "python",
   "name": "gnn_test"
  },
  "language_info": {
   "codemirror_mode": {
    "name": "ipython",
    "version": 3
   },
   "file_extension": ".py",
   "mimetype": "text/x-python",
   "name": "python",
   "nbconvert_exporter": "python",
   "pygments_lexer": "ipython3",
   "version": "3.11.0"
  }
 },
 "nbformat": 4,
 "nbformat_minor": 5
}
