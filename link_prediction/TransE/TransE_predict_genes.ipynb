{
 "cells": [
  {
   "cell_type": "code",
   "execution_count": 1,
   "id": "ffa78ab0-852e-4460-99c4-b391081b6e82",
   "metadata": {},
   "outputs": [
    {
     "name": "stderr",
     "output_type": "stream",
     "text": [
      "/nfs_home/users/mbvk/.conda/envs/GNN_test/lib/python3.11/site-packages/tqdm/auto.py:21: TqdmWarning: IProgress not found. Please update jupyter and ipywidgets. See https://ipywidgets.readthedocs.io/en/stable/user_install.html\n",
      "  from .autonotebook import tqdm as notebook_tqdm\n"
     ]
    }
   ],
   "source": [
    "import pickle\n",
    "import pandas as pd\n",
    "import torch\n",
    "from pykeen import predict\n",
    "from pykeen.pipeline import pipeline\n",
    "from glob import glob\n",
    "from pykeen.datasets import OpenBioLink\n",
    "from Bio.Entrez.Parser import CorruptedXMLError"
   ]
  },
  {
   "cell_type": "code",
   "execution_count": 2,
   "id": "09c4f493-2f21-4fc2-813a-b535e6009c5e",
   "metadata": {},
   "outputs": [],
   "source": [
    "import pandas as pd"
   ]
  },
  {
   "cell_type": "markdown",
   "id": "bd85e969-5531-4c3b-b46f-83e2b936fbfd",
   "metadata": {},
   "source": [
    "We have trained 10 models with the best hyperparamters we will load them into a list"
   ]
  },
  {
   "cell_type": "code",
   "execution_count": 3,
   "id": "7b9a5b1d-7326-4f45-854b-d45cb32c39a7",
   "metadata": {},
   "outputs": [],
   "source": [
    "model0 = torch.load(\n",
    "    \"replicates/replicate-00000/trained_model.pkl\", map_location=torch.device(\"cpu\")\n",
    ")\n",
    "model1 = torch.load(\n",
    "    \"replicates/replicate-00001/trained_model.pkl\", map_location=torch.device(\"cpu\")\n",
    ")\n",
    "model2 = torch.load(\n",
    "    \"replicates/replicate-00002/trained_model.pkl\", map_location=torch.device(\"cpu\")\n",
    ")\n",
    "model3 = torch.load(\n",
    "    \"replicates/replicate-00003/trained_model.pkl\", map_location=torch.device(\"cpu\")\n",
    ")\n",
    "model4 = torch.load(\n",
    "    \"replicates/replicate-00004/trained_model.pkl\", map_location=torch.device(\"cpu\")\n",
    ")\n",
    "model5 = torch.load(\n",
    "    \"replicates/replicate-00005/trained_model.pkl\", map_location=torch.device(\"cpu\")\n",
    ")\n",
    "model6 = torch.load(\n",
    "    \"replicates/replicate-00006/trained_model.pkl\", map_location=torch.device(\"cpu\")\n",
    ")\n",
    "model7 = torch.load(\n",
    "    \"replicates/replicate-00007/trained_model.pkl\", map_location=torch.device(\"cpu\")\n",
    ")\n",
    "model8 = torch.load(\n",
    "    \"replicates/replicate-00008/trained_model.pkl\", map_location=torch.device(\"cpu\")\n",
    ")\n",
    "model9 = torch.load(\n",
    "    \"replicates/replicate-00009/trained_model.pkl\", map_location=torch.device(\"cpu\")\n",
    ")"
   ]
  },
  {
   "cell_type": "code",
   "execution_count": 4,
   "id": "4b1e9e7a-21b2-4d51-8103-46136a5cfd43",
   "metadata": {},
   "outputs": [],
   "source": [
    "models = [\n",
    "    model0,\n",
    "    model1,\n",
    "    model2,\n",
    "    model3,\n",
    "    model4,\n",
    "    model5,\n",
    "    model6,\n",
    "    model7,\n",
    "    model8,\n",
    "    model9,\n",
    "]"
   ]
  },
  {
   "cell_type": "code",
   "execution_count": 5,
   "id": "6dc30e4e-6d3a-4974-ba7e-e28962226cb8",
   "metadata": {},
   "outputs": [
    {
     "name": "stderr",
     "output_type": "stream",
     "text": [
      "You're trying to map triples with 2052 entities and 0 relations that are not in the training set. These triples will be excluded from the mapping.\n",
      "In total 2047 from 183011 triples were filtered out\n",
      "You're trying to map triples with 2052 entities and 0 relations that are not in the training set. These triples will be excluded from the mapping.\n",
      "In total 2047 from 183011 triples were filtered out\n"
     ]
    }
   ],
   "source": [
    "training = OpenBioLink().training\n",
    "testing = OpenBioLink().testing"
   ]
  },
  {
   "cell_type": "markdown",
   "id": "3b250458-6b2b-424a-94b7-2146990501fe",
   "metadata": {},
   "source": [
    "Loads the Genes we know are IR related from lis file"
   ]
  },
  {
   "cell_type": "code",
   "execution_count": 6,
   "id": "9cd1ca90-12b3-4a5f-89d7-ac6d6a678b49",
   "metadata": {},
   "outputs": [],
   "source": [
    "genes_important = pd.read_csv(\"../data/IR_GeneID_names.csv\")"
   ]
  },
  {
   "cell_type": "code",
   "execution_count": 7,
   "id": "d2116549-c21c-484b-bd3d-fe9896caaaef",
   "metadata": {},
   "outputs": [],
   "source": [
    "genes_important[\"Gene ID\"] = genes_important[\"Gene ID\"].dropna().astype(int).astype(str)\n",
    "known_values = genes_important[\"Gene ID\"]"
   ]
  },
  {
   "cell_type": "code",
   "execution_count": 8,
   "id": "75414dfb-974f-4b07-a63b-b80db7dfd2ab",
   "metadata": {},
   "outputs": [
    {
     "data": {
      "text/plain": [
       "0         19\n",
       "1       5243\n",
       "2       8647\n",
       "3       9429\n",
       "4      64240\n",
       "       ...  \n",
       "619     4904\n",
       "620     7534\n",
       "621    84327\n",
       "622    60685\n",
       "623    54469\n",
       "Name: Gene ID, Length: 624, dtype: object"
      ]
     },
     "execution_count": 8,
     "metadata": {},
     "output_type": "execute_result"
    }
   ],
   "source": [
    "known_values"
   ]
  },
  {
   "cell_type": "markdown",
   "id": "34f783e4-a8a9-4ba5-9009-3b6741a781a1",
   "metadata": {},
   "source": [
    "# Maps names id to name"
   ]
  },
  {
   "cell_type": "code",
   "execution_count": 9,
   "id": "f3408882-93de-44b1-9afe-0f6b6e476396",
   "metadata": {},
   "outputs": [],
   "source": [
    "from Bio import Entrez\n",
    "\n",
    "\n",
    "def get_gene_names(gene_ids):\n",
    "    Entrez.email = \"MOOO_new@gmail.com\"  # Provide your email address to NCBI\n",
    "\n",
    "    # Fetch the gene summaries from NCBI\n",
    "    handle = Entrez.efetch(db=\"gene\", retmode=\"xml\", id=gene_ids, rettype=\"gene\")\n",
    "    # records = Entrez.read(handle)\n",
    "    # Parse the XML data using Entrez.read(), with error handling\n",
    "    try:\n",
    "        records = Entrez.read(handle)\n",
    "    except CorruptedXMLError as e:\n",
    "        print(f\"Error: {e}\")\n",
    "        records = None\n",
    "\n",
    "    gene_map = {}\n",
    "    for record in records:\n",
    "        gene_id = record[\"Entrezgene_track-info\"][\"Gene-track\"][\"Gene-track_geneid\"]\n",
    "        gene_name = record[\"Entrezgene_gene\"][\"Gene-ref\"][\"Gene-ref_locus\"]\n",
    "        gene_map[gene_id] = gene_name\n",
    "\n",
    "    return gene_map"
   ]
  },
  {
   "cell_type": "code",
   "execution_count": 10,
   "id": "965ad6ca-b74d-4ea1-9aa2-49d7f5759621",
   "metadata": {},
   "outputs": [
    {
     "data": {
      "text/html": [
       "<div>\n",
       "<style scoped>\n",
       "    .dataframe tbody tr th:only-of-type {\n",
       "        vertical-align: middle;\n",
       "    }\n",
       "\n",
       "    .dataframe tbody tr th {\n",
       "        vertical-align: top;\n",
       "    }\n",
       "\n",
       "    .dataframe thead th {\n",
       "        text-align: right;\n",
       "    }\n",
       "</style>\n",
       "<table border=\"1\" class=\"dataframe\">\n",
       "  <thead>\n",
       "    <tr style=\"text-align: right;\">\n",
       "      <th></th>\n",
       "      <th>Input ID</th>\n",
       "      <th>Gene ID</th>\n",
       "    </tr>\n",
       "  </thead>\n",
       "  <tbody>\n",
       "    <tr>\n",
       "      <th>0</th>\n",
       "      <td>ABCA1</td>\n",
       "      <td>19</td>\n",
       "    </tr>\n",
       "    <tr>\n",
       "      <th>1</th>\n",
       "      <td>ABCB1</td>\n",
       "      <td>5243</td>\n",
       "    </tr>\n",
       "    <tr>\n",
       "      <th>2</th>\n",
       "      <td>ABCB11</td>\n",
       "      <td>8647</td>\n",
       "    </tr>\n",
       "    <tr>\n",
       "      <th>3</th>\n",
       "      <td>ABCG2</td>\n",
       "      <td>9429</td>\n",
       "    </tr>\n",
       "    <tr>\n",
       "      <th>4</th>\n",
       "      <td>ABCG5</td>\n",
       "      <td>64240</td>\n",
       "    </tr>\n",
       "    <tr>\n",
       "      <th>...</th>\n",
       "      <td>...</td>\n",
       "      <td>...</td>\n",
       "    </tr>\n",
       "    <tr>\n",
       "      <th>619</th>\n",
       "      <td>YBX1</td>\n",
       "      <td>4904</td>\n",
       "    </tr>\n",
       "    <tr>\n",
       "      <th>620</th>\n",
       "      <td>YWHAZ</td>\n",
       "      <td>7534</td>\n",
       "    </tr>\n",
       "    <tr>\n",
       "      <th>621</th>\n",
       "      <td>ZBED3</td>\n",
       "      <td>84327</td>\n",
       "    </tr>\n",
       "    <tr>\n",
       "      <th>622</th>\n",
       "      <td>ZFAND3</td>\n",
       "      <td>60685</td>\n",
       "    </tr>\n",
       "    <tr>\n",
       "      <th>623</th>\n",
       "      <td>ZFAND6</td>\n",
       "      <td>54469</td>\n",
       "    </tr>\n",
       "  </tbody>\n",
       "</table>\n",
       "<p>624 rows × 2 columns</p>\n",
       "</div>"
      ],
      "text/plain": [
       "    Input ID Gene ID\n",
       "0      ABCA1      19\n",
       "1      ABCB1    5243\n",
       "2     ABCB11    8647\n",
       "3      ABCG2    9429\n",
       "4      ABCG5   64240\n",
       "..       ...     ...\n",
       "619     YBX1    4904\n",
       "620    YWHAZ    7534\n",
       "621    ZBED3   84327\n",
       "622   ZFAND3   60685\n",
       "623   ZFAND6   54469\n",
       "\n",
       "[624 rows x 2 columns]"
      ]
     },
     "execution_count": 10,
     "metadata": {},
     "output_type": "execute_result"
    }
   ],
   "source": [
    "genes_important"
   ]
  },
  {
   "cell_type": "code",
   "execution_count": 11,
   "id": "bff7d3cd-f43b-49c7-b227-0d76c888ac7b",
   "metadata": {},
   "outputs": [],
   "source": [
    "genes = []\n",
    "# genes that match the list provided by Lis\n",
    "true_genes = []\n",
    "for model in models:\n",
    "    results = (\n",
    "        predict.predict_target(\n",
    "            model=model,\n",
    "            tail=\"HP:0000855\",\n",
    "            relation=\"GENE_PHENOTYPE\",\n",
    "            triples_factory=testing,\n",
    "        )\n",
    "        .filter_triples(training)\n",
    "        .df\n",
    "    )\n",
    "    # selects the 100 most likley genes to have edge with IR node\n",
    "    res = results[:100][\"head_label\"].str.replace(\"NCBIGENE:\", \"\")\n",
    "\n",
    "    match_genes = res[res.isin(known_values).to_list()]\n",
    "\n",
    "    \"\"\"gene_name_map = get_gene_names(list(res))\"\"\"\n",
    "    genes.append(res)\n",
    "    true_genes.append(match_genes)"
   ]
  },
  {
   "cell_type": "code",
   "execution_count": 12,
   "id": "986fbb52-d576-400d-8daf-dad8d6685c3e",
   "metadata": {},
   "outputs": [
    {
     "data": {
      "text/plain": [
       "10"
      ]
     },
     "execution_count": 12,
     "metadata": {},
     "output_type": "execute_result"
    }
   ],
   "source": [
    "len(genes)"
   ]
  },
  {
   "cell_type": "code",
   "execution_count": 13,
   "id": "352914b9-a624-4e38-9ce8-1dd575de4389",
   "metadata": {},
   "outputs": [],
   "source": [
    "names = []\n",
    "for i in range(len(genes)):\n",
    "    names.append(get_gene_names(genes[i]))"
   ]
  },
  {
   "cell_type": "code",
   "execution_count": 14,
   "id": "daff84fe-19eb-48a3-bd2b-334c8a807c80",
   "metadata": {},
   "outputs": [
    {
     "data": {
      "text/plain": [
       "8"
      ]
     },
     "execution_count": 14,
     "metadata": {},
     "output_type": "execute_result"
    }
   ],
   "source": [
    "len(true_genes[3])"
   ]
  },
  {
   "cell_type": "code",
   "execution_count": 15,
   "id": "4a2ab928-a80a-4f51-a6f0-4551190eb9cc",
   "metadata": {},
   "outputs": [],
   "source": [
    "match_names = []\n",
    "for i in range(len(genes)):\n",
    "    res = genes[i]\n",
    "    match_genes = res[res.isin(known_values).to_list()]\n",
    "    match_names.append(get_gene_names(match_genes))"
   ]
  },
  {
   "cell_type": "code",
   "execution_count": 16,
   "id": "a3e3ede4-9915-4c4e-ab63-ba3b72389e8c",
   "metadata": {},
   "outputs": [
    {
     "data": {
      "text/plain": [
       "13"
      ]
     },
     "execution_count": 16,
     "metadata": {},
     "output_type": "execute_result"
    }
   ],
   "source": [
    "len(match_names[4])"
   ]
  },
  {
   "cell_type": "code",
   "execution_count": 18,
   "id": "9a1f8449-1e33-4239-a737-609a2c78824d",
   "metadata": {},
   "outputs": [
    {
     "name": "stdout",
     "output_type": "stream",
     "text": [
      "6.7\n"
     ]
    }
   ],
   "source": [
    "sum_true = 0\n",
    "for i in range(len(match_names)):\n",
    "    sum_true += len(match_names[i])\n",
    "\n",
    "print(sum_true / len(true_genes))"
   ]
  },
  {
   "cell_type": "code",
   "execution_count": 19,
   "id": "e4d99f0c-cd03-4ec3-b9ad-a417d5cd177c",
   "metadata": {},
   "outputs": [
    {
     "data": {
      "text/plain": [
       "3"
      ]
     },
     "execution_count": 19,
     "metadata": {},
     "output_type": "execute_result"
    }
   ],
   "source": [
    "len(match_names[9])"
   ]
  },
  {
   "cell_type": "code",
   "execution_count": 20,
   "id": "a6152f37-0099-490b-894b-ad4a20bdcec5",
   "metadata": {},
   "outputs": [],
   "source": [
    "genes = names\n",
    "true_genes = match_names"
   ]
  },
  {
   "cell_type": "code",
   "execution_count": 21,
   "id": "1f4ad95d-b901-46a5-8e71-4acbec3b04b5",
   "metadata": {},
   "outputs": [],
   "source": [
    "list_of_genes = [[value for value in dictionary.values()] for dictionary in genes[:]]\n",
    "df = pd.DataFrame(\n",
    "    zip(*list_of_genes), columns=[f\"model_{i}\" for i in range(len(list_of_genes))]\n",
    ")"
   ]
  },
  {
   "cell_type": "code",
   "execution_count": 71,
   "id": "1b382200-2e6a-4a89-9127-a366e9fbf1af",
   "metadata": {},
   "outputs": [
    {
     "ename": "KeyError",
     "evalue": "'model_9'",
     "output_type": "error",
     "traceback": [
      "\u001b[0;31m---------------------------------------------------------------------------\u001b[0m",
      "\u001b[0;31mKeyError\u001b[0m                                  Traceback (most recent call last)",
      "File \u001b[0;32m~/.conda/envs/GNN_test/lib/python3.11/site-packages/pandas/core/indexes/base.py:3652\u001b[0m, in \u001b[0;36mIndex.get_loc\u001b[0;34m(self, key)\u001b[0m\n\u001b[1;32m   3651\u001b[0m \u001b[38;5;28;01mtry\u001b[39;00m:\n\u001b[0;32m-> 3652\u001b[0m     \u001b[38;5;28;01mreturn\u001b[39;00m \u001b[38;5;28mself\u001b[39m\u001b[38;5;241m.\u001b[39m_engine\u001b[38;5;241m.\u001b[39mget_loc(casted_key)\n\u001b[1;32m   3653\u001b[0m \u001b[38;5;28;01mexcept\u001b[39;00m \u001b[38;5;167;01mKeyError\u001b[39;00m \u001b[38;5;28;01mas\u001b[39;00m err:\n",
      "File \u001b[0;32m~/.conda/envs/GNN_test/lib/python3.11/site-packages/pandas/_libs/index.pyx:147\u001b[0m, in \u001b[0;36mpandas._libs.index.IndexEngine.get_loc\u001b[0;34m()\u001b[0m\n",
      "File \u001b[0;32m~/.conda/envs/GNN_test/lib/python3.11/site-packages/pandas/_libs/index.pyx:176\u001b[0m, in \u001b[0;36mpandas._libs.index.IndexEngine.get_loc\u001b[0;34m()\u001b[0m\n",
      "File \u001b[0;32mpandas/_libs/hashtable_class_helper.pxi:7080\u001b[0m, in \u001b[0;36mpandas._libs.hashtable.PyObjectHashTable.get_item\u001b[0;34m()\u001b[0m\n",
      "File \u001b[0;32mpandas/_libs/hashtable_class_helper.pxi:7088\u001b[0m, in \u001b[0;36mpandas._libs.hashtable.PyObjectHashTable.get_item\u001b[0;34m()\u001b[0m\n",
      "\u001b[0;31mKeyError\u001b[0m: 'model_9'",
      "\nThe above exception was the direct cause of the following exception:\n",
      "\u001b[0;31mKeyError\u001b[0m                                  Traceback (most recent call last)",
      "Cell \u001b[0;32mIn[71], line 1\u001b[0m\n\u001b[0;32m----> 1\u001b[0m df[\u001b[38;5;124m'\u001b[39m\u001b[38;5;124mmodel_9\u001b[39m\u001b[38;5;124m'\u001b[39m]\u001b[38;5;241m.\u001b[39mto_csv(\u001b[38;5;124m'\u001b[39m\u001b[38;5;124mTransE_model_with_lowest_loss_prediction.csv\u001b[39m\u001b[38;5;124m'\u001b[39m)\n",
      "File \u001b[0;32m~/.conda/envs/GNN_test/lib/python3.11/site-packages/pandas/core/frame.py:3761\u001b[0m, in \u001b[0;36mDataFrame.__getitem__\u001b[0;34m(self, key)\u001b[0m\n\u001b[1;32m   3759\u001b[0m \u001b[38;5;28;01mif\u001b[39;00m \u001b[38;5;28mself\u001b[39m\u001b[38;5;241m.\u001b[39mcolumns\u001b[38;5;241m.\u001b[39mnlevels \u001b[38;5;241m>\u001b[39m \u001b[38;5;241m1\u001b[39m:\n\u001b[1;32m   3760\u001b[0m     \u001b[38;5;28;01mreturn\u001b[39;00m \u001b[38;5;28mself\u001b[39m\u001b[38;5;241m.\u001b[39m_getitem_multilevel(key)\n\u001b[0;32m-> 3761\u001b[0m indexer \u001b[38;5;241m=\u001b[39m \u001b[38;5;28mself\u001b[39m\u001b[38;5;241m.\u001b[39mcolumns\u001b[38;5;241m.\u001b[39mget_loc(key)\n\u001b[1;32m   3762\u001b[0m \u001b[38;5;28;01mif\u001b[39;00m is_integer(indexer):\n\u001b[1;32m   3763\u001b[0m     indexer \u001b[38;5;241m=\u001b[39m [indexer]\n",
      "File \u001b[0;32m~/.conda/envs/GNN_test/lib/python3.11/site-packages/pandas/core/indexes/base.py:3654\u001b[0m, in \u001b[0;36mIndex.get_loc\u001b[0;34m(self, key)\u001b[0m\n\u001b[1;32m   3652\u001b[0m     \u001b[38;5;28;01mreturn\u001b[39;00m \u001b[38;5;28mself\u001b[39m\u001b[38;5;241m.\u001b[39m_engine\u001b[38;5;241m.\u001b[39mget_loc(casted_key)\n\u001b[1;32m   3653\u001b[0m \u001b[38;5;28;01mexcept\u001b[39;00m \u001b[38;5;167;01mKeyError\u001b[39;00m \u001b[38;5;28;01mas\u001b[39;00m err:\n\u001b[0;32m-> 3654\u001b[0m     \u001b[38;5;28;01mraise\u001b[39;00m \u001b[38;5;167;01mKeyError\u001b[39;00m(key) \u001b[38;5;28;01mfrom\u001b[39;00m \u001b[38;5;21;01merr\u001b[39;00m\n\u001b[1;32m   3655\u001b[0m \u001b[38;5;28;01mexcept\u001b[39;00m \u001b[38;5;167;01mTypeError\u001b[39;00m:\n\u001b[1;32m   3656\u001b[0m     \u001b[38;5;66;03m# If we have a listlike key, _check_indexing_error will raise\u001b[39;00m\n\u001b[1;32m   3657\u001b[0m     \u001b[38;5;66;03m#  InvalidIndexError. Otherwise we fall through and re-raise\u001b[39;00m\n\u001b[1;32m   3658\u001b[0m     \u001b[38;5;66;03m#  the TypeError.\u001b[39;00m\n\u001b[1;32m   3659\u001b[0m     \u001b[38;5;28mself\u001b[39m\u001b[38;5;241m.\u001b[39m_check_indexing_error(key)\n",
      "\u001b[0;31mKeyError\u001b[0m: 'model_9'"
     ]
    }
   ],
   "source": [
    "df[\"model_9\"].to_csv(\"TransE_model_with_lowest_loss_prediction.csv\")"
   ]
  },
  {
   "cell_type": "code",
   "execution_count": 22,
   "id": "c028d1b5-0563-483a-92c1-5e86f641dc98",
   "metadata": {},
   "outputs": [],
   "source": [
    "df.to_csv(\"TransE_10_prediction_models.csv\")"
   ]
  }
 ],
 "metadata": {
  "kernelspec": {
   "display_name": "GNN_test",
   "language": "python",
   "name": "gnn_test"
  },
  "language_info": {
   "codemirror_mode": {
    "name": "ipython",
    "version": 3
   },
   "file_extension": ".py",
   "mimetype": "text/x-python",
   "name": "python",
   "nbconvert_exporter": "python",
   "pygments_lexer": "ipython3",
   "version": "3.11.0"
  }
 },
 "nbformat": 4,
 "nbformat_minor": 5
}
