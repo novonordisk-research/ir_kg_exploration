{
 "cells": [
  {
   "cell_type": "code",
   "execution_count": 2,
   "metadata": {},
   "outputs": [
    {
     "name": "stderr",
     "output_type": "stream",
     "text": [
      "data.tar.gz: 565MB [01:28, 6.38MB/s]                              \n"
     ]
    },
    {
     "ename": "TypeError",
     "evalue": "DataFrame.from_records() got an unexpected keyword argument 'dtype'",
     "output_type": "error",
     "traceback": [
      "\u001b[1;31m---------------------------------------------------------------------------\u001b[0m",
      "\u001b[1;31mTypeError\u001b[0m                                 Traceback (most recent call last)",
      "Cell \u001b[1;32mIn[2], line 2\u001b[0m\n\u001b[0;32m      1\u001b[0m \u001b[39mfrom\u001b[39;00m \u001b[39manngel\u001b[39;00m\u001b[39m.\u001b[39;00m\u001b[39mdatasets\u001b[39;00m\u001b[39m.\u001b[39;00m\u001b[39mmultiscale_interactome\u001b[39;00m \u001b[39mimport\u001b[39;00m MultiscaleInteractomeDataset\n\u001b[1;32m----> 2\u001b[0m ds \u001b[39m=\u001b[39m MultiscaleInteractomeDataset(data_path\u001b[39m=\u001b[39;49m\u001b[39m'\u001b[39;49m\u001b[39m./test_data_tmp\u001b[39;49m\u001b[39m'\u001b[39;49m)\n",
      "File \u001b[1;32m~\\repos\\ANNGEL\\anngel\\datasets\\multiscale_interactome\\__init__.py:25\u001b[0m, in \u001b[0;36mMultiscaleInteractomeDataset.__init__\u001b[1;34m(self, data_path)\u001b[0m\n\u001b[0;32m     23\u001b[0m \u001b[39mself\u001b[39m\u001b[39m.\u001b[39mdownload()\n\u001b[0;32m     24\u001b[0m \u001b[39mself\u001b[39m\u001b[39m.\u001b[39munzip()\n\u001b[1;32m---> 25\u001b[0m \u001b[39mself\u001b[39;49m\u001b[39m.\u001b[39;49mprepare()\n\u001b[0;32m     26\u001b[0m \u001b[39mself\u001b[39m\u001b[39m.\u001b[39mcleanup()\n",
      "File \u001b[1;32m~\\repos\\ANNGEL\\anngel\\datasets\\multiscale_interactome\\__init__.py:132\u001b[0m, in \u001b[0;36mMultiscaleInteractomeDataset.prepare\u001b[1;34m(self)\u001b[0m\n\u001b[0;32m    129\u001b[0m \u001b[39mimport\u001b[39;00m \u001b[39mpandas\u001b[39;00m \u001b[39mas\u001b[39;00m \u001b[39mpd\u001b[39;00m\n\u001b[0;32m    131\u001b[0m NODES_FILE_COLUMNS \u001b[39m=\u001b[39m [\u001b[39m\"\u001b[39m\u001b[39mnode_id\u001b[39m\u001b[39m\"\u001b[39m, \u001b[39m\"\u001b[39m\u001b[39mnode_type\u001b[39m\u001b[39m\"\u001b[39m]\n\u001b[1;32m--> 132\u001b[0m nodes_df \u001b[39m=\u001b[39m pd\u001b[39m.\u001b[39;49mDataFrame\u001b[39m.\u001b[39;49mfrom_records(\n\u001b[0;32m    133\u001b[0m     [(k, v[\u001b[39m\"\u001b[39;49m\u001b[39mtype\u001b[39;49m\u001b[39m\"\u001b[39;49m]) \u001b[39mfor\u001b[39;49;00m k, v \u001b[39min\u001b[39;49;00m msi\u001b[39m.\u001b[39;49mgraph\u001b[39m.\u001b[39;49mnodes\u001b[39m.\u001b[39;49mdata()],\n\u001b[0;32m    134\u001b[0m     columns\u001b[39m=\u001b[39;49mNODES_FILE_COLUMNS,\n\u001b[0;32m    135\u001b[0m     dtype\u001b[39m=\u001b[39;49m{c: \u001b[39mstr\u001b[39;49m \u001b[39mfor\u001b[39;49;00m c \u001b[39min\u001b[39;49;00m \u001b[39mrange\u001b[39;49m(\u001b[39mlen\u001b[39;49m(NODES_FILE_COLUMNS))},\n\u001b[0;32m    136\u001b[0m )\n\u001b[0;32m    137\u001b[0m nodes_df\u001b[39m.\u001b[39mto_csv(\u001b[39mself\u001b[39m\u001b[39m.\u001b[39mnodes_file, sep\u001b[39m=\u001b[39m\u001b[39m\"\u001b[39m\u001b[39m\\t\u001b[39;00m\u001b[39m\"\u001b[39m, index\u001b[39m=\u001b[39m\u001b[39mFalse\u001b[39;00m)\n\u001b[0;32m    139\u001b[0m EDGES_FILE_COLUMNS \u001b[39m=\u001b[39m [\u001b[39m\"\u001b[39m\u001b[39msource_node_id\u001b[39m\u001b[39m\"\u001b[39m, \u001b[39m\"\u001b[39m\u001b[39medge_type\u001b[39m\u001b[39m\"\u001b[39m, \u001b[39m\"\u001b[39m\u001b[39mtarget_node_id\u001b[39m\u001b[39m\"\u001b[39m]\n",
      "\u001b[1;31mTypeError\u001b[0m: DataFrame.from_records() got an unexpected keyword argument 'dtype'"
     ]
    }
   ],
   "source": [
    "from anngel.datasets.multiscale_interactome import MultiscaleInteractomeDataset\n",
    "ds = MultiscaleInteractomeDataset(data_path='./test_data_tmp')"
   ]
  },
  {
   "cell_type": "code",
   "execution_count": null,
   "metadata": {},
   "outputs": [],
   "source": [
    "edges_df = ds.get_edges()"
   ]
  },
  {
   "cell_type": "code",
   "execution_count": null,
   "metadata": {},
   "outputs": [],
   "source": [
    "edges_df.head()"
   ]
  },
  {
   "cell_type": "code",
   "execution_count": null,
   "metadata": {},
   "outputs": [],
   "source": [
    "nodes_df = ds.get_nodes()"
   ]
  },
  {
   "cell_type": "code",
   "execution_count": null,
   "metadata": {},
   "outputs": [],
   "source": [
    "heterodata = ds.to_pytorch_geometric_heterodata()\n",
    "heterodata"
   ]
  },
  {
   "cell_type": "code",
   "execution_count": null,
   "metadata": {},
   "outputs": [],
   "source": [
    "nodes_df.iloc[heterodata['indication'].node_indices]"
   ]
  },
  {
   "cell_type": "code",
   "execution_count": null,
   "metadata": {},
   "outputs": [],
   "source": [
    "edges_df.iloc[heterodata[(\"biological_function\", \"TO\", \"protein\")].edge_indices]"
   ]
  },
  {
   "cell_type": "code",
   "execution_count": null,
   "metadata": {},
   "outputs": [],
   "source": [
    "data = ds.to_pytorch_geometric_data()\n",
    "data"
   ]
  },
  {
   "cell_type": "code",
   "execution_count": null,
   "metadata": {},
   "outputs": [],
   "source": [
    "nodes_df.iloc[data.node_indices[:10]]"
   ]
  },
  {
   "cell_type": "code",
   "execution_count": null,
   "metadata": {},
   "outputs": [],
   "source": [
    "edges_df.iloc[data.edge_indices[:10]]"
   ]
  },
  {
   "cell_type": "code",
   "execution_count": null,
   "metadata": {},
   "outputs": [],
   "source": [
    "import torch_geometric.utils.convert\n",
    "graph = torch_geometric.utils.convert.to_networkx(data)"
   ]
  },
  {
   "cell_type": "code",
   "execution_count": null,
   "metadata": {},
   "outputs": [],
   "source": [
    "import networkx as nx\n",
    "pr = nx.pagerank(graph)\n",
    "dc = nx.degree_centrality(graph)"
   ]
  },
  {
   "cell_type": "code",
   "execution_count": null,
   "metadata": {},
   "outputs": [],
   "source": [
    "bc = nx.betweenness_centrality(graph)"
   ]
  },
  {
   "cell_type": "code",
   "execution_count": null,
   "metadata": {},
   "outputs": [],
   "source": []
  }
 ],
 "metadata": {
  "kernelspec": {
   "display_name": ".venv",
   "language": "python",
   "name": "python3"
  },
  "language_info": {
   "codemirror_mode": {
    "name": "ipython",
    "version": 3
   },
   "file_extension": ".py",
   "mimetype": "text/x-python",
   "name": "python",
   "nbconvert_exporter": "python",
   "pygments_lexer": "ipython3",
   "version": "3.11.0"
  },
  "orig_nbformat": 4
 },
 "nbformat": 4,
 "nbformat_minor": 2
}
