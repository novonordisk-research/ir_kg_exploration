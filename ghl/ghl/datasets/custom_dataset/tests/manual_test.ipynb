{
 "cells": [
  {
   "cell_type": "code",
   "execution_count": 27,
   "metadata": {},
   "outputs": [
    {
     "data": {
      "text/plain": [
       "<module 'anngel.datasets.custom_dataset' from '/Users/thzo/git_repos/anngel/anngel/datasets/custom_dataset/__init__.py'>"
      ]
     },
     "execution_count": 27,
     "metadata": {},
     "output_type": "execute_result"
    }
   ],
   "source": [
    "from pathlib import Path\n",
    "\n",
    "import importlib\n",
    "import numpy as np\n",
    "\n",
    "import ghl\n",
    "\n",
    "importlib.reload(ghl)\n",
    "import ghl.datasets.custom_dataset as acd\n",
    "\n",
    "importlib.reload(ghl.datasets.custom_dataset)"
   ]
  },
  {
   "cell_type": "code",
   "execution_count": 29,
   "metadata": {},
   "outputs": [
    {
     "name": "stdout",
     "output_type": "stream",
     "text": [
      "          source_node       edge_type     target_node\n",
      "0          CL:0000005            IS_A      CL:0000057\n",
      "1          CL:0000022            IS_A      CL:0000021\n",
      "2          CL:0000038            IS_A      CL:0000839\n",
      "3          CL:0000047         PART_OF  UBERON:0001017\n",
      "4          CL:0000060            IS_A      CL:0000055\n",
      "...               ...             ...             ...\n",
      "181078  NCBIGENE:8398  GENE_PHENOTYPE      HP:0000855\n",
      "181079  NCBIGENE:2690  GENE_PHENOTYPE      HP:0000855\n",
      "181080  NCBIGENE:3596  GENE_PHENOTYPE      HP:0000855\n",
      "181081  NCBIGENE:8074  GENE_PHENOTYPE      HP:0000855\n",
      "181082  NCBIGENE:2695  GENE_PHENOTYPE      HP:0000855\n",
      "\n",
      "[181083 rows x 3 columns]\n"
     ]
    },
    {
     "data": {
      "text/plain": [
       "array(['CL:0000003', 'CL:0000005', 'CL:0000015', ..., 'UBERON:6025991',\n",
       "       'UBERON:6040005', 'UBERON:6110811'], dtype=object)"
      ]
     },
     "execution_count": 29,
     "metadata": {},
     "output_type": "execute_result"
    }
   ],
   "source": [
    "ds = acd.CustomDataset.fromTriplets(\"~/Downloads/OpenBioLink_test_large.csv\")\n",
    "np.unique(ds[[\"source_node\", \"target_node\"]].values.ravel())"
   ]
  },
  {
   "cell_type": "code",
   "execution_count": null,
   "metadata": {},
   "outputs": [],
   "source": []
  }
 ],
 "metadata": {
  "kernelspec": {
   "display_name": ".venv",
   "language": "python",
   "name": "python3"
  },
  "language_info": {
   "codemirror_mode": {
    "name": "ipython",
    "version": 3
   },
   "file_extension": ".py",
   "mimetype": "text/x-python",
   "name": "python",
   "nbconvert_exporter": "python",
   "pygments_lexer": "ipython3",
   "version": "3.10.11"
  },
  "orig_nbformat": 4
 },
 "nbformat": 4,
 "nbformat_minor": 2
}
