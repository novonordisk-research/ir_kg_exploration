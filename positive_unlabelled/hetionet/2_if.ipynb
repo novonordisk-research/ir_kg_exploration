{
 "cells": [
  {
   "cell_type": "code",
   "execution_count": 1,
   "id": "7a02f0d1-4326-4d53-b54c-bec55936ac4a",
   "metadata": {},
   "outputs": [],
   "source": [
    "from pathlib import Path\n",
    "\n",
    "import pandas as pd\n",
    "\n",
    "from tqdm import tqdm\n",
    "import pul_config\n",
    "import importlib\n",
    "\n",
    "importlib.reload(pul_config)\n",
    "\n",
    "import utils\n",
    "\n",
    "importlib.reload(utils)\n",
    "from utils import (\n",
    "    build_proba_df,\n",
    "    build_ranked_lists,\n",
    "    load_grid_searches,\n",
    "    score_df_from_grid_searches,\n",
    "    train,\n",
    ")\n",
    "\n",
    "# CHANGE HERE\n",
    "input_dirs = [\n",
    "    Path(\"1_outputs/standard/\"),\n",
    "    Path(\"1_outputs/small_DS/\"),\n",
    "    Path(\"1_outputs/large/\"),\n",
    "    Path(\"1_outputs/large_small_DS/\"),\n",
    "]\n",
    "output_dirs = [\n",
    "    Path(\"2_outputs/standard/\"),\n",
    "    Path(\"2_outputs/small_DS/\"),\n",
    "    Path(\"2_outputs/large/\"),\n",
    "    Path(\"2_outputs/large_small_DS/\"),\n",
    "]\n",
    "method = \"IsolationForest\"\n",
    "pul_cfg = pul_config.IsolationForestConfig\n",
    "\n",
    "remote_method = \"IsolationForest\"  # name of the output in S3\n",
    "# -----\n",
    "\n",
    "local_method = method\n",
    "MODEL_NAMES = (\"RotatE\", \"TransE\", \"CompGCN\")\n",
    "output_dirs = [output_dir / method for output_dir in output_dirs]"
   ]
  },
  {
   "cell_type": "markdown",
   "id": "ceddba04-3d10-45f5-867d-7f1fe35cdb47",
   "metadata": {},
   "source": [
    "## Training"
   ]
  },
  {
   "cell_type": "code",
   "execution_count": 30,
   "id": "002009b4-f5f6-4db7-8059-35bbe07d3432",
   "metadata": {},
   "outputs": [
    {
     "name": "stderr",
     "output_type": "stream",
     "text": [
      "  0%|          | 0/4 [00:00<?, ?it/s]\n",
      "  0%|          | 0/3 [00:00<?, ?it/s]\u001b[A\n",
      "\n",
      "  0%|          | 0/10 [00:00<?, ?it/s]\u001b[A\u001b[A\n",
      "\n",
      " 40%|████      | 4/10 [00:00<00:00, 37.40it/s]\u001b[A\u001b[A\n",
      "\n"
     ]
    },
    {
     "name": "stdout",
     "output_type": "stream",
     "text": [
      "2_outputs/standard/IsolationForest/RotatE/RotatE_0.pkl exists. Skipping...\n",
      "2_outputs/standard/IsolationForest/RotatE/RotatE_1.pkl exists. Skipping...\n",
      "2_outputs/standard/IsolationForest/RotatE/RotatE_2.pkl exists. Skipping...\n",
      "2_outputs/standard/IsolationForest/RotatE/RotatE_3.pkl exists. Skipping...\n",
      "2_outputs/standard/IsolationForest/RotatE/RotatE_4.pkl exists. Skipping...\n",
      "2_outputs/standard/IsolationForest/RotatE/RotatE_5.pkl exists. Skipping...\n",
      "2_outputs/standard/IsolationForest/RotatE/RotatE_6.pkl exists. Skipping...\n",
      "2_outputs/standard/IsolationForest/RotatE/RotatE_7.pkl exists. Skipping...\n"
     ]
    },
    {
     "name": "stderr",
     "output_type": "stream",
     "text": [
      "100%|██████████| 10/10 [00:00<00:00, 34.36it/s][A\u001b[A\n",
      "\n",
      " 33%|███▎      | 1/3 [00:00<00:00,  3.35it/s]\u001b[A"
     ]
    },
    {
     "name": "stdout",
     "output_type": "stream",
     "text": [
      "2_outputs/standard/IsolationForest/RotatE/RotatE_8.pkl exists. Skipping...\n",
      "2_outputs/standard/IsolationForest/RotatE/RotatE_9.pkl exists. Skipping...\n"
     ]
    },
    {
     "name": "stderr",
     "output_type": "stream",
     "text": [
      "\n",
      "\n",
      "  0%|          | 0/10 [00:00<?, ?it/s]\u001b[A\u001b[A\n",
      "\n",
      " 20%|██        | 2/10 [00:00<00:00, 17.59it/s]\u001b[A\u001b[A"
     ]
    },
    {
     "name": "stdout",
     "output_type": "stream",
     "text": [
      "2_outputs/standard/IsolationForest/TransE/TransE_0.pkl exists. Skipping...\n",
      "2_outputs/standard/IsolationForest/TransE/TransE_1.pkl exists. Skipping...\n",
      "2_outputs/standard/IsolationForest/TransE/TransE_2.pkl exists. Skipping...\n",
      "2_outputs/standard/IsolationForest/TransE/TransE_3.pkl exists. Skipping...\n"
     ]
    },
    {
     "name": "stderr",
     "output_type": "stream",
     "text": [
      "\n",
      "\n",
      " 50%|█████     | 5/10 [00:00<00:00, 22.63it/s]\u001b[A\u001b[A\n",
      "\n",
      "100%|██████████| 10/10 [00:00<00:00, 27.04it/s][A\u001b[A\n",
      "\n",
      " 67%|██████▋   | 2/3 [00:00<00:00,  2.90it/s]\u001b[A"
     ]
    },
    {
     "name": "stdout",
     "output_type": "stream",
     "text": [
      "2_outputs/standard/IsolationForest/TransE/TransE_4.pkl exists. Skipping...\n",
      "2_outputs/standard/IsolationForest/TransE/TransE_5.pkl exists. Skipping...\n",
      "2_outputs/standard/IsolationForest/TransE/TransE_6.pkl exists. Skipping...\n",
      "2_outputs/standard/IsolationForest/TransE/TransE_7.pkl exists. Skipping...\n",
      "2_outputs/standard/IsolationForest/TransE/TransE_8.pkl exists. Skipping...\n",
      "2_outputs/standard/IsolationForest/TransE/TransE_9.pkl exists. Skipping...\n"
     ]
    },
    {
     "name": "stderr",
     "output_type": "stream",
     "text": [
      "\n",
      "\n",
      "  0%|          | 0/10 [00:00<?, ?it/s]\u001b[A\u001b[A"
     ]
    },
    {
     "name": "stdout",
     "output_type": "stream",
     "text": [
      "2_outputs/standard/IsolationForest/CompGCN/CompGCN_0.pkl exists. Skipping...\n",
      "2_outputs/standard/IsolationForest/CompGCN/CompGCN_1.pkl exists. Skipping...\n",
      "2_outputs/standard/IsolationForest/CompGCN/CompGCN_2.pkl exists. Skipping...\n",
      "2_outputs/standard/IsolationForest/CompGCN/CompGCN_3.pkl exists. Skipping...\n",
      "2_outputs/standard/IsolationForest/CompGCN/CompGCN_4.pkl exists. Skipping...\n",
      "2_outputs/standard/IsolationForest/CompGCN/CompGCN_5.pkl exists. Skipping...\n",
      "2_outputs/standard/IsolationForest/CompGCN/CompGCN_6.pkl exists. Skipping...\n"
     ]
    },
    {
     "name": "stderr",
     "output_type": "stream",
     "text": [
      "100%|██████████| 10/10 [00:00<00:00, 151.90it/s]\n",
      "100%|██████████| 3/3 [00:00<00:00,  4.00it/s]\n",
      " 25%|██▌       | 1/4 [00:00<00:02,  1.21it/s]"
     ]
    },
    {
     "name": "stdout",
     "output_type": "stream",
     "text": [
      "2_outputs/standard/IsolationForest/CompGCN/CompGCN_7.pkl exists. Skipping...\n",
      "2_outputs/standard/IsolationForest/CompGCN/CompGCN_8.pkl exists. Skipping...\n",
      "2_outputs/standard/IsolationForest/CompGCN/CompGCN_9.pkl exists. Skipping...\n"
     ]
    },
    {
     "name": "stderr",
     "output_type": "stream",
     "text": [
      "\n",
      "  0%|          | 0/3 [00:00<?, ?it/s]\u001b[A\n",
      "\n",
      "  0%|          | 0/10 [00:00<?, ?it/s]\u001b[A\u001b[A"
     ]
    },
    {
     "name": "stdout",
     "output_type": "stream",
     "text": [
      "2_outputs/small_DS/IsolationForest/RotatE/RotatE_0.pkl exists. Skipping...\n",
      "2_outputs/small_DS/IsolationForest/RotatE/RotatE_1.pkl exists. Skipping...\n"
     ]
    },
    {
     "name": "stderr",
     "output_type": "stream",
     "text": [
      "\n",
      "\n",
      " 30%|███       | 3/10 [00:00<00:00, 20.62it/s]\u001b[A\u001b[A"
     ]
    },
    {
     "name": "stdout",
     "output_type": "stream",
     "text": [
      "2_outputs/small_DS/IsolationForest/RotatE/RotatE_2.pkl exists. Skipping...\n",
      "2_outputs/small_DS/IsolationForest/RotatE/RotatE_3.pkl exists. Skipping...\n"
     ]
    },
    {
     "name": "stderr",
     "output_type": "stream",
     "text": [
      "\n",
      "\n",
      " 60%|██████    | 6/10 [00:00<00:00, 10.05it/s]\u001b[A\u001b[A"
     ]
    },
    {
     "name": "stdout",
     "output_type": "stream",
     "text": [
      "2_outputs/small_DS/IsolationForest/RotatE/RotatE_4.pkl exists. Skipping...\n",
      "2_outputs/small_DS/IsolationForest/RotatE/RotatE_5.pkl exists. Skipping...\n",
      "2_outputs/small_DS/IsolationForest/RotatE/RotatE_6.pkl exists. Skipping...\n",
      "2_outputs/small_DS/IsolationForest/RotatE/RotatE_7.pkl exists. Skipping...\n"
     ]
    },
    {
     "name": "stderr",
     "output_type": "stream",
     "text": [
      "\n",
      "\n",
      " 90%|█████████ | 9/10 [00:00<00:00, 11.94it/s]\u001b[A\u001b[A"
     ]
    },
    {
     "name": "stdout",
     "output_type": "stream",
     "text": [
      "2_outputs/small_DS/IsolationForest/RotatE/RotatE_8.pkl exists. Skipping...\n"
     ]
    },
    {
     "name": "stderr",
     "output_type": "stream",
     "text": [
      "100%|██████████| 10/10 [00:01<00:00,  8.59it/s]\n",
      "\n",
      " 33%|███▎      | 1/3 [00:01<00:02,  1.17s/it]\u001b[A"
     ]
    },
    {
     "name": "stdout",
     "output_type": "stream",
     "text": [
      "2_outputs/small_DS/IsolationForest/RotatE/RotatE_9.pkl exists. Skipping...\n"
     ]
    },
    {
     "name": "stderr",
     "output_type": "stream",
     "text": [
      "\n",
      "\n",
      "100%|██████████| 10/10 [00:00<00:00, 164.99it/s]\n"
     ]
    },
    {
     "name": "stdout",
     "output_type": "stream",
     "text": [
      "2_outputs/small_DS/IsolationForest/TransE/TransE_0.pkl exists. Skipping...\n",
      "2_outputs/small_DS/IsolationForest/TransE/TransE_1.pkl exists. Skipping...\n",
      "2_outputs/small_DS/IsolationForest/TransE/TransE_2.pkl exists. Skipping...\n",
      "2_outputs/small_DS/IsolationForest/TransE/TransE_3.pkl exists. Skipping...\n",
      "2_outputs/small_DS/IsolationForest/TransE/TransE_4.pkl exists. Skipping...\n",
      "2_outputs/small_DS/IsolationForest/TransE/TransE_5.pkl exists. Skipping...\n",
      "2_outputs/small_DS/IsolationForest/TransE/TransE_6.pkl exists. Skipping...\n",
      "2_outputs/small_DS/IsolationForest/TransE/TransE_7.pkl exists. Skipping...\n",
      "2_outputs/small_DS/IsolationForest/TransE/TransE_8.pkl exists. Skipping...\n",
      "2_outputs/small_DS/IsolationForest/TransE/TransE_9.pkl exists. Skipping...\n"
     ]
    },
    {
     "name": "stderr",
     "output_type": "stream",
     "text": [
      "\n",
      "\n",
      "100%|██████████| 10/10 [00:00<00:00, 159.13it/s]\n",
      "\n",
      "100%|██████████| 3/3 [00:01<00:00,  2.29it/s]\u001b[A\n",
      " 50%|█████     | 2/4 [00:02<00:02,  1.15s/it]"
     ]
    },
    {
     "name": "stdout",
     "output_type": "stream",
     "text": [
      "2_outputs/small_DS/IsolationForest/CompGCN/CompGCN_0.pkl exists. Skipping...\n",
      "2_outputs/small_DS/IsolationForest/CompGCN/CompGCN_1.pkl exists. Skipping...\n",
      "2_outputs/small_DS/IsolationForest/CompGCN/CompGCN_2.pkl exists. Skipping...\n",
      "2_outputs/small_DS/IsolationForest/CompGCN/CompGCN_3.pkl exists. Skipping...\n",
      "2_outputs/small_DS/IsolationForest/CompGCN/CompGCN_4.pkl exists. Skipping...\n",
      "2_outputs/small_DS/IsolationForest/CompGCN/CompGCN_5.pkl exists. Skipping...\n",
      "2_outputs/small_DS/IsolationForest/CompGCN/CompGCN_6.pkl exists. Skipping...\n",
      "2_outputs/small_DS/IsolationForest/CompGCN/CompGCN_7.pkl exists. Skipping...\n",
      "2_outputs/small_DS/IsolationForest/CompGCN/CompGCN_8.pkl exists. Skipping...\n",
      "2_outputs/small_DS/IsolationForest/CompGCN/CompGCN_9.pkl exists. Skipping...\n"
     ]
    },
    {
     "name": "stderr",
     "output_type": "stream",
     "text": [
      "\n",
      "  0%|          | 0/3 [00:00<?, ?it/s]\u001b[A\n",
      "\n",
      "  0%|          | 0/10 [00:00<?, ?it/s]\u001b[A\u001b[A"
     ]
    },
    {
     "name": "stdout",
     "output_type": "stream",
     "text": [
      "2_outputs/large/IsolationForest/RotatE/RotatE_0.pkl exists. Skipping...\n",
      "2_outputs/large/IsolationForest/RotatE/RotatE_1.pkl exists. Skipping...\n"
     ]
    },
    {
     "name": "stderr",
     "output_type": "stream",
     "text": [
      "100%|██████████| 10/10 [00:00<00:00, 157.61it/s]\n"
     ]
    },
    {
     "name": "stdout",
     "output_type": "stream",
     "text": [
      "2_outputs/large/IsolationForest/RotatE/RotatE_2.pkl exists. Skipping...\n",
      "2_outputs/large/IsolationForest/RotatE/RotatE_3.pkl exists. Skipping...\n",
      "2_outputs/large/IsolationForest/RotatE/RotatE_4.pkl exists. Skipping...\n",
      "2_outputs/large/IsolationForest/RotatE/RotatE_5.pkl exists. Skipping...\n",
      "2_outputs/large/IsolationForest/RotatE/RotatE_6.pkl exists. Skipping...\n",
      "2_outputs/large/IsolationForest/RotatE/RotatE_7.pkl exists. Skipping...\n",
      "2_outputs/large/IsolationForest/RotatE/RotatE_8.pkl exists. Skipping...\n",
      "2_outputs/large/IsolationForest/RotatE/RotatE_9.pkl exists. Skipping...\n"
     ]
    },
    {
     "name": "stderr",
     "output_type": "stream",
     "text": [
      "\n",
      "\n",
      "  0%|          | 0/10 [00:00<?, ?it/s]\u001b[A\u001b[A"
     ]
    },
    {
     "name": "stdout",
     "output_type": "stream",
     "text": [
      "2_outputs/large/IsolationForest/TransE/TransE_0.pkl exists. Skipping...\n"
     ]
    },
    {
     "name": "stderr",
     "output_type": "stream",
     "text": [
      "100%|██████████| 10/10 [00:00<00:00, 148.47it/s]\n",
      "\n",
      " 67%|██████▋   | 2/3 [00:00<00:00, 13.04it/s]\u001b[A"
     ]
    },
    {
     "name": "stdout",
     "output_type": "stream",
     "text": [
      "2_outputs/large/IsolationForest/TransE/TransE_1.pkl exists. Skipping...\n",
      "2_outputs/large/IsolationForest/TransE/TransE_2.pkl exists. Skipping...\n",
      "2_outputs/large/IsolationForest/TransE/TransE_3.pkl exists. Skipping...\n",
      "2_outputs/large/IsolationForest/TransE/TransE_4.pkl exists. Skipping...\n",
      "2_outputs/large/IsolationForest/TransE/TransE_5.pkl exists. Skipping...\n",
      "2_outputs/large/IsolationForest/TransE/TransE_6.pkl exists. Skipping...\n",
      "2_outputs/large/IsolationForest/TransE/TransE_7.pkl exists. Skipping...\n",
      "2_outputs/large/IsolationForest/TransE/TransE_8.pkl exists. Skipping...\n",
      "2_outputs/large/IsolationForest/TransE/TransE_9.pkl exists. Skipping...\n"
     ]
    },
    {
     "name": "stderr",
     "output_type": "stream",
     "text": [
      "\n",
      "\n",
      "  0%|          | 0/10 [00:00<?, ?it/s]\u001b[A\u001b[A"
     ]
    },
    {
     "name": "stdout",
     "output_type": "stream",
     "text": [
      "2_outputs/large/IsolationForest/CompGCN/CompGCN_0.pkl exists. Skipping...\n",
      "2_outputs/large/IsolationForest/CompGCN/CompGCN_1.pkl exists. Skipping...\n",
      "2_outputs/large/IsolationForest/CompGCN/CompGCN_2.pkl exists. Skipping...\n",
      "2_outputs/large/IsolationForest/CompGCN/CompGCN_3.pkl exists. Skipping...\n",
      "2_outputs/large/IsolationForest/CompGCN/CompGCN_4.pkl exists. Skipping...\n",
      "2_outputs/large/IsolationForest/CompGCN/CompGCN_5.pkl exists. Skipping...\n",
      "2_outputs/large/IsolationForest/CompGCN/CompGCN_6.pkl exists. Skipping...\n",
      "2_outputs/large/IsolationForest/CompGCN/CompGCN_7.pkl exists. Skipping...\n"
     ]
    },
    {
     "name": "stderr",
     "output_type": "stream",
     "text": [
      "100%|██████████| 10/10 [00:00<00:00, 160.34it/s]\n",
      "100%|██████████| 3/3 [00:00<00:00, 13.34it/s]\n",
      " 75%|███████▌  | 3/4 [00:02<00:00,  1.33it/s]"
     ]
    },
    {
     "name": "stdout",
     "output_type": "stream",
     "text": [
      "2_outputs/large/IsolationForest/CompGCN/CompGCN_8.pkl exists. Skipping...\n",
      "2_outputs/large/IsolationForest/CompGCN/CompGCN_9.pkl exists. Skipping...\n"
     ]
    },
    {
     "name": "stderr",
     "output_type": "stream",
     "text": [
      "\n",
      "  0%|          | 0/3 [00:00<?, ?it/s]\u001b[A\n",
      "\n",
      "  0%|          | 0/10 [00:00<?, ?it/s]\u001b[A\u001b[A"
     ]
    },
    {
     "name": "stdout",
     "output_type": "stream",
     "text": [
      "2_outputs/large_small_DS/IsolationForest/RotatE/RotatE_0.pkl exists. Skipping...\n"
     ]
    },
    {
     "name": "stderr",
     "output_type": "stream",
     "text": [
      "100%|██████████| 10/10 [00:00<00:00, 140.99it/s]\n"
     ]
    },
    {
     "name": "stdout",
     "output_type": "stream",
     "text": [
      "2_outputs/large_small_DS/IsolationForest/RotatE/RotatE_1.pkl exists. Skipping...\n",
      "2_outputs/large_small_DS/IsolationForest/RotatE/RotatE_2.pkl exists. Skipping...\n",
      "2_outputs/large_small_DS/IsolationForest/RotatE/RotatE_3.pkl exists. Skipping...\n",
      "2_outputs/large_small_DS/IsolationForest/RotatE/RotatE_4.pkl exists. Skipping...\n",
      "2_outputs/large_small_DS/IsolationForest/RotatE/RotatE_5.pkl exists. Skipping...\n",
      "2_outputs/large_small_DS/IsolationForest/RotatE/RotatE_6.pkl exists. Skipping...\n",
      "2_outputs/large_small_DS/IsolationForest/RotatE/RotatE_7.pkl exists. Skipping...\n",
      "2_outputs/large_small_DS/IsolationForest/RotatE/RotatE_8.pkl exists. Skipping...\n",
      "2_outputs/large_small_DS/IsolationForest/RotatE/RotatE_9.pkl exists. Skipping...\n"
     ]
    },
    {
     "name": "stderr",
     "output_type": "stream",
     "text": [
      "\n",
      "\n",
      "  0%|          | 0/10 [00:00<?, ?it/s]\u001b[A\u001b[A"
     ]
    },
    {
     "name": "stdout",
     "output_type": "stream",
     "text": [
      "2_outputs/large_small_DS/IsolationForest/TransE/TransE_0.pkl exists. Skipping...\n",
      "2_outputs/large_small_DS/IsolationForest/TransE/TransE_1.pkl exists. Skipping...\n",
      "2_outputs/large_small_DS/IsolationForest/TransE/TransE_2.pkl exists. Skipping...\n",
      "2_outputs/large_small_DS/IsolationForest/TransE/TransE_3.pkl exists. Skipping...\n",
      "2_outputs/large_small_DS/IsolationForest/TransE/TransE_4.pkl exists. Skipping...\n",
      "2_outputs/large_small_DS/IsolationForest/TransE/TransE_5.pkl exists. Skipping...\n",
      "2_outputs/large_small_DS/IsolationForest/TransE/TransE_6.pkl exists. Skipping...\n"
     ]
    },
    {
     "name": "stderr",
     "output_type": "stream",
     "text": [
      "100%|██████████| 10/10 [00:00<00:00, 144.13it/s]\n",
      "\n",
      " 67%|██████▋   | 2/3 [00:00<00:00, 12.81it/s]\u001b[A"
     ]
    },
    {
     "name": "stdout",
     "output_type": "stream",
     "text": [
      "2_outputs/large_small_DS/IsolationForest/TransE/TransE_7.pkl exists. Skipping...\n",
      "2_outputs/large_small_DS/IsolationForest/TransE/TransE_8.pkl exists. Skipping...\n",
      "2_outputs/large_small_DS/IsolationForest/TransE/TransE_9.pkl exists. Skipping...\n"
     ]
    },
    {
     "name": "stderr",
     "output_type": "stream",
     "text": [
      "\n",
      "\n",
      "  0%|          | 0/10 [00:00<?, ?it/s]\u001b[A\u001b[A"
     ]
    },
    {
     "name": "stdout",
     "output_type": "stream",
     "text": [
      "2_outputs/large_small_DS/IsolationForest/CompGCN/CompGCN_0.pkl exists. Skipping...\n",
      "2_outputs/large_small_DS/IsolationForest/CompGCN/CompGCN_1.pkl exists. Skipping...\n",
      "2_outputs/large_small_DS/IsolationForest/CompGCN/CompGCN_2.pkl exists. Skipping...\n",
      "2_outputs/large_small_DS/IsolationForest/CompGCN/CompGCN_3.pkl exists. Skipping...\n",
      "2_outputs/large_small_DS/IsolationForest/CompGCN/CompGCN_4.pkl exists. Skipping...\n",
      "2_outputs/large_small_DS/IsolationForest/CompGCN/CompGCN_5.pkl exists. Skipping...\n",
      "2_outputs/large_small_DS/IsolationForest/CompGCN/CompGCN_6.pkl exists. Skipping...\n",
      "2_outputs/large_small_DS/IsolationForest/CompGCN/CompGCN_7.pkl exists. Skipping...\n",
      "2_outputs/large_small_DS/IsolationForest/CompGCN/CompGCN_8.pkl exists. Skipping...\n"
     ]
    },
    {
     "name": "stderr",
     "output_type": "stream",
     "text": [
      "100%|██████████| 10/10 [00:00<00:00, 163.66it/s]\n",
      "100%|██████████| 3/3 [00:00<00:00, 13.26it/s]\n",
      "100%|██████████| 4/4 [00:02<00:00,  1.45it/s]"
     ]
    },
    {
     "name": "stdout",
     "output_type": "stream",
     "text": [
      "2_outputs/large_small_DS/IsolationForest/CompGCN/CompGCN_9.pkl exists. Skipping...\n"
     ]
    },
    {
     "name": "stderr",
     "output_type": "stream",
     "text": [
      "\n"
     ]
    }
   ],
   "source": [
    "N_JOBS = 40\n",
    "CV = 5\n",
    "rerun = False\n",
    "\n",
    "for input_dir, output_dir in tqdm(zip(input_dirs, output_dirs), total=len(input_dirs)):\n",
    "    train(\n",
    "        input_dir=input_dir,\n",
    "        output_dir=output_dir,\n",
    "        model_names=MODEL_NAMES,\n",
    "        cv=CV,\n",
    "        n_jobs=N_JOBS,\n",
    "        pul_cfg=pul_cfg,\n",
    "        rerun=rerun,\n",
    "    )"
   ]
  },
  {
   "cell_type": "markdown",
   "id": "9e41f459-c208-4cfb-9ea6-bd7547aa6343",
   "metadata": {},
   "source": [
    "## Evaluation"
   ]
  },
  {
   "cell_type": "code",
   "execution_count": 31,
   "id": "89951ebd-8ffa-4f38-800e-0681a7558fd2",
   "metadata": {},
   "outputs": [],
   "source": [
    "grid_searches_list = [\n",
    "    load_grid_searches(output_dir=o, model_names=MODEL_NAMES) for o in output_dirs\n",
    "]"
   ]
  },
  {
   "cell_type": "code",
   "execution_count": 32,
   "id": "9a78ec72-80f8-4a6e-b4ed-0474171ae40a",
   "metadata": {},
   "outputs": [],
   "source": [
    "score_dfs = [\n",
    "    score_df_from_grid_searches(gs, i) for gs, i in zip(grid_searches_list, input_dirs)\n",
    "]\n",
    "for output_dir, score_df in zip(output_dirs, score_dfs):\n",
    "    score_df.to_csv(output_dir / \"score_df.csv\")"
   ]
  },
  {
   "cell_type": "code",
   "execution_count": 33,
   "id": "72fc17ed-9cc9-4019-88ed-4c1d3df5e4b2",
   "metadata": {},
   "outputs": [
    {
     "name": "stderr",
     "output_type": "stream",
     "text": [
      "/tmp/ipykernel_31722/1470429527.py:1: FutureWarning: The default value of numeric_only in DataFrameGroupBy.mean is deprecated. In a future version, numeric_only will default to False. Either specify numeric_only or select only columns which should be valid for the function.\n",
      "  score_dfs[0].groupby('model_name').mean()\n"
     ]
    },
    {
     "data": {
      "text/html": [
       "<div>\n",
       "<style scoped>\n",
       "    .dataframe tbody tr th:only-of-type {\n",
       "        vertical-align: middle;\n",
       "    }\n",
       "\n",
       "    .dataframe tbody tr th {\n",
       "        vertical-align: top;\n",
       "    }\n",
       "\n",
       "    .dataframe thead th {\n",
       "        text-align: right;\n",
       "    }\n",
       "</style>\n",
       "<table border=\"1\" class=\"dataframe\">\n",
       "  <thead>\n",
       "    <tr style=\"text-align: right;\">\n",
       "      <th></th>\n",
       "      <th>score10_val</th>\n",
       "      <th>score100_val</th>\n",
       "      <th>score10_test</th>\n",
       "      <th>score100_test</th>\n",
       "      <th>score10_all</th>\n",
       "      <th>score100_all</th>\n",
       "      <th>mr_all</th>\n",
       "      <th>mrr_all</th>\n",
       "      <th>amri_all</th>\n",
       "      <th>mr_test</th>\n",
       "      <th>mrr_test</th>\n",
       "      <th>amri_test</th>\n",
       "      <th>tp_test</th>\n",
       "      <th>fp_test</th>\n",
       "      <th>fn_test</th>\n",
       "      <th>tn_test</th>\n",
       "      <th>tp_all</th>\n",
       "      <th>fp_all</th>\n",
       "      <th>fn_all</th>\n",
       "      <th>tn_all</th>\n",
       "    </tr>\n",
       "    <tr>\n",
       "      <th>model_name</th>\n",
       "      <th></th>\n",
       "      <th></th>\n",
       "      <th></th>\n",
       "      <th></th>\n",
       "      <th></th>\n",
       "      <th></th>\n",
       "      <th></th>\n",
       "      <th></th>\n",
       "      <th></th>\n",
       "      <th></th>\n",
       "      <th></th>\n",
       "      <th></th>\n",
       "      <th></th>\n",
       "      <th></th>\n",
       "      <th></th>\n",
       "      <th></th>\n",
       "      <th></th>\n",
       "      <th></th>\n",
       "      <th></th>\n",
       "      <th></th>\n",
       "    </tr>\n",
       "  </thead>\n",
       "  <tbody>\n",
       "    <tr>\n",
       "      <th>CompGCN</th>\n",
       "      <td>1.3</td>\n",
       "      <td>6.6</td>\n",
       "      <td>0.4</td>\n",
       "      <td>6.6</td>\n",
       "      <td>5.0</td>\n",
       "      <td>25.7</td>\n",
       "      <td>5861.125040</td>\n",
       "      <td>0.004412</td>\n",
       "      <td>0.387785</td>\n",
       "      <td>1388.3112</td>\n",
       "      <td>0.003451</td>\n",
       "      <td>0.272707</td>\n",
       "      <td>606.8</td>\n",
       "      <td>3084.2</td>\n",
       "      <td>4.1</td>\n",
       "      <td>120.9</td>\n",
       "      <td>3148.0</td>\n",
       "      <td>15378.0</td>\n",
       "      <td>9.4</td>\n",
       "      <td>609.6</td>\n",
       "    </tr>\n",
       "    <tr>\n",
       "      <th>RotatE</th>\n",
       "      <td>1.6</td>\n",
       "      <td>10.8</td>\n",
       "      <td>0.9</td>\n",
       "      <td>12.5</td>\n",
       "      <td>0.9</td>\n",
       "      <td>11.7</td>\n",
       "      <td>5498.475121</td>\n",
       "      <td>0.001622</td>\n",
       "      <td>0.425671</td>\n",
       "      <td>1106.9704</td>\n",
       "      <td>0.005105</td>\n",
       "      <td>0.420199</td>\n",
       "      <td>2451.5</td>\n",
       "      <td>1239.5</td>\n",
       "      <td>42.5</td>\n",
       "      <td>82.5</td>\n",
       "      <td>12385.6</td>\n",
       "      <td>6140.4</td>\n",
       "      <td>212.9</td>\n",
       "      <td>406.1</td>\n",
       "    </tr>\n",
       "    <tr>\n",
       "      <th>TransE</th>\n",
       "      <td>1.0</td>\n",
       "      <td>5.5</td>\n",
       "      <td>1.0</td>\n",
       "      <td>6.7</td>\n",
       "      <td>2.8</td>\n",
       "      <td>15.1</td>\n",
       "      <td>7025.918255</td>\n",
       "      <td>0.002592</td>\n",
       "      <td>0.266097</td>\n",
       "      <td>1485.4032</td>\n",
       "      <td>0.005405</td>\n",
       "      <td>0.221807</td>\n",
       "      <td>1970.7</td>\n",
       "      <td>1720.3</td>\n",
       "      <td>47.3</td>\n",
       "      <td>77.7</td>\n",
       "      <td>9959.8</td>\n",
       "      <td>8566.2</td>\n",
       "      <td>222.4</td>\n",
       "      <td>396.6</td>\n",
       "    </tr>\n",
       "  </tbody>\n",
       "</table>\n",
       "</div>"
      ],
      "text/plain": [
       "            score10_val  score100_val  score10_test  score100_test  \\\n",
       "model_name                                                           \n",
       "CompGCN             1.3           6.6           0.4            6.6   \n",
       "RotatE              1.6          10.8           0.9           12.5   \n",
       "TransE              1.0           5.5           1.0            6.7   \n",
       "\n",
       "            score10_all  score100_all       mr_all   mrr_all  amri_all  \\\n",
       "model_name                                                               \n",
       "CompGCN             5.0          25.7  5861.125040  0.004412  0.387785   \n",
       "RotatE              0.9          11.7  5498.475121  0.001622  0.425671   \n",
       "TransE              2.8          15.1  7025.918255  0.002592  0.266097   \n",
       "\n",
       "              mr_test  mrr_test  amri_test  tp_test  fp_test  fn_test  \\\n",
       "model_name                                                              \n",
       "CompGCN     1388.3112  0.003451   0.272707    606.8   3084.2      4.1   \n",
       "RotatE      1106.9704  0.005105   0.420199   2451.5   1239.5     42.5   \n",
       "TransE      1485.4032  0.005405   0.221807   1970.7   1720.3     47.3   \n",
       "\n",
       "            tn_test   tp_all   fp_all  fn_all  tn_all  \n",
       "model_name                                             \n",
       "CompGCN       120.9   3148.0  15378.0     9.4   609.6  \n",
       "RotatE         82.5  12385.6   6140.4   212.9   406.1  \n",
       "TransE         77.7   9959.8   8566.2   222.4   396.6  "
      ]
     },
     "execution_count": 33,
     "metadata": {},
     "output_type": "execute_result"
    }
   ],
   "source": [
    "score_dfs[0].groupby(\"model_name\").mean()"
   ]
  },
  {
   "cell_type": "code",
   "execution_count": 34,
   "id": "34d93785-b64c-4ee4-bbf2-ee1ad76f3eb3",
   "metadata": {},
   "outputs": [
    {
     "data": {
      "text/plain": [
       "Text(0, 0.5, 'score')"
      ]
     },
     "execution_count": 34,
     "metadata": {},
     "output_type": "execute_result"
    },
    {
     "data": {
      "image/png": "[encoded data removed]",
      "text/plain": [
       "<Figure size 640x480 with 1 Axes>"
      ]
     },
     "metadata": {},
     "output_type": "display_data"
    }
   ],
   "source": [
    "import seaborn as sns\n",
    "\n",
    "sns.boxplot(score_dfs[0], x=\"model_name\", y=\"score10_test\").set(\n",
    "    title=\"Hits@100 and hits@10\\n(large positive set)\"\n",
    ")\n",
    "sns.boxplot(score_dfs[0], x=\"model_name\", y=\"score100_test\").set_ylabel(\"score\")"
   ]
  },
  {
   "cell_type": "code",
   "execution_count": 35,
   "id": "09ba3e17-9ce9-4e0e-9a86-40fccc97591b",
   "metadata": {},
   "outputs": [
    {
     "data": {
      "text/plain": [
       "Text(0, 0.5, 'score')"
      ]
     },
     "execution_count": 35,
     "metadata": {},
     "output_type": "execute_result"
    },
    {
     "data": {
      "image/png": "[encoded data removed]",
      "text/plain": [
       "<Figure size 640x480 with 1 Axes>"
      ]
     },
     "metadata": {},
     "output_type": "display_data"
    }
   ],
   "source": [
    "import seaborn as sns\n",
    "\n",
    "sns.boxplot(score_dfs[1], x=\"model_name\", y=\"score10_test\").set(\n",
    "    title=\"Hits@100 and hits@10\\n(small positive set)\"\n",
    ")\n",
    "sns.boxplot(score_dfs[1], x=\"model_name\", y=\"score100_test\").set_ylabel(\"score\")"
   ]
  },
  {
   "cell_type": "code",
   "execution_count": 36,
   "id": "cd1a656a-e1ee-4448-9231-2dd53d9f2cfd",
   "metadata": {},
   "outputs": [
    {
     "data": {
      "text/plain": [
       "Text(0, 0.5, 'score')"
      ]
     },
     "execution_count": 36,
     "metadata": {},
     "output_type": "execute_result"
    },
    {
     "data": {
      "image/png": "[encoded data removed]",
      "text/plain": [
       "<Figure size 640x480 with 1 Axes>"
      ]
     },
     "metadata": {},
     "output_type": "display_data"
    }
   ],
   "source": [
    "import seaborn as sns\n",
    "\n",
    "sns.boxplot(score_dfs[2], x=\"model_name\", y=\"score10_test\").set(\n",
    "    title=\"Hits@100 and hits@10\\n(large positive set, large embeddings)\"\n",
    ")\n",
    "sns.boxplot(score_dfs[2], x=\"model_name\", y=\"score100_test\").set_ylabel(\"score\")"
   ]
  },
  {
   "cell_type": "code",
   "execution_count": 37,
   "id": "29af53a9-fe65-4167-bdf5-4f0e6ddb08fe",
   "metadata": {},
   "outputs": [
    {
     "data": {
      "text/plain": [
       "Text(0, 0.5, 'score')"
      ]
     },
     "execution_count": 37,
     "metadata": {},
     "output_type": "execute_result"
    },
    {
     "data": {
      "image/png": "[encoded data removed]",
      "text/plain": [
       "<Figure size 640x480 with 1 Axes>"
      ]
     },
     "metadata": {},
     "output_type": "display_data"
    }
   ],
   "source": [
    "import seaborn as sns\n",
    "\n",
    "sns.boxplot(score_dfs[3], x=\"model_name\", y=\"score10_test\").set(\n",
    "    title=\"Hits@100 and hits@10\\n(large positive set, small embeddings)\"\n",
    ")\n",
    "sns.boxplot(score_dfs[3], x=\"model_name\", y=\"score100_test\").set_ylabel(\"score\")"
   ]
  },
  {
   "cell_type": "code",
   "execution_count": 38,
   "id": "4302631a-ecea-497e-a3f1-f87727aba813",
   "metadata": {},
   "outputs": [],
   "source": [
    "score_dfs = []\n",
    "for output_dir in output_dirs:\n",
    "    score_dfs.append(pd.read_csv(output_dir / \"score_df.csv\", index_col=0))\n",
    "plot_dfs = []\n",
    "for ds, score_df in zip(\n",
    "    (\"large\", \"small\", \"large_embeddings\", \"large_embeddings_small\"), score_dfs\n",
    "):\n",
    "    plot_df = score_df[[\"model_name\", \"score10_test\", \"score100_test\"]].copy()\n",
    "    plot_df.columns = [\"model_name\", \"hits@10\", \"hits@100\"]\n",
    "    plot_df[\"dataset\"] = ds\n",
    "    plot_dfs.append(plot_df)\n",
    "\n",
    "plot_df = pd.concat(plot_dfs)\n",
    "plot_df = plot_df.melt(id_vars=[\"model_name\", \"dataset\"])\n",
    "plot_dfs = {k: v for k, v in plot_df.groupby(\"model_name\")}"
   ]
  },
  {
   "cell_type": "code",
   "execution_count": 39,
   "id": "c722c768-a16b-4307-948d-744923771ffa",
   "metadata": {},
   "outputs": [
    {
     "data": {
      "image/png": "[encoded data removed]",
      "text/plain": [
       "<Figure size 640x480 with 1 Axes>"
      ]
     },
     "metadata": {},
     "output_type": "display_data"
    }
   ],
   "source": [
    "y_lim = (0, 105)\n",
    "y_label = \"Score\"\n",
    "\n",
    "import seaborn as sns\n",
    "import matplotlib.pyplot as plt\n",
    "\n",
    "model_name = \"RotatE\"\n",
    "plot_df = plot_dfs[model_name]\n",
    "\n",
    "plot_df[\"Hits\"] = plot_df[\"variable\"]\n",
    "plot = sns.barplot(\n",
    "    plot_df,\n",
    "    x=\"dataset\",\n",
    "    y=\"value\",\n",
    "    hue=\"Hits\",\n",
    "    order=[\"small\", \"large\", \"large_embeddings_small\", \"large_embeddings\"],\n",
    ")\n",
    "sns.move_legend(plot, \"upper left\")\n",
    "plot.set(xlabel=\"positive dataset\", ylabel=y_label)\n",
    "plot.set_title(f\"{model_name} - {method}\")\n",
    "plot.set_ylim(y_lim)\n",
    "_ = plot.set_xticklabels(\n",
    "    labels=[\"small\", \"large\", \"large_embeddings_small\", \"large_embeddings\"], rotation=90\n",
    ")"
   ]
  },
  {
   "cell_type": "code",
   "execution_count": 40,
   "id": "39d60433-6c12-47b1-9ac0-96a9394a9d27",
   "metadata": {},
   "outputs": [
    {
     "data": {
      "image/png": "[encoded data removed]",
      "text/plain": [
       "<Figure size 640x480 with 1 Axes>"
      ]
     },
     "metadata": {},
     "output_type": "display_data"
    }
   ],
   "source": [
    "y_lim = (0, 105)\n",
    "y_label = \"Score\"\n",
    "\n",
    "import seaborn as sns\n",
    "import matplotlib.pyplot as plt\n",
    "\n",
    "model_name = \"TransE\"\n",
    "plot_df = plot_dfs[model_name]\n",
    "\n",
    "plot_df[\"Hits\"] = plot_df[\"variable\"]\n",
    "plot = sns.barplot(\n",
    "    plot_df,\n",
    "    x=\"dataset\",\n",
    "    y=\"value\",\n",
    "    hue=\"Hits\",\n",
    "    order=[\"small\", \"large\", \"large_embeddings_small\", \"large_embeddings\"],\n",
    ")\n",
    "sns.move_legend(plot, \"upper left\")\n",
    "plot.set(xlabel=\"positive dataset\", ylabel=y_label)\n",
    "plot.set_title(f\"{model_name} - {method}\")\n",
    "plot.set_ylim(y_lim)\n",
    "_ = plot.set_xticklabels(\n",
    "    labels=[\"small\", \"large\", \"large_embeddings_small\", \"large_embeddings\"], rotation=90\n",
    ")"
   ]
  },
  {
   "cell_type": "code",
   "execution_count": 41,
   "id": "6ca4010a-0859-4551-9e59-e26931146717",
   "metadata": {},
   "outputs": [
    {
     "data": {
      "image/png": "[encoded data removed]",
      "text/plain": [
       "<Figure size 640x480 with 1 Axes>"
      ]
     },
     "metadata": {},
     "output_type": "display_data"
    }
   ],
   "source": [
    "y_lim = (0, 105)\n",
    "y_label = \"Score\"\n",
    "\n",
    "import seaborn as sns\n",
    "import matplotlib.pyplot as plt\n",
    "\n",
    "model_name = \"CompGCN\"\n",
    "plot_df = plot_dfs[model_name]\n",
    "\n",
    "plot_df[\"Hits\"] = plot_df[\"variable\"]\n",
    "plot = sns.barplot(\n",
    "    plot_df,\n",
    "    x=\"dataset\",\n",
    "    y=\"value\",\n",
    "    hue=\"Hits\",\n",
    "    order=[\"small\", \"large\", \"large_embeddings_small\", \"large_embeddings\"],\n",
    ")\n",
    "sns.move_legend(plot, \"upper left\")\n",
    "plot.set(xlabel=\"positive dataset\", ylabel=y_label)\n",
    "plot.set_title(f\"{model_name} - {method}\")\n",
    "plot.set_ylim(y_lim)\n",
    "_ = plot.set_xticklabels(\n",
    "    labels=[\"small\", \"large\", \"large_embeddings_small\", \"large_embeddings\"], rotation=90\n",
    ")"
   ]
  },
  {
   "cell_type": "code",
   "execution_count": 42,
   "id": "7ae05b4d-b629-4674-b623-dda434899515",
   "metadata": {},
   "outputs": [],
   "source": [
    "proba_dfs = [\n",
    "    build_proba_df(gs, i, mns=MODEL_NAMES)\n",
    "    for gs, i in zip(grid_searches_list, input_dirs)\n",
    "]\n",
    "for output_dir, proba_df in zip(output_dirs, proba_dfs):\n",
    "    proba_df.to_csv(output_dir / \"proba_df.csv\")"
   ]
  },
  {
   "cell_type": "code",
   "execution_count": 43,
   "id": "7b2c84bc-4a73-4ed7-b818-15f99a1d57d4",
   "metadata": {},
   "outputs": [
    {
     "data": {
      "text/html": [
       "<div>\n",
       "<style scoped>\n",
       "    .dataframe tbody tr th:only-of-type {\n",
       "        vertical-align: middle;\n",
       "    }\n",
       "\n",
       "    .dataframe tbody tr th {\n",
       "        vertical-align: top;\n",
       "    }\n",
       "\n",
       "    .dataframe thead th {\n",
       "        text-align: right;\n",
       "    }\n",
       "</style>\n",
       "<table border=\"1\" class=\"dataframe\">\n",
       "  <thead>\n",
       "    <tr style=\"text-align: right;\">\n",
       "      <th></th>\n",
       "      <th>node_id</th>\n",
       "      <th>gene_name</th>\n",
       "      <th>irr</th>\n",
       "      <th>train</th>\n",
       "      <th>val</th>\n",
       "      <th>test</th>\n",
       "      <th>RotatE_0</th>\n",
       "      <th>RotatE_1</th>\n",
       "      <th>RotatE_2</th>\n",
       "      <th>RotatE_3</th>\n",
       "      <th>...</th>\n",
       "      <th>CompGCN_0</th>\n",
       "      <th>CompGCN_1</th>\n",
       "      <th>CompGCN_2</th>\n",
       "      <th>CompGCN_3</th>\n",
       "      <th>CompGCN_4</th>\n",
       "      <th>CompGCN_5</th>\n",
       "      <th>CompGCN_6</th>\n",
       "      <th>CompGCN_7</th>\n",
       "      <th>CompGCN_8</th>\n",
       "      <th>CompGCN_9</th>\n",
       "    </tr>\n",
       "  </thead>\n",
       "  <tbody>\n",
       "    <tr>\n",
       "      <th>24910</th>\n",
       "      <td>Gene::5037</td>\n",
       "      <td>PEBP1</td>\n",
       "      <td>False</td>\n",
       "      <td>False</td>\n",
       "      <td>False</td>\n",
       "      <td>True</td>\n",
       "      <td>0.063142</td>\n",
       "      <td>0.016174</td>\n",
       "      <td>0.028447</td>\n",
       "      <td>0.024867</td>\n",
       "      <td>...</td>\n",
       "      <td>0.957214</td>\n",
       "      <td>1.111431</td>\n",
       "      <td>1.157474</td>\n",
       "      <td>1.146051</td>\n",
       "      <td>0.679819</td>\n",
       "      <td>0.998614</td>\n",
       "      <td>1.031982</td>\n",
       "      <td>0.803245</td>\n",
       "      <td>0.942408</td>\n",
       "      <td>1.216797</td>\n",
       "    </tr>\n",
       "    <tr>\n",
       "      <th>31154</th>\n",
       "      <td>Gene::811</td>\n",
       "      <td>CALR</td>\n",
       "      <td>False</td>\n",
       "      <td>False</td>\n",
       "      <td>False</td>\n",
       "      <td>True</td>\n",
       "      <td>0.062809</td>\n",
       "      <td>0.055102</td>\n",
       "      <td>0.054938</td>\n",
       "      <td>0.054284</td>\n",
       "      <td>...</td>\n",
       "      <td>1.105645</td>\n",
       "      <td>0.895881</td>\n",
       "      <td>1.122967</td>\n",
       "      <td>0.924856</td>\n",
       "      <td>1.169423</td>\n",
       "      <td>1.048326</td>\n",
       "      <td>0.988287</td>\n",
       "      <td>0.764004</td>\n",
       "      <td>0.804384</td>\n",
       "      <td>1.055642</td>\n",
       "    </tr>\n",
       "    <tr>\n",
       "      <th>28829</th>\n",
       "      <td>Gene::6455</td>\n",
       "      <td>SH3GL1</td>\n",
       "      <td>False</td>\n",
       "      <td>False</td>\n",
       "      <td>False</td>\n",
       "      <td>True</td>\n",
       "      <td>0.061894</td>\n",
       "      <td>0.041759</td>\n",
       "      <td>0.042519</td>\n",
       "      <td>0.028367</td>\n",
       "      <td>...</td>\n",
       "      <td>0.709182</td>\n",
       "      <td>1.108444</td>\n",
       "      <td>1.183151</td>\n",
       "      <td>0.723794</td>\n",
       "      <td>0.843666</td>\n",
       "      <td>1.127450</td>\n",
       "      <td>0.998152</td>\n",
       "      <td>0.548136</td>\n",
       "      <td>0.763566</td>\n",
       "      <td>1.065230</td>\n",
       "    </tr>\n",
       "    <tr>\n",
       "      <th>26903</th>\n",
       "      <td>Gene::5576</td>\n",
       "      <td>PRKAR2A</td>\n",
       "      <td>False</td>\n",
       "      <td>False</td>\n",
       "      <td>False</td>\n",
       "      <td>True</td>\n",
       "      <td>0.059913</td>\n",
       "      <td>0.050013</td>\n",
       "      <td>0.047425</td>\n",
       "      <td>0.059758</td>\n",
       "      <td>...</td>\n",
       "      <td>1.220428</td>\n",
       "      <td>1.193495</td>\n",
       "      <td>0.973899</td>\n",
       "      <td>0.999215</td>\n",
       "      <td>0.995307</td>\n",
       "      <td>1.034822</td>\n",
       "      <td>0.990680</td>\n",
       "      <td>1.098749</td>\n",
       "      <td>0.409524</td>\n",
       "      <td>0.945646</td>\n",
       "    </tr>\n",
       "    <tr>\n",
       "      <th>16158</th>\n",
       "      <td>Gene::11156</td>\n",
       "      <td>PTP4A3</td>\n",
       "      <td>False</td>\n",
       "      <td>False</td>\n",
       "      <td>False</td>\n",
       "      <td>True</td>\n",
       "      <td>0.058695</td>\n",
       "      <td>0.056365</td>\n",
       "      <td>0.043437</td>\n",
       "      <td>0.058780</td>\n",
       "      <td>...</td>\n",
       "      <td>0.794887</td>\n",
       "      <td>1.325437</td>\n",
       "      <td>1.040276</td>\n",
       "      <td>1.039182</td>\n",
       "      <td>0.885956</td>\n",
       "      <td>1.094891</td>\n",
       "      <td>0.977061</td>\n",
       "      <td>1.035432</td>\n",
       "      <td>0.971541</td>\n",
       "      <td>1.013479</td>\n",
       "    </tr>\n",
       "    <tr>\n",
       "      <th>...</th>\n",
       "      <td>...</td>\n",
       "      <td>...</td>\n",
       "      <td>...</td>\n",
       "      <td>...</td>\n",
       "      <td>...</td>\n",
       "      <td>...</td>\n",
       "      <td>...</td>\n",
       "      <td>...</td>\n",
       "      <td>...</td>\n",
       "      <td>...</td>\n",
       "      <td>...</td>\n",
       "      <td>...</td>\n",
       "      <td>...</td>\n",
       "      <td>...</td>\n",
       "      <td>...</td>\n",
       "      <td>...</td>\n",
       "      <td>...</td>\n",
       "      <td>...</td>\n",
       "      <td>...</td>\n",
       "      <td>...</td>\n",
       "      <td>...</td>\n",
       "    </tr>\n",
       "    <tr>\n",
       "      <th>17332</th>\n",
       "      <td>Gene::134526</td>\n",
       "      <td>ACOT12</td>\n",
       "      <td>False</td>\n",
       "      <td>False</td>\n",
       "      <td>False</td>\n",
       "      <td>True</td>\n",
       "      <td>-0.152067</td>\n",
       "      <td>-0.133162</td>\n",
       "      <td>-0.100839</td>\n",
       "      <td>-0.093456</td>\n",
       "      <td>...</td>\n",
       "      <td>1.086124</td>\n",
       "      <td>1.236984</td>\n",
       "      <td>0.542986</td>\n",
       "      <td>0.354543</td>\n",
       "      <td>0.958290</td>\n",
       "      <td>1.323590</td>\n",
       "      <td>1.005852</td>\n",
       "      <td>0.812001</td>\n",
       "      <td>0.717754</td>\n",
       "      <td>0.465181</td>\n",
       "    </tr>\n",
       "    <tr>\n",
       "      <th>23581</th>\n",
       "      <td>Gene::389124</td>\n",
       "      <td>IQCF5</td>\n",
       "      <td>False</td>\n",
       "      <td>False</td>\n",
       "      <td>False</td>\n",
       "      <td>True</td>\n",
       "      <td>-0.152089</td>\n",
       "      <td>-0.152871</td>\n",
       "      <td>-0.183783</td>\n",
       "      <td>-0.193960</td>\n",
       "      <td>...</td>\n",
       "      <td>0.509174</td>\n",
       "      <td>0.673140</td>\n",
       "      <td>0.587382</td>\n",
       "      <td>0.550805</td>\n",
       "      <td>1.219866</td>\n",
       "      <td>1.291167</td>\n",
       "      <td>1.076360</td>\n",
       "      <td>0.381488</td>\n",
       "      <td>0.370467</td>\n",
       "      <td>0.530558</td>\n",
       "    </tr>\n",
       "    <tr>\n",
       "      <th>19399</th>\n",
       "      <td>Gene::221481</td>\n",
       "      <td>ARMC12</td>\n",
       "      <td>False</td>\n",
       "      <td>False</td>\n",
       "      <td>False</td>\n",
       "      <td>True</td>\n",
       "      <td>-0.156626</td>\n",
       "      <td>-0.099688</td>\n",
       "      <td>-0.107350</td>\n",
       "      <td>-0.117513</td>\n",
       "      <td>...</td>\n",
       "      <td>0.133248</td>\n",
       "      <td>0.666106</td>\n",
       "      <td>0.855130</td>\n",
       "      <td>0.340678</td>\n",
       "      <td>1.011438</td>\n",
       "      <td>0.332585</td>\n",
       "      <td>0.991198</td>\n",
       "      <td>0.028883</td>\n",
       "      <td>0.952694</td>\n",
       "      <td>0.427041</td>\n",
       "    </tr>\n",
       "    <tr>\n",
       "      <th>16897</th>\n",
       "      <td>Gene::124773</td>\n",
       "      <td>CHCT1</td>\n",
       "      <td>False</td>\n",
       "      <td>False</td>\n",
       "      <td>False</td>\n",
       "      <td>True</td>\n",
       "      <td>-0.165278</td>\n",
       "      <td>-0.204286</td>\n",
       "      <td>-0.106402</td>\n",
       "      <td>-0.170570</td>\n",
       "      <td>...</td>\n",
       "      <td>0.779511</td>\n",
       "      <td>0.539325</td>\n",
       "      <td>1.001603</td>\n",
       "      <td>0.452953</td>\n",
       "      <td>0.565574</td>\n",
       "      <td>1.131049</td>\n",
       "      <td>1.033853</td>\n",
       "      <td>0.092100</td>\n",
       "      <td>0.485788</td>\n",
       "      <td>1.005597</td>\n",
       "    </tr>\n",
       "    <tr>\n",
       "      <th>17279</th>\n",
       "      <td>Gene::132851</td>\n",
       "      <td>SPATA4</td>\n",
       "      <td>False</td>\n",
       "      <td>False</td>\n",
       "      <td>False</td>\n",
       "      <td>True</td>\n",
       "      <td>-0.167157</td>\n",
       "      <td>-0.156851</td>\n",
       "      <td>-0.135935</td>\n",
       "      <td>-0.099622</td>\n",
       "      <td>...</td>\n",
       "      <td>0.395952</td>\n",
       "      <td>1.352573</td>\n",
       "      <td>0.487724</td>\n",
       "      <td>0.640856</td>\n",
       "      <td>0.833069</td>\n",
       "      <td>0.422076</td>\n",
       "      <td>0.983070</td>\n",
       "      <td>0.549287</td>\n",
       "      <td>0.124849</td>\n",
       "      <td>0.184254</td>\n",
       "    </tr>\n",
       "  </tbody>\n",
       "</table>\n",
       "<p>3816 rows × 36 columns</p>\n",
       "</div>"
      ],
      "text/plain": [
       "            node_id gene_name    irr  train    val  test  RotatE_0  RotatE_1  \\\n",
       "24910    Gene::5037     PEBP1  False  False  False  True  0.063142  0.016174   \n",
       "31154     Gene::811      CALR  False  False  False  True  0.062809  0.055102   \n",
       "28829    Gene::6455    SH3GL1  False  False  False  True  0.061894  0.041759   \n",
       "26903    Gene::5576   PRKAR2A  False  False  False  True  0.059913  0.050013   \n",
       "16158   Gene::11156    PTP4A3  False  False  False  True  0.058695  0.056365   \n",
       "...             ...       ...    ...    ...    ...   ...       ...       ...   \n",
       "17332  Gene::134526    ACOT12  False  False  False  True -0.152067 -0.133162   \n",
       "23581  Gene::389124     IQCF5  False  False  False  True -0.152089 -0.152871   \n",
       "19399  Gene::221481    ARMC12  False  False  False  True -0.156626 -0.099688   \n",
       "16897  Gene::124773     CHCT1  False  False  False  True -0.165278 -0.204286   \n",
       "17279  Gene::132851    SPATA4  False  False  False  True -0.167157 -0.156851   \n",
       "\n",
       "       RotatE_2  RotatE_3  ...  CompGCN_0  CompGCN_1  CompGCN_2  CompGCN_3  \\\n",
       "24910  0.028447  0.024867  ...   0.957214   1.111431   1.157474   1.146051   \n",
       "31154  0.054938  0.054284  ...   1.105645   0.895881   1.122967   0.924856   \n",
       "28829  0.042519  0.028367  ...   0.709182   1.108444   1.183151   0.723794   \n",
       "26903  0.047425  0.059758  ...   1.220428   1.193495   0.973899   0.999215   \n",
       "16158  0.043437  0.058780  ...   0.794887   1.325437   1.040276   1.039182   \n",
       "...         ...       ...  ...        ...        ...        ...        ...   \n",
       "17332 -0.100839 -0.093456  ...   1.086124   1.236984   0.542986   0.354543   \n",
       "23581 -0.183783 -0.193960  ...   0.509174   0.673140   0.587382   0.550805   \n",
       "19399 -0.107350 -0.117513  ...   0.133248   0.666106   0.855130   0.340678   \n",
       "16897 -0.106402 -0.170570  ...   0.779511   0.539325   1.001603   0.452953   \n",
       "17279 -0.135935 -0.099622  ...   0.395952   1.352573   0.487724   0.640856   \n",
       "\n",
       "       CompGCN_4  CompGCN_5  CompGCN_6  CompGCN_7  CompGCN_8  CompGCN_9  \n",
       "24910   0.679819   0.998614   1.031982   0.803245   0.942408   1.216797  \n",
       "31154   1.169423   1.048326   0.988287   0.764004   0.804384   1.055642  \n",
       "28829   0.843666   1.127450   0.998152   0.548136   0.763566   1.065230  \n",
       "26903   0.995307   1.034822   0.990680   1.098749   0.409524   0.945646  \n",
       "16158   0.885956   1.094891   0.977061   1.035432   0.971541   1.013479  \n",
       "...          ...        ...        ...        ...        ...        ...  \n",
       "17332   0.958290   1.323590   1.005852   0.812001   0.717754   0.465181  \n",
       "23581   1.219866   1.291167   1.076360   0.381488   0.370467   0.530558  \n",
       "19399   1.011438   0.332585   0.991198   0.028883   0.952694   0.427041  \n",
       "16897   0.565574   1.131049   1.033853   0.092100   0.485788   1.005597  \n",
       "17279   0.833069   0.422076   0.983070   0.549287   0.124849   0.184254  \n",
       "\n",
       "[3816 rows x 36 columns]"
      ]
     },
     "execution_count": 43,
     "metadata": {},
     "output_type": "execute_result"
    }
   ],
   "source": [
    "proba_df = proba_dfs[0]\n",
    "proba_df.query(\"test\").sort_values(\"RotatE_0\", ascending=False)"
   ]
  },
  {
   "cell_type": "code",
   "execution_count": 47,
   "id": "f4d306f1-0fd3-4ccc-979d-2be708503e1b",
   "metadata": {},
   "outputs": [],
   "source": [
    "for proba_df, score_df, od in zip(proba_dfs, score_dfs, output_dirs):\n",
    "    proba_df.to_csv(od / \"proba_df.csv\")\n",
    "    proba_df.query(\"test\").to_csv(od / \"proba_df_test.csv\")\n",
    "    score_df.to_csv(od / \"score_df.csv\")\n",
    "\n",
    "    for mn in MODEL_NAMES:\n",
    "        score_cols = [c for c in proba_df.columns if c.startswith(f\"{mn}_\")]\n",
    "        tmp_df = proba_df[\n",
    "            [\"node_id\", \"gene_name\", \"irr\", \"train\", \"val\", \"test\", *score_cols]\n",
    "        ]\n",
    "        tmp_df.to_csv(od / f\"proba_df_{mn}.csv\")\n",
    "        tmp_df_test = tmp_df.query(\"test\")\n",
    "        tmp_df_test.to_csv(od / f\"proba_df_test_{mn}.csv\")\n",
    "\n",
    "        genes_100 = build_ranked_lists(tmp_df, prefix=mn)\n",
    "        genes_100.to_csv(od / f\"genes_100_{mn}.csv\", index=False)\n",
    "        genes_100_test = build_ranked_lists(tmp_df_test, prefix=mn)\n",
    "        genes_100_test.to_csv(od / f\"genes_100_test_{mn}.csv\", index=False)\n",
    "\n",
    "        ds = \"test\"\n",
    "        score_df_tmp = score_df.query(\"model_name == @mn\")\n",
    "        score_df_tmp = pd.concat(\n",
    "            [score_df_tmp[\"m_name\"], score_df_tmp.filter(regex=f\".*_{ds}\", axis=1)],\n",
    "            axis=1,\n",
    "        ).set_index(\"m_name\")\n",
    "        score_df_tmp.columns = [\n",
    "            c.replace(f\"_{ds}\", \"\").replace(\"score\", \"hits@\")\n",
    "            for c in score_df_tmp.columns\n",
    "        ]\n",
    "        score_df_tmp = score_df_tmp.T\n",
    "        score_df_tmp[\"mean\"] = score_df_tmp.mean(axis=1)\n",
    "        score_df_tmp.to_csv(od / f\"scores_{ds}_{mn}.csv\", index_label=\"score\")\n",
    "\n",
    "        ds = \"all\"\n",
    "        score_df_tmp = score_df.query(\"model_name == @mn\")\n",
    "        score_df_tmp = pd.concat(\n",
    "            [score_df_tmp[\"m_name\"], score_df_tmp.filter(regex=f\".*_{ds}\", axis=1)],\n",
    "            axis=1,\n",
    "        ).set_index(\"m_name\")\n",
    "        score_df_tmp.columns = [\n",
    "            c.replace(f\"_{ds}\", \"\").replace(\"score\", \"hits@\")\n",
    "            for c in score_df_tmp.columns\n",
    "        ]\n",
    "        score_df_tmp = score_df_tmp.T\n",
    "        score_df_tmp[\"mean\"] = score_df_tmp.mean(axis=1)\n",
    "        score_df_tmp.to_csv(od / f\"scores_{mn}.csv\", index_label=\"score\")"
   ]
  }
 ],
 "metadata": {
  "kernelspec": {
   "display_name": "giannt",
   "language": "python",
   "name": "giannt"
  },
  "language_info": {
   "codemirror_mode": {
    "name": "ipython",
    "version": 3
   },
   "file_extension": ".py",
   "mimetype": "text/x-python",
   "name": "python",
   "nbconvert_exporter": "python",
   "pygments_lexer": "ipython3",
   "version": "3.10.10"
  }
 },
 "nbformat": 4,
 "nbformat_minor": 5
}
