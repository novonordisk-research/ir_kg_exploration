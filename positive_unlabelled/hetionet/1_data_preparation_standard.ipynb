{
 "cells": [
  {
   "cell_type": "code",
   "execution_count": 3,
   "id": "7a02f0d1-4326-4d53-b54c-bec55936ac4a",
   "metadata": {},
   "outputs": [],
   "source": [
    "from pathlib import Path\n",
    "\n",
    "import pandas as pd\n",
    "import numpy as np\n",
    "\n",
    "import pykeen\n",
    "from pykeen.triples import TriplesFactory"
   ]
  },
  {
   "cell_type": "code",
   "execution_count": 2,
   "id": "a18e65ef-9618-4cc6-b2f7-740878bfdb7f",
   "metadata": {},
   "outputs": [],
   "source": [
    "RANDOM_SEED = 42\n",
    "np.random.seed(RANDOM_SEED)"
   ]
  },
  {
   "cell_type": "code",
   "execution_count": 3,
   "id": "034e8fa6-374f-429c-ab93-64eecacb4539",
   "metadata": {},
   "outputs": [],
   "source": [
    "out_dir = Path('1_outputs') / 'standard'\n",
    "out_dir.mkdir(exist_ok=True, parents=True)"
   ]
  },
  {
   "cell_type": "code",
   "execution_count": 4,
   "id": "3c577ddb-c1f9-4c67-8af6-8f83029b1825",
   "metadata": {},
   "outputs": [],
   "source": [
    "het = TriplesFactory.from_labeled_triples(\n",
    "    np.loadtxt('./data/Hetionet_training_large.csv', dtype=str, delimiter=','),\n",
    ")\n",
    "\n",
    "id_to_entity = {i:e for e, i in het.entity_to_id.items()}\n",
    "entity_to_id = het.entity_to_id"
   ]
  },
  {
   "cell_type": "code",
   "execution_count": 5,
   "id": "83fe32b6-22c3-4f17-872d-485084643a5e",
   "metadata": {},
   "outputs": [],
   "source": [
    "TRAIN_IDS_FILE = '../../MBVK_workflows/editedOpenBioLink/train_genes_id.csv'\n",
    "VAL_IDS_FILE = '../../MBVK_workflows/editedOpenBioLink/val_genes_id.csv'\n",
    "TEST_IDS_FILE = '../../MBVK_workflows/editedOpenBioLink/test_genes_id.csv'\n",
    "\n",
    "pat = 'NCBIGENE:'\n",
    "repl = 'Gene::'\n",
    "train_entities = pd.read_csv(TRAIN_IDS_FILE, index_col=0).iloc[:,0].str.replace(pat, repl).values\n",
    "val_entities = pd.read_csv(VAL_IDS_FILE, index_col=0).iloc[:,0].str.replace(pat, repl).values\n",
    "test_entities = pd.read_csv(TEST_IDS_FILE, index_col=0).iloc[:,0].str.replace(pat, repl).values\n",
    "\n",
    "np.save(out_dir / 'train_entities.npy', train_entities)\n",
    "np.save(out_dir / 'val_entities.npy', val_entities)\n",
    "np.save(out_dir / 'test_entities.npy', test_entities)"
   ]
  },
  {
   "cell_type": "code",
   "execution_count": 6,
   "id": "de69bf28-9a43-4da1-a146-8ee823c18a5c",
   "metadata": {},
   "outputs": [],
   "source": [
    "train_ids = np.array([entity_to_id[i] for i in train_entities])\n",
    "val_ids = np.array([entity_to_id[i] for i in val_entities])\n",
    "test_ids = np.array([entity_to_id[i] for i in test_entities])\n",
    "\n",
    "np.save(out_dir / 'train_ids.npy', train_ids)\n",
    "np.save(out_dir / 'val_ids.npy', val_ids)\n",
    "np.save(out_dir / 'test_ids.npy', test_ids)"
   ]
  },
  {
   "cell_type": "code",
   "execution_count": 7,
   "id": "7cbc83ec-cf3c-45a8-9a07-bafbde3a8bf8",
   "metadata": {},
   "outputs": [],
   "source": [
    "gene_entities = np.array([e for e in entity_to_id.keys() if e.startswith('Gene::')])\n",
    "gene_ids = np.array([entity_to_id[e] for e in gene_entities])\n",
    "\n",
    "np.save(out_dir / 'gene_entities.npy', gene_entities)\n",
    "np.save(out_dir / 'gene_ids.npy', gene_ids)"
   ]
  },
  {
   "cell_type": "code",
   "execution_count": 8,
   "id": "d5a1e0df-e689-45b6-9e3b-e1862e468f85",
   "metadata": {},
   "outputs": [],
   "source": [
    "y = np.zeros(len(id_to_entity), dtype=bool)\n",
    "y[train_ids] = True\n",
    "y[val_ids] = True\n",
    "y[test_ids] = True\n",
    "\n",
    "np.save(out_dir / 'y.npy', y)"
   ]
  },
  {
   "cell_type": "code",
   "execution_count": 9,
   "id": "7fe662b4-c243-4977-80eb-1461b09c1e43",
   "metadata": {},
   "outputs": [],
   "source": [
    "ids = np.array([*id_to_entity.keys()])\n",
    "irr_ids = np.r_[train_ids, val_ids, test_ids]\n",
    "nirr_ids = ids[~np.isin(ids, irr_ids)]\n",
    "\n",
    "np.save(out_dir / 'ids.npy', ids)\n",
    "np.save(out_dir / 'irr_ids.npy', irr_ids)\n",
    "np.save(out_dir / 'nirr_ids.npy', nirr_ids)"
   ]
  },
  {
   "cell_type": "code",
   "execution_count": 10,
   "id": "3e2a6182-fd6b-409a-be5a-bdfdb2a16ee2",
   "metadata": {},
   "outputs": [],
   "source": [
    "from sklearn.model_selection import train_test_split\n",
    "\n",
    "nirr_ids_train, nirr_ids_val = train_test_split(nirr_ids, test_size=0.4)\n",
    "nirr_ids_val, nirr_ids_test = train_test_split(nirr_ids_val, test_size=0.5)\n",
    "\n",
    "all_ids_train = np.r_[nirr_ids_train, train_ids]\n",
    "all_ids_val = np.r_[nirr_ids_val, val_ids]\n",
    "all_ids_test = np.r_[nirr_ids_test, test_ids]"
   ]
  },
  {
   "cell_type": "code",
   "execution_count": 11,
   "id": "667fbd24-1d65-4f61-9942-bcbee8e782c3",
   "metadata": {},
   "outputs": [],
   "source": [
    "df = pd.DataFrame(index=gene_ids)\n",
    "df['id'] = gene_ids\n",
    "df['entity'] = [id_to_entity[i] for i in gene_ids]\n",
    "df['y'] = y[gene_ids]\n",
    "df['train'] = df['id'].isin(all_ids_train)\n",
    "df['test'] = df['id'].isin(all_ids_val)\n",
    "df['val'] = df['id'].isin(all_ids_test)\n",
    "\n",
    "\n",
    "df.to_csv(out_dir / 'ref_df.csv', index=True)"
   ]
  },
  {
   "cell_type": "code",
   "execution_count": 25,
   "id": "851163f0-04e1-427e-bd77-d88889ded0e4",
   "metadata": {},
   "outputs": [
    {
     "name": "stdout",
     "output_type": "stream",
     "text": [
      "(10, 45159, 200)\n",
      "1_outputs/standard/RotatE_X_0.npy\n",
      "1_outputs/standard/RotatE_X_1.npy\n",
      "1_outputs/standard/RotatE_X_2.npy\n",
      "1_outputs/standard/RotatE_X_3.npy\n",
      "1_outputs/standard/RotatE_X_4.npy\n",
      "1_outputs/standard/RotatE_X_5.npy\n",
      "1_outputs/standard/RotatE_X_6.npy\n",
      "1_outputs/standard/RotatE_X_7.npy\n",
      "1_outputs/standard/RotatE_X_8.npy\n",
      "1_outputs/standard/RotatE_X_9.npy\n"
     ]
    }
   ],
   "source": [
    "embeddings = np.load('./data/RotatE/small/entity_embedding_RotatE_10models.npy')\n",
    "print(embeddings.shape)\n",
    "\n",
    "for i, emb in enumerate(embeddings):\n",
    "    print(out_dir / f'RotatE_X_{i}.npy')\n",
    "    X = np.c_[emb.real, emb.imag]\n",
    "    np.save(out_dir / f'RotatE_X_{i}.npy', X)"
   ]
  },
  {
   "cell_type": "code",
   "execution_count": 26,
   "id": "6d233d50-4565-4e80-8bc2-9636f50316f8",
   "metadata": {},
   "outputs": [
    {
     "name": "stdout",
     "output_type": "stream",
     "text": [
      "(10, 45159, 200)\n",
      "1_outputs/standard/TransE_X_0.npy\n",
      "1_outputs/standard/TransE_X_1.npy\n",
      "1_outputs/standard/TransE_X_2.npy\n",
      "1_outputs/standard/TransE_X_3.npy\n",
      "1_outputs/standard/TransE_X_4.npy\n",
      "1_outputs/standard/TransE_X_5.npy\n",
      "1_outputs/standard/TransE_X_6.npy\n",
      "1_outputs/standard/TransE_X_7.npy\n",
      "1_outputs/standard/TransE_X_8.npy\n",
      "1_outputs/standard/TransE_X_9.npy\n"
     ]
    }
   ],
   "source": [
    "embeddings = np.load('./data/TransE/small/entity_embedding_TransE_10models.npy')\n",
    "print(embeddings.shape)\n",
    "\n",
    "for i, emb in enumerate(embeddings):\n",
    "    print(out_dir / f'TransE_X_{i}.npy')\n",
    "    X = emb\n",
    "    np.save(out_dir / f'TransE_X_{i}.npy', X) "
   ]
  },
  {
   "cell_type": "code",
   "execution_count": 4,
   "id": "2c94e630-ddb7-4540-a76a-720882161d30",
   "metadata": {},
   "outputs": [
    {
     "name": "stdout",
     "output_type": "stream",
     "text": [
      "(10, 45159, 200)\n"
     ]
    },
    {
     "ename": "NameError",
     "evalue": "name 'out_dir' is not defined",
     "output_type": "error",
     "traceback": [
      "\u001b[0;31m---------------------------------------------------------------------------\u001b[0m",
      "\u001b[0;31mNameError\u001b[0m                                 Traceback (most recent call last)",
      "Cell \u001b[0;32mIn[4], line 5\u001b[0m\n\u001b[1;32m      2\u001b[0m \u001b[38;5;28mprint\u001b[39m(embeddings\u001b[38;5;241m.\u001b[39mshape)\n\u001b[1;32m      4\u001b[0m \u001b[38;5;28;01mfor\u001b[39;00m i, emb \u001b[38;5;129;01min\u001b[39;00m \u001b[38;5;28menumerate\u001b[39m(embeddings):\n\u001b[0;32m----> 5\u001b[0m     \u001b[38;5;28mprint\u001b[39m(\u001b[43mout_dir\u001b[49m \u001b[38;5;241m/\u001b[39m \u001b[38;5;124mf\u001b[39m\u001b[38;5;124m'\u001b[39m\u001b[38;5;124mCompGCN_X_\u001b[39m\u001b[38;5;132;01m{\u001b[39;00mi\u001b[38;5;132;01m}\u001b[39;00m\u001b[38;5;124m.npy\u001b[39m\u001b[38;5;124m'\u001b[39m)\n\u001b[1;32m      6\u001b[0m     X \u001b[38;5;241m=\u001b[39m emb\n\u001b[1;32m      7\u001b[0m     np\u001b[38;5;241m.\u001b[39msave(out_dir \u001b[38;5;241m/\u001b[39m \u001b[38;5;124mf\u001b[39m\u001b[38;5;124m'\u001b[39m\u001b[38;5;124mCompGCN_X_\u001b[39m\u001b[38;5;132;01m{\u001b[39;00mi\u001b[38;5;132;01m}\u001b[39;00m\u001b[38;5;124m.npy\u001b[39m\u001b[38;5;124m'\u001b[39m, X)\n",
      "\u001b[0;31mNameError\u001b[0m: name 'out_dir' is not defined"
     ]
    }
   ],
   "source": [
    "embeddings = np.load('./data/CompGCN/small/entity_embedding_10models.npy')\n",
    "print(embeddings.shape)\n",
    "\n",
    "for i, emb in enumerate(embeddings):\n",
    "    print(out_dir / f'CompGCN_X_{i}.npy')\n",
    "    X = emb\n",
    "    np.save(out_dir / f'CompGCN_X_{i}.npy', X) "
   ]
  }
 ],
 "metadata": {
  "kernelspec": {
   "display_name": "giannt",
   "language": "python",
   "name": "giannt"
  },
  "language_info": {
   "codemirror_mode": {
    "name": "ipython",
    "version": 3
   },
   "file_extension": ".py",
   "mimetype": "text/x-python",
   "name": "python",
   "nbconvert_exporter": "python",
   "pygments_lexer": "ipython3",
   "version": "3.10.10"
  }
 },
 "nbformat": 4,
 "nbformat_minor": 5
}
