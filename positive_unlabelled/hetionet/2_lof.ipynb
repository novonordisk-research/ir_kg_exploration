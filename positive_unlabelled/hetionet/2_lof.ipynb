{
 "cells": [
  {
   "cell_type": "code",
   "execution_count": 1,
   "id": "7a02f0d1-4326-4d53-b54c-bec55936ac4a",
   "metadata": {},
   "outputs": [],
   "source": [
    "import pickle\n",
    "from pathlib import Path\n",
    "\n",
    "import pandas as pd\n",
    "import numpy as np\n",
    "from pulearn.elkanoto import ElkanotoPuClassifier\n",
    "from sklearn.svm import SVC\n",
    "from sklearn.model_selection import GridSearchCV\n",
    "from sklearn.pipeline import Pipeline\n",
    "from sklearn.model_selection import ParameterGrid, GridSearchCV\n",
    "from sklearn.decomposition import PCA\n",
    "\n",
    "from tqdm import tqdm\n",
    "import pul_config\n",
    "import importlib\n",
    "\n",
    "importlib.reload(pul_config)\n",
    "\n",
    "import utils\n",
    "\n",
    "importlib.reload(utils)\n",
    "from utils import (\n",
    "    calc_predictions,\n",
    "    build_proba_df,\n",
    "    build_ranked_lists,\n",
    "    calc_scores,\n",
    "    load_grid_searches,\n",
    "    score_df_from_grid_searches,\n",
    "    train,\n",
    "    evaluate,\n",
    ")\n",
    "\n",
    "# CHANGE HERE\n",
    "input_dirs = [\n",
    "    Path(\"1_outputs/standard/\"),\n",
    "    Path(\"1_outputs/small_DS/\"),\n",
    "    Path(\"1_outputs/large/\"),\n",
    "    Path(\"1_outputs/large_small_DS/\"),\n",
    "]\n",
    "output_dirs = [\n",
    "    Path(\"2_outputs/standard/\"),\n",
    "    Path(\"2_outputs/small_DS/\"),\n",
    "    Path(\"2_outputs/large/\"),\n",
    "    Path(\"2_outputs/large_small_DS/\"),\n",
    "]\n",
    "method = \"LocalOutlierFactor\"\n",
    "pul_cfg = pul_config.LocalOutlierFactorConfig\n",
    "\n",
    "\n",
    "remote_method = \"LocalOutlierFactor\"  # name of the output in S3\n",
    "# -----\n",
    "\n",
    "local_method = method\n",
    "MODEL_NAMES = (\"RotatE\", \"TransE\", \"CompGCN\")\n",
    "output_dirs = [output_dir / method for output_dir in output_dirs]"
   ]
  },
  {
   "cell_type": "markdown",
   "id": "ceddba04-3d10-45f5-867d-7f1fe35cdb47",
   "metadata": {},
   "source": [
    "## Training"
   ]
  },
  {
   "cell_type": "code",
   "execution_count": 2,
   "id": "002009b4-f5f6-4db7-8059-35bbe07d3432",
   "metadata": {},
   "outputs": [
    {
     "name": "stderr",
     "output_type": "stream",
     "text": [
      "  0%|          | 0/4 [00:00<?, ?it/s]\n",
      "  0%|          | 0/3 [00:00<?, ?it/s]\u001b[A\n",
      "\n",
      "  0%|          | 0/10 [00:00<?, ?it/s]\u001b[A\u001b[A\n",
      "\n",
      " 20%|██        | 2/10 [00:00<00:00,  9.28it/s]\u001b[A\u001b[A"
     ]
    },
    {
     "name": "stdout",
     "output_type": "stream",
     "text": [
      "2_outputs/standard/LocalOutlierFactor/RotatE/RotatE_0.pkl exists. Skipping...\n",
      "2_outputs/standard/LocalOutlierFactor/RotatE/RotatE_1.pkl exists. Skipping...\n"
     ]
    },
    {
     "name": "stderr",
     "output_type": "stream",
     "text": [
      "\n",
      "\n",
      " 30%|███       | 3/10 [00:00<00:01,  5.05it/s]\u001b[A\u001b[A\n",
      "\n",
      " 40%|████      | 4/10 [00:00<00:01,  5.67it/s]\u001b[A\u001b[A"
     ]
    },
    {
     "name": "stdout",
     "output_type": "stream",
     "text": [
      "2_outputs/standard/LocalOutlierFactor/RotatE/RotatE_2.pkl exists. Skipping...\n",
      "2_outputs/standard/LocalOutlierFactor/RotatE/RotatE_3.pkl exists. Skipping...\n"
     ]
    },
    {
     "name": "stderr",
     "output_type": "stream",
     "text": [
      "\n",
      "\n",
      " 60%|██████    | 6/10 [00:00<00:00,  7.96it/s]\u001b[A\u001b[A"
     ]
    },
    {
     "name": "stdout",
     "output_type": "stream",
     "text": [
      "2_outputs/standard/LocalOutlierFactor/RotatE/RotatE_4.pkl exists. Skipping...\n",
      "2_outputs/standard/LocalOutlierFactor/RotatE/RotatE_5.pkl exists. Skipping...\n"
     ]
    },
    {
     "name": "stderr",
     "output_type": "stream",
     "text": [
      "\n",
      "\n",
      " 70%|███████   | 7/10 [00:01<00:00,  6.37it/s]\u001b[A\u001b[A\n",
      "\n",
      " 80%|████████  | 8/10 [00:01<00:00,  6.32it/s]\u001b[A\u001b[A"
     ]
    },
    {
     "name": "stdout",
     "output_type": "stream",
     "text": [
      "2_outputs/standard/LocalOutlierFactor/RotatE/RotatE_6.pkl exists. Skipping...\n",
      "2_outputs/standard/LocalOutlierFactor/RotatE/RotatE_7.pkl exists. Skipping...\n"
     ]
    },
    {
     "name": "stderr",
     "output_type": "stream",
     "text": [
      "\n",
      "\n",
      "100%|██████████| 10/10 [00:01<00:00,  6.99it/s]\u001b[A\u001b[A\n",
      "\n",
      " 33%|███▎      | 1/3 [00:01<00:02,  1.47s/it]\u001b[A"
     ]
    },
    {
     "name": "stdout",
     "output_type": "stream",
     "text": [
      "2_outputs/standard/LocalOutlierFactor/RotatE/RotatE_8.pkl exists. Skipping...\n",
      "2_outputs/standard/LocalOutlierFactor/RotatE/RotatE_9.pkl exists. Skipping...\n"
     ]
    },
    {
     "name": "stderr",
     "output_type": "stream",
     "text": [
      "\n",
      "\n",
      "  0%|          | 0/10 [00:00<?, ?it/s]\u001b[A\u001b[A\n",
      "\n",
      " 10%|█         | 1/10 [00:00<00:02,  3.94it/s]\u001b[A\u001b[A\n",
      "\n",
      " 20%|██        | 2/10 [00:00<00:01,  5.83it/s]\u001b[A\u001b[A"
     ]
    },
    {
     "name": "stdout",
     "output_type": "stream",
     "text": [
      "2_outputs/standard/LocalOutlierFactor/TransE/TransE_0.pkl exists. Skipping...\n",
      "2_outputs/standard/LocalOutlierFactor/TransE/TransE_1.pkl exists. Skipping...\n"
     ]
    },
    {
     "name": "stderr",
     "output_type": "stream",
     "text": [
      "\n",
      "\n",
      " 30%|███       | 3/10 [00:00<00:01,  5.86it/s]\u001b[A\u001b[A\n",
      "\n",
      " 50%|█████     | 5/10 [00:00<00:00,  9.10it/s]\u001b[A\u001b[A"
     ]
    },
    {
     "name": "stdout",
     "output_type": "stream",
     "text": [
      "2_outputs/standard/LocalOutlierFactor/TransE/TransE_2.pkl exists. Skipping...\n",
      "2_outputs/standard/LocalOutlierFactor/TransE/TransE_3.pkl exists. Skipping...\n",
      "2_outputs/standard/LocalOutlierFactor/TransE/TransE_4.pkl exists. Skipping...\n",
      "2_outputs/standard/LocalOutlierFactor/TransE/TransE_5.pkl exists. Skipping...\n"
     ]
    },
    {
     "name": "stderr",
     "output_type": "stream",
     "text": [
      "\n",
      "\n",
      " 70%|███████   | 7/10 [00:01<00:00,  6.55it/s]\u001b[A\u001b[A"
     ]
    },
    {
     "name": "stdout",
     "output_type": "stream",
     "text": [
      "2_outputs/standard/LocalOutlierFactor/TransE/TransE_6.pkl exists. Skipping...\n"
     ]
    },
    {
     "name": "stderr",
     "output_type": "stream",
     "text": [
      "\n",
      "\n",
      " 80%|████████  | 8/10 [00:01<00:00,  6.53it/s]\u001b[A\u001b[A"
     ]
    },
    {
     "name": "stdout",
     "output_type": "stream",
     "text": [
      "2_outputs/standard/LocalOutlierFactor/TransE/TransE_7.pkl exists. Skipping...\n"
     ]
    },
    {
     "name": "stderr",
     "output_type": "stream",
     "text": [
      "\n",
      "\n",
      " 90%|█████████ | 9/10 [00:01<00:00,  6.06it/s]\u001b[A\u001b[A"
     ]
    },
    {
     "name": "stdout",
     "output_type": "stream",
     "text": [
      "2_outputs/standard/LocalOutlierFactor/TransE/TransE_8.pkl exists. Skipping...\n"
     ]
    },
    {
     "name": "stderr",
     "output_type": "stream",
     "text": [
      "\n",
      "\n",
      "100%|██████████| 10/10 [00:01<00:00,  6.28it/s]\u001b[A\u001b[A\n",
      "\n",
      " 67%|██████▋   | 2/3 [00:03<00:01,  1.55s/it]\u001b[A"
     ]
    },
    {
     "name": "stdout",
     "output_type": "stream",
     "text": [
      "2_outputs/standard/LocalOutlierFactor/TransE/TransE_9.pkl exists. Skipping...\n"
     ]
    },
    {
     "name": "stderr",
     "output_type": "stream",
     "text": [
      "\n",
      "\n",
      "  0%|          | 0/10 [00:00<?, ?it/s]\u001b[A\u001b[A\n",
      "\n",
      " 10%|█         | 1/10 [00:00<00:01,  8.24it/s]\u001b[A\u001b[A"
     ]
    },
    {
     "name": "stdout",
     "output_type": "stream",
     "text": [
      "2_outputs/standard/LocalOutlierFactor/CompGCN/CompGCN_0.pkl exists. Skipping...\n"
     ]
    },
    {
     "name": "stderr",
     "output_type": "stream",
     "text": [
      "\n",
      "\n",
      " 20%|██        | 2/10 [00:00<00:02,  3.78it/s]\u001b[A\u001b[A"
     ]
    },
    {
     "name": "stdout",
     "output_type": "stream",
     "text": [
      "2_outputs/standard/LocalOutlierFactor/CompGCN/CompGCN_1.pkl exists. Skipping...\n"
     ]
    },
    {
     "name": "stderr",
     "output_type": "stream",
     "text": [
      "\n",
      "\n",
      " 30%|███       | 3/10 [00:00<00:01,  3.74it/s]\u001b[A\u001b[A"
     ]
    },
    {
     "name": "stdout",
     "output_type": "stream",
     "text": [
      "2_outputs/standard/LocalOutlierFactor/CompGCN/CompGCN_2.pkl exists. Skipping...\n"
     ]
    },
    {
     "name": "stderr",
     "output_type": "stream",
     "text": [
      "\n",
      "\n",
      " 40%|████      | 4/10 [00:01<00:02,  2.29it/s]\u001b[A\u001b[A"
     ]
    },
    {
     "name": "stdout",
     "output_type": "stream",
     "text": [
      "2_outputs/standard/LocalOutlierFactor/CompGCN/CompGCN_3.pkl exists. Skipping...\n"
     ]
    },
    {
     "name": "stderr",
     "output_type": "stream",
     "text": [
      "\n",
      "\n",
      " 50%|█████     | 5/10 [00:01<00:01,  2.72it/s]\u001b[A\u001b[A\n",
      "\n",
      " 60%|██████    | 6/10 [00:01<00:01,  3.36it/s]\u001b[A\u001b[A"
     ]
    },
    {
     "name": "stdout",
     "output_type": "stream",
     "text": [
      "2_outputs/standard/LocalOutlierFactor/CompGCN/CompGCN_4.pkl exists. Skipping...\n",
      "2_outputs/standard/LocalOutlierFactor/CompGCN/CompGCN_5.pkl exists. Skipping...\n"
     ]
    },
    {
     "name": "stderr",
     "output_type": "stream",
     "text": [
      "\n",
      "\n",
      " 70%|███████   | 7/10 [00:02<00:00,  3.70it/s]\u001b[A\u001b[A"
     ]
    },
    {
     "name": "stdout",
     "output_type": "stream",
     "text": [
      "2_outputs/standard/LocalOutlierFactor/CompGCN/CompGCN_6.pkl exists. Skipping...\n"
     ]
    },
    {
     "name": "stderr",
     "output_type": "stream",
     "text": [
      "\n",
      "\n",
      " 80%|████████  | 8/10 [00:02<00:00,  3.40it/s]\u001b[A\u001b[A"
     ]
    },
    {
     "name": "stdout",
     "output_type": "stream",
     "text": [
      "2_outputs/standard/LocalOutlierFactor/CompGCN/CompGCN_7.pkl exists. Skipping...\n"
     ]
    },
    {
     "name": "stderr",
     "output_type": "stream",
     "text": [
      "\n",
      "\n",
      " 90%|█████████ | 9/10 [00:02<00:00,  3.41it/s]\u001b[A\u001b[A\n",
      "\n",
      "100%|██████████| 10/10 [00:02<00:00,  3.44it/s]\u001b[A\u001b[A\n",
      "\n",
      "100%|██████████| 3/3 [00:06<00:00,  2.18s/it]"
     ]
    },
    {
     "name": "stdout",
     "output_type": "stream",
     "text": [
      "2_outputs/standard/LocalOutlierFactor/CompGCN/CompGCN_8.pkl exists. Skipping...\n",
      "2_outputs/standard/LocalOutlierFactor/CompGCN/CompGCN_9.pkl exists. Skipping...\n"
     ]
    },
    {
     "name": "stderr",
     "output_type": "stream",
     "text": [
      "100%|██████████| 3/3 [00:06<00:00,  2.00s/it]\n",
      " 25%|██▌       | 1/4 [00:06<00:18,  6.21s/it]\n",
      "  0%|          | 0/3 [00:00<?, ?it/s]\u001b[A\n",
      "\n",
      "  0%|          | 0/10 [00:00<?, ?it/s]\u001b[A\u001b[A\n",
      "\n",
      " 20%|██        | 2/10 [00:00<00:00, 10.54it/s]\u001b[A\u001b[A"
     ]
    },
    {
     "name": "stdout",
     "output_type": "stream",
     "text": [
      "2_outputs/small_DS/LocalOutlierFactor/RotatE/RotatE_0.pkl exists. Skipping...\n",
      "2_outputs/small_DS/LocalOutlierFactor/RotatE/RotatE_1.pkl exists. Skipping...\n",
      "2_outputs/small_DS/LocalOutlierFactor/RotatE/RotatE_2.pkl exists. Skipping...\n"
     ]
    },
    {
     "name": "stderr",
     "output_type": "stream",
     "text": [
      "\n",
      "\n",
      " 40%|████      | 4/10 [00:00<00:00, 11.06it/s]\u001b[A\u001b[A"
     ]
    },
    {
     "name": "stdout",
     "output_type": "stream",
     "text": [
      "2_outputs/small_DS/LocalOutlierFactor/RotatE/RotatE_3.pkl exists. Skipping...\n",
      "2_outputs/small_DS/LocalOutlierFactor/RotatE/RotatE_4.pkl exists. Skipping...\n"
     ]
    },
    {
     "name": "stderr",
     "output_type": "stream",
     "text": [
      "\n",
      "\n",
      " 60%|██████    | 6/10 [00:00<00:00,  9.80it/s]\u001b[A\u001b[A"
     ]
    },
    {
     "name": "stdout",
     "output_type": "stream",
     "text": [
      "2_outputs/small_DS/LocalOutlierFactor/RotatE/RotatE_5.pkl exists. Skipping...\n"
     ]
    },
    {
     "name": "stderr",
     "output_type": "stream",
     "text": [
      "\n",
      "\n",
      " 70%|███████   | 7/10 [00:00<00:00,  9.80it/s]\u001b[A\u001b[A"
     ]
    },
    {
     "name": "stdout",
     "output_type": "stream",
     "text": [
      "2_outputs/small_DS/LocalOutlierFactor/RotatE/RotatE_6.pkl exists. Skipping...\n",
      "2_outputs/small_DS/LocalOutlierFactor/RotatE/RotatE_7.pkl exists. Skipping...\n"
     ]
    },
    {
     "name": "stderr",
     "output_type": "stream",
     "text": [
      "\n",
      "\n",
      "100%|██████████| 10/10 [00:00<00:00, 11.17it/s][A\u001b[A\n",
      "\n",
      " 33%|███▎      | 1/3 [00:00<00:01,  1.06it/s]\u001b[A"
     ]
    },
    {
     "name": "stdout",
     "output_type": "stream",
     "text": [
      "2_outputs/small_DS/LocalOutlierFactor/RotatE/RotatE_8.pkl exists. Skipping...\n",
      "2_outputs/small_DS/LocalOutlierFactor/RotatE/RotatE_9.pkl exists. Skipping...\n"
     ]
    },
    {
     "name": "stderr",
     "output_type": "stream",
     "text": [
      "\n",
      "\n",
      "  0%|          | 0/10 [00:00<?, ?it/s]\u001b[A\u001b[A\n",
      "\n",
      " 10%|█         | 1/10 [00:00<00:01,  8.47it/s]\u001b[A\u001b[A"
     ]
    },
    {
     "name": "stdout",
     "output_type": "stream",
     "text": [
      "2_outputs/small_DS/LocalOutlierFactor/TransE/TransE_0.pkl exists. Skipping...\n"
     ]
    },
    {
     "name": "stderr",
     "output_type": "stream",
     "text": [
      "\n",
      "\n",
      " 20%|██        | 2/10 [00:00<00:00,  8.92it/s]\u001b[A\u001b[A"
     ]
    },
    {
     "name": "stdout",
     "output_type": "stream",
     "text": [
      "2_outputs/small_DS/LocalOutlierFactor/TransE/TransE_1.pkl exists. Skipping...\n"
     ]
    },
    {
     "name": "stderr",
     "output_type": "stream",
     "text": [
      "\n",
      "\n",
      " 30%|███       | 3/10 [00:00<00:01,  6.49it/s]\u001b[A\u001b[A\n",
      "\n",
      " 50%|█████     | 5/10 [00:00<00:00,  8.36it/s]\u001b[A\u001b[A"
     ]
    },
    {
     "name": "stdout",
     "output_type": "stream",
     "text": [
      "2_outputs/small_DS/LocalOutlierFactor/TransE/TransE_2.pkl exists. Skipping...\n",
      "2_outputs/small_DS/LocalOutlierFactor/TransE/TransE_3.pkl exists. Skipping...\n",
      "2_outputs/small_DS/LocalOutlierFactor/TransE/TransE_4.pkl exists. Skipping...\n"
     ]
    },
    {
     "name": "stderr",
     "output_type": "stream",
     "text": [
      "\n",
      "\n",
      " 60%|██████    | 6/10 [00:00<00:00,  6.52it/s]\u001b[A\u001b[A\n",
      "\n",
      " 70%|███████   | 7/10 [00:00<00:00,  7.01it/s]\u001b[A\u001b[A"
     ]
    },
    {
     "name": "stdout",
     "output_type": "stream",
     "text": [
      "2_outputs/small_DS/LocalOutlierFactor/TransE/TransE_5.pkl exists. Skipping...\n",
      "2_outputs/small_DS/LocalOutlierFactor/TransE/TransE_6.pkl exists. Skipping...\n",
      "2_outputs/small_DS/LocalOutlierFactor/TransE/TransE_7.pkl exists. Skipping...\n"
     ]
    },
    {
     "name": "stderr",
     "output_type": "stream",
     "text": [
      "\n",
      "\n",
      " 90%|█████████ | 9/10 [00:01<00:00,  5.40it/s]\u001b[A\u001b[A\n",
      "\n",
      "100%|██████████| 10/10 [00:01<00:00,  6.35it/s]\u001b[A\u001b[A\n",
      "\n",
      " 67%|██████▋   | 2/3 [00:02<00:01,  1.32s/it]\u001b[A"
     ]
    },
    {
     "name": "stdout",
     "output_type": "stream",
     "text": [
      "2_outputs/small_DS/LocalOutlierFactor/TransE/TransE_8.pkl exists. Skipping...\n",
      "2_outputs/small_DS/LocalOutlierFactor/TransE/TransE_9.pkl exists. Skipping...\n"
     ]
    },
    {
     "name": "stderr",
     "output_type": "stream",
     "text": [
      "\n",
      "\n",
      "  0%|          | 0/10 [00:00<?, ?it/s]\u001b[A\u001b[A\n",
      "\n",
      " 10%|█         | 1/10 [00:00<00:01,  6.04it/s]\u001b[A\u001b[A"
     ]
    },
    {
     "name": "stdout",
     "output_type": "stream",
     "text": [
      "2_outputs/small_DS/LocalOutlierFactor/CompGCN/CompGCN_0.pkl exists. Skipping...\n"
     ]
    },
    {
     "name": "stderr",
     "output_type": "stream",
     "text": [
      "\n",
      "\n",
      " 20%|██        | 2/10 [00:00<00:02,  3.60it/s]\u001b[A\u001b[A"
     ]
    },
    {
     "name": "stdout",
     "output_type": "stream",
     "text": [
      "2_outputs/small_DS/LocalOutlierFactor/CompGCN/CompGCN_1.pkl exists. Skipping...\n"
     ]
    },
    {
     "name": "stderr",
     "output_type": "stream",
     "text": [
      "\n",
      "\n",
      " 30%|███       | 3/10 [00:01<00:02,  2.70it/s]\u001b[A\u001b[A"
     ]
    },
    {
     "name": "stdout",
     "output_type": "stream",
     "text": [
      "2_outputs/small_DS/LocalOutlierFactor/CompGCN/CompGCN_2.pkl exists. Skipping...\n"
     ]
    },
    {
     "name": "stderr",
     "output_type": "stream",
     "text": [
      "\n",
      "\n",
      " 40%|████      | 4/10 [00:01<00:01,  3.19it/s]\u001b[A\u001b[A\n",
      "\n",
      " 50%|█████     | 5/10 [00:01<00:01,  3.86it/s]\u001b[A\u001b[A"
     ]
    },
    {
     "name": "stdout",
     "output_type": "stream",
     "text": [
      "2_outputs/small_DS/LocalOutlierFactor/CompGCN/CompGCN_3.pkl exists. Skipping...\n",
      "2_outputs/small_DS/LocalOutlierFactor/CompGCN/CompGCN_4.pkl exists. Skipping...\n"
     ]
    },
    {
     "name": "stderr",
     "output_type": "stream",
     "text": [
      "\n",
      "\n",
      " 60%|██████    | 6/10 [00:01<00:00,  4.68it/s]\u001b[A\u001b[A\n",
      "\n",
      " 70%|███████   | 7/10 [00:01<00:00,  5.36it/s]\u001b[A\u001b[A"
     ]
    },
    {
     "name": "stdout",
     "output_type": "stream",
     "text": [
      "2_outputs/small_DS/LocalOutlierFactor/CompGCN/CompGCN_5.pkl exists. Skipping...\n",
      "2_outputs/small_DS/LocalOutlierFactor/CompGCN/CompGCN_6.pkl exists. Skipping...\n"
     ]
    },
    {
     "name": "stderr",
     "output_type": "stream",
     "text": [
      "\n",
      "\n",
      " 80%|████████  | 8/10 [00:01<00:00,  5.78it/s]\u001b[A\u001b[A\n",
      "\n",
      "100%|██████████| 10/10 [00:01<00:00,  5.03it/s]\u001b[A\u001b[A\n",
      "\n",
      "100%|██████████| 3/3 [00:04<00:00,  1.52s/it]\u001b[A\n",
      " 50%|█████     | 2/4 [00:10<00:10,  5.33s/it]"
     ]
    },
    {
     "name": "stdout",
     "output_type": "stream",
     "text": [
      "2_outputs/small_DS/LocalOutlierFactor/CompGCN/CompGCN_7.pkl exists. Skipping...\n",
      "2_outputs/small_DS/LocalOutlierFactor/CompGCN/CompGCN_8.pkl exists. Skipping...\n",
      "2_outputs/small_DS/LocalOutlierFactor/CompGCN/CompGCN_9.pkl exists. Skipping...\n"
     ]
    },
    {
     "name": "stderr",
     "output_type": "stream",
     "text": [
      "\n",
      "  0%|          | 0/3 [00:00<?, ?it/s]\u001b[A\n",
      "\n",
      "  0%|          | 0/10 [00:00<?, ?it/s]\u001b[A\u001b[A\n",
      "\n",
      " 10%|█         | 1/10 [00:00<00:02,  4.27it/s]\u001b[A\u001b[A"
     ]
    },
    {
     "name": "stdout",
     "output_type": "stream",
     "text": [
      "2_outputs/large/LocalOutlierFactor/RotatE/RotatE_0.pkl exists. Skipping...\n"
     ]
    },
    {
     "name": "stderr",
     "output_type": "stream",
     "text": [
      "\n",
      "\n",
      " 20%|██        | 2/10 [00:00<00:02,  3.28it/s]\u001b[A\u001b[A\n",
      "\n",
      " 30%|███       | 3/10 [00:00<00:01,  4.02it/s]\u001b[A\u001b[A"
     ]
    },
    {
     "name": "stdout",
     "output_type": "stream",
     "text": [
      "2_outputs/large/LocalOutlierFactor/RotatE/RotatE_1.pkl exists. Skipping...\n",
      "2_outputs/large/LocalOutlierFactor/RotatE/RotatE_2.pkl exists. Skipping...\n"
     ]
    },
    {
     "name": "stderr",
     "output_type": "stream",
     "text": [
      "\n",
      "\n",
      " 40%|████      | 4/10 [00:00<00:01,  4.28it/s]\u001b[A\u001b[A\n",
      "\n",
      " 50%|█████     | 5/10 [00:01<00:01,  4.61it/s]\u001b[A\u001b[A"
     ]
    },
    {
     "name": "stdout",
     "output_type": "stream",
     "text": [
      "2_outputs/large/LocalOutlierFactor/RotatE/RotatE_3.pkl exists. Skipping...\n",
      "2_outputs/large/LocalOutlierFactor/RotatE/RotatE_4.pkl exists. Skipping...\n"
     ]
    },
    {
     "name": "stderr",
     "output_type": "stream",
     "text": [
      "\n",
      "\n",
      " 70%|███████   | 7/10 [00:01<00:00,  7.23it/s]\u001b[A\u001b[A"
     ]
    },
    {
     "name": "stdout",
     "output_type": "stream",
     "text": [
      "2_outputs/large/LocalOutlierFactor/RotatE/RotatE_5.pkl exists. Skipping...\n",
      "2_outputs/large/LocalOutlierFactor/RotatE/RotatE_6.pkl exists. Skipping...\n"
     ]
    },
    {
     "name": "stderr",
     "output_type": "stream",
     "text": [
      "\n",
      "\n",
      " 80%|████████  | 8/10 [00:01<00:00,  6.34it/s]\u001b[A\u001b[A\n",
      "\n",
      " 90%|█████████ | 9/10 [00:01<00:00,  6.44it/s]\u001b[A\u001b[A"
     ]
    },
    {
     "name": "stdout",
     "output_type": "stream",
     "text": [
      "2_outputs/large/LocalOutlierFactor/RotatE/RotatE_7.pkl exists. Skipping...\n",
      "2_outputs/large/LocalOutlierFactor/RotatE/RotatE_8.pkl exists. Skipping...\n"
     ]
    },
    {
     "name": "stderr",
     "output_type": "stream",
     "text": [
      "\n",
      "\n",
      "100%|██████████| 10/10 [00:01<00:00,  5.55it/s]\u001b[A\u001b[A\n",
      "\n",
      " 33%|███▎      | 1/3 [00:01<00:03,  1.93s/it]\u001b[A"
     ]
    },
    {
     "name": "stdout",
     "output_type": "stream",
     "text": [
      "2_outputs/large/LocalOutlierFactor/RotatE/RotatE_9.pkl exists. Skipping...\n"
     ]
    },
    {
     "name": "stderr",
     "output_type": "stream",
     "text": [
      "\n",
      "\n",
      "  0%|          | 0/10 [00:00<?, ?it/s]\u001b[A\u001b[A\n",
      "\n",
      " 10%|█         | 1/10 [00:03<00:31,  3.46s/it]\u001b[A\u001b[A"
     ]
    },
    {
     "name": "stdout",
     "output_type": "stream",
     "text": [
      "2_outputs/large/LocalOutlierFactor/TransE/TransE_0.pkl exists. Skipping...\n"
     ]
    },
    {
     "name": "stderr",
     "output_type": "stream",
     "text": [
      "\n",
      "\n",
      " 20%|██        | 2/10 [00:04<00:16,  2.12s/it]\u001b[A\u001b[A"
     ]
    },
    {
     "name": "stdout",
     "output_type": "stream",
     "text": [
      "2_outputs/large/LocalOutlierFactor/TransE/TransE_1.pkl exists. Skipping...\n"
     ]
    },
    {
     "name": "stderr",
     "output_type": "stream",
     "text": [
      "\n",
      "\n",
      " 30%|███       | 3/10 [00:04<00:09,  1.29s/it]\u001b[A\u001b[A\n",
      "\n",
      " 40%|████      | 4/10 [00:05<00:05,  1.17it/s]\u001b[A\u001b[A"
     ]
    },
    {
     "name": "stdout",
     "output_type": "stream",
     "text": [
      "2_outputs/large/LocalOutlierFactor/TransE/TransE_2.pkl exists. Skipping...\n",
      "2_outputs/large/LocalOutlierFactor/TransE/TransE_3.pkl exists. Skipping...\n"
     ]
    },
    {
     "name": "stderr",
     "output_type": "stream",
     "text": [
      "\n",
      "\n",
      " 60%|██████    | 6/10 [00:05<00:01,  2.11it/s]\u001b[A\u001b[A"
     ]
    },
    {
     "name": "stdout",
     "output_type": "stream",
     "text": [
      "2_outputs/large/LocalOutlierFactor/TransE/TransE_4.pkl exists. Skipping...\n",
      "2_outputs/large/LocalOutlierFactor/TransE/TransE_5.pkl exists. Skipping...\n"
     ]
    },
    {
     "name": "stderr",
     "output_type": "stream",
     "text": [
      "\n",
      "\n",
      " 70%|███████   | 7/10 [00:05<00:01,  2.06it/s]\u001b[A\u001b[A"
     ]
    },
    {
     "name": "stdout",
     "output_type": "stream",
     "text": [
      "2_outputs/large/LocalOutlierFactor/TransE/TransE_6.pkl exists. Skipping...\n"
     ]
    },
    {
     "name": "stderr",
     "output_type": "stream",
     "text": [
      "\n",
      "\n",
      " 80%|████████  | 8/10 [00:06<00:00,  2.38it/s]\u001b[A\u001b[A\n",
      "\n",
      " 90%|█████████ | 9/10 [00:06<00:00,  2.84it/s]\u001b[A\u001b[A"
     ]
    },
    {
     "name": "stdout",
     "output_type": "stream",
     "text": [
      "2_outputs/large/LocalOutlierFactor/TransE/TransE_7.pkl exists. Skipping...\n",
      "2_outputs/large/LocalOutlierFactor/TransE/TransE_8.pkl exists. Skipping...\n"
     ]
    },
    {
     "name": "stderr",
     "output_type": "stream",
     "text": [
      "\n",
      "\n",
      "100%|██████████| 10/10 [00:06<00:00,  1.50it/s]\u001b[A\u001b[A\n",
      "\n",
      " 67%|██████▋   | 2/3 [00:08<00:04,  4.73s/it]\u001b[A"
     ]
    },
    {
     "name": "stdout",
     "output_type": "stream",
     "text": [
      "2_outputs/large/LocalOutlierFactor/TransE/TransE_9.pkl exists. Skipping...\n"
     ]
    },
    {
     "name": "stderr",
     "output_type": "stream",
     "text": [
      "\n",
      "\n",
      "  0%|          | 0/10 [00:00<?, ?it/s]\u001b[A\u001b[A\n",
      "\n",
      " 10%|█         | 1/10 [00:00<00:02,  3.83it/s]\u001b[A\u001b[A"
     ]
    },
    {
     "name": "stdout",
     "output_type": "stream",
     "text": [
      "2_outputs/large/LocalOutlierFactor/CompGCN/CompGCN_0.pkl exists. Skipping...\n"
     ]
    },
    {
     "name": "stderr",
     "output_type": "stream",
     "text": [
      "\n",
      "\n",
      " 20%|██        | 2/10 [00:00<00:02,  3.54it/s]\u001b[A\u001b[A"
     ]
    },
    {
     "name": "stdout",
     "output_type": "stream",
     "text": [
      "2_outputs/large/LocalOutlierFactor/CompGCN/CompGCN_1.pkl exists. Skipping...\n"
     ]
    },
    {
     "name": "stderr",
     "output_type": "stream",
     "text": [
      "\n",
      "\n",
      " 30%|███       | 3/10 [00:00<00:02,  2.97it/s]\u001b[A\u001b[A"
     ]
    },
    {
     "name": "stdout",
     "output_type": "stream",
     "text": [
      "2_outputs/large/LocalOutlierFactor/CompGCN/CompGCN_2.pkl exists. Skipping...\n"
     ]
    },
    {
     "name": "stderr",
     "output_type": "stream",
     "text": [
      "\n",
      "\n",
      " 40%|████      | 4/10 [00:01<00:01,  3.17it/s]\u001b[A\u001b[A"
     ]
    },
    {
     "name": "stdout",
     "output_type": "stream",
     "text": [
      "2_outputs/large/LocalOutlierFactor/CompGCN/CompGCN_3.pkl exists. Skipping...\n"
     ]
    },
    {
     "name": "stderr",
     "output_type": "stream",
     "text": [
      "\n",
      "\n",
      " 50%|█████     | 5/10 [00:01<00:01,  3.37it/s]\u001b[A\u001b[A"
     ]
    },
    {
     "name": "stdout",
     "output_type": "stream",
     "text": [
      "2_outputs/large/LocalOutlierFactor/CompGCN/CompGCN_4.pkl exists. Skipping...\n"
     ]
    },
    {
     "name": "stderr",
     "output_type": "stream",
     "text": [
      "\n",
      "\n",
      " 60%|██████    | 6/10 [00:02<00:02,  1.75it/s]\u001b[A\u001b[A"
     ]
    },
    {
     "name": "stdout",
     "output_type": "stream",
     "text": [
      "2_outputs/large/LocalOutlierFactor/CompGCN/CompGCN_5.pkl exists. Skipping...\n"
     ]
    },
    {
     "name": "stderr",
     "output_type": "stream",
     "text": [
      "\n",
      "\n",
      " 70%|███████   | 7/10 [00:03<00:01,  1.73it/s]\u001b[A\u001b[A"
     ]
    },
    {
     "name": "stdout",
     "output_type": "stream",
     "text": [
      "2_outputs/large/LocalOutlierFactor/CompGCN/CompGCN_6.pkl exists. Skipping...\n"
     ]
    },
    {
     "name": "stderr",
     "output_type": "stream",
     "text": [
      "\n",
      "\n",
      " 80%|████████  | 8/10 [00:03<00:00,  2.13it/s]\u001b[A\u001b[A\n",
      "\n",
      " 90%|█████████ | 9/10 [00:03<00:00,  2.74it/s]\u001b[A\u001b[A"
     ]
    },
    {
     "name": "stdout",
     "output_type": "stream",
     "text": [
      "2_outputs/large/LocalOutlierFactor/CompGCN/CompGCN_7.pkl exists. Skipping...\n",
      "2_outputs/large/LocalOutlierFactor/CompGCN/CompGCN_8.pkl exists. Skipping...\n"
     ]
    },
    {
     "name": "stderr",
     "output_type": "stream",
     "text": [
      "\n",
      "\n",
      "100%|██████████| 10/10 [00:03<00:00,  2.59it/s]\u001b[A\u001b[A\n",
      "\n",
      "100%|██████████| 3/3 [00:12<00:00,  4.17s/it]\u001b[A\n",
      " 75%|███████▌  | 3/4 [00:23<00:08,  8.69s/it]"
     ]
    },
    {
     "name": "stdout",
     "output_type": "stream",
     "text": [
      "2_outputs/large/LocalOutlierFactor/CompGCN/CompGCN_9.pkl exists. Skipping...\n"
     ]
    },
    {
     "name": "stderr",
     "output_type": "stream",
     "text": [
      "\n",
      "  0%|          | 0/3 [00:00<?, ?it/s]\u001b[A\n",
      "\n",
      "  0%|          | 0/10 [00:00<?, ?it/s]\u001b[A\u001b[A\n",
      "\n",
      " 10%|█         | 1/10 [00:00<00:01,  7.34it/s]\u001b[A\u001b[A\n",
      "\n",
      " 30%|███       | 3/10 [00:00<00:00, 11.57it/s]\u001b[A\u001b[A"
     ]
    },
    {
     "name": "stdout",
     "output_type": "stream",
     "text": [
      "2_outputs/large_small_DS/LocalOutlierFactor/RotatE/RotatE_0.pkl exists. Skipping...\n",
      "2_outputs/large_small_DS/LocalOutlierFactor/RotatE/RotatE_1.pkl exists. Skipping...\n",
      "2_outputs/large_small_DS/LocalOutlierFactor/RotatE/RotatE_2.pkl exists. Skipping...\n"
     ]
    },
    {
     "name": "stderr",
     "output_type": "stream",
     "text": [
      "\n",
      "\n",
      " 50%|█████     | 5/10 [00:00<00:00, 11.76it/s]\u001b[A\u001b[A"
     ]
    },
    {
     "name": "stdout",
     "output_type": "stream",
     "text": [
      "2_outputs/large_small_DS/LocalOutlierFactor/RotatE/RotatE_3.pkl exists. Skipping...\n",
      "2_outputs/large_small_DS/LocalOutlierFactor/RotatE/RotatE_4.pkl exists. Skipping...\n",
      "2_outputs/large_small_DS/LocalOutlierFactor/RotatE/RotatE_5.pkl exists. Skipping...\n"
     ]
    },
    {
     "name": "stderr",
     "output_type": "stream",
     "text": [
      "\n",
      "\n",
      " 70%|███████   | 7/10 [00:00<00:00, 10.69it/s]\u001b[A\u001b[A"
     ]
    },
    {
     "name": "stdout",
     "output_type": "stream",
     "text": [
      "2_outputs/large_small_DS/LocalOutlierFactor/RotatE/RotatE_6.pkl exists. Skipping...\n",
      "2_outputs/large_small_DS/LocalOutlierFactor/RotatE/RotatE_7.pkl exists. Skipping...\n"
     ]
    },
    {
     "name": "stderr",
     "output_type": "stream",
     "text": [
      "\n",
      "\n",
      "100%|██████████| 10/10 [00:00<00:00, 10.27it/s][A\u001b[A\n",
      "\n",
      " 33%|███▎      | 1/3 [00:01<00:02,  1.04s/it]\u001b[A"
     ]
    },
    {
     "name": "stdout",
     "output_type": "stream",
     "text": [
      "2_outputs/large_small_DS/LocalOutlierFactor/RotatE/RotatE_8.pkl exists. Skipping...\n",
      "2_outputs/large_small_DS/LocalOutlierFactor/RotatE/RotatE_9.pkl exists. Skipping...\n"
     ]
    },
    {
     "name": "stderr",
     "output_type": "stream",
     "text": [
      "\n",
      "\n",
      "  0%|          | 0/10 [00:00<?, ?it/s]\u001b[A\u001b[A\n",
      "\n",
      " 10%|█         | 1/10 [00:00<00:01,  4.77it/s]\u001b[A\u001b[A\n",
      "\n",
      " 20%|██        | 2/10 [00:00<00:01,  6.46it/s]\u001b[A\u001b[A"
     ]
    },
    {
     "name": "stdout",
     "output_type": "stream",
     "text": [
      "2_outputs/large_small_DS/LocalOutlierFactor/TransE/TransE_0.pkl exists. Skipping...\n",
      "2_outputs/large_small_DS/LocalOutlierFactor/TransE/TransE_1.pkl exists. Skipping...\n"
     ]
    },
    {
     "name": "stderr",
     "output_type": "stream",
     "text": [
      "\n",
      "\n",
      " 30%|███       | 3/10 [00:00<00:01,  6.95it/s]\u001b[A\u001b[A"
     ]
    },
    {
     "name": "stdout",
     "output_type": "stream",
     "text": [
      "2_outputs/large_small_DS/LocalOutlierFactor/TransE/TransE_2.pkl exists. Skipping...\n",
      "2_outputs/large_small_DS/LocalOutlierFactor/TransE/TransE_3.pkl exists. Skipping...\n"
     ]
    },
    {
     "name": "stderr",
     "output_type": "stream",
     "text": [
      "\n",
      "\n",
      " 50%|█████     | 5/10 [00:00<00:00,  6.19it/s]\u001b[A\u001b[A\n",
      "\n",
      " 60%|██████    | 6/10 [00:00<00:00,  6.38it/s]\u001b[A\u001b[A"
     ]
    },
    {
     "name": "stdout",
     "output_type": "stream",
     "text": [
      "2_outputs/large_small_DS/LocalOutlierFactor/TransE/TransE_4.pkl exists. Skipping...\n",
      "2_outputs/large_small_DS/LocalOutlierFactor/TransE/TransE_5.pkl exists. Skipping...\n"
     ]
    },
    {
     "name": "stderr",
     "output_type": "stream",
     "text": [
      "\n",
      "\n",
      " 70%|███████   | 7/10 [00:01<00:00,  6.76it/s]\u001b[A\u001b[A\n",
      "\n",
      " 80%|████████  | 8/10 [00:01<00:00,  6.93it/s]\u001b[A\u001b[A"
     ]
    },
    {
     "name": "stdout",
     "output_type": "stream",
     "text": [
      "2_outputs/large_small_DS/LocalOutlierFactor/TransE/TransE_6.pkl exists. Skipping...\n",
      "2_outputs/large_small_DS/LocalOutlierFactor/TransE/TransE_7.pkl exists. Skipping...\n"
     ]
    },
    {
     "name": "stderr",
     "output_type": "stream",
     "text": [
      "\n",
      "\n",
      " 90%|█████████ | 9/10 [00:01<00:00,  5.62it/s]\u001b[A\u001b[A\n",
      "\n",
      "100%|██████████| 10/10 [00:01<00:00,  6.10it/s]\u001b[A\u001b[A\n",
      "\n",
      " 67%|██████▋   | 2/3 [00:02<00:01,  1.41s/it]\u001b[A"
     ]
    },
    {
     "name": "stdout",
     "output_type": "stream",
     "text": [
      "2_outputs/large_small_DS/LocalOutlierFactor/TransE/TransE_8.pkl exists. Skipping...\n",
      "2_outputs/large_small_DS/LocalOutlierFactor/TransE/TransE_9.pkl exists. Skipping...\n"
     ]
    },
    {
     "name": "stderr",
     "output_type": "stream",
     "text": [
      "\n",
      "\n",
      "  0%|          | 0/10 [00:00<?, ?it/s]\u001b[A\u001b[A\n",
      "\n",
      " 10%|█         | 1/10 [00:00<00:02,  4.33it/s]\u001b[A\u001b[A"
     ]
    },
    {
     "name": "stdout",
     "output_type": "stream",
     "text": [
      "2_outputs/large_small_DS/LocalOutlierFactor/CompGCN/CompGCN_0.pkl exists. Skipping...\n"
     ]
    },
    {
     "name": "stderr",
     "output_type": "stream",
     "text": [
      "\n",
      "\n",
      " 20%|██        | 2/10 [00:00<00:01,  4.12it/s]\u001b[A\u001b[A"
     ]
    },
    {
     "name": "stdout",
     "output_type": "stream",
     "text": [
      "2_outputs/large_small_DS/LocalOutlierFactor/CompGCN/CompGCN_1.pkl exists. Skipping...\n"
     ]
    },
    {
     "name": "stderr",
     "output_type": "stream",
     "text": [
      "\n",
      "\n",
      " 30%|███       | 3/10 [00:00<00:01,  4.45it/s]\u001b[A\u001b[A\n",
      "\n",
      " 40%|████      | 4/10 [00:00<00:01,  5.48it/s]\u001b[A\u001b[A"
     ]
    },
    {
     "name": "stdout",
     "output_type": "stream",
     "text": [
      "2_outputs/large_small_DS/LocalOutlierFactor/CompGCN/CompGCN_2.pkl exists. Skipping...\n",
      "2_outputs/large_small_DS/LocalOutlierFactor/CompGCN/CompGCN_3.pkl exists. Skipping...\n"
     ]
    },
    {
     "name": "stderr",
     "output_type": "stream",
     "text": [
      "\n",
      "\n",
      " 50%|█████     | 5/10 [00:00<00:00,  6.44it/s]\u001b[A\u001b[A"
     ]
    },
    {
     "name": "stdout",
     "output_type": "stream",
     "text": [
      "2_outputs/large_small_DS/LocalOutlierFactor/CompGCN/CompGCN_4.pkl exists. Skipping...\n",
      "2_outputs/large_small_DS/LocalOutlierFactor/CompGCN/CompGCN_5.pkl exists. Skipping...\n"
     ]
    },
    {
     "name": "stderr",
     "output_type": "stream",
     "text": [
      "\n",
      "\n",
      " 70%|███████   | 7/10 [00:01<00:00,  7.29it/s]\u001b[A\u001b[A"
     ]
    },
    {
     "name": "stdout",
     "output_type": "stream",
     "text": [
      "2_outputs/large_small_DS/LocalOutlierFactor/CompGCN/CompGCN_6.pkl exists. Skipping...\n"
     ]
    },
    {
     "name": "stderr",
     "output_type": "stream",
     "text": [
      "\n",
      "\n",
      " 80%|████████  | 8/10 [00:01<00:00,  5.92it/s]\u001b[A\u001b[A\n",
      "\n",
      " 90%|█████████ | 9/10 [00:01<00:00,  6.67it/s]\u001b[A\u001b[A"
     ]
    },
    {
     "name": "stdout",
     "output_type": "stream",
     "text": [
      "2_outputs/large_small_DS/LocalOutlierFactor/CompGCN/CompGCN_7.pkl exists. Skipping...\n",
      "2_outputs/large_small_DS/LocalOutlierFactor/CompGCN/CompGCN_8.pkl exists. Skipping...\n"
     ]
    },
    {
     "name": "stderr",
     "output_type": "stream",
     "text": [
      "\n",
      "\n",
      "100%|██████████| 10/10 [00:01<00:00,  6.10it/s]\u001b[A\u001b[A\n",
      "\n",
      "100%|██████████| 3/3 [00:04<00:00,  1.46s/it]\u001b[A\n",
      "100%|██████████| 4/4 [00:28<00:00,  7.03s/it]"
     ]
    },
    {
     "name": "stdout",
     "output_type": "stream",
     "text": [
      "2_outputs/large_small_DS/LocalOutlierFactor/CompGCN/CompGCN_9.pkl exists. Skipping...\n"
     ]
    },
    {
     "name": "stderr",
     "output_type": "stream",
     "text": [
      "\n"
     ]
    }
   ],
   "source": [
    "N_JOBS = 20\n",
    "CV = 5\n",
    "rerun = False\n",
    "\n",
    "for input_dir, output_dir in tqdm(zip(input_dirs, output_dirs), total=len(input_dirs)):\n",
    "    train(\n",
    "        input_dir=input_dir,\n",
    "        output_dir=output_dir,\n",
    "        model_names=MODEL_NAMES,\n",
    "        cv=CV,\n",
    "        n_jobs=N_JOBS,\n",
    "        pul_cfg=pul_cfg,\n",
    "        rerun=rerun,\n",
    "    )"
   ]
  },
  {
   "cell_type": "markdown",
   "id": "9e41f459-c208-4cfb-9ea6-bd7547aa6343",
   "metadata": {},
   "source": [
    "## Evaluation"
   ]
  },
  {
   "cell_type": "code",
   "execution_count": 6,
   "id": "89951ebd-8ffa-4f38-800e-0681a7558fd2",
   "metadata": {},
   "outputs": [],
   "source": [
    "grid_searches_list = [\n",
    "    load_grid_searches(output_dir=o, model_names=MODEL_NAMES) for o in output_dirs\n",
    "]"
   ]
  },
  {
   "cell_type": "code",
   "execution_count": 7,
   "id": "9a78ec72-80f8-4a6e-b4ed-0474171ae40a",
   "metadata": {},
   "outputs": [],
   "source": [
    "score_dfs = [\n",
    "    score_df_from_grid_searches(gs, i) for gs, i in zip(grid_searches_list, input_dirs)\n",
    "]\n",
    "for output_dir, score_df in zip(output_dirs, score_dfs):\n",
    "    score_df.to_csv(output_dir / \"score_df.csv\")"
   ]
  },
  {
   "cell_type": "code",
   "execution_count": 8,
   "id": "72fc17ed-9cc9-4019-88ed-4c1d3df5e4b2",
   "metadata": {},
   "outputs": [
    {
     "name": "stderr",
     "output_type": "stream",
     "text": [
      "/tmp/ipykernel_3533371/1470429527.py:1: FutureWarning: The default value of numeric_only in DataFrameGroupBy.mean is deprecated. In a future version, numeric_only will default to False. Either specify numeric_only or select only columns which should be valid for the function.\n",
      "  score_dfs[0].groupby('model_name').mean()\n"
     ]
    },
    {
     "data": {
      "text/html": [
       "<div>\n",
       "<style scoped>\n",
       "    .dataframe tbody tr th:only-of-type {\n",
       "        vertical-align: middle;\n",
       "    }\n",
       "\n",
       "    .dataframe tbody tr th {\n",
       "        vertical-align: top;\n",
       "    }\n",
       "\n",
       "    .dataframe thead th {\n",
       "        text-align: right;\n",
       "    }\n",
       "</style>\n",
       "<table border=\"1\" class=\"dataframe\">\n",
       "  <thead>\n",
       "    <tr style=\"text-align: right;\">\n",
       "      <th></th>\n",
       "      <th>score10_val</th>\n",
       "      <th>score100_val</th>\n",
       "      <th>score10_test</th>\n",
       "      <th>score100_test</th>\n",
       "      <th>score10_all</th>\n",
       "      <th>score100_all</th>\n",
       "      <th>mr_all</th>\n",
       "      <th>mrr_all</th>\n",
       "      <th>amri_all</th>\n",
       "      <th>mr_test</th>\n",
       "      <th>mrr_test</th>\n",
       "      <th>amri_test</th>\n",
       "      <th>tp_test</th>\n",
       "      <th>fp_test</th>\n",
       "      <th>fn_test</th>\n",
       "      <th>tn_test</th>\n",
       "      <th>tp_all</th>\n",
       "      <th>fp_all</th>\n",
       "      <th>fn_all</th>\n",
       "      <th>tn_all</th>\n",
       "    </tr>\n",
       "    <tr>\n",
       "      <th>model_name</th>\n",
       "      <th></th>\n",
       "      <th></th>\n",
       "      <th></th>\n",
       "      <th></th>\n",
       "      <th></th>\n",
       "      <th></th>\n",
       "      <th></th>\n",
       "      <th></th>\n",
       "      <th></th>\n",
       "      <th></th>\n",
       "      <th></th>\n",
       "      <th></th>\n",
       "      <th></th>\n",
       "      <th></th>\n",
       "      <th></th>\n",
       "      <th></th>\n",
       "      <th></th>\n",
       "      <th></th>\n",
       "      <th></th>\n",
       "      <th></th>\n",
       "    </tr>\n",
       "  </thead>\n",
       "  <tbody>\n",
       "    <tr>\n",
       "      <th>CompGCN</th>\n",
       "      <td>0.5</td>\n",
       "      <td>3.6</td>\n",
       "      <td>0.1</td>\n",
       "      <td>2.3</td>\n",
       "      <td>0.9</td>\n",
       "      <td>6.4</td>\n",
       "      <td>8108.477544</td>\n",
       "      <td>0.001208</td>\n",
       "      <td>0.153001</td>\n",
       "      <td>1981.7880</td>\n",
       "      <td>0.001476</td>\n",
       "      <td>-0.038421</td>\n",
       "      <td>2588.6</td>\n",
       "      <td>1102.4</td>\n",
       "      <td>90.4</td>\n",
       "      <td>34.6</td>\n",
       "      <td>12539.6</td>\n",
       "      <td>5986.4</td>\n",
       "      <td>323.0</td>\n",
       "      <td>296.0</td>\n",
       "    </tr>\n",
       "    <tr>\n",
       "      <th>RotatE</th>\n",
       "      <td>0.9</td>\n",
       "      <td>3.9</td>\n",
       "      <td>0.9</td>\n",
       "      <td>4.2</td>\n",
       "      <td>0.8</td>\n",
       "      <td>6.7</td>\n",
       "      <td>11584.699515</td>\n",
       "      <td>0.000898</td>\n",
       "      <td>-0.210165</td>\n",
       "      <td>2206.9328</td>\n",
       "      <td>0.004020</td>\n",
       "      <td>-0.156452</td>\n",
       "      <td>2619.6</td>\n",
       "      <td>1071.4</td>\n",
       "      <td>96.7</td>\n",
       "      <td>28.3</td>\n",
       "      <td>11574.1</td>\n",
       "      <td>6951.9</td>\n",
       "      <td>436.5</td>\n",
       "      <td>182.5</td>\n",
       "    </tr>\n",
       "    <tr>\n",
       "      <th>TransE</th>\n",
       "      <td>0.7</td>\n",
       "      <td>3.3</td>\n",
       "      <td>0.4</td>\n",
       "      <td>3.7</td>\n",
       "      <td>1.4</td>\n",
       "      <td>8.8</td>\n",
       "      <td>11137.486753</td>\n",
       "      <td>0.001213</td>\n",
       "      <td>-0.163444</td>\n",
       "      <td>2219.2112</td>\n",
       "      <td>0.002070</td>\n",
       "      <td>-0.162889</td>\n",
       "      <td>2569.4</td>\n",
       "      <td>1121.6</td>\n",
       "      <td>94.9</td>\n",
       "      <td>30.1</td>\n",
       "      <td>11179.3</td>\n",
       "      <td>7346.7</td>\n",
       "      <td>409.0</td>\n",
       "      <td>210.0</td>\n",
       "    </tr>\n",
       "  </tbody>\n",
       "</table>\n",
       "</div>"
      ],
      "text/plain": [
       "            score10_val  score100_val  score10_test  score100_test  \\\n",
       "model_name                                                           \n",
       "CompGCN             0.5           3.6           0.1            2.3   \n",
       "RotatE              0.9           3.9           0.9            4.2   \n",
       "TransE              0.7           3.3           0.4            3.7   \n",
       "\n",
       "            score10_all  score100_all        mr_all   mrr_all  amri_all  \\\n",
       "model_name                                                                \n",
       "CompGCN             0.9           6.4   8108.477544  0.001208  0.153001   \n",
       "RotatE              0.8           6.7  11584.699515  0.000898 -0.210165   \n",
       "TransE              1.4           8.8  11137.486753  0.001213 -0.163444   \n",
       "\n",
       "              mr_test  mrr_test  amri_test  tp_test  fp_test  fn_test  \\\n",
       "model_name                                                              \n",
       "CompGCN     1981.7880  0.001476  -0.038421   2588.6   1102.4     90.4   \n",
       "RotatE      2206.9328  0.004020  -0.156452   2619.6   1071.4     96.7   \n",
       "TransE      2219.2112  0.002070  -0.162889   2569.4   1121.6     94.9   \n",
       "\n",
       "            tn_test   tp_all  fp_all  fn_all  tn_all  \n",
       "model_name                                            \n",
       "CompGCN        34.6  12539.6  5986.4   323.0   296.0  \n",
       "RotatE         28.3  11574.1  6951.9   436.5   182.5  \n",
       "TransE         30.1  11179.3  7346.7   409.0   210.0  "
      ]
     },
     "execution_count": 8,
     "metadata": {},
     "output_type": "execute_result"
    }
   ],
   "source": [
    "score_dfs[0].groupby(\"model_name\").mean()"
   ]
  },
  {
   "cell_type": "code",
   "execution_count": 9,
   "id": "34d93785-b64c-4ee4-bbf2-ee1ad76f3eb3",
   "metadata": {},
   "outputs": [
    {
     "data": {
      "text/plain": [
       "Text(0, 0.5, 'score')"
      ]
     },
     "execution_count": 9,
     "metadata": {},
     "output_type": "execute_result"
    },
    {
     "data": {
      "image/png": "[encoded data removed]",
      "text/plain": [
       "<Figure size 640x480 with 1 Axes>"
      ]
     },
     "metadata": {},
     "output_type": "display_data"
    }
   ],
   "source": [
    "import seaborn as sns\n",
    "\n",
    "sns.boxplot(score_dfs[0], x=\"model_name\", y=\"score10_test\").set(\n",
    "    title=\"Hits@100 and hits@10\\n(large positive set)\"\n",
    ")\n",
    "sns.boxplot(score_dfs[0], x=\"model_name\", y=\"score100_test\").set_ylabel(\"score\")"
   ]
  },
  {
   "cell_type": "code",
   "execution_count": 10,
   "id": "09ba3e17-9ce9-4e0e-9a86-40fccc97591b",
   "metadata": {},
   "outputs": [
    {
     "data": {
      "text/plain": [
       "Text(0, 0.5, 'score')"
      ]
     },
     "execution_count": 10,
     "metadata": {},
     "output_type": "execute_result"
    },
    {
     "data": {
      "image/png": "[encoded data removed]",
      "text/plain": [
       "<Figure size 640x480 with 1 Axes>"
      ]
     },
     "metadata": {},
     "output_type": "display_data"
    }
   ],
   "source": [
    "import seaborn as sns\n",
    "\n",
    "sns.boxplot(score_dfs[1], x=\"model_name\", y=\"score10_test\").set(\n",
    "    title=\"Hits@100 and hits@10\\n(small positive set)\"\n",
    ")\n",
    "sns.boxplot(score_dfs[1], x=\"model_name\", y=\"score100_test\").set_ylabel(\"score\")"
   ]
  },
  {
   "cell_type": "code",
   "execution_count": 11,
   "id": "cd1a656a-e1ee-4448-9231-2dd53d9f2cfd",
   "metadata": {},
   "outputs": [
    {
     "data": {
      "text/plain": [
       "Text(0, 0.5, 'score')"
      ]
     },
     "execution_count": 11,
     "metadata": {},
     "output_type": "execute_result"
    },
    {
     "data": {
      "image/png": "[encoded data removed]",
      "text/plain": [
       "<Figure size 640x480 with 1 Axes>"
      ]
     },
     "metadata": {},
     "output_type": "display_data"
    }
   ],
   "source": [
    "import seaborn as sns\n",
    "\n",
    "sns.boxplot(score_dfs[2], x=\"model_name\", y=\"score10_test\").set(\n",
    "    title=\"Hits@100 and hits@10\\n(large positive set, large embeddings)\"\n",
    ")\n",
    "sns.boxplot(score_dfs[2], x=\"model_name\", y=\"score100_test\").set_ylabel(\"score\")"
   ]
  },
  {
   "cell_type": "code",
   "execution_count": 12,
   "id": "29af53a9-fe65-4167-bdf5-4f0e6ddb08fe",
   "metadata": {},
   "outputs": [
    {
     "data": {
      "text/plain": [
       "Text(0, 0.5, 'score')"
      ]
     },
     "execution_count": 12,
     "metadata": {},
     "output_type": "execute_result"
    },
    {
     "data": {
      "image/png": "[encoded data removed]",
      "text/plain": [
       "<Figure size 640x480 with 1 Axes>"
      ]
     },
     "metadata": {},
     "output_type": "display_data"
    }
   ],
   "source": [
    "import seaborn as sns\n",
    "\n",
    "sns.boxplot(score_dfs[3], x=\"model_name\", y=\"score10_test\").set(\n",
    "    title=\"Hits@100 and hits@10\\n(large positive set, small embeddings)\"\n",
    ")\n",
    "sns.boxplot(score_dfs[3], x=\"model_name\", y=\"score100_test\").set_ylabel(\"score\")"
   ]
  },
  {
   "cell_type": "code",
   "execution_count": 13,
   "id": "4302631a-ecea-497e-a3f1-f87727aba813",
   "metadata": {},
   "outputs": [],
   "source": [
    "score_dfs = []\n",
    "for output_dir in output_dirs:\n",
    "    score_dfs.append(pd.read_csv(output_dir / \"score_df.csv\", index_col=0))\n",
    "plot_dfs = []\n",
    "for ds, score_df in zip(\n",
    "    (\"large\", \"small\", \"large_embeddings\", \"large_embeddings_small\"), score_dfs\n",
    "):\n",
    "    plot_df = score_df[[\"model_name\", \"score10_test\", \"score100_test\"]].copy()\n",
    "    plot_df.columns = [\"model_name\", \"hits@10\", \"hits@100\"]\n",
    "    plot_df[\"dataset\"] = ds\n",
    "    plot_dfs.append(plot_df)\n",
    "\n",
    "plot_df = pd.concat(plot_dfs)\n",
    "plot_df = plot_df.melt(id_vars=[\"model_name\", \"dataset\"])\n",
    "plot_dfs = {k: v for k, v in plot_df.groupby(\"model_name\")}"
   ]
  },
  {
   "cell_type": "code",
   "execution_count": 14,
   "id": "c722c768-a16b-4307-948d-744923771ffa",
   "metadata": {},
   "outputs": [
    {
     "data": {
      "image/png": "[encoded data removed]",
      "text/plain": [
       "<Figure size 640x480 with 1 Axes>"
      ]
     },
     "metadata": {},
     "output_type": "display_data"
    }
   ],
   "source": [
    "y_lim = (0, 105)\n",
    "y_label = \"Score\"\n",
    "\n",
    "import seaborn as sns\n",
    "import matplotlib.pyplot as plt\n",
    "\n",
    "model_name = \"RotatE\"\n",
    "plot_df = plot_dfs[model_name]\n",
    "\n",
    "plot_df[\"Hits\"] = plot_df[\"variable\"]\n",
    "plot = sns.barplot(\n",
    "    plot_df,\n",
    "    x=\"dataset\",\n",
    "    y=\"value\",\n",
    "    hue=\"Hits\",\n",
    "    order=[\"small\", \"large\", \"large_embeddings_small\", \"large_embeddings\"],\n",
    ")\n",
    "sns.move_legend(plot, \"upper left\")\n",
    "plot.set(xlabel=\"positive dataset\", ylabel=y_label)\n",
    "plot.set_title(f\"{model_name} - {method}\")\n",
    "plot.set_ylim(y_lim)\n",
    "_ = plot.set_xticklabels(\n",
    "    labels=[\"small\", \"large\", \"large_embeddings_small\", \"large_embeddings\"], rotation=90\n",
    ")"
   ]
  },
  {
   "cell_type": "code",
   "execution_count": 15,
   "id": "39d60433-6c12-47b1-9ac0-96a9394a9d27",
   "metadata": {},
   "outputs": [
    {
     "data": {
      "image/png": "[encoded data removed]",
      "text/plain": [
       "<Figure size 640x480 with 1 Axes>"
      ]
     },
     "metadata": {},
     "output_type": "display_data"
    }
   ],
   "source": [
    "y_lim = (0, 105)\n",
    "y_label = \"Score\"\n",
    "\n",
    "import seaborn as sns\n",
    "import matplotlib.pyplot as plt\n",
    "\n",
    "model_name = \"TransE\"\n",
    "plot_df = plot_dfs[model_name]\n",
    "\n",
    "plot_df[\"Hits\"] = plot_df[\"variable\"]\n",
    "plot = sns.barplot(\n",
    "    plot_df,\n",
    "    x=\"dataset\",\n",
    "    y=\"value\",\n",
    "    hue=\"Hits\",\n",
    "    order=[\"small\", \"large\", \"large_embeddings_small\", \"large_embeddings\"],\n",
    ")\n",
    "sns.move_legend(plot, \"upper left\")\n",
    "plot.set(xlabel=\"positive dataset\", ylabel=y_label)\n",
    "plot.set_title(f\"{model_name} - {method}\")\n",
    "plot.set_ylim(y_lim)\n",
    "_ = plot.set_xticklabels(\n",
    "    labels=[\"small\", \"large\", \"large_embeddings_small\", \"large_embeddings\"], rotation=90\n",
    ")"
   ]
  },
  {
   "cell_type": "code",
   "execution_count": 16,
   "id": "6ca4010a-0859-4551-9e59-e26931146717",
   "metadata": {},
   "outputs": [
    {
     "data": {
      "image/png": "[encoded data removed]",
      "text/plain": [
       "<Figure size 640x480 with 1 Axes>"
      ]
     },
     "metadata": {},
     "output_type": "display_data"
    }
   ],
   "source": [
    "y_lim = (0, 105)\n",
    "y_label = \"Score\"\n",
    "\n",
    "import seaborn as sns\n",
    "import matplotlib.pyplot as plt\n",
    "\n",
    "model_name = \"CompGCN\"\n",
    "plot_df = plot_dfs[model_name]\n",
    "\n",
    "plot_df[\"Hits\"] = plot_df[\"variable\"]\n",
    "plot = sns.barplot(\n",
    "    plot_df,\n",
    "    x=\"dataset\",\n",
    "    y=\"value\",\n",
    "    hue=\"Hits\",\n",
    "    order=[\"small\", \"large\", \"large_embeddings_small\", \"large_embeddings\"],\n",
    ")\n",
    "sns.move_legend(plot, \"upper left\")\n",
    "plot.set(xlabel=\"positive dataset\", ylabel=y_label)\n",
    "plot.set_title(f\"{model_name} - {method}\")\n",
    "plot.set_ylim(y_lim)\n",
    "_ = plot.set_xticklabels(\n",
    "    labels=[\"small\", \"large\", \"large_embeddings_small\", \"large_embeddings\"], rotation=90\n",
    ")"
   ]
  },
  {
   "cell_type": "code",
   "execution_count": 17,
   "id": "7ae05b4d-b629-4674-b623-dda434899515",
   "metadata": {},
   "outputs": [],
   "source": [
    "proba_dfs = [\n",
    "    build_proba_df(gs, i, mns=MODEL_NAMES)\n",
    "    for gs, i in zip(grid_searches_list, input_dirs)\n",
    "]\n",
    "for output_dir, proba_df in zip(output_dirs, proba_dfs):\n",
    "    proba_df.to_csv(output_dir / \"proba_df.csv\")"
   ]
  },
  {
   "cell_type": "code",
   "execution_count": 18,
   "id": "7b2c84bc-4a73-4ed7-b818-15f99a1d57d4",
   "metadata": {},
   "outputs": [
    {
     "data": {
      "text/html": [
       "<div>\n",
       "<style scoped>\n",
       "    .dataframe tbody tr th:only-of-type {\n",
       "        vertical-align: middle;\n",
       "    }\n",
       "\n",
       "    .dataframe tbody tr th {\n",
       "        vertical-align: top;\n",
       "    }\n",
       "\n",
       "    .dataframe thead th {\n",
       "        text-align: right;\n",
       "    }\n",
       "</style>\n",
       "<table border=\"1\" class=\"dataframe\">\n",
       "  <thead>\n",
       "    <tr style=\"text-align: right;\">\n",
       "      <th></th>\n",
       "      <th>node_id</th>\n",
       "      <th>gene_name</th>\n",
       "      <th>irr</th>\n",
       "      <th>train</th>\n",
       "      <th>val</th>\n",
       "      <th>test</th>\n",
       "      <th>RotatE_0</th>\n",
       "      <th>RotatE_1</th>\n",
       "      <th>RotatE_2</th>\n",
       "      <th>RotatE_3</th>\n",
       "      <th>...</th>\n",
       "      <th>CompGCN_0</th>\n",
       "      <th>CompGCN_1</th>\n",
       "      <th>CompGCN_2</th>\n",
       "      <th>CompGCN_3</th>\n",
       "      <th>CompGCN_4</th>\n",
       "      <th>CompGCN_5</th>\n",
       "      <th>CompGCN_6</th>\n",
       "      <th>CompGCN_7</th>\n",
       "      <th>CompGCN_8</th>\n",
       "      <th>CompGCN_9</th>\n",
       "    </tr>\n",
       "  </thead>\n",
       "  <tbody>\n",
       "    <tr>\n",
       "      <th>29990</th>\n",
       "      <td>Gene::7318</td>\n",
       "      <td>UBA7</td>\n",
       "      <td>False</td>\n",
       "      <td>False</td>\n",
       "      <td>False</td>\n",
       "      <td>True</td>\n",
       "      <td>1.576854e-01</td>\n",
       "      <td>-9.231758e-02</td>\n",
       "      <td>0.036837</td>\n",
       "      <td>0.006745</td>\n",
       "      <td>...</td>\n",
       "      <td>0.014543</td>\n",
       "      <td>-0.010894</td>\n",
       "      <td>-0.032563</td>\n",
       "      <td>-0.046016</td>\n",
       "      <td>-0.200756</td>\n",
       "      <td>-0.036429</td>\n",
       "      <td>0.013908</td>\n",
       "      <td>-0.066565</td>\n",
       "      <td>-0.057322</td>\n",
       "      <td>-0.145511</td>\n",
       "    </tr>\n",
       "    <tr>\n",
       "      <th>15162</th>\n",
       "      <td>Gene::10071</td>\n",
       "      <td>MUC12</td>\n",
       "      <td>False</td>\n",
       "      <td>False</td>\n",
       "      <td>False</td>\n",
       "      <td>True</td>\n",
       "      <td>1.490012e-01</td>\n",
       "      <td>-3.007555e-02</td>\n",
       "      <td>-0.018378</td>\n",
       "      <td>-0.045016</td>\n",
       "      <td>...</td>\n",
       "      <td>-0.619018</td>\n",
       "      <td>-0.035174</td>\n",
       "      <td>0.032616</td>\n",
       "      <td>0.027599</td>\n",
       "      <td>-0.029947</td>\n",
       "      <td>0.029618</td>\n",
       "      <td>-0.068121</td>\n",
       "      <td>0.005236</td>\n",
       "      <td>-0.067163</td>\n",
       "      <td>-0.061603</td>\n",
       "    </tr>\n",
       "    <tr>\n",
       "      <th>21136</th>\n",
       "      <td>Gene::26974</td>\n",
       "      <td>ZNF285</td>\n",
       "      <td>False</td>\n",
       "      <td>False</td>\n",
       "      <td>False</td>\n",
       "      <td>True</td>\n",
       "      <td>1.486958e-01</td>\n",
       "      <td>-1.871393e-01</td>\n",
       "      <td>-0.040922</td>\n",
       "      <td>0.009887</td>\n",
       "      <td>...</td>\n",
       "      <td>-0.029752</td>\n",
       "      <td>-0.028310</td>\n",
       "      <td>-0.025300</td>\n",
       "      <td>0.007363</td>\n",
       "      <td>-0.053957</td>\n",
       "      <td>0.011576</td>\n",
       "      <td>-0.008810</td>\n",
       "      <td>-0.032660</td>\n",
       "      <td>0.018579</td>\n",
       "      <td>-0.062530</td>\n",
       "    </tr>\n",
       "    <tr>\n",
       "      <th>22997</th>\n",
       "      <td>Gene::353514</td>\n",
       "      <td>LILRA5</td>\n",
       "      <td>False</td>\n",
       "      <td>False</td>\n",
       "      <td>False</td>\n",
       "      <td>True</td>\n",
       "      <td>1.459168e-01</td>\n",
       "      <td>-2.299213e-02</td>\n",
       "      <td>0.008167</td>\n",
       "      <td>0.020639</td>\n",
       "      <td>...</td>\n",
       "      <td>-0.024848</td>\n",
       "      <td>-0.437032</td>\n",
       "      <td>-0.174905</td>\n",
       "      <td>-0.018241</td>\n",
       "      <td>0.037245</td>\n",
       "      <td>-0.238039</td>\n",
       "      <td>0.062468</td>\n",
       "      <td>-0.301536</td>\n",
       "      <td>-0.065702</td>\n",
       "      <td>0.026019</td>\n",
       "    </tr>\n",
       "    <tr>\n",
       "      <th>31601</th>\n",
       "      <td>Gene::83931</td>\n",
       "      <td>STK40</td>\n",
       "      <td>False</td>\n",
       "      <td>False</td>\n",
       "      <td>False</td>\n",
       "      <td>True</td>\n",
       "      <td>1.459166e-01</td>\n",
       "      <td>-1.286658e-01</td>\n",
       "      <td>-0.004830</td>\n",
       "      <td>-0.029360</td>\n",
       "      <td>...</td>\n",
       "      <td>0.038689</td>\n",
       "      <td>0.039812</td>\n",
       "      <td>0.032856</td>\n",
       "      <td>-0.436849</td>\n",
       "      <td>-0.121249</td>\n",
       "      <td>-0.196069</td>\n",
       "      <td>-0.241129</td>\n",
       "      <td>-0.080297</td>\n",
       "      <td>-0.182263</td>\n",
       "      <td>0.055388</td>\n",
       "    </tr>\n",
       "    <tr>\n",
       "      <th>...</th>\n",
       "      <td>...</td>\n",
       "      <td>...</td>\n",
       "      <td>...</td>\n",
       "      <td>...</td>\n",
       "      <td>...</td>\n",
       "      <td>...</td>\n",
       "      <td>...</td>\n",
       "      <td>...</td>\n",
       "      <td>...</td>\n",
       "      <td>...</td>\n",
       "      <td>...</td>\n",
       "      <td>...</td>\n",
       "      <td>...</td>\n",
       "      <td>...</td>\n",
       "      <td>...</td>\n",
       "      <td>...</td>\n",
       "      <td>...</td>\n",
       "      <td>...</td>\n",
       "      <td>...</td>\n",
       "      <td>...</td>\n",
       "      <td>...</td>\n",
       "    </tr>\n",
       "    <tr>\n",
       "      <th>20514</th>\n",
       "      <td>Gene::256394</td>\n",
       "      <td>SERPINA11</td>\n",
       "      <td>False</td>\n",
       "      <td>False</td>\n",
       "      <td>False</td>\n",
       "      <td>True</td>\n",
       "      <td>-2.442894e+07</td>\n",
       "      <td>-1.233759e-01</td>\n",
       "      <td>0.031439</td>\n",
       "      <td>-0.006422</td>\n",
       "      <td>...</td>\n",
       "      <td>-0.063748</td>\n",
       "      <td>-0.068142</td>\n",
       "      <td>0.021000</td>\n",
       "      <td>-0.004480</td>\n",
       "      <td>-0.179499</td>\n",
       "      <td>-0.117545</td>\n",
       "      <td>-0.064782</td>\n",
       "      <td>0.017922</td>\n",
       "      <td>-0.292239</td>\n",
       "      <td>-0.129622</td>\n",
       "    </tr>\n",
       "    <tr>\n",
       "      <th>25587</th>\n",
       "      <td>Gene::5174</td>\n",
       "      <td>PDZK1</td>\n",
       "      <td>False</td>\n",
       "      <td>False</td>\n",
       "      <td>False</td>\n",
       "      <td>True</td>\n",
       "      <td>-2.488374e+07</td>\n",
       "      <td>-6.690527e+09</td>\n",
       "      <td>-0.009429</td>\n",
       "      <td>-0.331083</td>\n",
       "      <td>...</td>\n",
       "      <td>-0.048042</td>\n",
       "      <td>-0.053947</td>\n",
       "      <td>-0.343174</td>\n",
       "      <td>-0.001932</td>\n",
       "      <td>-0.091192</td>\n",
       "      <td>-0.239039</td>\n",
       "      <td>-0.148447</td>\n",
       "      <td>0.067482</td>\n",
       "      <td>-0.169196</td>\n",
       "      <td>-0.029034</td>\n",
       "    </tr>\n",
       "    <tr>\n",
       "      <th>20477</th>\n",
       "      <td>Gene::255725</td>\n",
       "      <td>OR52B2</td>\n",
       "      <td>False</td>\n",
       "      <td>False</td>\n",
       "      <td>False</td>\n",
       "      <td>True</td>\n",
       "      <td>-2.498188e+07</td>\n",
       "      <td>-1.094105e-01</td>\n",
       "      <td>-0.897257</td>\n",
       "      <td>0.028449</td>\n",
       "      <td>...</td>\n",
       "      <td>-0.018565</td>\n",
       "      <td>-0.100473</td>\n",
       "      <td>-0.175728</td>\n",
       "      <td>-0.121014</td>\n",
       "      <td>-0.400257</td>\n",
       "      <td>0.010875</td>\n",
       "      <td>-0.354147</td>\n",
       "      <td>-0.148095</td>\n",
       "      <td>-0.012522</td>\n",
       "      <td>-0.272979</td>\n",
       "    </tr>\n",
       "    <tr>\n",
       "      <th>30869</th>\n",
       "      <td>Gene::79998</td>\n",
       "      <td>ANKRD53</td>\n",
       "      <td>False</td>\n",
       "      <td>False</td>\n",
       "      <td>False</td>\n",
       "      <td>True</td>\n",
       "      <td>-2.499351e+07</td>\n",
       "      <td>-3.137164e-01</td>\n",
       "      <td>0.010609</td>\n",
       "      <td>-0.120476</td>\n",
       "      <td>...</td>\n",
       "      <td>0.029565</td>\n",
       "      <td>0.023330</td>\n",
       "      <td>-0.048730</td>\n",
       "      <td>-0.072651</td>\n",
       "      <td>-0.262744</td>\n",
       "      <td>0.004818</td>\n",
       "      <td>-0.070607</td>\n",
       "      <td>0.018718</td>\n",
       "      <td>-0.015962</td>\n",
       "      <td>-0.385500</td>\n",
       "    </tr>\n",
       "    <tr>\n",
       "      <th>31164</th>\n",
       "      <td>Gene::81285</td>\n",
       "      <td>OR51E2</td>\n",
       "      <td>False</td>\n",
       "      <td>False</td>\n",
       "      <td>False</td>\n",
       "      <td>True</td>\n",
       "      <td>-4.475174e+07</td>\n",
       "      <td>-6.925392e-02</td>\n",
       "      <td>-0.273249</td>\n",
       "      <td>-0.262594</td>\n",
       "      <td>...</td>\n",
       "      <td>-0.012731</td>\n",
       "      <td>-0.040562</td>\n",
       "      <td>0.043115</td>\n",
       "      <td>-0.020258</td>\n",
       "      <td>-0.018468</td>\n",
       "      <td>-0.273181</td>\n",
       "      <td>-0.079904</td>\n",
       "      <td>-0.058693</td>\n",
       "      <td>-0.030448</td>\n",
       "      <td>0.010409</td>\n",
       "    </tr>\n",
       "  </tbody>\n",
       "</table>\n",
       "<p>3816 rows × 36 columns</p>\n",
       "</div>"
      ],
      "text/plain": [
       "            node_id  gene_name    irr  train    val  test      RotatE_0  \\\n",
       "29990    Gene::7318       UBA7  False  False  False  True  1.576854e-01   \n",
       "15162   Gene::10071      MUC12  False  False  False  True  1.490012e-01   \n",
       "21136   Gene::26974     ZNF285  False  False  False  True  1.486958e-01   \n",
       "22997  Gene::353514     LILRA5  False  False  False  True  1.459168e-01   \n",
       "31601   Gene::83931      STK40  False  False  False  True  1.459166e-01   \n",
       "...             ...        ...    ...    ...    ...   ...           ...   \n",
       "20514  Gene::256394  SERPINA11  False  False  False  True -2.442894e+07   \n",
       "25587    Gene::5174      PDZK1  False  False  False  True -2.488374e+07   \n",
       "20477  Gene::255725     OR52B2  False  False  False  True -2.498188e+07   \n",
       "30869   Gene::79998    ANKRD53  False  False  False  True -2.499351e+07   \n",
       "31164   Gene::81285     OR51E2  False  False  False  True -4.475174e+07   \n",
       "\n",
       "           RotatE_1  RotatE_2  RotatE_3  ...  CompGCN_0  CompGCN_1  CompGCN_2  \\\n",
       "29990 -9.231758e-02  0.036837  0.006745  ...   0.014543  -0.010894  -0.032563   \n",
       "15162 -3.007555e-02 -0.018378 -0.045016  ...  -0.619018  -0.035174   0.032616   \n",
       "21136 -1.871393e-01 -0.040922  0.009887  ...  -0.029752  -0.028310  -0.025300   \n",
       "22997 -2.299213e-02  0.008167  0.020639  ...  -0.024848  -0.437032  -0.174905   \n",
       "31601 -1.286658e-01 -0.004830 -0.029360  ...   0.038689   0.039812   0.032856   \n",
       "...             ...       ...       ...  ...        ...        ...        ...   \n",
       "20514 -1.233759e-01  0.031439 -0.006422  ...  -0.063748  -0.068142   0.021000   \n",
       "25587 -6.690527e+09 -0.009429 -0.331083  ...  -0.048042  -0.053947  -0.343174   \n",
       "20477 -1.094105e-01 -0.897257  0.028449  ...  -0.018565  -0.100473  -0.175728   \n",
       "30869 -3.137164e-01  0.010609 -0.120476  ...   0.029565   0.023330  -0.048730   \n",
       "31164 -6.925392e-02 -0.273249 -0.262594  ...  -0.012731  -0.040562   0.043115   \n",
       "\n",
       "       CompGCN_3  CompGCN_4  CompGCN_5  CompGCN_6  CompGCN_7  CompGCN_8  \\\n",
       "29990  -0.046016  -0.200756  -0.036429   0.013908  -0.066565  -0.057322   \n",
       "15162   0.027599  -0.029947   0.029618  -0.068121   0.005236  -0.067163   \n",
       "21136   0.007363  -0.053957   0.011576  -0.008810  -0.032660   0.018579   \n",
       "22997  -0.018241   0.037245  -0.238039   0.062468  -0.301536  -0.065702   \n",
       "31601  -0.436849  -0.121249  -0.196069  -0.241129  -0.080297  -0.182263   \n",
       "...          ...        ...        ...        ...        ...        ...   \n",
       "20514  -0.004480  -0.179499  -0.117545  -0.064782   0.017922  -0.292239   \n",
       "25587  -0.001932  -0.091192  -0.239039  -0.148447   0.067482  -0.169196   \n",
       "20477  -0.121014  -0.400257   0.010875  -0.354147  -0.148095  -0.012522   \n",
       "30869  -0.072651  -0.262744   0.004818  -0.070607   0.018718  -0.015962   \n",
       "31164  -0.020258  -0.018468  -0.273181  -0.079904  -0.058693  -0.030448   \n",
       "\n",
       "       CompGCN_9  \n",
       "29990  -0.145511  \n",
       "15162  -0.061603  \n",
       "21136  -0.062530  \n",
       "22997   0.026019  \n",
       "31601   0.055388  \n",
       "...          ...  \n",
       "20514  -0.129622  \n",
       "25587  -0.029034  \n",
       "20477  -0.272979  \n",
       "30869  -0.385500  \n",
       "31164   0.010409  \n",
       "\n",
       "[3816 rows x 36 columns]"
      ]
     },
     "execution_count": 18,
     "metadata": {},
     "output_type": "execute_result"
    }
   ],
   "source": [
    "proba_df = proba_dfs[0]\n",
    "proba_df.query(\"test\").sort_values(\"RotatE_0\", ascending=False)"
   ]
  },
  {
   "cell_type": "code",
   "execution_count": 19,
   "id": "f4d306f1-0fd3-4ccc-979d-2be708503e1b",
   "metadata": {},
   "outputs": [],
   "source": [
    "for proba_df, score_df, od in zip(proba_dfs, score_dfs, output_dirs):\n",
    "    proba_df.to_csv(od / \"proba_df.csv\")\n",
    "    proba_df.query(\"test\").to_csv(od / \"proba_df_test.csv\")\n",
    "    score_df.to_csv(od / \"score_df.csv\")\n",
    "\n",
    "    for mn in MODEL_NAMES:\n",
    "        score_cols = [c for c in proba_df.columns if c.startswith(f\"{mn}_\")]\n",
    "        tmp_df = proba_df[\n",
    "            [\"node_id\", \"gene_name\", \"irr\", \"train\", \"val\", \"test\", *score_cols]\n",
    "        ]\n",
    "        tmp_df.to_csv(od / f\"proba_df_{mn}.csv\")\n",
    "        tmp_df_test = tmp_df.query(\"test\")\n",
    "        tmp_df_test.to_csv(od / f\"proba_df_test_{mn}.csv\")\n",
    "\n",
    "        genes_100 = build_ranked_lists(tmp_df, prefix=mn)\n",
    "        genes_100.to_csv(od / f\"genes_100_{mn}.csv\", index=False)\n",
    "        genes_100_test = build_ranked_lists(tmp_df_test, prefix=mn)\n",
    "        genes_100_test.to_csv(od / f\"genes_100_test_{mn}.csv\", index=False)\n",
    "\n",
    "        ds = \"test\"\n",
    "        score_df_tmp = score_df.query(\"model_name == @mn\")\n",
    "        score_df_tmp = pd.concat(\n",
    "            [score_df_tmp[\"m_name\"], score_df_tmp.filter(regex=f\".*_{ds}\", axis=1)],\n",
    "            axis=1,\n",
    "        ).set_index(\"m_name\")\n",
    "        score_df_tmp.columns = [\n",
    "            c.replace(f\"_{ds}\", \"\").replace(\"score\", \"hits@\")\n",
    "            for c in score_df_tmp.columns\n",
    "        ]\n",
    "        score_df_tmp = score_df_tmp.T\n",
    "        score_df_tmp[\"mean\"] = score_df_tmp.mean(axis=1)\n",
    "        score_df_tmp.to_csv(od / f\"scores_{ds}_{mn}.csv\", index_label=\"score\")\n",
    "\n",
    "        ds = \"all\"\n",
    "        score_df_tmp = score_df.query(\"model_name == @mn\")\n",
    "        score_df_tmp = pd.concat(\n",
    "            [score_df_tmp[\"m_name\"], score_df_tmp.filter(regex=f\".*_{ds}\", axis=1)],\n",
    "            axis=1,\n",
    "        ).set_index(\"m_name\")\n",
    "        score_df_tmp.columns = [\n",
    "            c.replace(f\"_{ds}\", \"\").replace(\"score\", \"hits@\")\n",
    "            for c in score_df_tmp.columns\n",
    "        ]\n",
    "        score_df_tmp = score_df_tmp.T\n",
    "        score_df_tmp[\"mean\"] = score_df_tmp.mean(axis=1)\n",
    "        score_df_tmp.to_csv(od / f\"scores_{mn}.csv\", index_label=\"score\")"
   ]
  },
  {
   "cell_type": "code",
   "execution_count": 2,
   "id": "1b79aa88-a915-4c1c-98b9-f10799ac5f53",
   "metadata": {},
   "outputs": [
    {
     "name": "stdout",
     "output_type": "stream",
     "text": [
      "upload: 2_outputs/standard/LocalOutlierFactor/proba_df_RotatE.csv to s3://nnedl-core-prd-eu-central-1-curated/compbiosandbox/Projects/NNRCO_KG/Sprint_3_3_IR_Paper/Result_lists/Hetionet/LargeTS/LocalOutlierFactor_RotatE/WholeSet/all_results.csv\n",
      "upload: 2_outputs/standard/LocalOutlierFactor/genes_100_RotatE.csv to s3://nnedl-core-prd-eu-central-1-curated/compbiosandbox/Projects/NNRCO_KG/Sprint_3_3_IR_Paper/Result_lists/Hetionet/LargeTS/LocalOutlierFactor_RotatE/WholeSet/gene_100.csv\n",
      "upload: 2_outputs/standard/LocalOutlierFactor/scores_RotatE.csv to s3://nnedl-core-prd-eu-central-1-curated/compbiosandbox/Projects/NNRCO_KG/Sprint_3_3_IR_Paper/Result_lists/Hetionet/LargeTS/LocalOutlierFactor_RotatE/WholeSet/scores.csv\n",
      "upload: 2_outputs/standard/LocalOutlierFactor/proba_df_test_RotatE.csv to s3://nnedl-core-prd-eu-central-1-curated/compbiosandbox/Projects/NNRCO_KG/Sprint_3_3_IR_Paper/Result_lists/Hetionet/LargeTS/LocalOutlierFactor_RotatE/TestSet/all_results.csv\n",
      "upload: 2_outputs/standard/LocalOutlierFactor/genes_100_test_RotatE.csv to s3://nnedl-core-prd-eu-central-1-curated/compbiosandbox/Projects/NNRCO_KG/Sprint_3_3_IR_Paper/Result_lists/Hetionet/LargeTS/LocalOutlierFactor_RotatE/TestSet/gene_100.csv\n",
      "upload: 2_outputs/standard/LocalOutlierFactor/scores_test_RotatE.csv to s3://nnedl-core-prd-eu-central-1-curated/compbiosandbox/Projects/NNRCO_KG/Sprint_3_3_IR_Paper/Result_lists/Hetionet/LargeTS/LocalOutlierFactor_RotatE/TestSet/scores.csv\n",
      "upload: 2_outputs/small_DS/LocalOutlierFactor/proba_df_RotatE.csv to s3://nnedl-core-prd-eu-central-1-curated/compbiosandbox/Projects/NNRCO_KG/Sprint_3_3_IR_Paper/Result_lists/Hetionet/SmallTS/LocalOutlierFactor_RotatE/WholeSet/all_results.csv\n",
      "upload: 2_outputs/small_DS/LocalOutlierFactor/genes_100_RotatE.csv to s3://nnedl-core-prd-eu-central-1-curated/compbiosandbox/Projects/NNRCO_KG/Sprint_3_3_IR_Paper/Result_lists/Hetionet/SmallTS/LocalOutlierFactor_RotatE/WholeSet/gene_100.csv\n",
      "upload: 2_outputs/small_DS/LocalOutlierFactor/scores_RotatE.csv to s3://nnedl-core-prd-eu-central-1-curated/compbiosandbox/Projects/NNRCO_KG/Sprint_3_3_IR_Paper/Result_lists/Hetionet/SmallTS/LocalOutlierFactor_RotatE/WholeSet/scores.csv\n",
      "upload: 2_outputs/small_DS/LocalOutlierFactor/proba_df_test_RotatE.csv to s3://nnedl-core-prd-eu-central-1-curated/compbiosandbox/Projects/NNRCO_KG/Sprint_3_3_IR_Paper/Result_lists/Hetionet/SmallTS/LocalOutlierFactor_RotatE/TestSet/all_results.csv\n",
      "upload: 2_outputs/small_DS/LocalOutlierFactor/genes_100_test_RotatE.csv to s3://nnedl-core-prd-eu-central-1-curated/compbiosandbox/Projects/NNRCO_KG/Sprint_3_3_IR_Paper/Result_lists/Hetionet/SmallTS/LocalOutlierFactor_RotatE/TestSet/gene_100.csv\n",
      "upload: 2_outputs/small_DS/LocalOutlierFactor/scores_test_RotatE.csv to s3://nnedl-core-prd-eu-central-1-curated/compbiosandbox/Projects/NNRCO_KG/Sprint_3_3_IR_Paper/Result_lists/Hetionet/SmallTS/LocalOutlierFactor_RotatE/TestSet/scores.csv\n",
      "upload: 2_outputs/large/LocalOutlierFactor/proba_df_RotatE.csv to s3://nnedl-core-prd-eu-central-1-curated/compbiosandbox/Projects/NNRCO_KG/Sprint_3_3_IR_Paper/Result_lists/enrichedHetionet/LargeTS/LocalOutlierFactor_RotatE/WholeSet/all_results.csv\n",
      "upload: 2_outputs/large/LocalOutlierFactor/genes_100_RotatE.csv to s3://nnedl-core-prd-eu-central-1-curated/compbiosandbox/Projects/NNRCO_KG/Sprint_3_3_IR_Paper/Result_lists/enrichedHetionet/LargeTS/LocalOutlierFactor_RotatE/WholeSet/gene_100.csv\n",
      "upload: 2_outputs/large/LocalOutlierFactor/scores_RotatE.csv to s3://nnedl-core-prd-eu-central-1-curated/compbiosandbox/Projects/NNRCO_KG/Sprint_3_3_IR_Paper/Result_lists/enrichedHetionet/LargeTS/LocalOutlierFactor_RotatE/WholeSet/scores.csv\n",
      "upload: 2_outputs/large/LocalOutlierFactor/proba_df_test_RotatE.csv to s3://nnedl-core-prd-eu-central-1-curated/compbiosandbox/Projects/NNRCO_KG/Sprint_3_3_IR_Paper/Result_lists/enrichedHetionet/LargeTS/LocalOutlierFactor_RotatE/TestSet/all_results.csv\n",
      "upload: 2_outputs/large/LocalOutlierFactor/genes_100_test_RotatE.csv to s3://nnedl-core-prd-eu-central-1-curated/compbiosandbox/Projects/NNRCO_KG/Sprint_3_3_IR_Paper/Result_lists/enrichedHetionet/LargeTS/LocalOutlierFactor_RotatE/TestSet/gene_100.csv\n",
      "upload: 2_outputs/large/LocalOutlierFactor/scores_test_RotatE.csv to s3://nnedl-core-prd-eu-central-1-curated/compbiosandbox/Projects/NNRCO_KG/Sprint_3_3_IR_Paper/Result_lists/enrichedHetionet/LargeTS/LocalOutlierFactor_RotatE/TestSet/scores.csv\n",
      "upload: 2_outputs/large_small_DS/LocalOutlierFactor/proba_df_RotatE.csv to s3://nnedl-core-prd-eu-central-1-curated/compbiosandbox/Projects/NNRCO_KG/Sprint_3_3_IR_Paper/Result_lists/enrichedHetionet/SmallTS/LocalOutlierFactor_RotatE/WholeSet/all_results.csv\n",
      "upload: 2_outputs/large_small_DS/LocalOutlierFactor/genes_100_RotatE.csv to s3://nnedl-core-prd-eu-central-1-curated/compbiosandbox/Projects/NNRCO_KG/Sprint_3_3_IR_Paper/Result_lists/enrichedHetionet/SmallTS/LocalOutlierFactor_RotatE/WholeSet/gene_100.csv\n",
      "upload: 2_outputs/large_small_DS/LocalOutlierFactor/scores_RotatE.csv to s3://nnedl-core-prd-eu-central-1-curated/compbiosandbox/Projects/NNRCO_KG/Sprint_3_3_IR_Paper/Result_lists/enrichedHetionet/SmallTS/LocalOutlierFactor_RotatE/WholeSet/scores.csv\n",
      "upload: 2_outputs/large_small_DS/LocalOutlierFactor/proba_df_test_RotatE.csv to s3://nnedl-core-prd-eu-central-1-curated/compbiosandbox/Projects/NNRCO_KG/Sprint_3_3_IR_Paper/Result_lists/enrichedHetionet/SmallTS/LocalOutlierFactor_RotatE/TestSet/all_results.csv\n",
      "upload: 2_outputs/large_small_DS/LocalOutlierFactor/genes_100_test_RotatE.csv to s3://nnedl-core-prd-eu-central-1-curated/compbiosandbox/Projects/NNRCO_KG/Sprint_3_3_IR_Paper/Result_lists/enrichedHetionet/SmallTS/LocalOutlierFactor_RotatE/TestSet/gene_100.csv\n",
      "upload: 2_outputs/large_small_DS/LocalOutlierFactor/scores_test_RotatE.csv to s3://nnedl-core-prd-eu-central-1-curated/compbiosandbox/Projects/NNRCO_KG/Sprint_3_3_IR_Paper/Result_lists/enrichedHetionet/SmallTS/LocalOutlierFactor_RotatE/TestSet/scores.csv\n",
      "upload: 2_outputs/standard/LocalOutlierFactor/proba_df_TransE.csv to s3://nnedl-core-prd-eu-central-1-curated/compbiosandbox/Projects/NNRCO_KG/Sprint_3_3_IR_Paper/Result_lists/Hetionet/LargeTS/LocalOutlierFactor_TransE/WholeSet/all_results.csv\n",
      "upload: 2_outputs/standard/LocalOutlierFactor/genes_100_TransE.csv to s3://nnedl-core-prd-eu-central-1-curated/compbiosandbox/Projects/NNRCO_KG/Sprint_3_3_IR_Paper/Result_lists/Hetionet/LargeTS/LocalOutlierFactor_TransE/WholeSet/gene_100.csv\n",
      "upload: 2_outputs/standard/LocalOutlierFactor/scores_TransE.csv to s3://nnedl-core-prd-eu-central-1-curated/compbiosandbox/Projects/NNRCO_KG/Sprint_3_3_IR_Paper/Result_lists/Hetionet/LargeTS/LocalOutlierFactor_TransE/WholeSet/scores.csv\n",
      "upload: 2_outputs/standard/LocalOutlierFactor/proba_df_test_TransE.csv to s3://nnedl-core-prd-eu-central-1-curated/compbiosandbox/Projects/NNRCO_KG/Sprint_3_3_IR_Paper/Result_lists/Hetionet/LargeTS/LocalOutlierFactor_TransE/TestSet/all_results.csv\n",
      "upload: 2_outputs/standard/LocalOutlierFactor/genes_100_test_TransE.csv to s3://nnedl-core-prd-eu-central-1-curated/compbiosandbox/Projects/NNRCO_KG/Sprint_3_3_IR_Paper/Result_lists/Hetionet/LargeTS/LocalOutlierFactor_TransE/TestSet/gene_100.csv\n",
      "upload: 2_outputs/standard/LocalOutlierFactor/scores_test_TransE.csv to s3://nnedl-core-prd-eu-central-1-curated/compbiosandbox/Projects/NNRCO_KG/Sprint_3_3_IR_Paper/Result_lists/Hetionet/LargeTS/LocalOutlierFactor_TransE/TestSet/scores.csv\n",
      "upload: 2_outputs/small_DS/LocalOutlierFactor/proba_df_TransE.csv to s3://nnedl-core-prd-eu-central-1-curated/compbiosandbox/Projects/NNRCO_KG/Sprint_3_3_IR_Paper/Result_lists/Hetionet/SmallTS/LocalOutlierFactor_TransE/WholeSet/all_results.csv\n",
      "upload: 2_outputs/small_DS/LocalOutlierFactor/genes_100_TransE.csv to s3://nnedl-core-prd-eu-central-1-curated/compbiosandbox/Projects/NNRCO_KG/Sprint_3_3_IR_Paper/Result_lists/Hetionet/SmallTS/LocalOutlierFactor_TransE/WholeSet/gene_100.csv\n",
      "upload: 2_outputs/small_DS/LocalOutlierFactor/scores_TransE.csv to s3://nnedl-core-prd-eu-central-1-curated/compbiosandbox/Projects/NNRCO_KG/Sprint_3_3_IR_Paper/Result_lists/Hetionet/SmallTS/LocalOutlierFactor_TransE/WholeSet/scores.csv\n",
      "upload: 2_outputs/small_DS/LocalOutlierFactor/proba_df_test_TransE.csv to s3://nnedl-core-prd-eu-central-1-curated/compbiosandbox/Projects/NNRCO_KG/Sprint_3_3_IR_Paper/Result_lists/Hetionet/SmallTS/LocalOutlierFactor_TransE/TestSet/all_results.csv\n",
      "upload: 2_outputs/small_DS/LocalOutlierFactor/genes_100_test_TransE.csv to s3://nnedl-core-prd-eu-central-1-curated/compbiosandbox/Projects/NNRCO_KG/Sprint_3_3_IR_Paper/Result_lists/Hetionet/SmallTS/LocalOutlierFactor_TransE/TestSet/gene_100.csv\n",
      "upload: 2_outputs/small_DS/LocalOutlierFactor/scores_test_TransE.csv to s3://nnedl-core-prd-eu-central-1-curated/compbiosandbox/Projects/NNRCO_KG/Sprint_3_3_IR_Paper/Result_lists/Hetionet/SmallTS/LocalOutlierFactor_TransE/TestSet/scores.csv\n",
      "upload: 2_outputs/large/LocalOutlierFactor/proba_df_TransE.csv to s3://nnedl-core-prd-eu-central-1-curated/compbiosandbox/Projects/NNRCO_KG/Sprint_3_3_IR_Paper/Result_lists/enrichedHetionet/LargeTS/LocalOutlierFactor_TransE/WholeSet/all_results.csv\n",
      "upload: 2_outputs/large/LocalOutlierFactor/genes_100_TransE.csv to s3://nnedl-core-prd-eu-central-1-curated/compbiosandbox/Projects/NNRCO_KG/Sprint_3_3_IR_Paper/Result_lists/enrichedHetionet/LargeTS/LocalOutlierFactor_TransE/WholeSet/gene_100.csv\n",
      "upload: 2_outputs/large/LocalOutlierFactor/scores_TransE.csv to s3://nnedl-core-prd-eu-central-1-curated/compbiosandbox/Projects/NNRCO_KG/Sprint_3_3_IR_Paper/Result_lists/enrichedHetionet/LargeTS/LocalOutlierFactor_TransE/WholeSet/scores.csv\n",
      "upload: 2_outputs/large/LocalOutlierFactor/proba_df_test_TransE.csv to s3://nnedl-core-prd-eu-central-1-curated/compbiosandbox/Projects/NNRCO_KG/Sprint_3_3_IR_Paper/Result_lists/enrichedHetionet/LargeTS/LocalOutlierFactor_TransE/TestSet/all_results.csv\n",
      "upload: 2_outputs/large/LocalOutlierFactor/genes_100_test_TransE.csv to s3://nnedl-core-prd-eu-central-1-curated/compbiosandbox/Projects/NNRCO_KG/Sprint_3_3_IR_Paper/Result_lists/enrichedHetionet/LargeTS/LocalOutlierFactor_TransE/TestSet/gene_100.csv\n",
      "upload: 2_outputs/large/LocalOutlierFactor/scores_test_TransE.csv to s3://nnedl-core-prd-eu-central-1-curated/compbiosandbox/Projects/NNRCO_KG/Sprint_3_3_IR_Paper/Result_lists/enrichedHetionet/LargeTS/LocalOutlierFactor_TransE/TestSet/scores.csv\n",
      "upload: 2_outputs/large_small_DS/LocalOutlierFactor/proba_df_TransE.csv to s3://nnedl-core-prd-eu-central-1-curated/compbiosandbox/Projects/NNRCO_KG/Sprint_3_3_IR_Paper/Result_lists/enrichedHetionet/SmallTS/LocalOutlierFactor_TransE/WholeSet/all_results.csv\n",
      "upload: 2_outputs/large_small_DS/LocalOutlierFactor/genes_100_TransE.csv to s3://nnedl-core-prd-eu-central-1-curated/compbiosandbox/Projects/NNRCO_KG/Sprint_3_3_IR_Paper/Result_lists/enrichedHetionet/SmallTS/LocalOutlierFactor_TransE/WholeSet/gene_100.csv\n",
      "upload: 2_outputs/large_small_DS/LocalOutlierFactor/scores_TransE.csv to s3://nnedl-core-prd-eu-central-1-curated/compbiosandbox/Projects/NNRCO_KG/Sprint_3_3_IR_Paper/Result_lists/enrichedHetionet/SmallTS/LocalOutlierFactor_TransE/WholeSet/scores.csv\n",
      "upload: 2_outputs/large_small_DS/LocalOutlierFactor/proba_df_test_TransE.csv to s3://nnedl-core-prd-eu-central-1-curated/compbiosandbox/Projects/NNRCO_KG/Sprint_3_3_IR_Paper/Result_lists/enrichedHetionet/SmallTS/LocalOutlierFactor_TransE/TestSet/all_results.csv\n",
      "upload: 2_outputs/large_small_DS/LocalOutlierFactor/genes_100_test_TransE.csv to s3://nnedl-core-prd-eu-central-1-curated/compbiosandbox/Projects/NNRCO_KG/Sprint_3_3_IR_Paper/Result_lists/enrichedHetionet/SmallTS/LocalOutlierFactor_TransE/TestSet/gene_100.csv\n",
      "upload: 2_outputs/large_small_DS/LocalOutlierFactor/scores_test_TransE.csv to s3://nnedl-core-prd-eu-central-1-curated/compbiosandbox/Projects/NNRCO_KG/Sprint_3_3_IR_Paper/Result_lists/enrichedHetionet/SmallTS/LocalOutlierFactor_TransE/TestSet/scores.csv\n",
      "upload: 2_outputs/standard/LocalOutlierFactor/proba_df_CompGCN.csv to s3://nnedl-core-prd-eu-central-1-curated/compbiosandbox/Projects/NNRCO_KG/Sprint_3_3_IR_Paper/Result_lists/Hetionet/LargeTS/LocalOutlierFactor_CompGCN/WholeSet/all_results.csv\n",
      "upload: 2_outputs/standard/LocalOutlierFactor/genes_100_CompGCN.csv to s3://nnedl-core-prd-eu-central-1-curated/compbiosandbox/Projects/NNRCO_KG/Sprint_3_3_IR_Paper/Result_lists/Hetionet/LargeTS/LocalOutlierFactor_CompGCN/WholeSet/gene_100.csv\n",
      "upload: 2_outputs/standard/LocalOutlierFactor/scores_CompGCN.csv to s3://nnedl-core-prd-eu-central-1-curated/compbiosandbox/Projects/NNRCO_KG/Sprint_3_3_IR_Paper/Result_lists/Hetionet/LargeTS/LocalOutlierFactor_CompGCN/WholeSet/scores.csv\n",
      "upload: 2_outputs/standard/LocalOutlierFactor/proba_df_test_CompGCN.csv to s3://nnedl-core-prd-eu-central-1-curated/compbiosandbox/Projects/NNRCO_KG/Sprint_3_3_IR_Paper/Result_lists/Hetionet/LargeTS/LocalOutlierFactor_CompGCN/TestSet/all_results.csv\n",
      "upload: 2_outputs/standard/LocalOutlierFactor/genes_100_test_CompGCN.csv to s3://nnedl-core-prd-eu-central-1-curated/compbiosandbox/Projects/NNRCO_KG/Sprint_3_3_IR_Paper/Result_lists/Hetionet/LargeTS/LocalOutlierFactor_CompGCN/TestSet/gene_100.csv\n",
      "upload: 2_outputs/standard/LocalOutlierFactor/scores_test_CompGCN.csv to s3://nnedl-core-prd-eu-central-1-curated/compbiosandbox/Projects/NNRCO_KG/Sprint_3_3_IR_Paper/Result_lists/Hetionet/LargeTS/LocalOutlierFactor_CompGCN/TestSet/scores.csv\n",
      "upload: 2_outputs/small_DS/LocalOutlierFactor/proba_df_CompGCN.csv to s3://nnedl-core-prd-eu-central-1-curated/compbiosandbox/Projects/NNRCO_KG/Sprint_3_3_IR_Paper/Result_lists/Hetionet/SmallTS/LocalOutlierFactor_CompGCN/WholeSet/all_results.csv\n",
      "upload: 2_outputs/small_DS/LocalOutlierFactor/genes_100_CompGCN.csv to s3://nnedl-core-prd-eu-central-1-curated/compbiosandbox/Projects/NNRCO_KG/Sprint_3_3_IR_Paper/Result_lists/Hetionet/SmallTS/LocalOutlierFactor_CompGCN/WholeSet/gene_100.csv\n",
      "upload: 2_outputs/small_DS/LocalOutlierFactor/scores_CompGCN.csv to s3://nnedl-core-prd-eu-central-1-curated/compbiosandbox/Projects/NNRCO_KG/Sprint_3_3_IR_Paper/Result_lists/Hetionet/SmallTS/LocalOutlierFactor_CompGCN/WholeSet/scores.csv\n",
      "upload: 2_outputs/small_DS/LocalOutlierFactor/proba_df_test_CompGCN.csv to s3://nnedl-core-prd-eu-central-1-curated/compbiosandbox/Projects/NNRCO_KG/Sprint_3_3_IR_Paper/Result_lists/Hetionet/SmallTS/LocalOutlierFactor_CompGCN/TestSet/all_results.csv\n",
      "upload: 2_outputs/small_DS/LocalOutlierFactor/genes_100_test_CompGCN.csv to s3://nnedl-core-prd-eu-central-1-curated/compbiosandbox/Projects/NNRCO_KG/Sprint_3_3_IR_Paper/Result_lists/Hetionet/SmallTS/LocalOutlierFactor_CompGCN/TestSet/gene_100.csv\n",
      "upload: 2_outputs/small_DS/LocalOutlierFactor/scores_test_CompGCN.csv to s3://nnedl-core-prd-eu-central-1-curated/compbiosandbox/Projects/NNRCO_KG/Sprint_3_3_IR_Paper/Result_lists/Hetionet/SmallTS/LocalOutlierFactor_CompGCN/TestSet/scores.csv\n",
      "upload: 2_outputs/large/LocalOutlierFactor/proba_df_CompGCN.csv to s3://nnedl-core-prd-eu-central-1-curated/compbiosandbox/Projects/NNRCO_KG/Sprint_3_3_IR_Paper/Result_lists/enrichedHetionet/LargeTS/LocalOutlierFactor_CompGCN/WholeSet/all_results.csv\n",
      "upload: 2_outputs/large/LocalOutlierFactor/genes_100_CompGCN.csv to s3://nnedl-core-prd-eu-central-1-curated/compbiosandbox/Projects/NNRCO_KG/Sprint_3_3_IR_Paper/Result_lists/enrichedHetionet/LargeTS/LocalOutlierFactor_CompGCN/WholeSet/gene_100.csv\n",
      "upload: 2_outputs/large/LocalOutlierFactor/scores_CompGCN.csv to s3://nnedl-core-prd-eu-central-1-curated/compbiosandbox/Projects/NNRCO_KG/Sprint_3_3_IR_Paper/Result_lists/enrichedHetionet/LargeTS/LocalOutlierFactor_CompGCN/WholeSet/scores.csv\n",
      "upload: 2_outputs/large/LocalOutlierFactor/proba_df_test_CompGCN.csv to s3://nnedl-core-prd-eu-central-1-curated/compbiosandbox/Projects/NNRCO_KG/Sprint_3_3_IR_Paper/Result_lists/enrichedHetionet/LargeTS/LocalOutlierFactor_CompGCN/TestSet/all_results.csv\n",
      "upload: 2_outputs/large/LocalOutlierFactor/genes_100_test_CompGCN.csv to s3://nnedl-core-prd-eu-central-1-curated/compbiosandbox/Projects/NNRCO_KG/Sprint_3_3_IR_Paper/Result_lists/enrichedHetionet/LargeTS/LocalOutlierFactor_CompGCN/TestSet/gene_100.csv\n",
      "upload: 2_outputs/large/LocalOutlierFactor/scores_test_CompGCN.csv to s3://nnedl-core-prd-eu-central-1-curated/compbiosandbox/Projects/NNRCO_KG/Sprint_3_3_IR_Paper/Result_lists/enrichedHetionet/LargeTS/LocalOutlierFactor_CompGCN/TestSet/scores.csv\n",
      "upload: 2_outputs/large_small_DS/LocalOutlierFactor/proba_df_CompGCN.csv to s3://nnedl-core-prd-eu-central-1-curated/compbiosandbox/Projects/NNRCO_KG/Sprint_3_3_IR_Paper/Result_lists/enrichedHetionet/SmallTS/LocalOutlierFactor_CompGCN/WholeSet/all_results.csv\n",
      "upload: 2_outputs/large_small_DS/LocalOutlierFactor/genes_100_CompGCN.csv to s3://nnedl-core-prd-eu-central-1-curated/compbiosandbox/Projects/NNRCO_KG/Sprint_3_3_IR_Paper/Result_lists/enrichedHetionet/SmallTS/LocalOutlierFactor_CompGCN/WholeSet/gene_100.csv\n",
      "upload: 2_outputs/large_small_DS/LocalOutlierFactor/scores_CompGCN.csv to s3://nnedl-core-prd-eu-central-1-curated/compbiosandbox/Projects/NNRCO_KG/Sprint_3_3_IR_Paper/Result_lists/enrichedHetionet/SmallTS/LocalOutlierFactor_CompGCN/WholeSet/scores.csv\n",
      "upload: 2_outputs/large_small_DS/LocalOutlierFactor/proba_df_test_CompGCN.csv to s3://nnedl-core-prd-eu-central-1-curated/compbiosandbox/Projects/NNRCO_KG/Sprint_3_3_IR_Paper/Result_lists/enrichedHetionet/SmallTS/LocalOutlierFactor_CompGCN/TestSet/all_results.csv\n",
      "upload: 2_outputs/large_small_DS/LocalOutlierFactor/genes_100_test_CompGCN.csv to s3://nnedl-core-prd-eu-central-1-curated/compbiosandbox/Projects/NNRCO_KG/Sprint_3_3_IR_Paper/Result_lists/enrichedHetionet/SmallTS/LocalOutlierFactor_CompGCN/TestSet/gene_100.csv\n",
      "upload: 2_outputs/large_small_DS/LocalOutlierFactor/scores_test_CompGCN.csv to s3://nnedl-core-prd-eu-central-1-curated/compbiosandbox/Projects/NNRCO_KG/Sprint_3_3_IR_Paper/Result_lists/enrichedHetionet/SmallTS/LocalOutlierFactor_CompGCN/TestSet/scores.csv\n"
     ]
    }
   ],
   "source": [
    "s3_prefix = \"s3://ENTER AWS S3 PREFIX/Result_lists\"\n",
    "\n",
    "for model_name in MODEL_NAMES:\n",
    "    method_name = f\"{remote_method}_{model_name}\"\n",
    "\n",
    "    graph = \"Hetionet\"\n",
    "    ts = \"LargeTS\"\n",
    "    subset = \"WholeSet\"\n",
    "    !aws s3 cp './2_outputs/standard/{local_method}/proba_df_{model_name}.csv' {s3_prefix}/{graph}/{ts}/{method_name}/{subset}/all_results.csv\n",
    "    !aws s3 cp './2_outputs/standard/{local_method}/genes_100_{model_name}.csv' {s3_prefix}/{graph}/{ts}/{method_name}/{subset}/gene_100.csv\n",
    "    !aws s3 cp './2_outputs/standard/{local_method}/scores_{model_name}.csv' {s3_prefix}/{graph}/{ts}/{method_name}/{subset}/scores.csv\n",
    "    subset = \"TestSet\"\n",
    "    !aws s3 cp './2_outputs/standard/{local_method}/proba_df_test_{model_name}.csv' {s3_prefix}/{graph}/{ts}/{method_name}/{subset}/all_results.csv\n",
    "    !aws s3 cp './2_outputs/standard/{local_method}/genes_100_test_{model_name}.csv' {s3_prefix}/{graph}/{ts}/{method_name}/{subset}/gene_100.csv\n",
    "    !aws s3 cp './2_outputs/standard/{local_method}/scores_test_{model_name}.csv' {s3_prefix}/{graph}/{ts}/{method_name}/{subset}/scores.csv\n",
    "\n",
    "    ts = \"SmallTS\"\n",
    "    subset = \"WholeSet\"\n",
    "    !aws s3 cp './2_outputs/small_DS/{local_method}/proba_df_{model_name}.csv' {s3_prefix}/{graph}/{ts}/{method_name}/{subset}/all_results.csv\n",
    "    !aws s3 cp './2_outputs/small_DS/{local_method}/genes_100_{model_name}.csv' {s3_prefix}/{graph}/{ts}/{method_name}/{subset}/gene_100.csv\n",
    "    !aws s3 cp './2_outputs/small_DS/{local_method}/scores_{model_name}.csv' {s3_prefix}/{graph}/{ts}/{method_name}/{subset}/scores.csv\n",
    "    subset = \"TestSet\"\n",
    "    !aws s3 cp './2_outputs/small_DS/{local_method}/proba_df_test_{model_name}.csv' {s3_prefix}/{graph}/{ts}/{method_name}/{subset}/all_results.csv\n",
    "    !aws s3 cp './2_outputs/small_DS/{local_method}/genes_100_test_{model_name}.csv' {s3_prefix}/{graph}/{ts}/{method_name}/{subset}/gene_100.csv\n",
    "    !aws s3 cp './2_outputs/small_DS/{local_method}/scores_test_{model_name}.csv' {s3_prefix}/{graph}/{ts}/{method_name}/{subset}/scores.csv\n",
    "\n",
    "    # Embeddings based on large DS\n",
    "    graph = \"enrichedHetionet\"\n",
    "\n",
    "    ts = \"LargeTS\"\n",
    "    subset = \"WholeSet\"\n",
    "    !aws s3 cp './2_outputs/large/{local_method}/proba_df_{model_name}.csv' {s3_prefix}/{graph}/{ts}/{method_name}/{subset}/all_results.csv\n",
    "    !aws s3 cp './2_outputs/large/{local_method}/genes_100_{model_name}.csv' {s3_prefix}/{graph}/{ts}/{method_name}/{subset}/gene_100.csv\n",
    "    !aws s3 cp './2_outputs/large/{local_method}/scores_{model_name}.csv' {s3_prefix}/{graph}/{ts}/{method_name}/{subset}/scores.csv\n",
    "    subset = \"TestSet\"\n",
    "    !aws s3 cp './2_outputs/large/{local_method}/proba_df_test_{model_name}.csv' {s3_prefix}/{graph}/{ts}/{method_name}/{subset}/all_results.csv\n",
    "    !aws s3 cp './2_outputs/large/{local_method}/genes_100_test_{model_name}.csv' {s3_prefix}/{graph}/{ts}/{method_name}/{subset}/gene_100.csv\n",
    "    !aws s3 cp './2_outputs/large/{local_method}/scores_test_{model_name}.csv' {s3_prefix}/{graph}/{ts}/{method_name}/{subset}/scores.csv\n",
    "\n",
    "    ts = \"SmallTS\"\n",
    "    subset = \"WholeSet\"\n",
    "    !aws s3 cp './2_outputs/large_small_DS/{local_method}/proba_df_{model_name}.csv' {s3_prefix}/{graph}/{ts}/{method_name}/{subset}/all_results.csv\n",
    "    !aws s3 cp './2_outputs/large_small_DS/{local_method}/genes_100_{model_name}.csv' {s3_prefix}/{graph}/{ts}/{method_name}/{subset}/gene_100.csv\n",
    "    !aws s3 cp './2_outputs/large_small_DS/{local_method}/scores_{model_name}.csv' {s3_prefix}/{graph}/{ts}/{method_name}/{subset}/scores.csv\n",
    "    subset = \"TestSet\"\n",
    "    !aws s3 cp './2_outputs/large_small_DS/{local_method}/proba_df_test_{model_name}.csv' {s3_prefix}/{graph}/{ts}/{method_name}/{subset}/all_results.csv\n",
    "    !aws s3 cp './2_outputs/large_small_DS/{local_method}/genes_100_test_{model_name}.csv' {s3_prefix}/{graph}/{ts}/{method_name}/{subset}/gene_100.csv\n",
    "    !aws s3 cp './2_outputs/large_small_DS/{local_method}/scores_test_{model_name}.csv' {s3_prefix}/{graph}/{ts}/{method_name}/{subset}/scores.csv"
   ]
  },
  {
   "cell_type": "code",
   "execution_count": 21,
   "id": "f410f604-e5c7-4e7c-ba71-722c1c2650cd",
   "metadata": {},
   "outputs": [
    {
     "name": "stdout",
     "output_type": "stream",
     "text": [
      "2023-07-05 17:45:20       6706 compbiosandbox/Projects/NNRCO_KG/Sprint_3_3_IR_Paper/Result_lists/Hetionet/LargeTS/CompGCN/TestSet/100_genes.csv\n",
      "2023-07-05 17:46:02       6690 compbiosandbox/Projects/NNRCO_KG/Sprint_3_3_IR_Paper/Result_lists/Hetionet/LargeTS/CompGCN/WholeSet/100_genes.csv\n",
      "2023-07-06 13:00:06     919155 compbiosandbox/Projects/NNRCO_KG/Sprint_3_3_IR_Paper/Result_lists/Hetionet/LargeTS/Elkanoto_CompGCN/TestSet/all_results.csv\n",
      "2023-07-06 13:00:08       6104 compbiosandbox/Projects/NNRCO_KG/Sprint_3_3_IR_Paper/Result_lists/Hetionet/LargeTS/Elkanoto_CompGCN/TestSet/gene_100.csv\n",
      "2023-07-06 13:00:10       1014 compbiosandbox/Projects/NNRCO_KG/Sprint_3_3_IR_Paper/Result_lists/Hetionet/LargeTS/Elkanoto_CompGCN/TestSet/scores.csv\n",
      "2023-07-06 13:00:02    4612933 compbiosandbox/Projects/NNRCO_KG/Sprint_3_3_IR_Paper/Result_lists/Hetionet/LargeTS/Elkanoto_CompGCN/WholeSet/all_results.csv\n",
      "2023-07-06 13:00:04       5805 compbiosandbox/Projects/NNRCO_KG/Sprint_3_3_IR_Paper/Result_lists/Hetionet/LargeTS/Elkanoto_CompGCN/WholeSet/gene_100.csv\n",
      "2023-07-06 13:00:05       1141 compbiosandbox/Projects/NNRCO_KG/Sprint_3_3_IR_Paper/Result_lists/Hetionet/LargeTS/Elkanoto_CompGCN/WholeSet/scores.csv\n",
      "2023-07-06 12:58:58     919155 compbiosandbox/Projects/NNRCO_KG/Sprint_3_3_IR_Paper/Result_lists/Hetionet/LargeTS/Elkanoto_RotatE/TestSet/all_results.csv\n",
      "2023-07-06 12:59:00       6104 compbiosandbox/Projects/NNRCO_KG/Sprint_3_3_IR_Paper/Result_lists/Hetionet/LargeTS/Elkanoto_RotatE/TestSet/gene_100.csv\n",
      "2023-07-06 12:59:02       1014 compbiosandbox/Projects/NNRCO_KG/Sprint_3_3_IR_Paper/Result_lists/Hetionet/LargeTS/Elkanoto_RotatE/TestSet/scores.csv\n",
      "2023-07-06 12:58:51    4612933 compbiosandbox/Projects/NNRCO_KG/Sprint_3_3_IR_Paper/Result_lists/Hetionet/LargeTS/Elkanoto_RotatE/WholeSet/all_results.csv\n",
      "2023-07-06 12:58:54       5805 compbiosandbox/Projects/NNRCO_KG/Sprint_3_3_IR_Paper/Result_lists/Hetionet/LargeTS/Elkanoto_RotatE/WholeSet/gene_100.csv\n",
      "2023-07-06 12:58:56       1141 compbiosandbox/Projects/NNRCO_KG/Sprint_3_3_IR_Paper/Result_lists/Hetionet/LargeTS/Elkanoto_RotatE/WholeSet/scores.csv\n",
      "2023-07-06 12:59:42     919155 compbiosandbox/Projects/NNRCO_KG/Sprint_3_3_IR_Paper/Result_lists/Hetionet/LargeTS/Elkanoto_TransE/TestSet/all_results.csv\n",
      "2023-07-06 12:59:43       6104 compbiosandbox/Projects/NNRCO_KG/Sprint_3_3_IR_Paper/Result_lists/Hetionet/LargeTS/Elkanoto_TransE/TestSet/gene_100.csv\n",
      "2023-07-06 12:59:44       1014 compbiosandbox/Projects/NNRCO_KG/Sprint_3_3_IR_Paper/Result_lists/Hetionet/LargeTS/Elkanoto_TransE/TestSet/scores.csv\n",
      "2023-07-06 12:59:38    4612933 compbiosandbox/Projects/NNRCO_KG/Sprint_3_3_IR_Paper/Result_lists/Hetionet/LargeTS/Elkanoto_TransE/WholeSet/all_results.csv\n",
      "2023-07-06 12:59:40       5805 compbiosandbox/Projects/NNRCO_KG/Sprint_3_3_IR_Paper/Result_lists/Hetionet/LargeTS/Elkanoto_TransE/WholeSet/gene_100.csv\n",
      "2023-07-06 12:59:41       1141 compbiosandbox/Projects/NNRCO_KG/Sprint_3_3_IR_Paper/Result_lists/Hetionet/LargeTS/Elkanoto_TransE/WholeSet/scores.csv\n",
      "2023-07-06 13:22:17     970848 compbiosandbox/Projects/NNRCO_KG/Sprint_3_3_IR_Paper/Result_lists/Hetionet/LargeTS/IsolationForest_CompGCN/TestSet/all_results.csv\n",
      "2023-07-06 13:22:18       6172 compbiosandbox/Projects/NNRCO_KG/Sprint_3_3_IR_Paper/Result_lists/Hetionet/LargeTS/IsolationForest_CompGCN/TestSet/gene_100.csv\n",
      "2023-07-06 13:22:19       1023 compbiosandbox/Projects/NNRCO_KG/Sprint_3_3_IR_Paper/Result_lists/Hetionet/LargeTS/IsolationForest_CompGCN/TestSet/scores.csv\n",
      "2023-07-06 13:22:13    4870323 compbiosandbox/Projects/NNRCO_KG/Sprint_3_3_IR_Paper/Result_lists/Hetionet/LargeTS/IsolationForest_CompGCN/WholeSet/all_results.csv\n",
      "2023-07-06 13:22:15       6149 compbiosandbox/Projects/NNRCO_KG/Sprint_3_3_IR_Paper/Result_lists/Hetionet/LargeTS/IsolationForest_CompGCN/WholeSet/gene_100.csv\n",
      "2023-07-06 13:22:16       1144 compbiosandbox/Projects/NNRCO_KG/Sprint_3_3_IR_Paper/Result_lists/Hetionet/LargeTS/IsolationForest_CompGCN/WholeSet/scores.csv\n",
      "2023-07-06 13:21:05     970848 compbiosandbox/Projects/NNRCO_KG/Sprint_3_3_IR_Paper/Result_lists/Hetionet/LargeTS/IsolationForest_RotatE/TestSet/all_results.csv\n",
      "2023-07-06 13:21:07       6172 compbiosandbox/Projects/NNRCO_KG/Sprint_3_3_IR_Paper/Result_lists/Hetionet/LargeTS/IsolationForest_RotatE/TestSet/gene_100.csv\n",
      "2023-07-06 13:21:09       1023 compbiosandbox/Projects/NNRCO_KG/Sprint_3_3_IR_Paper/Result_lists/Hetionet/LargeTS/IsolationForest_RotatE/TestSet/scores.csv\n",
      "2023-07-06 13:20:59    4870323 compbiosandbox/Projects/NNRCO_KG/Sprint_3_3_IR_Paper/Result_lists/Hetionet/LargeTS/IsolationForest_RotatE/WholeSet/all_results.csv\n",
      "2023-07-06 13:21:01       6149 compbiosandbox/Projects/NNRCO_KG/Sprint_3_3_IR_Paper/Result_lists/Hetionet/LargeTS/IsolationForest_RotatE/WholeSet/gene_100.csv\n",
      "2023-07-06 13:21:03       1144 compbiosandbox/Projects/NNRCO_KG/Sprint_3_3_IR_Paper/Result_lists/Hetionet/LargeTS/IsolationForest_RotatE/WholeSet/scores.csv\n",
      "2023-07-06 13:21:48     970848 compbiosandbox/Projects/NNRCO_KG/Sprint_3_3_IR_Paper/Result_lists/Hetionet/LargeTS/IsolationForest_TransE/TestSet/all_results.csv\n",
      "2023-07-06 13:21:49       6172 compbiosandbox/Projects/NNRCO_KG/Sprint_3_3_IR_Paper/Result_lists/Hetionet/LargeTS/IsolationForest_TransE/TestSet/gene_100.csv\n",
      "2023-07-06 13:21:50       1023 compbiosandbox/Projects/NNRCO_KG/Sprint_3_3_IR_Paper/Result_lists/Hetionet/LargeTS/IsolationForest_TransE/TestSet/scores.csv\n",
      "2023-07-06 13:21:44    4870323 compbiosandbox/Projects/NNRCO_KG/Sprint_3_3_IR_Paper/Result_lists/Hetionet/LargeTS/IsolationForest_TransE/WholeSet/all_results.csv\n",
      "2023-07-06 13:21:45       6149 compbiosandbox/Projects/NNRCO_KG/Sprint_3_3_IR_Paper/Result_lists/Hetionet/LargeTS/IsolationForest_TransE/WholeSet/gene_100.csv\n",
      "2023-07-06 13:21:47       1144 compbiosandbox/Projects/NNRCO_KG/Sprint_3_3_IR_Paper/Result_lists/Hetionet/LargeTS/IsolationForest_TransE/WholeSet/scores.csv\n",
      "2023-07-07 09:58:42     633824 compbiosandbox/Projects/NNRCO_KG/Sprint_3_3_IR_Paper/Result_lists/Hetionet/LargeTS/LocalOutlierFactor_CompGCN/TestSet/all_results.csv\n",
      "2023-07-07 09:58:43       6535 compbiosandbox/Projects/NNRCO_KG/Sprint_3_3_IR_Paper/Result_lists/Hetionet/LargeTS/LocalOutlierFactor_CompGCN/TestSet/gene_100.csv\n",
      "2023-07-07 09:58:44       1022 compbiosandbox/Projects/NNRCO_KG/Sprint_3_3_IR_Paper/Result_lists/Hetionet/LargeTS/LocalOutlierFactor_CompGCN/TestSet/scores.csv\n",
      "2023-07-07 09:58:39    3134611 compbiosandbox/Projects/NNRCO_KG/Sprint_3_3_IR_Paper/Result_lists/Hetionet/LargeTS/LocalOutlierFactor_CompGCN/WholeSet/all_results.csv\n",
      "2023-07-07 09:58:40       6395 compbiosandbox/Projects/NNRCO_KG/Sprint_3_3_IR_Paper/Result_lists/Hetionet/LargeTS/LocalOutlierFactor_CompGCN/WholeSet/gene_100.csv\n",
      "2023-07-07 09:58:41       1164 compbiosandbox/Projects/NNRCO_KG/Sprint_3_3_IR_Paper/Result_lists/Hetionet/LargeTS/LocalOutlierFactor_CompGCN/WholeSet/scores.csv\n",
      "2023-07-07 09:57:53     633824 compbiosandbox/Projects/NNRCO_KG/Sprint_3_3_IR_Paper/Result_lists/Hetionet/LargeTS/LocalOutlierFactor_RotatE/TestSet/all_results.csv\n",
      "2023-07-07 09:57:54       6535 compbiosandbox/Projects/NNRCO_KG/Sprint_3_3_IR_Paper/Result_lists/Hetionet/LargeTS/LocalOutlierFactor_RotatE/TestSet/gene_100.csv\n",
      "2023-07-07 09:57:55       1022 compbiosandbox/Projects/NNRCO_KG/Sprint_3_3_IR_Paper/Result_lists/Hetionet/LargeTS/LocalOutlierFactor_RotatE/TestSet/scores.csv\n",
      "2023-07-07 09:57:49    3134611 compbiosandbox/Projects/NNRCO_KG/Sprint_3_3_IR_Paper/Result_lists/Hetionet/LargeTS/LocalOutlierFactor_RotatE/WholeSet/all_results.csv\n",
      "2023-07-07 09:57:51       6395 compbiosandbox/Projects/NNRCO_KG/Sprint_3_3_IR_Paper/Result_lists/Hetionet/LargeTS/LocalOutlierFactor_RotatE/WholeSet/gene_100.csv\n",
      "2023-07-07 09:57:52       1164 compbiosandbox/Projects/NNRCO_KG/Sprint_3_3_IR_Paper/Result_lists/Hetionet/LargeTS/LocalOutlierFactor_RotatE/WholeSet/scores.csv\n",
      "2023-07-07 09:58:19     633824 compbiosandbox/Projects/NNRCO_KG/Sprint_3_3_IR_Paper/Result_lists/Hetionet/LargeTS/LocalOutlierFactor_TransE/TestSet/all_results.csv\n",
      "2023-07-07 09:58:20       6535 compbiosandbox/Projects/NNRCO_KG/Sprint_3_3_IR_Paper/Result_lists/Hetionet/LargeTS/LocalOutlierFactor_TransE/TestSet/gene_100.csv\n",
      "2023-07-07 09:58:20       1022 compbiosandbox/Projects/NNRCO_KG/Sprint_3_3_IR_Paper/Result_lists/Hetionet/LargeTS/LocalOutlierFactor_TransE/TestSet/scores.csv\n",
      "2023-07-07 09:58:15    3134611 compbiosandbox/Projects/NNRCO_KG/Sprint_3_3_IR_Paper/Result_lists/Hetionet/LargeTS/LocalOutlierFactor_TransE/WholeSet/all_results.csv\n",
      "2023-07-07 09:58:16       6395 compbiosandbox/Projects/NNRCO_KG/Sprint_3_3_IR_Paper/Result_lists/Hetionet/LargeTS/LocalOutlierFactor_TransE/WholeSet/gene_100.csv\n",
      "2023-07-07 09:58:18       1164 compbiosandbox/Projects/NNRCO_KG/Sprint_3_3_IR_Paper/Result_lists/Hetionet/LargeTS/LocalOutlierFactor_TransE/WholeSet/scores.csv\n",
      "2023-07-05 16:43:55       5880 compbiosandbox/Projects/NNRCO_KG/Sprint_3_3_IR_Paper/Result_lists/Hetionet/LargeTS/RotatE/TestSet/100_genes.csv\n",
      "2023-07-05 16:44:34       5777 compbiosandbox/Projects/NNRCO_KG/Sprint_3_3_IR_Paper/Result_lists/Hetionet/LargeTS/RotatE/WholeSet/100_genes.csv\n",
      "2023-07-05 17:48:56       6250 compbiosandbox/Projects/NNRCO_KG/Sprint_3_3_IR_Paper/Result_lists/Hetionet/LargeTS/TransE/TestSet/100_genes.csv\n",
      "2023-07-06 10:48:31       6237 compbiosandbox/Projects/NNRCO_KG/Sprint_3_3_IR_Paper/Result_lists/Hetionet/LargeTS/TransE/WholeSet/100_genes.csv\n",
      "2023-07-05 17:46:56       6794 compbiosandbox/Projects/NNRCO_KG/Sprint_3_3_IR_Paper/Result_lists/Hetionet/SmallTS/CompGCN/TestSet/100_genes.csv\n",
      "2023-07-05 17:46:25       6788 compbiosandbox/Projects/NNRCO_KG/Sprint_3_3_IR_Paper/Result_lists/Hetionet/SmallTS/CompGCN/WholeSet/100_genes.csv\n",
      "2023-07-06 13:00:17     904580 compbiosandbox/Projects/NNRCO_KG/Sprint_3_3_IR_Paper/Result_lists/Hetionet/SmallTS/Elkanoto_CompGCN/TestSet/all_results.csv\n",
      "2023-07-06 13:00:20       6461 compbiosandbox/Projects/NNRCO_KG/Sprint_3_3_IR_Paper/Result_lists/Hetionet/SmallTS/Elkanoto_CompGCN/TestSet/gene_100.csv\n",
      "2023-07-06 13:00:21       1010 compbiosandbox/Projects/NNRCO_KG/Sprint_3_3_IR_Paper/Result_lists/Hetionet/SmallTS/Elkanoto_CompGCN/TestSet/scores.csv\n",
      "2023-07-06 13:00:12    4531486 compbiosandbox/Projects/NNRCO_KG/Sprint_3_3_IR_Paper/Result_lists/Hetionet/SmallTS/Elkanoto_CompGCN/WholeSet/all_results.csv\n",
      "2023-07-06 13:00:14       6530 compbiosandbox/Projects/NNRCO_KG/Sprint_3_3_IR_Paper/Result_lists/Hetionet/SmallTS/Elkanoto_CompGCN/WholeSet/gene_100.csv\n",
      "2023-07-06 13:00:15       1122 compbiosandbox/Projects/NNRCO_KG/Sprint_3_3_IR_Paper/Result_lists/Hetionet/SmallTS/Elkanoto_CompGCN/WholeSet/scores.csv\n",
      "2023-07-06 12:59:11     904580 compbiosandbox/Projects/NNRCO_KG/Sprint_3_3_IR_Paper/Result_lists/Hetionet/SmallTS/Elkanoto_RotatE/TestSet/all_results.csv\n",
      "2023-07-06 12:59:13       6461 compbiosandbox/Projects/NNRCO_KG/Sprint_3_3_IR_Paper/Result_lists/Hetionet/SmallTS/Elkanoto_RotatE/TestSet/gene_100.csv\n",
      "2023-07-06 12:59:15       1010 compbiosandbox/Projects/NNRCO_KG/Sprint_3_3_IR_Paper/Result_lists/Hetionet/SmallTS/Elkanoto_RotatE/TestSet/scores.csv\n",
      "2023-07-06 12:59:04    4531486 compbiosandbox/Projects/NNRCO_KG/Sprint_3_3_IR_Paper/Result_lists/Hetionet/SmallTS/Elkanoto_RotatE/WholeSet/all_results.csv\n",
      "2023-07-06 12:59:07       6530 compbiosandbox/Projects/NNRCO_KG/Sprint_3_3_IR_Paper/Result_lists/Hetionet/SmallTS/Elkanoto_RotatE/WholeSet/gene_100.csv\n",
      "2023-07-06 12:59:09       1122 compbiosandbox/Projects/NNRCO_KG/Sprint_3_3_IR_Paper/Result_lists/Hetionet/SmallTS/Elkanoto_RotatE/WholeSet/scores.csv\n",
      "2023-07-06 12:59:48     904580 compbiosandbox/Projects/NNRCO_KG/Sprint_3_3_IR_Paper/Result_lists/Hetionet/SmallTS/Elkanoto_TransE/TestSet/all_results.csv\n",
      "2023-07-06 12:59:49       6461 compbiosandbox/Projects/NNRCO_KG/Sprint_3_3_IR_Paper/Result_lists/Hetionet/SmallTS/Elkanoto_TransE/TestSet/gene_100.csv\n",
      "2023-07-06 12:59:50       1010 compbiosandbox/Projects/NNRCO_KG/Sprint_3_3_IR_Paper/Result_lists/Hetionet/SmallTS/Elkanoto_TransE/TestSet/scores.csv\n",
      "2023-07-06 12:59:45    4531486 compbiosandbox/Projects/NNRCO_KG/Sprint_3_3_IR_Paper/Result_lists/Hetionet/SmallTS/Elkanoto_TransE/WholeSet/all_results.csv\n",
      "2023-07-06 12:59:46       6530 compbiosandbox/Projects/NNRCO_KG/Sprint_3_3_IR_Paper/Result_lists/Hetionet/SmallTS/Elkanoto_TransE/WholeSet/gene_100.csv\n",
      "2023-07-06 12:59:47       1122 compbiosandbox/Projects/NNRCO_KG/Sprint_3_3_IR_Paper/Result_lists/Hetionet/SmallTS/Elkanoto_TransE/WholeSet/scores.csv\n",
      "2023-07-06 13:22:24     902884 compbiosandbox/Projects/NNRCO_KG/Sprint_3_3_IR_Paper/Result_lists/Hetionet/SmallTS/IsolationForest_CompGCN/TestSet/all_results.csv\n",
      "2023-07-06 13:22:25       6356 compbiosandbox/Projects/NNRCO_KG/Sprint_3_3_IR_Paper/Result_lists/Hetionet/SmallTS/IsolationForest_CompGCN/TestSet/gene_100.csv\n",
      "2023-07-06 13:22:26       1012 compbiosandbox/Projects/NNRCO_KG/Sprint_3_3_IR_Paper/Result_lists/Hetionet/SmallTS/IsolationForest_CompGCN/TestSet/scores.csv\n",
      "2023-07-06 13:22:20    4522525 compbiosandbox/Projects/NNRCO_KG/Sprint_3_3_IR_Paper/Result_lists/Hetionet/SmallTS/IsolationForest_CompGCN/WholeSet/all_results.csv\n",
      "2023-07-06 13:22:22       6388 compbiosandbox/Projects/NNRCO_KG/Sprint_3_3_IR_Paper/Result_lists/Hetionet/SmallTS/IsolationForest_CompGCN/WholeSet/gene_100.csv\n",
      "2023-07-06 13:22:23       1120 compbiosandbox/Projects/NNRCO_KG/Sprint_3_3_IR_Paper/Result_lists/Hetionet/SmallTS/IsolationForest_CompGCN/WholeSet/scores.csv\n",
      "2023-07-06 13:21:17     902884 compbiosandbox/Projects/NNRCO_KG/Sprint_3_3_IR_Paper/Result_lists/Hetionet/SmallTS/IsolationForest_RotatE/TestSet/all_results.csv\n",
      "2023-07-06 13:21:19       6356 compbiosandbox/Projects/NNRCO_KG/Sprint_3_3_IR_Paper/Result_lists/Hetionet/SmallTS/IsolationForest_RotatE/TestSet/gene_100.csv\n",
      "2023-07-06 13:21:20       1012 compbiosandbox/Projects/NNRCO_KG/Sprint_3_3_IR_Paper/Result_lists/Hetionet/SmallTS/IsolationForest_RotatE/TestSet/scores.csv\n",
      "2023-07-06 13:21:11    4522525 compbiosandbox/Projects/NNRCO_KG/Sprint_3_3_IR_Paper/Result_lists/Hetionet/SmallTS/IsolationForest_RotatE/WholeSet/all_results.csv\n",
      "2023-07-06 13:21:13       6388 compbiosandbox/Projects/NNRCO_KG/Sprint_3_3_IR_Paper/Result_lists/Hetionet/SmallTS/IsolationForest_RotatE/WholeSet/gene_100.csv\n",
      "2023-07-06 13:21:15       1120 compbiosandbox/Projects/NNRCO_KG/Sprint_3_3_IR_Paper/Result_lists/Hetionet/SmallTS/IsolationForest_RotatE/WholeSet/scores.csv\n",
      "2023-07-06 13:21:55     902884 compbiosandbox/Projects/NNRCO_KG/Sprint_3_3_IR_Paper/Result_lists/Hetionet/SmallTS/IsolationForest_TransE/TestSet/all_results.csv\n",
      "2023-07-06 13:21:56       6356 compbiosandbox/Projects/NNRCO_KG/Sprint_3_3_IR_Paper/Result_lists/Hetionet/SmallTS/IsolationForest_TransE/TestSet/gene_100.csv\n",
      "2023-07-06 13:21:57       1012 compbiosandbox/Projects/NNRCO_KG/Sprint_3_3_IR_Paper/Result_lists/Hetionet/SmallTS/IsolationForest_TransE/TestSet/scores.csv\n",
      "2023-07-06 13:21:51    4522525 compbiosandbox/Projects/NNRCO_KG/Sprint_3_3_IR_Paper/Result_lists/Hetionet/SmallTS/IsolationForest_TransE/WholeSet/all_results.csv\n",
      "2023-07-06 13:21:53       6388 compbiosandbox/Projects/NNRCO_KG/Sprint_3_3_IR_Paper/Result_lists/Hetionet/SmallTS/IsolationForest_TransE/WholeSet/gene_100.csv\n",
      "2023-07-06 13:21:54       1120 compbiosandbox/Projects/NNRCO_KG/Sprint_3_3_IR_Paper/Result_lists/Hetionet/SmallTS/IsolationForest_TransE/WholeSet/scores.csv\n",
      "2023-07-07 09:58:48     643515 compbiosandbox/Projects/NNRCO_KG/Sprint_3_3_IR_Paper/Result_lists/Hetionet/SmallTS/LocalOutlierFactor_CompGCN/TestSet/all_results.csv\n",
      "2023-07-07 09:58:49       6555 compbiosandbox/Projects/NNRCO_KG/Sprint_3_3_IR_Paper/Result_lists/Hetionet/SmallTS/LocalOutlierFactor_CompGCN/TestSet/gene_100.csv\n",
      "2023-07-07 09:58:49       1021 compbiosandbox/Projects/NNRCO_KG/Sprint_3_3_IR_Paper/Result_lists/Hetionet/SmallTS/LocalOutlierFactor_CompGCN/TestSet/scores.csv\n",
      "2023-07-07 09:58:45    3224752 compbiosandbox/Projects/NNRCO_KG/Sprint_3_3_IR_Paper/Result_lists/Hetionet/SmallTS/LocalOutlierFactor_CompGCN/WholeSet/all_results.csv\n",
      "2023-07-07 09:58:46       6576 compbiosandbox/Projects/NNRCO_KG/Sprint_3_3_IR_Paper/Result_lists/Hetionet/SmallTS/LocalOutlierFactor_CompGCN/WholeSet/gene_100.csv\n",
      "2023-07-07 09:58:47       1151 compbiosandbox/Projects/NNRCO_KG/Sprint_3_3_IR_Paper/Result_lists/Hetionet/SmallTS/LocalOutlierFactor_CompGCN/WholeSet/scores.csv\n",
      "2023-07-07 09:57:59     643515 compbiosandbox/Projects/NNRCO_KG/Sprint_3_3_IR_Paper/Result_lists/Hetionet/SmallTS/LocalOutlierFactor_RotatE/TestSet/all_results.csv\n",
      "2023-07-07 09:58:01       6555 compbiosandbox/Projects/NNRCO_KG/Sprint_3_3_IR_Paper/Result_lists/Hetionet/SmallTS/LocalOutlierFactor_RotatE/TestSet/gene_100.csv\n",
      "2023-07-07 09:58:02       1021 compbiosandbox/Projects/NNRCO_KG/Sprint_3_3_IR_Paper/Result_lists/Hetionet/SmallTS/LocalOutlierFactor_RotatE/TestSet/scores.csv\n",
      "2023-07-07 09:57:56    3224752 compbiosandbox/Projects/NNRCO_KG/Sprint_3_3_IR_Paper/Result_lists/Hetionet/SmallTS/LocalOutlierFactor_RotatE/WholeSet/all_results.csv\n",
      "2023-07-07 09:57:57       6576 compbiosandbox/Projects/NNRCO_KG/Sprint_3_3_IR_Paper/Result_lists/Hetionet/SmallTS/LocalOutlierFactor_RotatE/WholeSet/gene_100.csv\n",
      "2023-07-07 09:57:58       1151 compbiosandbox/Projects/NNRCO_KG/Sprint_3_3_IR_Paper/Result_lists/Hetionet/SmallTS/LocalOutlierFactor_RotatE/WholeSet/scores.csv\n",
      "2023-07-07 09:58:24     643515 compbiosandbox/Projects/NNRCO_KG/Sprint_3_3_IR_Paper/Result_lists/Hetionet/SmallTS/LocalOutlierFactor_TransE/TestSet/all_results.csv\n",
      "2023-07-07 09:58:25       6555 compbiosandbox/Projects/NNRCO_KG/Sprint_3_3_IR_Paper/Result_lists/Hetionet/SmallTS/LocalOutlierFactor_TransE/TestSet/gene_100.csv\n",
      "2023-07-07 09:58:26       1021 compbiosandbox/Projects/NNRCO_KG/Sprint_3_3_IR_Paper/Result_lists/Hetionet/SmallTS/LocalOutlierFactor_TransE/TestSet/scores.csv\n",
      "2023-07-07 09:58:21    3224752 compbiosandbox/Projects/NNRCO_KG/Sprint_3_3_IR_Paper/Result_lists/Hetionet/SmallTS/LocalOutlierFactor_TransE/WholeSet/all_results.csv\n",
      "2023-07-07 09:58:23       6576 compbiosandbox/Projects/NNRCO_KG/Sprint_3_3_IR_Paper/Result_lists/Hetionet/SmallTS/LocalOutlierFactor_TransE/WholeSet/gene_100.csv\n",
      "2023-07-07 09:58:23       1151 compbiosandbox/Projects/NNRCO_KG/Sprint_3_3_IR_Paper/Result_lists/Hetionet/SmallTS/LocalOutlierFactor_TransE/WholeSet/scores.csv\n",
      "2023-07-04 18:06:52       6374 compbiosandbox/Projects/NNRCO_KG/Sprint_3_3_IR_Paper/Result_lists/Hetionet/SmallTS/RotatE/TestSet/100_genes.csv\n",
      "2023-07-04 18:08:01       5777 compbiosandbox/Projects/NNRCO_KG/Sprint_3_3_IR_Paper/Result_lists/Hetionet/SmallTS/RotatE/WholeSet/100_genes.csv\n",
      "2023-07-05 17:18:48       6583 compbiosandbox/Projects/NNRCO_KG/Sprint_3_3_IR_Paper/Result_lists/Hetionet/SmallTS/TransE/TestSet/100_genes.csv\n",
      "2023-07-05 17:18:23       6569 compbiosandbox/Projects/NNRCO_KG/Sprint_3_3_IR_Paper/Result_lists/Hetionet/SmallTS/TransE/WholeSet/100_genes.csv\n",
      "2023-07-04 17:11:23       6219 compbiosandbox/Projects/NNRCO_KG/Sprint_3_3_IR_Paper/Result_lists/OBL/LargeTS/CompGCN/TestSet/100_genes.csv\n",
      "2023-07-04 17:12:23       6214 compbiosandbox/Projects/NNRCO_KG/Sprint_3_3_IR_Paper/Result_lists/OBL/LargeTS/CompGCN/WholeSet/100_genes.csv\n",
      "2023-07-06 13:09:15     968433 compbiosandbox/Projects/NNRCO_KG/Sprint_3_3_IR_Paper/Result_lists/OBL/LargeTS/Elkanoto_RotatE/TestSet/all_results.csv\n",
      "2023-07-06 13:09:16       6119 compbiosandbox/Projects/NNRCO_KG/Sprint_3_3_IR_Paper/Result_lists/OBL/LargeTS/Elkanoto_RotatE/TestSet/gene_100.csv\n",
      "2023-07-06 13:09:16       1000 compbiosandbox/Projects/NNRCO_KG/Sprint_3_3_IR_Paper/Result_lists/OBL/LargeTS/Elkanoto_RotatE/TestSet/scores.csv\n",
      "2023-07-06 13:09:11    4859140 compbiosandbox/Projects/NNRCO_KG/Sprint_3_3_IR_Paper/Result_lists/OBL/LargeTS/Elkanoto_RotatE/WholeSet/all_results.csv\n",
      "2023-07-06 13:09:13       5874 compbiosandbox/Projects/NNRCO_KG/Sprint_3_3_IR_Paper/Result_lists/OBL/LargeTS/Elkanoto_RotatE/WholeSet/gene_100.csv\n",
      "2023-07-06 13:09:14       1156 compbiosandbox/Projects/NNRCO_KG/Sprint_3_3_IR_Paper/Result_lists/OBL/LargeTS/Elkanoto_RotatE/WholeSet/scores.csv\n",
      "2023-07-06 13:09:37     968433 compbiosandbox/Projects/NNRCO_KG/Sprint_3_3_IR_Paper/Result_lists/OBL/LargeTS/Elkanoto_TransE/TestSet/all_results.csv\n",
      "2023-07-06 13:09:38       6119 compbiosandbox/Projects/NNRCO_KG/Sprint_3_3_IR_Paper/Result_lists/OBL/LargeTS/Elkanoto_TransE/TestSet/gene_100.csv\n",
      "2023-07-06 13:09:39       1000 compbiosandbox/Projects/NNRCO_KG/Sprint_3_3_IR_Paper/Result_lists/OBL/LargeTS/Elkanoto_TransE/TestSet/scores.csv\n",
      "2023-07-06 13:09:34    4859140 compbiosandbox/Projects/NNRCO_KG/Sprint_3_3_IR_Paper/Result_lists/OBL/LargeTS/Elkanoto_TransE/WholeSet/all_results.csv\n",
      "2023-07-06 13:09:36       5874 compbiosandbox/Projects/NNRCO_KG/Sprint_3_3_IR_Paper/Result_lists/OBL/LargeTS/Elkanoto_TransE/WholeSet/gene_100.csv\n",
      "2023-07-06 13:09:36       1156 compbiosandbox/Projects/NNRCO_KG/Sprint_3_3_IR_Paper/Result_lists/OBL/LargeTS/Elkanoto_TransE/WholeSet/scores.csv\n",
      "2023-07-06 16:16:48    1029816 compbiosandbox/Projects/NNRCO_KG/Sprint_3_3_IR_Paper/Result_lists/OBL/LargeTS/IsolationForest_RotatE/TestSet/all_results.csv\n",
      "2023-07-06 16:16:50       6020 compbiosandbox/Projects/NNRCO_KG/Sprint_3_3_IR_Paper/Result_lists/OBL/LargeTS/IsolationForest_RotatE/TestSet/gene_100.csv\n",
      "2023-07-06 16:16:51       1004 compbiosandbox/Projects/NNRCO_KG/Sprint_3_3_IR_Paper/Result_lists/OBL/LargeTS/IsolationForest_RotatE/TestSet/scores.csv\n",
      "2023-07-06 16:16:43    5164868 compbiosandbox/Projects/NNRCO_KG/Sprint_3_3_IR_Paper/Result_lists/OBL/LargeTS/IsolationForest_RotatE/WholeSet/all_results.csv\n",
      "2023-07-06 16:16:45       5815 compbiosandbox/Projects/NNRCO_KG/Sprint_3_3_IR_Paper/Result_lists/OBL/LargeTS/IsolationForest_RotatE/WholeSet/gene_100.csv\n",
      "2023-07-06 16:16:46       1156 compbiosandbox/Projects/NNRCO_KG/Sprint_3_3_IR_Paper/Result_lists/OBL/LargeTS/IsolationForest_RotatE/WholeSet/scores.csv\n",
      "2023-07-06 16:17:29    1029816 compbiosandbox/Projects/NNRCO_KG/Sprint_3_3_IR_Paper/Result_lists/OBL/LargeTS/IsolationForest_TransE/TestSet/all_results.csv\n",
      "2023-07-06 16:17:31       6020 compbiosandbox/Projects/NNRCO_KG/Sprint_3_3_IR_Paper/Result_lists/OBL/LargeTS/IsolationForest_TransE/TestSet/gene_100.csv\n",
      "2023-07-06 16:17:32       1004 compbiosandbox/Projects/NNRCO_KG/Sprint_3_3_IR_Paper/Result_lists/OBL/LargeTS/IsolationForest_TransE/TestSet/scores.csv\n",
      "2023-07-06 16:17:24    5164868 compbiosandbox/Projects/NNRCO_KG/Sprint_3_3_IR_Paper/Result_lists/OBL/LargeTS/IsolationForest_TransE/WholeSet/all_results.csv\n",
      "2023-07-06 16:17:26       5815 compbiosandbox/Projects/NNRCO_KG/Sprint_3_3_IR_Paper/Result_lists/OBL/LargeTS/IsolationForest_TransE/WholeSet/gene_100.csv\n",
      "2023-07-06 16:17:27       1156 compbiosandbox/Projects/NNRCO_KG/Sprint_3_3_IR_Paper/Result_lists/OBL/LargeTS/IsolationForest_TransE/WholeSet/scores.csv\n",
      "2023-07-04 16:35:48      62515 compbiosandbox/Projects/NNRCO_KG/Sprint_3_3_IR_Paper/Result_lists/OBL/LargeTS/RotatE/TestSet/1000_genes.csv\n",
      "2023-07-04 16:35:58       6019 compbiosandbox/Projects/NNRCO_KG/Sprint_3_3_IR_Paper/Result_lists/OBL/LargeTS/RotatE/TestSet/100_genes.csv\n",
      "2023-07-04 16:23:00      61720 compbiosandbox/Projects/NNRCO_KG/Sprint_3_3_IR_Paper/Result_lists/OBL/LargeTS/RotatE/WholeSet/1000_genes.csv\n",
      "2023-07-04 15:50:36       5853 compbiosandbox/Projects/NNRCO_KG/Sprint_3_3_IR_Paper/Result_lists/OBL/LargeTS/RotatE/WholeSet/100_genes.csv\n",
      "2023-07-05 10:59:55    1076138 compbiosandbox/Projects/NNRCO_KG/Sprint_3_3_IR_Paper/Result_lists/OBL/LargeTS/Topology/TestSet/all_results.csv\n",
      "2023-07-05 10:59:56       5782 compbiosandbox/Projects/NNRCO_KG/Sprint_3_3_IR_Paper/Result_lists/OBL/LargeTS/Topology/TestSet/gene_100.csv\n",
      "2023-07-05 10:59:57       1130 compbiosandbox/Projects/NNRCO_KG/Sprint_3_3_IR_Paper/Result_lists/OBL/LargeTS/Topology/TestSet/scores.csv\n",
      "2023-07-05 10:59:52    5389936 compbiosandbox/Projects/NNRCO_KG/Sprint_3_3_IR_Paper/Result_lists/OBL/LargeTS/Topology/WholeSet/all_results.csv\n",
      "2023-07-05 10:59:53       5678 compbiosandbox/Projects/NNRCO_KG/Sprint_3_3_IR_Paper/Result_lists/OBL/LargeTS/Topology/WholeSet/gene_100.csv\n",
      "2023-07-05 10:59:54       1202 compbiosandbox/Projects/NNRCO_KG/Sprint_3_3_IR_Paper/Result_lists/OBL/LargeTS/Topology/WholeSet/scores.csv\n",
      "2023-07-05 11:44:14       6307 compbiosandbox/Projects/NNRCO_KG/Sprint_3_3_IR_Paper/Result_lists/OBL/LargeTS/TransE/TestSet/100_genes.csv\n",
      "2023-07-05 11:43:54       6270 compbiosandbox/Projects/NNRCO_KG/Sprint_3_3_IR_Paper/Result_lists/OBL/LargeTS/TransE/WholeSet/100_genes.csv\n",
      "2023-07-04 17:06:24       6219 compbiosandbox/Projects/NNRCO_KG/Sprint_3_3_IR_Paper/Result_lists/OBL/SmallTS/CompGCN/TestSet/100_genes.csv\n",
      "2023-07-04 17:05:55       6214 compbiosandbox/Projects/NNRCO_KG/Sprint_3_3_IR_Paper/Result_lists/OBL/SmallTS/CompGCN/WholeSet/100_genes.csv\n",
      "2023-07-06 13:09:20     971104 compbiosandbox/Projects/NNRCO_KG/Sprint_3_3_IR_Paper/Result_lists/OBL/SmallTS/Elkanoto_RotatE/TestSet/all_results.csv\n",
      "2023-07-06 13:09:21       6049 compbiosandbox/Projects/NNRCO_KG/Sprint_3_3_IR_Paper/Result_lists/OBL/SmallTS/Elkanoto_RotatE/TestSet/gene_100.csv\n",
      "2023-07-06 13:09:22       1026 compbiosandbox/Projects/NNRCO_KG/Sprint_3_3_IR_Paper/Result_lists/OBL/SmallTS/Elkanoto_RotatE/TestSet/scores.csv\n",
      "2023-07-06 13:09:17    4825304 compbiosandbox/Projects/NNRCO_KG/Sprint_3_3_IR_Paper/Result_lists/OBL/SmallTS/Elkanoto_RotatE/WholeSet/all_results.csv\n",
      "2023-07-06 13:09:19       6133 compbiosandbox/Projects/NNRCO_KG/Sprint_3_3_IR_Paper/Result_lists/OBL/SmallTS/Elkanoto_RotatE/WholeSet/gene_100.csv\n",
      "2023-07-06 13:09:19       1143 compbiosandbox/Projects/NNRCO_KG/Sprint_3_3_IR_Paper/Result_lists/OBL/SmallTS/Elkanoto_RotatE/WholeSet/scores.csv\n",
      "2023-07-06 13:09:43     971104 compbiosandbox/Projects/NNRCO_KG/Sprint_3_3_IR_Paper/Result_lists/OBL/SmallTS/Elkanoto_TransE/TestSet/all_results.csv\n",
      "2023-07-06 13:09:44       6049 compbiosandbox/Projects/NNRCO_KG/Sprint_3_3_IR_Paper/Result_lists/OBL/SmallTS/Elkanoto_TransE/TestSet/gene_100.csv\n",
      "2023-07-06 13:09:45       1026 compbiosandbox/Projects/NNRCO_KG/Sprint_3_3_IR_Paper/Result_lists/OBL/SmallTS/Elkanoto_TransE/TestSet/scores.csv\n",
      "2023-07-06 13:09:40    4825304 compbiosandbox/Projects/NNRCO_KG/Sprint_3_3_IR_Paper/Result_lists/OBL/SmallTS/Elkanoto_TransE/WholeSet/all_results.csv\n",
      "2023-07-06 13:09:41       6133 compbiosandbox/Projects/NNRCO_KG/Sprint_3_3_IR_Paper/Result_lists/OBL/SmallTS/Elkanoto_TransE/WholeSet/gene_100.csv\n",
      "2023-07-06 13:09:42       1143 compbiosandbox/Projects/NNRCO_KG/Sprint_3_3_IR_Paper/Result_lists/OBL/SmallTS/Elkanoto_TransE/WholeSet/scores.csv\n",
      "2023-07-06 16:16:58    1038140 compbiosandbox/Projects/NNRCO_KG/Sprint_3_3_IR_Paper/Result_lists/OBL/SmallTS/IsolationForest_RotatE/TestSet/all_results.csv\n",
      "2023-07-06 16:17:00       6060 compbiosandbox/Projects/NNRCO_KG/Sprint_3_3_IR_Paper/Result_lists/OBL/SmallTS/IsolationForest_RotatE/TestSet/gene_100.csv\n",
      "2023-07-06 16:17:02       1007 compbiosandbox/Projects/NNRCO_KG/Sprint_3_3_IR_Paper/Result_lists/OBL/SmallTS/IsolationForest_RotatE/TestSet/scores.csv\n",
      "2023-07-06 16:16:53    5155267 compbiosandbox/Projects/NNRCO_KG/Sprint_3_3_IR_Paper/Result_lists/OBL/SmallTS/IsolationForest_RotatE/WholeSet/all_results.csv\n",
      "2023-07-06 16:16:55       5974 compbiosandbox/Projects/NNRCO_KG/Sprint_3_3_IR_Paper/Result_lists/OBL/SmallTS/IsolationForest_RotatE/WholeSet/gene_100.csv\n",
      "2023-07-06 16:16:57       1152 compbiosandbox/Projects/NNRCO_KG/Sprint_3_3_IR_Paper/Result_lists/OBL/SmallTS/IsolationForest_RotatE/WholeSet/scores.csv\n",
      "2023-07-06 16:17:39    1038140 compbiosandbox/Projects/NNRCO_KG/Sprint_3_3_IR_Paper/Result_lists/OBL/SmallTS/IsolationForest_TransE/TestSet/all_results.csv\n",
      "2023-07-06 16:17:41       6060 compbiosandbox/Projects/NNRCO_KG/Sprint_3_3_IR_Paper/Result_lists/OBL/SmallTS/IsolationForest_TransE/TestSet/gene_100.csv\n",
      "2023-07-06 16:17:43       1007 compbiosandbox/Projects/NNRCO_KG/Sprint_3_3_IR_Paper/Result_lists/OBL/SmallTS/IsolationForest_TransE/TestSet/scores.csv\n",
      "2023-07-06 16:17:34    5155267 compbiosandbox/Projects/NNRCO_KG/Sprint_3_3_IR_Paper/Result_lists/OBL/SmallTS/IsolationForest_TransE/WholeSet/all_results.csv\n",
      "2023-07-06 16:17:36       5974 compbiosandbox/Projects/NNRCO_KG/Sprint_3_3_IR_Paper/Result_lists/OBL/SmallTS/IsolationForest_TransE/WholeSet/gene_100.csv\n",
      "2023-07-06 16:17:38       1152 compbiosandbox/Projects/NNRCO_KG/Sprint_3_3_IR_Paper/Result_lists/OBL/SmallTS/IsolationForest_TransE/WholeSet/scores.csv\n",
      "2023-07-04 16:56:41       6044 compbiosandbox/Projects/NNRCO_KG/Sprint_3_3_IR_Paper/Result_lists/OBL/SmallTS/RotatE/TestSet/100_genes.csv\n",
      "2023-07-04 16:57:07       6097 compbiosandbox/Projects/NNRCO_KG/Sprint_3_3_IR_Paper/Result_lists/OBL/SmallTS/RotatE/WholeSet/100_genes.csv\n",
      "2023-07-05 11:00:02    1093749 compbiosandbox/Projects/NNRCO_KG/Sprint_3_3_IR_Paper/Result_lists/OBL/SmallTS/Topology/TestSet/all_results.csv\n",
      "2023-07-05 11:00:03       6141 compbiosandbox/Projects/NNRCO_KG/Sprint_3_3_IR_Paper/Result_lists/OBL/SmallTS/Topology/TestSet/gene_100.csv\n",
      "2023-07-05 11:00:04       1125 compbiosandbox/Projects/NNRCO_KG/Sprint_3_3_IR_Paper/Result_lists/OBL/SmallTS/Topology/TestSet/scores.csv\n",
      "2023-07-05 10:59:58    5382938 compbiosandbox/Projects/NNRCO_KG/Sprint_3_3_IR_Paper/Result_lists/OBL/SmallTS/Topology/WholeSet/all_results.csv\n",
      "2023-07-05 11:00:00       6167 compbiosandbox/Projects/NNRCO_KG/Sprint_3_3_IR_Paper/Result_lists/OBL/SmallTS/Topology/WholeSet/gene_100.csv\n",
      "2023-07-05 11:00:00       1161 compbiosandbox/Projects/NNRCO_KG/Sprint_3_3_IR_Paper/Result_lists/OBL/SmallTS/Topology/WholeSet/scores.csv\n",
      "2023-07-04 16:46:13       6165 compbiosandbox/Projects/NNRCO_KG/Sprint_3_3_IR_Paper/Result_lists/OBL/SmallTS/TransE/TestSet/100_genes.csv\n",
      "2023-07-04 16:47:29       6165 compbiosandbox/Projects/NNRCO_KG/Sprint_3_3_IR_Paper/Result_lists/OBL/SmallTS/TransE/WholeSet/100_genes.csv\n",
      "2023-07-06 13:00:29     920222 compbiosandbox/Projects/NNRCO_KG/Sprint_3_3_IR_Paper/Result_lists/enrichedHetionet/LargeTS/Elkanoto_CompGCN/TestSet/all_results.csv\n",
      "2023-07-06 13:00:31       6090 compbiosandbox/Projects/NNRCO_KG/Sprint_3_3_IR_Paper/Result_lists/enrichedHetionet/LargeTS/Elkanoto_CompGCN/TestSet/gene_100.csv\n",
      "2023-07-06 13:00:33       1025 compbiosandbox/Projects/NNRCO_KG/Sprint_3_3_IR_Paper/Result_lists/enrichedHetionet/LargeTS/Elkanoto_CompGCN/TestSet/scores.csv\n",
      "2023-07-06 13:00:23    4617656 compbiosandbox/Projects/NNRCO_KG/Sprint_3_3_IR_Paper/Result_lists/enrichedHetionet/LargeTS/Elkanoto_CompGCN/WholeSet/all_results.csv\n",
      "2023-07-06 13:00:26       6003 compbiosandbox/Projects/NNRCO_KG/Sprint_3_3_IR_Paper/Result_lists/enrichedHetionet/LargeTS/Elkanoto_CompGCN/WholeSet/gene_100.csv\n",
      "2023-07-06 13:00:27       1151 compbiosandbox/Projects/NNRCO_KG/Sprint_3_3_IR_Paper/Result_lists/enrichedHetionet/LargeTS/Elkanoto_CompGCN/WholeSet/scores.csv\n",
      "2023-07-06 12:59:24     920222 compbiosandbox/Projects/NNRCO_KG/Sprint_3_3_IR_Paper/Result_lists/enrichedHetionet/LargeTS/Elkanoto_RotatE/TestSet/all_results.csv\n",
      "2023-07-06 12:59:26       6090 compbiosandbox/Projects/NNRCO_KG/Sprint_3_3_IR_Paper/Result_lists/enrichedHetionet/LargeTS/Elkanoto_RotatE/TestSet/gene_100.csv\n",
      "2023-07-06 12:59:28       1025 compbiosandbox/Projects/NNRCO_KG/Sprint_3_3_IR_Paper/Result_lists/enrichedHetionet/LargeTS/Elkanoto_RotatE/TestSet/scores.csv\n",
      "2023-07-06 12:59:17    4617656 compbiosandbox/Projects/NNRCO_KG/Sprint_3_3_IR_Paper/Result_lists/enrichedHetionet/LargeTS/Elkanoto_RotatE/WholeSet/all_results.csv\n",
      "2023-07-06 12:59:20       6003 compbiosandbox/Projects/NNRCO_KG/Sprint_3_3_IR_Paper/Result_lists/enrichedHetionet/LargeTS/Elkanoto_RotatE/WholeSet/gene_100.csv\n",
      "2023-07-06 12:59:22       1151 compbiosandbox/Projects/NNRCO_KG/Sprint_3_3_IR_Paper/Result_lists/enrichedHetionet/LargeTS/Elkanoto_RotatE/WholeSet/scores.csv\n",
      "2023-07-06 12:59:54     920222 compbiosandbox/Projects/NNRCO_KG/Sprint_3_3_IR_Paper/Result_lists/enrichedHetionet/LargeTS/Elkanoto_TransE/TestSet/all_results.csv\n",
      "2023-07-06 12:59:55       6090 compbiosandbox/Projects/NNRCO_KG/Sprint_3_3_IR_Paper/Result_lists/enrichedHetionet/LargeTS/Elkanoto_TransE/TestSet/gene_100.csv\n",
      "2023-07-06 12:59:56       1025 compbiosandbox/Projects/NNRCO_KG/Sprint_3_3_IR_Paper/Result_lists/enrichedHetionet/LargeTS/Elkanoto_TransE/TestSet/scores.csv\n",
      "2023-07-06 12:59:51    4617656 compbiosandbox/Projects/NNRCO_KG/Sprint_3_3_IR_Paper/Result_lists/enrichedHetionet/LargeTS/Elkanoto_TransE/WholeSet/all_results.csv\n",
      "2023-07-06 12:59:52       6003 compbiosandbox/Projects/NNRCO_KG/Sprint_3_3_IR_Paper/Result_lists/enrichedHetionet/LargeTS/Elkanoto_TransE/WholeSet/gene_100.csv\n",
      "2023-07-06 12:59:53       1151 compbiosandbox/Projects/NNRCO_KG/Sprint_3_3_IR_Paper/Result_lists/enrichedHetionet/LargeTS/Elkanoto_TransE/WholeSet/scores.csv\n",
      "2023-07-06 13:22:32     917246 compbiosandbox/Projects/NNRCO_KG/Sprint_3_3_IR_Paper/Result_lists/enrichedHetionet/LargeTS/IsolationForest_CompGCN/TestSet/all_results.csv\n",
      "2023-07-06 13:22:34       6232 compbiosandbox/Projects/NNRCO_KG/Sprint_3_3_IR_Paper/Result_lists/enrichedHetionet/LargeTS/IsolationForest_CompGCN/TestSet/gene_100.csv\n",
      "2023-07-06 13:22:35       1016 compbiosandbox/Projects/NNRCO_KG/Sprint_3_3_IR_Paper/Result_lists/enrichedHetionet/LargeTS/IsolationForest_CompGCN/TestSet/scores.csv\n",
      "2023-07-06 13:22:27    4602506 compbiosandbox/Projects/NNRCO_KG/Sprint_3_3_IR_Paper/Result_lists/enrichedHetionet/LargeTS/IsolationForest_CompGCN/WholeSet/all_results.csv\n",
      "2023-07-06 13:22:29       5949 compbiosandbox/Projects/NNRCO_KG/Sprint_3_3_IR_Paper/Result_lists/enrichedHetionet/LargeTS/IsolationForest_CompGCN/WholeSet/gene_100.csv\n",
      "2023-07-06 13:22:31       1139 compbiosandbox/Projects/NNRCO_KG/Sprint_3_3_IR_Paper/Result_lists/enrichedHetionet/LargeTS/IsolationForest_CompGCN/WholeSet/scores.csv\n",
      "2023-07-06 13:21:29     917246 compbiosandbox/Projects/NNRCO_KG/Sprint_3_3_IR_Paper/Result_lists/enrichedHetionet/LargeTS/IsolationForest_RotatE/TestSet/all_results.csv\n",
      "2023-07-06 13:21:31       6232 compbiosandbox/Projects/NNRCO_KG/Sprint_3_3_IR_Paper/Result_lists/enrichedHetionet/LargeTS/IsolationForest_RotatE/TestSet/gene_100.csv\n",
      "2023-07-06 13:21:32       1016 compbiosandbox/Projects/NNRCO_KG/Sprint_3_3_IR_Paper/Result_lists/enrichedHetionet/LargeTS/IsolationForest_RotatE/TestSet/scores.csv\n",
      "2023-07-06 13:21:22    4602506 compbiosandbox/Projects/NNRCO_KG/Sprint_3_3_IR_Paper/Result_lists/enrichedHetionet/LargeTS/IsolationForest_RotatE/WholeSet/all_results.csv\n",
      "2023-07-06 13:21:25       5949 compbiosandbox/Projects/NNRCO_KG/Sprint_3_3_IR_Paper/Result_lists/enrichedHetionet/LargeTS/IsolationForest_RotatE/WholeSet/gene_100.csv\n",
      "2023-07-06 13:21:27       1139 compbiosandbox/Projects/NNRCO_KG/Sprint_3_3_IR_Paper/Result_lists/enrichedHetionet/LargeTS/IsolationForest_RotatE/WholeSet/scores.csv\n",
      "2023-07-06 13:22:03     917246 compbiosandbox/Projects/NNRCO_KG/Sprint_3_3_IR_Paper/Result_lists/enrichedHetionet/LargeTS/IsolationForest_TransE/TestSet/all_results.csv\n",
      "2023-07-06 13:22:04       6232 compbiosandbox/Projects/NNRCO_KG/Sprint_3_3_IR_Paper/Result_lists/enrichedHetionet/LargeTS/IsolationForest_TransE/TestSet/gene_100.csv\n",
      "2023-07-06 13:22:04       1016 compbiosandbox/Projects/NNRCO_KG/Sprint_3_3_IR_Paper/Result_lists/enrichedHetionet/LargeTS/IsolationForest_TransE/TestSet/scores.csv\n",
      "2023-07-06 13:21:59    4602506 compbiosandbox/Projects/NNRCO_KG/Sprint_3_3_IR_Paper/Result_lists/enrichedHetionet/LargeTS/IsolationForest_TransE/WholeSet/all_results.csv\n",
      "2023-07-06 13:22:00       5949 compbiosandbox/Projects/NNRCO_KG/Sprint_3_3_IR_Paper/Result_lists/enrichedHetionet/LargeTS/IsolationForest_TransE/WholeSet/gene_100.csv\n",
      "2023-07-06 13:22:01       1139 compbiosandbox/Projects/NNRCO_KG/Sprint_3_3_IR_Paper/Result_lists/enrichedHetionet/LargeTS/IsolationForest_TransE/WholeSet/scores.csv\n",
      "2023-07-07 09:58:53     641210 compbiosandbox/Projects/NNRCO_KG/Sprint_3_3_IR_Paper/Result_lists/enrichedHetionet/LargeTS/LocalOutlierFactor_CompGCN/TestSet/all_results.csv\n",
      "2023-07-07 09:58:54       6467 compbiosandbox/Projects/NNRCO_KG/Sprint_3_3_IR_Paper/Result_lists/enrichedHetionet/LargeTS/LocalOutlierFactor_CompGCN/TestSet/gene_100.csv\n",
      "2023-07-07 09:58:55       1031 compbiosandbox/Projects/NNRCO_KG/Sprint_3_3_IR_Paper/Result_lists/enrichedHetionet/LargeTS/LocalOutlierFactor_CompGCN/TestSet/scores.csv\n",
      "2023-07-07 09:58:50    3205301 compbiosandbox/Projects/NNRCO_KG/Sprint_3_3_IR_Paper/Result_lists/enrichedHetionet/LargeTS/LocalOutlierFactor_CompGCN/WholeSet/all_results.csv\n",
      "2023-07-07 09:58:51       6237 compbiosandbox/Projects/NNRCO_KG/Sprint_3_3_IR_Paper/Result_lists/enrichedHetionet/LargeTS/LocalOutlierFactor_CompGCN/WholeSet/gene_100.csv\n",
      "2023-07-07 09:58:52       1149 compbiosandbox/Projects/NNRCO_KG/Sprint_3_3_IR_Paper/Result_lists/enrichedHetionet/LargeTS/LocalOutlierFactor_CompGCN/WholeSet/scores.csv\n",
      "2023-07-07 09:58:07     641210 compbiosandbox/Projects/NNRCO_KG/Sprint_3_3_IR_Paper/Result_lists/enrichedHetionet/LargeTS/LocalOutlierFactor_RotatE/TestSet/all_results.csv\n",
      "2023-07-07 09:58:07       6467 compbiosandbox/Projects/NNRCO_KG/Sprint_3_3_IR_Paper/Result_lists/enrichedHetionet/LargeTS/LocalOutlierFactor_RotatE/TestSet/gene_100.csv\n",
      "2023-07-07 09:58:08       1031 compbiosandbox/Projects/NNRCO_KG/Sprint_3_3_IR_Paper/Result_lists/enrichedHetionet/LargeTS/LocalOutlierFactor_RotatE/TestSet/scores.csv\n",
      "2023-07-07 09:58:02    3205301 compbiosandbox/Projects/NNRCO_KG/Sprint_3_3_IR_Paper/Result_lists/enrichedHetionet/LargeTS/LocalOutlierFactor_RotatE/WholeSet/all_results.csv\n",
      "2023-07-07 09:58:04       6237 compbiosandbox/Projects/NNRCO_KG/Sprint_3_3_IR_Paper/Result_lists/enrichedHetionet/LargeTS/LocalOutlierFactor_RotatE/WholeSet/gene_100.csv\n",
      "2023-07-07 09:58:05       1149 compbiosandbox/Projects/NNRCO_KG/Sprint_3_3_IR_Paper/Result_lists/enrichedHetionet/LargeTS/LocalOutlierFactor_RotatE/WholeSet/scores.csv\n",
      "2023-07-07 09:58:30     641210 compbiosandbox/Projects/NNRCO_KG/Sprint_3_3_IR_Paper/Result_lists/enrichedHetionet/LargeTS/LocalOutlierFactor_TransE/TestSet/all_results.csv\n",
      "2023-07-07 09:58:31       6467 compbiosandbox/Projects/NNRCO_KG/Sprint_3_3_IR_Paper/Result_lists/enrichedHetionet/LargeTS/LocalOutlierFactor_TransE/TestSet/gene_100.csv\n",
      "2023-07-07 09:58:32       1031 compbiosandbox/Projects/NNRCO_KG/Sprint_3_3_IR_Paper/Result_lists/enrichedHetionet/LargeTS/LocalOutlierFactor_TransE/TestSet/scores.csv\n",
      "2023-07-07 09:58:27    3205301 compbiosandbox/Projects/NNRCO_KG/Sprint_3_3_IR_Paper/Result_lists/enrichedHetionet/LargeTS/LocalOutlierFactor_TransE/WholeSet/all_results.csv\n",
      "2023-07-07 09:58:29       6237 compbiosandbox/Projects/NNRCO_KG/Sprint_3_3_IR_Paper/Result_lists/enrichedHetionet/LargeTS/LocalOutlierFactor_TransE/WholeSet/gene_100.csv\n",
      "2023-07-07 09:58:29       1149 compbiosandbox/Projects/NNRCO_KG/Sprint_3_3_IR_Paper/Result_lists/enrichedHetionet/LargeTS/LocalOutlierFactor_TransE/WholeSet/scores.csv\n",
      "2023-07-06 13:00:41     902019 compbiosandbox/Projects/NNRCO_KG/Sprint_3_3_IR_Paper/Result_lists/enrichedHetionet/SmallTS/Elkanoto_CompGCN/TestSet/all_results.csv\n",
      "2023-07-06 13:00:43       6347 compbiosandbox/Projects/NNRCO_KG/Sprint_3_3_IR_Paper/Result_lists/enrichedHetionet/SmallTS/Elkanoto_CompGCN/TestSet/gene_100.csv\n",
      "2023-07-06 13:00:44       1004 compbiosandbox/Projects/NNRCO_KG/Sprint_3_3_IR_Paper/Result_lists/enrichedHetionet/SmallTS/Elkanoto_CompGCN/TestSet/scores.csv\n",
      "2023-07-06 13:00:35    4518493 compbiosandbox/Projects/NNRCO_KG/Sprint_3_3_IR_Paper/Result_lists/enrichedHetionet/SmallTS/Elkanoto_CompGCN/WholeSet/all_results.csv\n",
      "2023-07-06 13:00:37       6444 compbiosandbox/Projects/NNRCO_KG/Sprint_3_3_IR_Paper/Result_lists/enrichedHetionet/SmallTS/Elkanoto_CompGCN/WholeSet/gene_100.csv\n",
      "2023-07-06 13:00:39       1118 compbiosandbox/Projects/NNRCO_KG/Sprint_3_3_IR_Paper/Result_lists/enrichedHetionet/SmallTS/Elkanoto_CompGCN/WholeSet/scores.csv\n",
      "2023-07-06 12:59:35     902019 compbiosandbox/Projects/NNRCO_KG/Sprint_3_3_IR_Paper/Result_lists/enrichedHetionet/SmallTS/Elkanoto_RotatE/TestSet/all_results.csv\n",
      "2023-07-06 12:59:36       6347 compbiosandbox/Projects/NNRCO_KG/Sprint_3_3_IR_Paper/Result_lists/enrichedHetionet/SmallTS/Elkanoto_RotatE/TestSet/gene_100.csv\n",
      "2023-07-06 12:59:37       1004 compbiosandbox/Projects/NNRCO_KG/Sprint_3_3_IR_Paper/Result_lists/enrichedHetionet/SmallTS/Elkanoto_RotatE/TestSet/scores.csv\n",
      "2023-07-06 12:59:30    4518493 compbiosandbox/Projects/NNRCO_KG/Sprint_3_3_IR_Paper/Result_lists/enrichedHetionet/SmallTS/Elkanoto_RotatE/WholeSet/all_results.csv\n",
      "2023-07-06 12:59:32       6444 compbiosandbox/Projects/NNRCO_KG/Sprint_3_3_IR_Paper/Result_lists/enrichedHetionet/SmallTS/Elkanoto_RotatE/WholeSet/gene_100.csv\n",
      "2023-07-06 12:59:33       1118 compbiosandbox/Projects/NNRCO_KG/Sprint_3_3_IR_Paper/Result_lists/enrichedHetionet/SmallTS/Elkanoto_RotatE/WholeSet/scores.csv\n",
      "2023-07-06 13:00:00     902019 compbiosandbox/Projects/NNRCO_KG/Sprint_3_3_IR_Paper/Result_lists/enrichedHetionet/SmallTS/Elkanoto_TransE/TestSet/all_results.csv\n",
      "2023-07-06 13:00:01       6347 compbiosandbox/Projects/NNRCO_KG/Sprint_3_3_IR_Paper/Result_lists/enrichedHetionet/SmallTS/Elkanoto_TransE/TestSet/gene_100.csv\n",
      "2023-07-06 13:00:02       1004 compbiosandbox/Projects/NNRCO_KG/Sprint_3_3_IR_Paper/Result_lists/enrichedHetionet/SmallTS/Elkanoto_TransE/TestSet/scores.csv\n",
      "2023-07-06 12:59:57    4518493 compbiosandbox/Projects/NNRCO_KG/Sprint_3_3_IR_Paper/Result_lists/enrichedHetionet/SmallTS/Elkanoto_TransE/WholeSet/all_results.csv\n",
      "2023-07-06 12:59:58       6444 compbiosandbox/Projects/NNRCO_KG/Sprint_3_3_IR_Paper/Result_lists/enrichedHetionet/SmallTS/Elkanoto_TransE/WholeSet/gene_100.csv\n",
      "2023-07-06 12:59:59       1118 compbiosandbox/Projects/NNRCO_KG/Sprint_3_3_IR_Paper/Result_lists/enrichedHetionet/SmallTS/Elkanoto_TransE/WholeSet/scores.csv\n",
      "2023-07-06 13:22:42     902217 compbiosandbox/Projects/NNRCO_KG/Sprint_3_3_IR_Paper/Result_lists/enrichedHetionet/SmallTS/IsolationForest_CompGCN/TestSet/all_results.csv\n",
      "2023-07-06 13:22:44       6490 compbiosandbox/Projects/NNRCO_KG/Sprint_3_3_IR_Paper/Result_lists/enrichedHetionet/SmallTS/IsolationForest_CompGCN/TestSet/gene_100.csv\n",
      "2023-07-06 13:22:46        998 compbiosandbox/Projects/NNRCO_KG/Sprint_3_3_IR_Paper/Result_lists/enrichedHetionet/SmallTS/IsolationForest_CompGCN/TestSet/scores.csv\n",
      "2023-07-06 13:22:37    4519486 compbiosandbox/Projects/NNRCO_KG/Sprint_3_3_IR_Paper/Result_lists/enrichedHetionet/SmallTS/IsolationForest_CompGCN/WholeSet/all_results.csv\n",
      "2023-07-06 13:22:39       6523 compbiosandbox/Projects/NNRCO_KG/Sprint_3_3_IR_Paper/Result_lists/enrichedHetionet/SmallTS/IsolationForest_CompGCN/WholeSet/gene_100.csv\n",
      "2023-07-06 13:22:41       1121 compbiosandbox/Projects/NNRCO_KG/Sprint_3_3_IR_Paper/Result_lists/enrichedHetionet/SmallTS/IsolationForest_CompGCN/WholeSet/scores.csv\n",
      "2023-07-06 13:21:40     902217 compbiosandbox/Projects/NNRCO_KG/Sprint_3_3_IR_Paper/Result_lists/enrichedHetionet/SmallTS/IsolationForest_RotatE/TestSet/all_results.csv\n",
      "2023-07-06 13:21:41       6490 compbiosandbox/Projects/NNRCO_KG/Sprint_3_3_IR_Paper/Result_lists/enrichedHetionet/SmallTS/IsolationForest_RotatE/TestSet/gene_100.csv\n",
      "2023-07-06 13:21:43        998 compbiosandbox/Projects/NNRCO_KG/Sprint_3_3_IR_Paper/Result_lists/enrichedHetionet/SmallTS/IsolationForest_RotatE/TestSet/scores.csv\n",
      "2023-07-06 13:21:34    4519486 compbiosandbox/Projects/NNRCO_KG/Sprint_3_3_IR_Paper/Result_lists/enrichedHetionet/SmallTS/IsolationForest_RotatE/WholeSet/all_results.csv\n",
      "2023-07-06 13:21:36       6523 compbiosandbox/Projects/NNRCO_KG/Sprint_3_3_IR_Paper/Result_lists/enrichedHetionet/SmallTS/IsolationForest_RotatE/WholeSet/gene_100.csv\n",
      "2023-07-06 13:21:38       1121 compbiosandbox/Projects/NNRCO_KG/Sprint_3_3_IR_Paper/Result_lists/enrichedHetionet/SmallTS/IsolationForest_RotatE/WholeSet/scores.csv\n",
      "2023-07-06 13:22:09     902217 compbiosandbox/Projects/NNRCO_KG/Sprint_3_3_IR_Paper/Result_lists/enrichedHetionet/SmallTS/IsolationForest_TransE/TestSet/all_results.csv\n",
      "2023-07-06 13:22:10       6490 compbiosandbox/Projects/NNRCO_KG/Sprint_3_3_IR_Paper/Result_lists/enrichedHetionet/SmallTS/IsolationForest_TransE/TestSet/gene_100.csv\n",
      "2023-07-06 13:22:12        998 compbiosandbox/Projects/NNRCO_KG/Sprint_3_3_IR_Paper/Result_lists/enrichedHetionet/SmallTS/IsolationForest_TransE/TestSet/scores.csv\n",
      "2023-07-06 13:22:05    4519486 compbiosandbox/Projects/NNRCO_KG/Sprint_3_3_IR_Paper/Result_lists/enrichedHetionet/SmallTS/IsolationForest_TransE/WholeSet/all_results.csv\n",
      "2023-07-06 13:22:07       6523 compbiosandbox/Projects/NNRCO_KG/Sprint_3_3_IR_Paper/Result_lists/enrichedHetionet/SmallTS/IsolationForest_TransE/WholeSet/gene_100.csv\n",
      "2023-07-06 13:22:08       1121 compbiosandbox/Projects/NNRCO_KG/Sprint_3_3_IR_Paper/Result_lists/enrichedHetionet/SmallTS/IsolationForest_TransE/WholeSet/scores.csv\n",
      "2023-07-07 09:59:00     649659 compbiosandbox/Projects/NNRCO_KG/Sprint_3_3_IR_Paper/Result_lists/enrichedHetionet/SmallTS/LocalOutlierFactor_CompGCN/TestSet/all_results.csv\n",
      "2023-07-07 09:59:01       6486 compbiosandbox/Projects/NNRCO_KG/Sprint_3_3_IR_Paper/Result_lists/enrichedHetionet/SmallTS/LocalOutlierFactor_CompGCN/TestSet/gene_100.csv\n",
      "2023-07-07 09:59:02       1029 compbiosandbox/Projects/NNRCO_KG/Sprint_3_3_IR_Paper/Result_lists/enrichedHetionet/SmallTS/LocalOutlierFactor_CompGCN/TestSet/scores.csv\n",
      "2023-07-07 09:58:56    3194043 compbiosandbox/Projects/NNRCO_KG/Sprint_3_3_IR_Paper/Result_lists/enrichedHetionet/SmallTS/LocalOutlierFactor_CompGCN/WholeSet/all_results.csv\n",
      "2023-07-07 09:58:58       6580 compbiosandbox/Projects/NNRCO_KG/Sprint_3_3_IR_Paper/Result_lists/enrichedHetionet/SmallTS/LocalOutlierFactor_CompGCN/WholeSet/gene_100.csv\n",
      "2023-07-07 09:58:59       1136 compbiosandbox/Projects/NNRCO_KG/Sprint_3_3_IR_Paper/Result_lists/enrichedHetionet/SmallTS/LocalOutlierFactor_CompGCN/WholeSet/scores.csv\n",
      "2023-07-07 09:58:12     649659 compbiosandbox/Projects/NNRCO_KG/Sprint_3_3_IR_Paper/Result_lists/enrichedHetionet/SmallTS/LocalOutlierFactor_RotatE/TestSet/all_results.csv\n",
      "2023-07-07 09:58:13       6486 compbiosandbox/Projects/NNRCO_KG/Sprint_3_3_IR_Paper/Result_lists/enrichedHetionet/SmallTS/LocalOutlierFactor_RotatE/TestSet/gene_100.csv\n",
      "2023-07-07 09:58:14       1029 compbiosandbox/Projects/NNRCO_KG/Sprint_3_3_IR_Paper/Result_lists/enrichedHetionet/SmallTS/LocalOutlierFactor_RotatE/TestSet/scores.csv\n",
      "2023-07-07 09:58:09    3194043 compbiosandbox/Projects/NNRCO_KG/Sprint_3_3_IR_Paper/Result_lists/enrichedHetionet/SmallTS/LocalOutlierFactor_RotatE/WholeSet/all_results.csv\n",
      "2023-07-07 09:58:11       6580 compbiosandbox/Projects/NNRCO_KG/Sprint_3_3_IR_Paper/Result_lists/enrichedHetionet/SmallTS/LocalOutlierFactor_RotatE/WholeSet/gene_100.csv\n",
      "2023-07-07 09:58:11       1136 compbiosandbox/Projects/NNRCO_KG/Sprint_3_3_IR_Paper/Result_lists/enrichedHetionet/SmallTS/LocalOutlierFactor_RotatE/WholeSet/scores.csv\n",
      "2023-07-07 09:58:36     649659 compbiosandbox/Projects/NNRCO_KG/Sprint_3_3_IR_Paper/Result_lists/enrichedHetionet/SmallTS/LocalOutlierFactor_TransE/TestSet/all_results.csv\n",
      "2023-07-07 09:58:37       6486 compbiosandbox/Projects/NNRCO_KG/Sprint_3_3_IR_Paper/Result_lists/enrichedHetionet/SmallTS/LocalOutlierFactor_TransE/TestSet/gene_100.csv\n",
      "2023-07-07 09:58:38       1029 compbiosandbox/Projects/NNRCO_KG/Sprint_3_3_IR_Paper/Result_lists/enrichedHetionet/SmallTS/LocalOutlierFactor_TransE/TestSet/scores.csv\n",
      "2023-07-07 09:58:33    3194043 compbiosandbox/Projects/NNRCO_KG/Sprint_3_3_IR_Paper/Result_lists/enrichedHetionet/SmallTS/LocalOutlierFactor_TransE/WholeSet/all_results.csv\n",
      "2023-07-07 09:58:34       6580 compbiosandbox/Projects/NNRCO_KG/Sprint_3_3_IR_Paper/Result_lists/enrichedHetionet/SmallTS/LocalOutlierFactor_TransE/WholeSet/gene_100.csv\n",
      "2023-07-07 09:58:35       1136 compbiosandbox/Projects/NNRCO_KG/Sprint_3_3_IR_Paper/Result_lists/enrichedHetionet/SmallTS/LocalOutlierFactor_TransE/WholeSet/scores.csv\n",
      "2023-07-06 13:09:26     968555 compbiosandbox/Projects/NNRCO_KG/Sprint_3_3_IR_Paper/Result_lists/enrichedOBL/LargeTS/Elkanoto_RotatE/TestSet/all_results.csv\n",
      "2023-07-06 13:09:27       5965 compbiosandbox/Projects/NNRCO_KG/Sprint_3_3_IR_Paper/Result_lists/enrichedOBL/LargeTS/Elkanoto_RotatE/TestSet/gene_100.csv\n",
      "2023-07-06 13:09:28        999 compbiosandbox/Projects/NNRCO_KG/Sprint_3_3_IR_Paper/Result_lists/enrichedOBL/LargeTS/Elkanoto_RotatE/TestSet/scores.csv\n",
      "2023-07-06 13:09:23    4858446 compbiosandbox/Projects/NNRCO_KG/Sprint_3_3_IR_Paper/Result_lists/enrichedOBL/LargeTS/Elkanoto_RotatE/WholeSet/all_results.csv\n",
      "2023-07-06 13:09:24       5737 compbiosandbox/Projects/NNRCO_KG/Sprint_3_3_IR_Paper/Result_lists/enrichedOBL/LargeTS/Elkanoto_RotatE/WholeSet/gene_100.csv\n",
      "2023-07-06 13:09:25       1138 compbiosandbox/Projects/NNRCO_KG/Sprint_3_3_IR_Paper/Result_lists/enrichedOBL/LargeTS/Elkanoto_RotatE/WholeSet/scores.csv\n",
      "2023-07-06 13:09:49     968555 compbiosandbox/Projects/NNRCO_KG/Sprint_3_3_IR_Paper/Result_lists/enrichedOBL/LargeTS/Elkanoto_TransE/TestSet/all_results.csv\n",
      "2023-07-06 13:09:50       5965 compbiosandbox/Projects/NNRCO_KG/Sprint_3_3_IR_Paper/Result_lists/enrichedOBL/LargeTS/Elkanoto_TransE/TestSet/gene_100.csv\n",
      "2023-07-06 13:09:51        999 compbiosandbox/Projects/NNRCO_KG/Sprint_3_3_IR_Paper/Result_lists/enrichedOBL/LargeTS/Elkanoto_TransE/TestSet/scores.csv\n",
      "2023-07-06 13:09:46    4858446 compbiosandbox/Projects/NNRCO_KG/Sprint_3_3_IR_Paper/Result_lists/enrichedOBL/LargeTS/Elkanoto_TransE/WholeSet/all_results.csv\n",
      "2023-07-06 13:09:47       5737 compbiosandbox/Projects/NNRCO_KG/Sprint_3_3_IR_Paper/Result_lists/enrichedOBL/LargeTS/Elkanoto_TransE/WholeSet/gene_100.csv\n",
      "2023-07-06 13:09:48       1138 compbiosandbox/Projects/NNRCO_KG/Sprint_3_3_IR_Paper/Result_lists/enrichedOBL/LargeTS/Elkanoto_TransE/WholeSet/scores.csv\n",
      "2023-07-06 16:17:09    1024643 compbiosandbox/Projects/NNRCO_KG/Sprint_3_3_IR_Paper/Result_lists/enrichedOBL/LargeTS/IsolationForest_RotatE/TestSet/all_results.csv\n",
      "2023-07-06 16:17:10       6178 compbiosandbox/Projects/NNRCO_KG/Sprint_3_3_IR_Paper/Result_lists/enrichedOBL/LargeTS/IsolationForest_RotatE/TestSet/gene_100.csv\n",
      "2023-07-06 16:17:12       1021 compbiosandbox/Projects/NNRCO_KG/Sprint_3_3_IR_Paper/Result_lists/enrichedOBL/LargeTS/IsolationForest_RotatE/TestSet/scores.csv\n",
      "2023-07-06 16:17:03    5140893 compbiosandbox/Projects/NNRCO_KG/Sprint_3_3_IR_Paper/Result_lists/enrichedOBL/LargeTS/IsolationForest_RotatE/WholeSet/all_results.csv\n",
      "2023-07-06 16:17:05       6034 compbiosandbox/Projects/NNRCO_KG/Sprint_3_3_IR_Paper/Result_lists/enrichedOBL/LargeTS/IsolationForest_RotatE/WholeSet/gene_100.csv\n",
      "2023-07-06 16:17:07       1155 compbiosandbox/Projects/NNRCO_KG/Sprint_3_3_IR_Paper/Result_lists/enrichedOBL/LargeTS/IsolationForest_RotatE/WholeSet/scores.csv\n",
      "2023-07-06 16:17:50    1024643 compbiosandbox/Projects/NNRCO_KG/Sprint_3_3_IR_Paper/Result_lists/enrichedOBL/LargeTS/IsolationForest_TransE/TestSet/all_results.csv\n",
      "2023-07-06 16:17:51       6178 compbiosandbox/Projects/NNRCO_KG/Sprint_3_3_IR_Paper/Result_lists/enrichedOBL/LargeTS/IsolationForest_TransE/TestSet/gene_100.csv\n",
      "2023-07-06 16:17:53       1021 compbiosandbox/Projects/NNRCO_KG/Sprint_3_3_IR_Paper/Result_lists/enrichedOBL/LargeTS/IsolationForest_TransE/TestSet/scores.csv\n",
      "2023-07-06 16:17:44    5140893 compbiosandbox/Projects/NNRCO_KG/Sprint_3_3_IR_Paper/Result_lists/enrichedOBL/LargeTS/IsolationForest_TransE/WholeSet/all_results.csv\n",
      "2023-07-06 16:17:47       6034 compbiosandbox/Projects/NNRCO_KG/Sprint_3_3_IR_Paper/Result_lists/enrichedOBL/LargeTS/IsolationForest_TransE/WholeSet/gene_100.csv\n",
      "2023-07-06 16:17:48       1155 compbiosandbox/Projects/NNRCO_KG/Sprint_3_3_IR_Paper/Result_lists/enrichedOBL/LargeTS/IsolationForest_TransE/WholeSet/scores.csv\n",
      "2023-07-06 13:09:32     966295 compbiosandbox/Projects/NNRCO_KG/Sprint_3_3_IR_Paper/Result_lists/enrichedOBL/SmallTS/Elkanoto_RotatE/TestSet/all_results.csv\n",
      "2023-07-06 13:09:33       6176 compbiosandbox/Projects/NNRCO_KG/Sprint_3_3_IR_Paper/Result_lists/enrichedOBL/SmallTS/Elkanoto_RotatE/TestSet/gene_100.csv\n",
      "2023-07-06 13:09:34       1006 compbiosandbox/Projects/NNRCO_KG/Sprint_3_3_IR_Paper/Result_lists/enrichedOBL/SmallTS/Elkanoto_RotatE/TestSet/scores.csv\n",
      "2023-07-06 13:09:29    4801243 compbiosandbox/Projects/NNRCO_KG/Sprint_3_3_IR_Paper/Result_lists/enrichedOBL/SmallTS/Elkanoto_RotatE/WholeSet/all_results.csv\n",
      "2023-07-06 13:09:30       6097 compbiosandbox/Projects/NNRCO_KG/Sprint_3_3_IR_Paper/Result_lists/enrichedOBL/SmallTS/Elkanoto_RotatE/WholeSet/gene_100.csv\n",
      "2023-07-06 13:09:31       1139 compbiosandbox/Projects/NNRCO_KG/Sprint_3_3_IR_Paper/Result_lists/enrichedOBL/SmallTS/Elkanoto_RotatE/WholeSet/scores.csv\n",
      "2023-07-06 13:09:55     966295 compbiosandbox/Projects/NNRCO_KG/Sprint_3_3_IR_Paper/Result_lists/enrichedOBL/SmallTS/Elkanoto_TransE/TestSet/all_results.csv\n",
      "2023-07-06 13:09:56       6176 compbiosandbox/Projects/NNRCO_KG/Sprint_3_3_IR_Paper/Result_lists/enrichedOBL/SmallTS/Elkanoto_TransE/TestSet/gene_100.csv\n",
      "2023-07-06 13:09:57       1006 compbiosandbox/Projects/NNRCO_KG/Sprint_3_3_IR_Paper/Result_lists/enrichedOBL/SmallTS/Elkanoto_TransE/TestSet/scores.csv\n",
      "2023-07-06 13:09:52    4801243 compbiosandbox/Projects/NNRCO_KG/Sprint_3_3_IR_Paper/Result_lists/enrichedOBL/SmallTS/Elkanoto_TransE/WholeSet/all_results.csv\n",
      "2023-07-06 13:09:53       6097 compbiosandbox/Projects/NNRCO_KG/Sprint_3_3_IR_Paper/Result_lists/enrichedOBL/SmallTS/Elkanoto_TransE/WholeSet/gene_100.csv\n",
      "2023-07-06 13:09:54       1139 compbiosandbox/Projects/NNRCO_KG/Sprint_3_3_IR_Paper/Result_lists/enrichedOBL/SmallTS/Elkanoto_TransE/WholeSet/scores.csv\n",
      "2023-07-06 16:17:19    1036694 compbiosandbox/Projects/NNRCO_KG/Sprint_3_3_IR_Paper/Result_lists/enrichedOBL/SmallTS/IsolationForest_RotatE/TestSet/all_results.csv\n",
      "2023-07-06 16:17:20       6187 compbiosandbox/Projects/NNRCO_KG/Sprint_3_3_IR_Paper/Result_lists/enrichedOBL/SmallTS/IsolationForest_RotatE/TestSet/gene_100.csv\n",
      "2023-07-06 16:17:22       1009 compbiosandbox/Projects/NNRCO_KG/Sprint_3_3_IR_Paper/Result_lists/enrichedOBL/SmallTS/IsolationForest_RotatE/TestSet/scores.csv\n",
      "2023-07-06 16:17:13    5149088 compbiosandbox/Projects/NNRCO_KG/Sprint_3_3_IR_Paper/Result_lists/enrichedOBL/SmallTS/IsolationForest_RotatE/WholeSet/all_results.csv\n",
      "2023-07-06 16:17:16       6173 compbiosandbox/Projects/NNRCO_KG/Sprint_3_3_IR_Paper/Result_lists/enrichedOBL/SmallTS/IsolationForest_RotatE/WholeSet/gene_100.csv\n",
      "2023-07-06 16:17:17       1144 compbiosandbox/Projects/NNRCO_KG/Sprint_3_3_IR_Paper/Result_lists/enrichedOBL/SmallTS/IsolationForest_RotatE/WholeSet/scores.csv\n",
      "2023-07-06 16:18:00    1036694 compbiosandbox/Projects/NNRCO_KG/Sprint_3_3_IR_Paper/Result_lists/enrichedOBL/SmallTS/IsolationForest_TransE/TestSet/all_results.csv\n",
      "2023-07-06 16:18:02       6187 compbiosandbox/Projects/NNRCO_KG/Sprint_3_3_IR_Paper/Result_lists/enrichedOBL/SmallTS/IsolationForest_TransE/TestSet/gene_100.csv\n",
      "2023-07-06 16:18:04       1009 compbiosandbox/Projects/NNRCO_KG/Sprint_3_3_IR_Paper/Result_lists/enrichedOBL/SmallTS/IsolationForest_TransE/TestSet/scores.csv\n",
      "2023-07-06 16:17:54    5149088 compbiosandbox/Projects/NNRCO_KG/Sprint_3_3_IR_Paper/Result_lists/enrichedOBL/SmallTS/IsolationForest_TransE/WholeSet/all_results.csv\n",
      "2023-07-06 16:17:57       6173 compbiosandbox/Projects/NNRCO_KG/Sprint_3_3_IR_Paper/Result_lists/enrichedOBL/SmallTS/IsolationForest_TransE/WholeSet/gene_100.csv\n",
      "2023-07-06 16:17:58       1144 compbiosandbox/Projects/NNRCO_KG/Sprint_3_3_IR_Paper/Result_lists/enrichedOBL/SmallTS/IsolationForest_TransE/WholeSet/scores.csv\n"
     ]
    }
   ],
   "source": [
    "!aws s3 ls --recursive {s3_prefix}"
   ]
  }
 ],
 "metadata": {
  "kernelspec": {
   "display_name": "giannt",
   "language": "python",
   "name": "giannt"
  },
  "language_info": {
   "codemirror_mode": {
    "name": "ipython",
    "version": 3
   },
   "file_extension": ".py",
   "mimetype": "text/x-python",
   "name": "python",
   "nbconvert_exporter": "python",
   "pygments_lexer": "ipython3",
   "version": "3.10.10"
  }
 },
 "nbformat": 4,
 "nbformat_minor": 5
}
