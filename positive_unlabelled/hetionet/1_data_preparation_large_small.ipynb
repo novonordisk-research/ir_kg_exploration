{
 "cells": [
  {
   "cell_type": "code",
   "execution_count": 1,
   "id": "7a02f0d1-4326-4d53-b54c-bec55936ac4a",
   "metadata": {},
   "outputs": [],
   "source": [
    "from pathlib import Path\n",
    "\n",
    "import pandas as pd\n",
    "import numpy as np\n",
    "\n",
    "import pykeen\n",
    "from pykeen.triples import TriplesFactory"
   ]
  },
  {
   "cell_type": "code",
   "execution_count": 2,
   "id": "db80adc7-8448-4401-8abe-b26429b05869",
   "metadata": {},
   "outputs": [],
   "source": [
    "RANDOM_SEED = 42\n",
    "np.random.seed(RANDOM_SEED)"
   ]
  },
  {
   "cell_type": "code",
   "execution_count": 3,
   "id": "034e8fa6-374f-429c-ab93-64eecacb4539",
   "metadata": {},
   "outputs": [],
   "source": [
    "out_dir = Path('1_outputs') / 'large_small_DS'\n",
    "out_dir.mkdir(exist_ok=True, parents=True)"
   ]
  },
  {
   "cell_type": "code",
   "execution_count": 4,
   "id": "3c577ddb-c1f9-4c67-8af6-8f83029b1825",
   "metadata": {},
   "outputs": [],
   "source": [
    "het = TriplesFactory.from_labeled_triples(\n",
    "    np.loadtxt('./data/Hetionet_training_small.csv', dtype=str, delimiter=','),\n",
    ")\n",
    "\n",
    "id_to_entity = {i:e for e, i in het.entity_to_id.items()}\n",
    "entity_to_id = het.entity_to_id"
   ]
  },
  {
   "cell_type": "code",
   "execution_count": 5,
   "id": "83fe32b6-22c3-4f17-872d-485084643a5e",
   "metadata": {},
   "outputs": [],
   "source": [
    "# TRAIN_IDS_FILE = '../MBVK_workflows/editedOpenBioLink/train_genes_id.csv'\n",
    "VAL_IDS_FILE = '../../MBVK_workflows/editedOpenBioLink/val_genes_id.csv'\n",
    "TEST_IDS_FILE = '../../MBVK_workflows/editedOpenBioLink/test_genes_id.csv'\n",
    "\n",
    "pat = 'NCBIGENE:'\n",
    "repl = 'Gene::'\n",
    "\n",
    "# train_entities = pd.read_csv(TRAIN_IDS_FILE, index_col=0).iloc[:,0].values\n",
    "val_entities = pd.read_csv(VAL_IDS_FILE, index_col=0).iloc[:,0].str.replace(pat, repl).values\n",
    "test_entities = pd.read_csv(TEST_IDS_FILE, index_col=0).iloc[:,0].str.replace(pat, repl).values\n",
    "\n",
    "# train_ids = np.array([entity_to_id[i] for i in train_entities])\n",
    "val_ids = np.array([entity_to_id[i] for i in val_entities])\n",
    "test_ids = np.array([entity_to_id[i] for i in test_entities])\n",
    "\n",
    "train_entities_obl = pd.read_csv('../data/train_obl.csv', header=None).iloc[:,0].str.replace(pat, repl).values\n",
    "train_ids = np.array([entity_to_id[i] for i in train_entities_obl])"
   ]
  },
  {
   "cell_type": "code",
   "execution_count": 6,
   "id": "7cbc83ec-cf3c-45a8-9a07-bafbde3a8bf8",
   "metadata": {},
   "outputs": [],
   "source": [
    "gene_entities = np.array([e for e in entity_to_id.keys() if e.startswith(repl)])\n",
    "gene_ids = np.array([entity_to_id[e] for e in gene_entities])\n",
    "\n",
    "np.save(out_dir / 'gene_entities.npy', gene_entities)\n",
    "np.save(out_dir / 'gene_ids.npy', gene_ids)"
   ]
  },
  {
   "cell_type": "code",
   "execution_count": 7,
   "id": "d5a1e0df-e689-45b6-9e3b-e1862e468f85",
   "metadata": {},
   "outputs": [],
   "source": [
    "y = np.zeros(len(id_to_entity), dtype=bool)\n",
    "y[train_ids] = True\n",
    "y[val_ids] = True\n",
    "y[test_ids] = True\n",
    "\n",
    "np.save(out_dir / 'y.npy', y)"
   ]
  },
  {
   "cell_type": "code",
   "execution_count": 8,
   "id": "7fe662b4-c243-4977-80eb-1461b09c1e43",
   "metadata": {},
   "outputs": [],
   "source": [
    "ids = np.array([*id_to_entity.keys()])\n",
    "irr_ids = np.r_[train_ids, val_ids, test_ids]\n",
    "nirr_ids = ids[~np.isin(ids, irr_ids)]\n",
    "\n",
    "np.save(out_dir / 'ids.npy', ids)\n",
    "np.save(out_dir / 'irr_ids.npy', irr_ids)\n",
    "np.save(out_dir / 'nirr_ids.npy', nirr_ids)"
   ]
  },
  {
   "cell_type": "code",
   "execution_count": 9,
   "id": "3e2a6182-fd6b-409a-be5a-bdfdb2a16ee2",
   "metadata": {},
   "outputs": [],
   "source": [
    "from sklearn.model_selection import train_test_split\n",
    "\n",
    "nirr_ids_train, nirr_ids_val = train_test_split(nirr_ids, test_size=0.4)\n",
    "nirr_ids_val, nirr_ids_test = train_test_split(nirr_ids_val, test_size=0.5)\n",
    "\n",
    "all_ids_train = np.r_[nirr_ids_train, train_ids]\n",
    "all_ids_val = np.r_[nirr_ids_val, val_ids]\n",
    "all_ids_test = np.r_[nirr_ids_test, test_ids]"
   ]
  },
  {
   "cell_type": "code",
   "execution_count": 10,
   "id": "667fbd24-1d65-4f61-9942-bcbee8e782c3",
   "metadata": {},
   "outputs": [],
   "source": [
    "df = pd.DataFrame(index=gene_ids)\n",
    "df['id'] = gene_ids\n",
    "df['entity'] = [id_to_entity[i] for i in gene_ids]\n",
    "df['y'] = y[gene_ids]\n",
    "df['train'] = df['id'].isin(all_ids_train)\n",
    "df['test'] = df['id'].isin(all_ids_val)\n",
    "df['val'] = df['id'].isin(all_ids_test)\n",
    "\n",
    "\n",
    "df.to_csv(out_dir / 'ref_df.csv', index=True)"
   ]
  },
  {
   "cell_type": "code",
   "execution_count": 13,
   "id": "851163f0-04e1-427e-bd77-d88889ded0e4",
   "metadata": {},
   "outputs": [
    {
     "name": "stdout",
     "output_type": "stream",
     "text": [
      "(10, 45159, 200)\n",
      "1_outputs/large_small_DS/RotatE_X_0.npy\n",
      "1_outputs/large_small_DS/RotatE_X_1.npy\n",
      "1_outputs/large_small_DS/RotatE_X_2.npy\n",
      "1_outputs/large_small_DS/RotatE_X_3.npy\n",
      "1_outputs/large_small_DS/RotatE_X_4.npy\n",
      "1_outputs/large_small_DS/RotatE_X_5.npy\n",
      "1_outputs/large_small_DS/RotatE_X_6.npy\n",
      "1_outputs/large_small_DS/RotatE_X_7.npy\n",
      "1_outputs/large_small_DS/RotatE_X_8.npy\n",
      "1_outputs/large_small_DS/RotatE_X_9.npy\n"
     ]
    }
   ],
   "source": [
    "embeddings = np.load('./data/RotatE/large/entity_embedding_RotatE_10models.npy')\n",
    "print(embeddings.shape)\n",
    "\n",
    "for i, emb in enumerate(embeddings):\n",
    "    print(out_dir / f'RotatE_X_{i}.npy')\n",
    "    X = np.c_[emb.real, emb.imag]\n",
    "    np.save(out_dir / f'RotatE_X_{i}.npy', X)"
   ]
  },
  {
   "cell_type": "code",
   "execution_count": 14,
   "id": "6d233d50-4565-4e80-8bc2-9636f50316f8",
   "metadata": {},
   "outputs": [
    {
     "name": "stdout",
     "output_type": "stream",
     "text": [
      "(10, 45159, 200)\n",
      "1_outputs/large_small_DS/TransE_X_0.npy\n",
      "1_outputs/large_small_DS/TransE_X_1.npy\n",
      "1_outputs/large_small_DS/TransE_X_2.npy\n",
      "1_outputs/large_small_DS/TransE_X_3.npy\n",
      "1_outputs/large_small_DS/TransE_X_4.npy\n",
      "1_outputs/large_small_DS/TransE_X_5.npy\n",
      "1_outputs/large_small_DS/TransE_X_6.npy\n",
      "1_outputs/large_small_DS/TransE_X_7.npy\n",
      "1_outputs/large_small_DS/TransE_X_8.npy\n",
      "1_outputs/large_small_DS/TransE_X_9.npy\n"
     ]
    }
   ],
   "source": [
    "embeddings = np.load('./data/TransE/large/entity_embedding_TransE_10models.npy')\n",
    "print(embeddings.shape)\n",
    "\n",
    "for i, emb in enumerate(embeddings):\n",
    "    print(out_dir / f'TransE_X_{i}.npy')\n",
    "    X = emb\n",
    "    np.save(out_dir / f'TransE_X_{i}.npy', X) "
   ]
  },
  {
   "cell_type": "code",
   "execution_count": 11,
   "id": "b38b8300-0de0-425c-95d4-8aceba2ab33c",
   "metadata": {},
   "outputs": [
    {
     "name": "stdout",
     "output_type": "stream",
     "text": [
      "(10, 45159, 200)\n",
      "1_outputs/large_small_DS/CompGCN_X_0.npy\n",
      "1_outputs/large_small_DS/CompGCN_X_1.npy\n",
      "1_outputs/large_small_DS/CompGCN_X_2.npy\n",
      "1_outputs/large_small_DS/CompGCN_X_3.npy\n",
      "1_outputs/large_small_DS/CompGCN_X_4.npy\n",
      "1_outputs/large_small_DS/CompGCN_X_5.npy\n",
      "1_outputs/large_small_DS/CompGCN_X_6.npy\n",
      "1_outputs/large_small_DS/CompGCN_X_7.npy\n",
      "1_outputs/large_small_DS/CompGCN_X_8.npy\n",
      "1_outputs/large_small_DS/CompGCN_X_9.npy\n"
     ]
    }
   ],
   "source": [
    "embeddings = np.load('./data/CompGCN/large/entity_embedding_10models.npy')\n",
    "print(embeddings.shape)\n",
    "\n",
    "for i, emb in enumerate(embeddings):\n",
    "    print(out_dir / f'CompGCN_X_{i}.npy')\n",
    "    X = emb\n",
    "    np.save(out_dir / f'CompGCN_X_{i}.npy', X) "
   ]
  }
 ],
 "metadata": {
  "kernelspec": {
   "display_name": "giannt",
   "language": "python",
   "name": "giannt"
  },
  "language_info": {
   "codemirror_mode": {
    "name": "ipython",
    "version": 3
   },
   "file_extension": ".py",
   "mimetype": "text/x-python",
   "name": "python",
   "nbconvert_exporter": "python",
   "pygments_lexer": "ipython3",
   "version": "3.10.10"
  }
 },
 "nbformat": 4,
 "nbformat_minor": 5
}
