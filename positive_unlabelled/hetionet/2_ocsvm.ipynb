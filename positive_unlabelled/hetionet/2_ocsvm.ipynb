{
 "cells": [
  {
   "cell_type": "code",
   "execution_count": 1,
   "id": "7a02f0d1-4326-4d53-b54c-bec55936ac4a",
   "metadata": {},
   "outputs": [],
   "source": [
    "import pickle\n",
    "from pathlib import Path\n",
    "\n",
    "import pandas as pd\n",
    "import numpy as np\n",
    "from pulearn.elkanoto import ElkanotoPuClassifier\n",
    "from sklearn.svm import SVC\n",
    "from sklearn.model_selection import GridSearchCV\n",
    "from sklearn.pipeline import Pipeline\n",
    "from sklearn.model_selection import ParameterGrid, GridSearchCV\n",
    "from sklearn.decomposition import PCA\n",
    "\n",
    "from tqdm import tqdm\n",
    "import pul_config\n",
    "import importlib\n",
    "importlib.reload(pul_config)\n",
    "\n",
    "import utils\n",
    "importlib.reload(utils)\n",
    "from utils import calc_predictions, build_proba_df, build_ranked_lists, calc_scores, load_grid_searches, score_df_from_grid_searches, train, evaluate\n",
    "\n",
    "# CHANGE HERE\n",
    "input_dirs = [Path('1_outputs/standard/'), Path('1_outputs/small_DS/'), Path('1_outputs/large/'), Path('1_outputs/large_small_DS/')]\n",
    "output_dirs = [Path('2_outputs/standard/'), Path('2_outputs/small_DS/'), Path('2_outputs/large/'), Path('2_outputs/large_small_DS/')]\n",
    "method = 'OneClassSVM'\n",
    "pul_cfg = pul_config.OneClassSVMConfig\n",
    "\n",
    "remote_method = \"OneClassSVM\" # name of the output in S3\n",
    "# -----\n",
    "\n",
    "local_method = method\n",
    "MODEL_NAMES = ('RotatE', 'TransE', 'CompGCN')\n",
    "output_dirs = [output_dir / method for output_dir in output_dirs]"
   ]
  },
  {
   "cell_type": "markdown",
   "id": "ceddba04-3d10-45f5-867d-7f1fe35cdb47",
   "metadata": {},
   "source": [
    "## Training"
   ]
  },
  {
   "cell_type": "code",
   "execution_count": null,
   "id": "002009b4-f5f6-4db7-8059-35bbe07d3432",
   "metadata": {},
   "outputs": [
    {
     "name": "stderr",
     "output_type": "stream",
     "text": [
      "  0%|          | 0/4 [00:00<?, ?it/s]\n",
      "  0%|          | 0/3 [00:00<?, ?it/s]\u001b[A\n",
      "\n",
      "  0%|          | 0/10 [00:00<?, ?it/s]\u001b[A\u001b[A\n",
      "\n",
      " 40%|████      | 4/10 [00:00<00:00, 34.18it/s]\u001b[A\u001b[A"
     ]
    },
    {
     "name": "stdout",
     "output_type": "stream",
     "text": [
      "2_outputs/standard/OneClassSVM/RotatE/RotatE_0.pkl exists. Skipping...\n",
      "2_outputs/standard/OneClassSVM/RotatE/RotatE_1.pkl exists. Skipping...\n",
      "2_outputs/standard/OneClassSVM/RotatE/RotatE_2.pkl exists. Skipping...\n",
      "2_outputs/standard/OneClassSVM/RotatE/RotatE_3.pkl exists. Skipping...\n",
      "2_outputs/standard/OneClassSVM/RotatE/RotatE_4.pkl exists. Skipping...\n",
      "2_outputs/standard/OneClassSVM/RotatE/RotatE_5.pkl exists. Skipping...\n",
      "2_outputs/standard/OneClassSVM/RotatE/RotatE_6.pkl exists. Skipping...\n"
     ]
    },
    {
     "name": "stderr",
     "output_type": "stream",
     "text": [
      "\n",
      "\n",
      " 80%|████████  | 8/10 [00:00<00:00, 29.90it/s]\u001b[A\u001b[A"
     ]
    },
    {
     "name": "stdout",
     "output_type": "stream",
     "text": [
      "2_outputs/standard/OneClassSVM/RotatE/RotatE_7.pkl exists. Skipping...\n"
     ]
    },
    {
     "name": "stderr",
     "output_type": "stream",
     "text": [
      "100%|██████████| 10/10 [00:00<00:00, 30.72it/s]\n",
      "\n",
      " 33%|███▎      | 1/3 [00:00<00:00,  2.86it/s]\u001b[A"
     ]
    },
    {
     "name": "stdout",
     "output_type": "stream",
     "text": [
      "2_outputs/standard/OneClassSVM/RotatE/RotatE_8.pkl exists. Skipping...\n",
      "2_outputs/standard/OneClassSVM/RotatE/RotatE_9.pkl exists. Skipping...\n"
     ]
    },
    {
     "name": "stderr",
     "output_type": "stream",
     "text": [
      "\n",
      "\n",
      "  0%|          | 0/10 [00:00<?, ?it/s]\u001b[A\u001b[A"
     ]
    },
    {
     "name": "stdout",
     "output_type": "stream",
     "text": [
      "2_outputs/standard/OneClassSVM/TransE/TransE_0.pkl exists. Skipping...\n"
     ]
    },
    {
     "name": "stderr",
     "output_type": "stream",
     "text": [
      "\n",
      "\n",
      " 50%|█████     | 5/10 [00:00<00:00, 45.02it/s]\u001b[A\u001b[A"
     ]
    },
    {
     "name": "stdout",
     "output_type": "stream",
     "text": [
      "2_outputs/standard/OneClassSVM/TransE/TransE_1.pkl exists. Skipping...\n",
      "2_outputs/standard/OneClassSVM/TransE/TransE_2.pkl exists. Skipping...\n",
      "2_outputs/standard/OneClassSVM/TransE/TransE_3.pkl exists. Skipping...\n",
      "2_outputs/standard/OneClassSVM/TransE/TransE_4.pkl exists. Skipping...\n",
      "2_outputs/standard/OneClassSVM/TransE/TransE_5.pkl exists. Skipping...\n",
      "2_outputs/standard/OneClassSVM/TransE/TransE_6.pkl exists. Skipping...\n",
      "2_outputs/standard/OneClassSVM/TransE/TransE_7.pkl exists. Skipping...\n",
      "2_outputs/standard/OneClassSVM/TransE/TransE_8.pkl exists. Skipping...\n"
     ]
    },
    {
     "name": "stderr",
     "output_type": "stream",
     "text": [
      "\n",
      "\n",
      "100%|██████████| 10/10 [00:00<00:00, 42.82it/s]\u001b[A\u001b[A\n",
      "\n",
      " 67%|██████▋   | 2/3 [00:00<00:00,  3.49it/s]\u001b[A"
     ]
    },
    {
     "name": "stdout",
     "output_type": "stream",
     "text": [
      "2_outputs/standard/OneClassSVM/TransE/TransE_9.pkl exists. Skipping...\n"
     ]
    },
    {
     "name": "stderr",
     "output_type": "stream",
     "text": [
      "\n",
      "\n",
      "  0%|          | 0/10 [00:00<?, ?it/s]\u001b[A\u001b[A"
     ]
    },
    {
     "name": "stdout",
     "output_type": "stream",
     "text": [
      "2_outputs/standard/OneClassSVM/CompGCN/CompGCN_0.pkl exists. Skipping...\n",
      "2_outputs/standard/OneClassSVM/CompGCN/CompGCN_1.pkl exists. Skipping...\n",
      "2_outputs/standard/OneClassSVM/CompGCN/CompGCN_2.pkl exists. Skipping...\n",
      "2_outputs/standard/OneClassSVM/CompGCN/CompGCN_3.pkl exists. Skipping...\n"
     ]
    },
    {
     "name": "stderr",
     "output_type": "stream",
     "text": [
      "\n",
      "\n",
      " 60%|██████    | 6/10 [00:00<00:00, 54.19it/s]\u001b[A\u001b[A"
     ]
    },
    {
     "name": "stdout",
     "output_type": "stream",
     "text": [
      "2_outputs/standard/OneClassSVM/CompGCN/CompGCN_4.pkl exists. Skipping...\n",
      "2_outputs/standard/OneClassSVM/CompGCN/CompGCN_5.pkl exists. Skipping...\n",
      "2_outputs/standard/OneClassSVM/CompGCN/CompGCN_6.pkl exists. Skipping...\n",
      "2_outputs/standard/OneClassSVM/CompGCN/CompGCN_7.pkl exists. Skipping...\n",
      "2_outputs/standard/OneClassSVM/CompGCN/CompGCN_8.pkl exists. Skipping...\n"
     ]
    },
    {
     "name": "stderr",
     "output_type": "stream",
     "text": [
      "\n",
      "\n",
      " 60%|██████    | 6/10 [00:19<00:00, 54.19it/s]\u001b[A\u001b[A"
     ]
    }
   ],
   "source": [
    "N_JOBS = 20\n",
    "CV = 5\n",
    "rerun=False\n",
    "\n",
    "for input_dir, output_dir in tqdm(zip(input_dirs, output_dirs), total=len(input_dirs)):\n",
    "    train(input_dir=input_dir, output_dir=output_dir, model_names=MODEL_NAMES, cv=CV, n_jobs=N_JOBS, pul_cfg=pul_cfg, rerun=rerun)"
   ]
  },
  {
   "cell_type": "markdown",
   "id": "9e41f459-c208-4cfb-9ea6-bd7547aa6343",
   "metadata": {},
   "source": [
    "## Evaluation"
   ]
  },
  {
   "cell_type": "code",
   "execution_count": null,
   "id": "dd0200e0-790d-44d9-9454-861732eaf44e",
   "metadata": {},
   "outputs": [],
   "source": [
    "grid_searches_list = [\n",
    "    load_grid_searches(output_dir=o, model_names=MODEL_NAMES) for o in output_dirs\n",
    "]"
   ]
  },
  {
   "cell_type": "code",
   "execution_count": null,
   "id": "9a78ec72-80f8-4a6e-b4ed-0474171ae40a",
   "metadata": {},
   "outputs": [],
   "source": [
    "score_dfs = [score_df_from_grid_searches(gs, i) for gs, i in zip(grid_searches_list, input_dirs)]\n",
    "for output_dir, score_df in zip(output_dirs, score_dfs):\n",
    "    score_df.to_csv(output_dir / 'score_df.csv')"
   ]
  },
  {
   "cell_type": "code",
   "execution_count": null,
   "id": "72fc17ed-9cc9-4019-88ed-4c1d3df5e4b2",
   "metadata": {},
   "outputs": [],
   "source": [
    "score_dfs[0].groupby('model_name').mean()"
   ]
  },
  {
   "cell_type": "code",
   "execution_count": null,
   "id": "34d93785-b64c-4ee4-bbf2-ee1ad76f3eb3",
   "metadata": {},
   "outputs": [],
   "source": [
    "import seaborn as sns\n",
    "\n",
    "sns.boxplot(score_dfs[0], x='model_name', y='score10_test').set(title='Hits@100 and hits@10\\n(large positive set)')\n",
    "sns.boxplot(score_dfs[0], x='model_name', y='score100_test').set_ylabel('score')"
   ]
  },
  {
   "cell_type": "code",
   "execution_count": null,
   "id": "09ba3e17-9ce9-4e0e-9a86-40fccc97591b",
   "metadata": {},
   "outputs": [],
   "source": [
    "import seaborn as sns\n",
    "\n",
    "sns.boxplot(score_dfs[1], x='model_name', y='score10_test').set(title='Hits@100 and hits@10\\n(small positive set)')\n",
    "sns.boxplot(score_dfs[1], x='model_name', y='score100_test').set_ylabel('score')"
   ]
  },
  {
   "cell_type": "code",
   "execution_count": null,
   "id": "cd1a656a-e1ee-4448-9231-2dd53d9f2cfd",
   "metadata": {},
   "outputs": [],
   "source": [
    "import seaborn as sns\n",
    "\n",
    "sns.boxplot(score_dfs[2], x='model_name', y='score10_test').set(title='Hits@100 and hits@10\\n(large positive set, large embeddings)')\n",
    "sns.boxplot(score_dfs[2], x='model_name', y='score100_test').set_ylabel('score')"
   ]
  },
  {
   "cell_type": "code",
   "execution_count": null,
   "id": "29af53a9-fe65-4167-bdf5-4f0e6ddb08fe",
   "metadata": {},
   "outputs": [],
   "source": [
    "import seaborn as sns\n",
    "\n",
    "sns.boxplot(score_dfs[3], x='model_name', y='score10_test').set(title='Hits@100 and hits@10\\n(large positive set, small embeddings)')\n",
    "sns.boxplot(score_dfs[3], x='model_name', y='score100_test').set_ylabel('score')"
   ]
  },
  {
   "cell_type": "code",
   "execution_count": null,
   "id": "4302631a-ecea-497e-a3f1-f87727aba813",
   "metadata": {},
   "outputs": [],
   "source": [
    "score_dfs = []\n",
    "for output_dir in output_dirs:\n",
    "    score_dfs.append(pd.read_csv(output_dir / 'score_df.csv', index_col=0))\n",
    "plot_dfs = []\n",
    "for ds, score_df in zip(('large', 'small', 'large_embeddings', 'large_embeddings_small'), score_dfs):\n",
    "    plot_df = score_df[['model_name', 'score10_test', 'score100_test']].copy()\n",
    "    plot_df.columns = ['model_name', 'hits@10', 'hits@100']\n",
    "    plot_df['dataset'] = ds\n",
    "    plot_dfs.append(plot_df)\n",
    "\n",
    "plot_df = pd.concat(plot_dfs)\n",
    "plot_df = plot_df.melt(id_vars=['model_name', 'dataset'])\n",
    "plot_dfs = {k:v for k, v in plot_df.groupby('model_name')}"
   ]
  },
  {
   "cell_type": "code",
   "execution_count": null,
   "id": "c722c768-a16b-4307-948d-744923771ffa",
   "metadata": {},
   "outputs": [],
   "source": [
    "y_lim = (0, 105)\n",
    "y_label = 'Score'\n",
    "\n",
    "import seaborn as sns\n",
    "import matplotlib.pyplot as plt\n",
    "\n",
    "model_name = 'RotatE'\n",
    "plot_df = plot_dfs[model_name]\n",
    "\n",
    "plot_df['Hits'] = plot_df['variable']\n",
    "plot = sns.barplot(plot_df, x='dataset', y='value', hue='Hits', order=['small', 'large', 'large_embeddings_small', 'large_embeddings'])\n",
    "sns.move_legend(plot, 'upper left')\n",
    "plot.set(xlabel='positive dataset', ylabel=y_label)\n",
    "plot.set_title(f'{model_name} - {method}')\n",
    "plot.set_ylim(y_lim)\n",
    "_ = plot.set_xticklabels(labels=['small', 'large', 'large_embeddings_small', 'large_embeddings'], rotation=90)"
   ]
  },
  {
   "cell_type": "code",
   "execution_count": null,
   "id": "39d60433-6c12-47b1-9ac0-96a9394a9d27",
   "metadata": {},
   "outputs": [],
   "source": [
    "y_lim = (0, 105)\n",
    "y_label = 'Score'\n",
    "\n",
    "import seaborn as sns\n",
    "import matplotlib.pyplot as plt\n",
    "\n",
    "model_name = 'TransE'\n",
    "plot_df = plot_dfs[model_name]\n",
    "\n",
    "plot_df['Hits'] = plot_df['variable']\n",
    "plot = sns.barplot(plot_df, x='dataset', y='value', hue='Hits', order=['small', 'large', 'large_embeddings_small', 'large_embeddings'])\n",
    "sns.move_legend(plot, 'upper left')\n",
    "plot.set(xlabel='positive dataset', ylabel=y_label)\n",
    "plot.set_title(f'{model_name} - {method}')\n",
    "plot.set_ylim(y_lim)\n",
    "_ = plot.set_xticklabels(labels=['small', 'large', 'large_embeddings_small', 'large_embeddings'], rotation=90)"
   ]
  },
  {
   "cell_type": "code",
   "execution_count": null,
   "id": "6ca4010a-0859-4551-9e59-e26931146717",
   "metadata": {},
   "outputs": [],
   "source": [
    "y_lim = (0, 105)\n",
    "y_label = 'Score'\n",
    "\n",
    "import seaborn as sns\n",
    "import matplotlib.pyplot as plt\n",
    "\n",
    "model_name = 'CompGCN'\n",
    "plot_df = plot_dfs[model_name]\n",
    "\n",
    "plot_df['Hits'] = plot_df['variable']\n",
    "plot = sns.barplot(plot_df, x='dataset', y='value', hue='Hits', order=['small', 'large', 'large_embeddings_small', 'large_embeddings'])\n",
    "sns.move_legend(plot, 'upper left')\n",
    "plot.set(xlabel='positive dataset', ylabel=y_label)\n",
    "plot.set_title(f'{model_name} - {method}')\n",
    "plot.set_ylim(y_lim)\n",
    "_ = plot.set_xticklabels(labels=['small', 'large', 'large_embeddings_small', 'large_embeddings'], rotation=90)"
   ]
  },
  {
   "cell_type": "code",
   "execution_count": null,
   "id": "7ae05b4d-b629-4674-b623-dda434899515",
   "metadata": {},
   "outputs": [],
   "source": [
    "proba_dfs = [build_proba_df(gs, i, mns=MODEL_NAMES) for gs, i in zip(grid_searches_list, input_dirs)]\n",
    "for output_dir, proba_df in zip(output_dirs, proba_dfs):\n",
    "    proba_df.to_csv(output_dir / 'proba_df.csv')"
   ]
  },
  {
   "cell_type": "code",
   "execution_count": null,
   "id": "7b2c84bc-4a73-4ed7-b818-15f99a1d57d4",
   "metadata": {},
   "outputs": [],
   "source": [
    "proba_df = proba_dfs[0]\n",
    "proba_df.query('test').sort_values('RotatE_0', ascending=False)"
   ]
  },
  {
   "cell_type": "code",
   "execution_count": null,
   "id": "f4d306f1-0fd3-4ccc-979d-2be708503e1b",
   "metadata": {},
   "outputs": [],
   "source": [
    "for proba_df, score_df, od in zip(proba_dfs, score_dfs, output_dirs):\n",
    "    proba_df.to_csv(od / 'proba_df.csv')\n",
    "    proba_df.query('test').to_csv(od / 'proba_df_test.csv')\n",
    "    score_df.to_csv(od / 'score_df.csv')\n",
    "    \n",
    "    for mn in MODEL_NAMES:\n",
    "        score_cols = [c for c in proba_df.columns if c.startswith(f'{mn}_')]\n",
    "        tmp_df = proba_df[['node_id', 'gene_name', 'irr', 'train', 'val', 'test', *score_cols]]\n",
    "        tmp_df.to_csv(od / f'proba_df_{mn}.csv')\n",
    "        tmp_df_test = tmp_df.query('test')\n",
    "        tmp_df_test.to_csv(od / f'proba_df_test_{mn}.csv')\n",
    "        \n",
    "        genes_100 = build_ranked_lists(tmp_df, prefix=mn)\n",
    "        genes_100.to_csv(od / f'genes_100_{mn}.csv', index=False)\n",
    "        genes_100_test = build_ranked_lists(tmp_df_test, prefix=mn)\n",
    "        genes_100_test.to_csv(od / f'genes_100_test_{mn}.csv', index=False)\n",
    "        \n",
    "        ds = 'test'\n",
    "        score_df_tmp = score_df.query('model_name == @mn')\n",
    "        score_df_tmp = pd.concat([score_df_tmp['m_name'], score_df_tmp.filter(regex=f'.*_{ds}', axis=1)], axis=1).set_index('m_name')\n",
    "        score_df_tmp.columns = [c.replace(f'_{ds}', '').replace('score', 'hits@') for c in score_df_tmp.columns]\n",
    "        score_df_tmp = score_df_tmp.T\n",
    "        score_df_tmp['mean'] = score_df_tmp.mean(axis=1)\n",
    "        score_df_tmp.to_csv(od / f'scores_{ds}_{mn}.csv', index_label='score')\n",
    "\n",
    "        ds = 'all'\n",
    "        score_df_tmp = score_df.query('model_name == @mn')\n",
    "        score_df_tmp = pd.concat([score_df_tmp['m_name'], score_df_tmp.filter(regex=f'.*_{ds}', axis=1)], axis=1).set_index('m_name')\n",
    "        score_df_tmp.columns = [c.replace(f'_{ds}', '').replace('score', 'hits@') for c in score_df_tmp.columns]\n",
    "        score_df_tmp = score_df_tmp.T\n",
    "        score_df_tmp['mean'] = score_df_tmp.mean(axis=1)\n",
    "        score_df_tmp.to_csv(od / f'scores_{mn}.csv', index_label='score')"
   ]
  },
  {
   "cell_type": "code",
   "execution_count": null,
   "id": "50ff24a3-7fea-43b3-b54a-ecd52cd08474",
   "metadata": {},
   "outputs": [],
   "source": [
    "s3_prefix = \"s3://nnedl-core-prd-eu-central-1-curated/compbiosandbox/Projects/NNRCO_KG/Sprint_3_3_IR_Paper/Result_lists\"\n",
    "\n",
    "for model_name in MODEL_NAMES:\n",
    "    method_name = f\"{remote_method}_{model_name}\"\n",
    "\n",
    "    graph = \"Hetionet\"\n",
    "    ts = \"LargeTS\"\n",
    "    subset = \"WholeSet\"\n",
    "    !aws s3 cp './2_outputs/standard/{local_method}/proba_df_{model_name}.csv' {s3_prefix}/{graph}/{ts}/{method_name}/{subset}/all_results.csv\n",
    "    !aws s3 cp './2_outputs/standard/{local_method}/genes_100_{model_name}.csv' {s3_prefix}/{graph}/{ts}/{method_name}/{subset}/gene_100.csv\n",
    "    !aws s3 cp './2_outputs/standard/{local_method}/scores_{model_name}.csv' {s3_prefix}/{graph}/{ts}/{method_name}/{subset}/scores.csv\n",
    "    subset = \"TestSet\"\n",
    "    !aws s3 cp './2_outputs/standard/{local_method}/proba_df_test_{model_name}.csv' {s3_prefix}/{graph}/{ts}/{method_name}/{subset}/all_results.csv\n",
    "    !aws s3 cp './2_outputs/standard/{local_method}/genes_100_test_{model_name}.csv' {s3_prefix}/{graph}/{ts}/{method_name}/{subset}/gene_100.csv\n",
    "    !aws s3 cp './2_outputs/standard/{local_method}/scores_test_{model_name}.csv' {s3_prefix}/{graph}/{ts}/{method_name}/{subset}/scores.csv\n",
    "\n",
    "    ts = \"SmallTS\"\n",
    "    subset = \"WholeSet\"\n",
    "    !aws s3 cp './2_outputs/small_DS/{local_method}/proba_df_{model_name}.csv' {s3_prefix}/{graph}/{ts}/{method_name}/{subset}/all_results.csv\n",
    "    !aws s3 cp './2_outputs/small_DS/{local_method}/genes_100_{model_name}.csv' {s3_prefix}/{graph}/{ts}/{method_name}/{subset}/gene_100.csv\n",
    "    !aws s3 cp './2_outputs/small_DS/{local_method}/scores_{model_name}.csv' {s3_prefix}/{graph}/{ts}/{method_name}/{subset}/scores.csv\n",
    "    subset = \"TestSet\"\n",
    "    !aws s3 cp './2_outputs/small_DS/{local_method}/proba_df_test_{model_name}.csv' {s3_prefix}/{graph}/{ts}/{method_name}/{subset}/all_results.csv\n",
    "    !aws s3 cp './2_outputs/small_DS/{local_method}/genes_100_test_{model_name}.csv' {s3_prefix}/{graph}/{ts}/{method_name}/{subset}/gene_100.csv\n",
    "    !aws s3 cp './2_outputs/small_DS/{local_method}/scores_test_{model_name}.csv' {s3_prefix}/{graph}/{ts}/{method_name}/{subset}/scores.csv\n",
    "\n",
    "    # Embeddings based on large DS\n",
    "    graph = \"enrichedHetionet\"\n",
    "\n",
    "    ts = \"LargeTS\"\n",
    "    subset = \"WholeSet\"\n",
    "    !aws s3 cp './2_outputs/large/{local_method}/proba_df_{model_name}.csv' {s3_prefix}/{graph}/{ts}/{method_name}/{subset}/all_results.csv\n",
    "    !aws s3 cp './2_outputs/large/{local_method}/genes_100_{model_name}.csv' {s3_prefix}/{graph}/{ts}/{method_name}/{subset}/gene_100.csv\n",
    "    !aws s3 cp './2_outputs/large/{local_method}/scores_{model_name}.csv' {s3_prefix}/{graph}/{ts}/{method_name}/{subset}/scores.csv\n",
    "    subset = \"TestSet\"\n",
    "    !aws s3 cp './2_outputs/large/{local_method}/proba_df_test_{model_name}.csv' {s3_prefix}/{graph}/{ts}/{method_name}/{subset}/all_results.csv\n",
    "    !aws s3 cp './2_outputs/large/{local_method}/genes_100_test_{model_name}.csv' {s3_prefix}/{graph}/{ts}/{method_name}/{subset}/gene_100.csv\n",
    "    !aws s3 cp './2_outputs/large/{local_method}/scores_test_{model_name}.csv' {s3_prefix}/{graph}/{ts}/{method_name}/{subset}/scores.csv\n",
    "\n",
    "    ts = \"SmallTS\"\n",
    "    subset = \"WholeSet\"\n",
    "    !aws s3 cp './2_outputs/large_small_DS/{local_method}/proba_df_{model_name}.csv' {s3_prefix}/{graph}/{ts}/{method_name}/{subset}/all_results.csv\n",
    "    !aws s3 cp './2_outputs/large_small_DS/{local_method}/genes_100_{model_name}.csv' {s3_prefix}/{graph}/{ts}/{method_name}/{subset}/gene_100.csv\n",
    "    !aws s3 cp './2_outputs/large_small_DS/{local_method}/scores_{model_name}.csv' {s3_prefix}/{graph}/{ts}/{method_name}/{subset}/scores.csv\n",
    "    subset = \"TestSet\"\n",
    "    !aws s3 cp './2_outputs/large_small_DS/{local_method}/proba_df_test_{model_name}.csv' {s3_prefix}/{graph}/{ts}/{method_name}/{subset}/all_results.csv\n",
    "    !aws s3 cp './2_outputs/large_small_DS/{local_method}/genes_100_test_{model_name}.csv' {s3_prefix}/{graph}/{ts}/{method_name}/{subset}/gene_100.csv\n",
    "    !aws s3 cp './2_outputs/large_small_DS/{local_method}/scores_test_{model_name}.csv' {s3_prefix}/{graph}/{ts}/{method_name}/{subset}/scores.csv"
   ]
  }
 ],
 "metadata": {
  "kernelspec": {
   "display_name": "giannt",
   "language": "python",
   "name": "giannt"
  },
  "language_info": {
   "codemirror_mode": {
    "name": "ipython",
    "version": 3
   },
   "file_extension": ".py",
   "mimetype": "text/x-python",
   "name": "python",
   "nbconvert_exporter": "python",
   "pygments_lexer": "ipython3",
   "version": "3.10.10"
  }
 },
 "nbformat": 4,
 "nbformat_minor": 5
}
