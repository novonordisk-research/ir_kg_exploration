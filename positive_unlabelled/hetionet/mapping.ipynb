{
 "cells": [
  {
   "cell_type": "code",
   "execution_count": 2,
   "id": "cb683a84-3ab5-40c1-90b7-10f7e1e37b53",
   "metadata": {},
   "outputs": [],
   "source": [
    "import numpy as np\n",
    "import pandas as pd\n",
    "\n",
    "from pathlib import Path\n",
    "from pykeen.triples import TriplesFactory\n",
    "from pykeen.datasets import Hetionet"
   ]
  },
  {
   "cell_type": "code",
   "execution_count": 3,
   "id": "5b7172ac-b675-4b9f-ba1d-418820e3bd01",
   "metadata": {},
   "outputs": [],
   "source": [
    "triples_file = Path('./data/Hetionet_training_large.csv')\n",
    "\n",
    "ds = TriplesFactory.from_labeled_triples(\n",
    "    np.loadtxt(triples_file, dtype=str, delimiter=','),\n",
    ")\n",
    "\n",
    "mapping_df = pd.DataFrame.from_records(\n",
    "    [(k,v) for k,v in ds.entity_id_to_label.items()],\n",
    "    columns=['row_index', 'entity_label']\n",
    ")\n",
    "mapping_df.to_csv('./data/enrichedHetionet_mapping.csv', index=False)"
   ]
  },
  {
   "cell_type": "code",
   "execution_count": 4,
   "id": "b370dc63-0b8d-4f42-b9f6-950415e11f08",
   "metadata": {},
   "outputs": [],
   "source": [
    "ds = Hetionet().training\n",
    "\n",
    "mapping_df = pd.DataFrame.from_records(\n",
    "    [(k,v) for k,v in ds.entity_id_to_label.items()],\n",
    "    columns=['row_index', 'entity_label']\n",
    ")\n",
    "mapping_df.to_csv('./data/Hetionet_mapping.csv', index=False)"
   ]
  },
  {
   "cell_type": "code",
   "execution_count": null,
   "id": "93739212-b8c2-4374-8261-1d078138d363",
   "metadata": {},
   "outputs": [
    {
     "name": "stdout",
     "output_type": "stream",
     "text": [
      "upload: data/Hetionet_mapping.csv to s3://nnedl-core-prd-eu-central-1-curated/compbiosandbox/Projects/NNRCO_KG/Sprint_3_3_IR_Paper//Hetionet_mapping.csv\n",
      "upload: data/enrichedHetionet_mapping.csv to s3://nnedl-core-prd-eu-central-1-curated/compbiosandbox/Projects/NNRCO_KG/Sprint_3_3_IR_Paper//enrichedHetionet_mapping.csv\n"
     ]
    }
   ],
   "source": [
    "s3_prefix = \"s3://nnedl-core-prd-eu-central-1-curated/compbiosandbox/Projects/NNRCO_KG/Sprint_3_3_IR_Paper/mapping/\"\n",
    "\n",
    "!aws s3 cp ./data/Hetionet_mapping.csv {s3_prefix}/Hetionet_mapping.csv\n",
    "!aws s3 cp ./data/enrichedHetionet_mapping.csv {s3_prefix}/enrichedHetionet_mapping.csv"
   ]
  }
 ],
 "metadata": {
  "kernelspec": {
   "display_name": "giannt",
   "language": "python",
   "name": "giannt"
  },
  "language_info": {
   "codemirror_mode": {
    "name": "ipython",
    "version": 3
   },
   "file_extension": ".py",
   "mimetype": "text/x-python",
   "name": "python",
   "nbconvert_exporter": "python",
   "pygments_lexer": "ipython3",
   "version": "3.10.10"
  }
 },
 "nbformat": 4,
 "nbformat_minor": 5
}
