{
 "cells": [
  {
   "cell_type": "code",
   "execution_count": 15,
   "id": "cb683a84-3ab5-40c1-90b7-10f7e1e37b53",
   "metadata": {},
   "outputs": [],
   "source": [
    "import numpy as np\n",
    "import pandas as pd\n",
    "\n",
    "from pathlib import Path\n",
    "from pykeen.triples import TriplesFactory\n",
    "from pykeen.datasets import OpenBioLink"
   ]
  },
  {
   "cell_type": "code",
   "execution_count": 21,
   "id": "5b7172ac-b675-4b9f-ba1d-418820e3bd01",
   "metadata": {},
   "outputs": [],
   "source": [
    "triples_file = Path(\"./data/OpenBioLink_training_large.csv\")\n",
    "\n",
    "ds = TriplesFactory.from_labeled_triples(\n",
    "    np.loadtxt(triples_file, dtype=str, delimiter=\",\"),\n",
    ")\n",
    "\n",
    "mapping_df = pd.DataFrame.from_records(\n",
    "    [(k, v) for k, v in ds.entity_id_to_label.items()],\n",
    "    columns=[\"row_index\", \"entity_label\"],\n",
    ")\n",
    "mapping_df.to_csv(\"./data/enrichedOBL_mapping.csv\", index=False)"
   ]
  },
  {
   "cell_type": "code",
   "execution_count": 19,
   "id": "b370dc63-0b8d-4f42-b9f6-950415e11f08",
   "metadata": {},
   "outputs": [
    {
     "name": "stderr",
     "output_type": "stream",
     "text": [
      "You're trying to map triples with 2052 entities and 0 relations that are not in the training set. These triples will be excluded from the mapping.\n",
      "In total 2047 from 183011 triples were filtered out\n"
     ]
    }
   ],
   "source": [
    "ds = OpenBioLink().training\n",
    "\n",
    "mapping_df = pd.DataFrame.from_records(\n",
    "    [(k, v) for k, v in ds.entity_id_to_label.items()],\n",
    "    columns=[\"row_index\", \"entity_label\"],\n",
    ")\n",
    "mapping_df.to_csv(\"./data/OBL_mapping.csv\", index=False)"
   ]
  }
 ],
 "metadata": {
  "kernelspec": {
   "display_name": "giannt",
   "language": "python",
   "name": "giannt"
  },
  "language_info": {
   "codemirror_mode": {
    "name": "ipython",
    "version": 3
   },
   "file_extension": ".py",
   "mimetype": "text/x-python",
   "name": "python",
   "nbconvert_exporter": "python",
   "pygments_lexer": "ipython3",
   "version": "3.10.10"
  }
 },
 "nbformat": 4,
 "nbformat_minor": 5
}
