{
 "cells": [
  {
   "cell_type": "code",
   "execution_count": 3,
   "id": "7a02f0d1-4326-4d53-b54c-bec55936ac4a",
   "metadata": {},
   "outputs": [],
   "source": [
    "import pickle\n",
    "from pathlib import Path\n",
    "\n",
    "import pandas as pd\n",
    "import numpy as np\n",
    "from pulearn.elkanoto import ElkanotoPuClassifier\n",
    "from sklearn.svm import SVC\n",
    "from sklearn.model_selection import GridSearchCV\n",
    "from sklearn.pipeline import Pipeline\n",
    "from sklearn.model_selection import ParameterGrid, GridSearchCV\n",
    "from sklearn.decomposition import PCA\n",
    "from tqdm import tqdm\n",
    "\n",
    "import pul_config\n",
    "import importlib\n",
    "importlib.reload(pul_config)\n",
    "\n",
    "def predict_proba(m, X):\n",
    "    try:\n",
    "        proba = m.predict_proba(X)\n",
    "    except:\n",
    "        try:\n",
    "            proba = m.decision_function(X)\n",
    "        except:\n",
    "            proba = m.best_estimator_.decision_function(X)\n",
    "\n",
    "    return proba\n",
    "\n",
    "def evaluate(m, X, y, n=100, scale=True):\n",
    "    y_pred = m.predict(X) > 0\n",
    "    y_prob_pred = predict_proba(m, X)\n",
    "\n",
    "    order = np.argsort(y_prob_pred)[::-1]\n",
    "    # print(y_pred[order][:n])\n",
    "    if scale:\n",
    "        return y[order][:n].sum() / y.sum()\n",
    "    else:\n",
    "        return y[order][:n].sum()\n",
    "    \n",
    "\n",
    "# CHANGE HERE\n",
    "input_dirs = [Path('1_outputs/standard/'), Path('1_outputs/small_DS/')]\n",
    "output_dirs = [Path('2_outputs/standard/'), Path('2_outputs/small_DS/')]\n",
    "method = 'SVC'\n",
    "pul_cfg = pul_config.SVCConfig\n",
    "# -----\n",
    "\n",
    "MODEL_NAMES = ('RotatE', 'TransE')\n",
    "output_dirs = [output_dir / method for output_dir in output_dirs]"
   ]
  },
  {
   "cell_type": "markdown",
   "id": "ceddba04-3d10-45f5-867d-7f1fe35cdb47",
   "metadata": {},
   "source": [
    "## Training"
   ]
  },
  {
   "cell_type": "code",
   "execution_count": 2,
   "id": "9385edac-59fb-4c24-8fe5-d2d32c65e51c",
   "metadata": {},
   "outputs": [],
   "source": [
    "np.random.seed(42)"
   ]
  },
  {
   "cell_type": "code",
   "execution_count": 3,
   "id": "ff31689c-1a2e-414d-9572-b333d6793ae0",
   "metadata": {},
   "outputs": [],
   "source": [
    "def train(input_dir, output_dir, n_jobs, cv, model_names, rerun=False):\n",
    "    ref_df = pd.read_csv(input_dir / 'ref_df.csv', index_col=0)\n",
    "    ref_df.head()\n",
    "    for model_name in tqdm(model_names):\n",
    "        out_dir = output_dir / model_name\n",
    "        out_dir.mkdir(exist_ok=True, parents=True)\n",
    "        for i in tqdm(range(10)):\n",
    "            m_file = out_dir / f'{model_name}_{i}.pkl'\n",
    "            if m_file.exists():\n",
    "                try:\n",
    "                    # try to load the file\n",
    "                    with open(m_file, 'rb') as f:\n",
    "                        pickle.load(f)\n",
    "                    if not rerun:\n",
    "                        print(m_file, 'exists. Skipping...')\n",
    "                        continue\n",
    "                except:\n",
    "                    pass\n",
    "\n",
    "            X_all = np.load(input_dir / f'{model_name}_X_{i}.npy')\n",
    "\n",
    "            ds_names = ('train', 'test', 'val')\n",
    "            Xs = {ds: X_all[ref_df.query(ds)['id']] for ds in ds_names}\n",
    "            ys = {ds: ref_df.query(ds)['y'].values for ds in ds_names}\n",
    "\n",
    "            ds = 'train'\n",
    "            X = Xs[ds]\n",
    "            y = ys[ds]\n",
    "\n",
    "            pipe = pul_cfg.build_pipeline()\n",
    "            param_grid = pul_cfg.build_param_grid()\n",
    "\n",
    "            grid_search = GridSearchCV(pipe, param_grid=param_grid, cv=cv, refit=True, n_jobs=n_jobs, scoring=evaluate)\n",
    "            grid_search.fit(X=X, y=y)\n",
    "\n",
    "            with open(m_file, 'wb') as f:\n",
    "                pickle.dump(grid_search, f)"
   ]
  },
  {
   "cell_type": "code",
   "execution_count": 4,
   "id": "002009b4-f5f6-4db7-8059-35bbe07d3432",
   "metadata": {},
   "outputs": [
    {
     "name": "stderr",
     "output_type": "stream",
     "text": [
      "  0%|          | 0/2 [00:00<?, ?it/s]\n",
      "  0%|          | 0/2 [00:00<?, ?it/s]\u001b[A\n",
      "\n",
      "  0%|          | 0/10 [00:00<?, ?it/s]\u001b[A\u001b[A\n",
      "\n",
      " 10%|█         | 1/10 [00:00<00:01,  5.89it/s]\u001b[A\u001b[A\n",
      "\n",
      " 20%|██        | 2/10 [00:00<00:01,  6.61it/s]\u001b[A\u001b[A"
     ]
    },
    {
     "name": "stdout",
     "output_type": "stream",
     "text": [
      "2_outputs/standard/SVC/RotatE/RotatE_0.pkl exists. Skipping...\n",
      "2_outputs/standard/SVC/RotatE/RotatE_1.pkl exists. Skipping...\n"
     ]
    },
    {
     "name": "stderr",
     "output_type": "stream",
     "text": [
      "\n",
      "\n",
      " 30%|███       | 3/10 [00:00<00:01,  6.78it/s]\u001b[A\u001b[A\n",
      "\n",
      " 40%|████      | 4/10 [00:00<00:00,  6.69it/s]\u001b[A\u001b[A"
     ]
    },
    {
     "name": "stdout",
     "output_type": "stream",
     "text": [
      "2_outputs/standard/SVC/RotatE/RotatE_2.pkl exists. Skipping...\n",
      "2_outputs/standard/SVC/RotatE/RotatE_3.pkl exists. Skipping...\n"
     ]
    },
    {
     "name": "stderr",
     "output_type": "stream",
     "text": [
      "\n",
      "\n",
      " 50%|█████     | 5/10 [00:00<00:00,  6.66it/s]\u001b[A\u001b[A\n",
      "\n",
      " 60%|██████    | 6/10 [00:00<00:00,  6.84it/s]\u001b[A\u001b[A"
     ]
    },
    {
     "name": "stdout",
     "output_type": "stream",
     "text": [
      "2_outputs/standard/SVC/RotatE/RotatE_4.pkl exists. Skipping...\n",
      "2_outputs/standard/SVC/RotatE/RotatE_5.pkl exists. Skipping...\n"
     ]
    },
    {
     "name": "stderr",
     "output_type": "stream",
     "text": [
      "\n",
      "\n",
      " 70%|███████   | 7/10 [00:01<00:00,  7.17it/s]\u001b[A\u001b[A\n",
      "\n",
      " 80%|████████  | 8/10 [00:01<00:00,  7.47it/s]\u001b[A\u001b[A"
     ]
    },
    {
     "name": "stdout",
     "output_type": "stream",
     "text": [
      "2_outputs/standard/SVC/RotatE/RotatE_6.pkl exists. Skipping...\n",
      "2_outputs/standard/SVC/RotatE/RotatE_7.pkl exists. Skipping...\n"
     ]
    },
    {
     "name": "stderr",
     "output_type": "stream",
     "text": [
      "\n",
      "\n",
      " 90%|█████████ | 9/10 [00:01<00:00,  7.57it/s]\u001b[A\u001b[A\n",
      "\n",
      "100%|██████████| 10/10 [00:01<00:00,  7.12it/s]\u001b[A\u001b[A\n",
      "\n",
      " 50%|█████     | 1/2 [00:01<00:01,  1.54s/it]\u001b[A"
     ]
    },
    {
     "name": "stdout",
     "output_type": "stream",
     "text": [
      "2_outputs/standard/SVC/RotatE/RotatE_8.pkl exists. Skipping...\n",
      "2_outputs/standard/SVC/RotatE/RotatE_9.pkl exists. Skipping...\n"
     ]
    },
    {
     "name": "stderr",
     "output_type": "stream",
     "text": [
      "\n",
      "\n",
      "  0%|          | 0/10 [00:00<?, ?it/s]\u001b[A\u001b[A\n",
      "\n",
      " 10%|█         | 1/10 [00:00<00:01,  7.38it/s]\u001b[A\u001b[A\n",
      "\n",
      " 20%|██        | 2/10 [00:00<00:01,  7.56it/s]\u001b[A\u001b[A"
     ]
    },
    {
     "name": "stdout",
     "output_type": "stream",
     "text": [
      "2_outputs/standard/SVC/TransE/TransE_0.pkl exists. Skipping...\n",
      "2_outputs/standard/SVC/TransE/TransE_1.pkl exists. Skipping...\n"
     ]
    },
    {
     "name": "stderr",
     "output_type": "stream",
     "text": [
      "\n",
      "\n",
      " 30%|███       | 3/10 [00:00<00:00,  7.41it/s]\u001b[A\u001b[A\n",
      "\n",
      " 40%|████      | 4/10 [00:00<00:00,  7.11it/s]\u001b[A\u001b[A"
     ]
    },
    {
     "name": "stdout",
     "output_type": "stream",
     "text": [
      "2_outputs/standard/SVC/TransE/TransE_2.pkl exists. Skipping...\n",
      "2_outputs/standard/SVC/TransE/TransE_3.pkl exists. Skipping...\n"
     ]
    },
    {
     "name": "stderr",
     "output_type": "stream",
     "text": [
      "\n",
      "\n",
      " 50%|█████     | 5/10 [00:00<00:00,  6.79it/s]\u001b[A\u001b[A\n",
      "\n",
      " 60%|██████    | 6/10 [00:00<00:00,  6.70it/s]\u001b[A\u001b[A"
     ]
    },
    {
     "name": "stdout",
     "output_type": "stream",
     "text": [
      "2_outputs/standard/SVC/TransE/TransE_4.pkl exists. Skipping...\n",
      "2_outputs/standard/SVC/TransE/TransE_5.pkl exists. Skipping...\n"
     ]
    },
    {
     "name": "stderr",
     "output_type": "stream",
     "text": [
      "\n",
      "\n",
      " 70%|███████   | 7/10 [00:01<00:00,  6.76it/s]\u001b[A\u001b[A\n",
      "\n",
      " 80%|████████  | 8/10 [00:01<00:00,  6.54it/s]\u001b[A\u001b[A"
     ]
    },
    {
     "name": "stdout",
     "output_type": "stream",
     "text": [
      "2_outputs/standard/SVC/TransE/TransE_6.pkl exists. Skipping...\n",
      "2_outputs/standard/SVC/TransE/TransE_7.pkl exists. Skipping...\n"
     ]
    },
    {
     "name": "stderr",
     "output_type": "stream",
     "text": [
      "\n",
      "\n",
      " 90%|█████████ | 9/10 [00:01<00:00,  6.71it/s]\u001b[A\u001b[A\n",
      "\n",
      "100%|██████████| 10/10 [00:01<00:00,  6.99it/s]\u001b[A\u001b[A\n",
      "\n",
      "100%|██████████| 2/2 [00:03<00:00,  1.51s/it]\u001b[A\n",
      " 50%|█████     | 1/2 [00:04<00:04,  4.52s/it]"
     ]
    },
    {
     "name": "stdout",
     "output_type": "stream",
     "text": [
      "2_outputs/standard/SVC/TransE/TransE_8.pkl exists. Skipping...\n",
      "2_outputs/standard/SVC/TransE/TransE_9.pkl exists. Skipping...\n"
     ]
    },
    {
     "name": "stderr",
     "output_type": "stream",
     "text": [
      "\n",
      "  0%|          | 0/2 [00:00<?, ?it/s]\u001b[A\n",
      "\n",
      "  0%|          | 0/10 [00:00<?, ?it/s]\u001b[A\u001b[A\n",
      "\n",
      " 10%|█         | 1/10 [00:00<00:01,  6.34it/s]\u001b[A\u001b[A\n",
      "\n",
      " 20%|██        | 2/10 [00:00<00:01,  6.48it/s]\u001b[A\u001b[A"
     ]
    },
    {
     "name": "stdout",
     "output_type": "stream",
     "text": [
      "2_outputs/small_DS/SVC/RotatE/RotatE_0.pkl exists. Skipping...\n",
      "2_outputs/small_DS/SVC/RotatE/RotatE_1.pkl exists. Skipping...\n"
     ]
    },
    {
     "name": "stderr",
     "output_type": "stream",
     "text": [
      "\n",
      "\n",
      " 30%|███       | 3/10 [00:00<00:01,  6.47it/s]\u001b[A\u001b[A\n",
      "\n",
      " 40%|████      | 4/10 [00:00<00:00,  7.08it/s]\u001b[A\u001b[A"
     ]
    },
    {
     "name": "stdout",
     "output_type": "stream",
     "text": [
      "2_outputs/small_DS/SVC/RotatE/RotatE_2.pkl exists. Skipping...\n",
      "2_outputs/small_DS/SVC/RotatE/RotatE_3.pkl exists. Skipping...\n"
     ]
    },
    {
     "name": "stderr",
     "output_type": "stream",
     "text": [
      "\n",
      "\n",
      " 50%|█████     | 5/10 [00:00<00:00,  7.49it/s]\u001b[A\u001b[A\n",
      "\n",
      " 60%|██████    | 6/10 [00:00<00:00,  7.37it/s]\u001b[A\u001b[A"
     ]
    },
    {
     "name": "stdout",
     "output_type": "stream",
     "text": [
      "2_outputs/small_DS/SVC/RotatE/RotatE_4.pkl exists. Skipping...\n",
      "2_outputs/small_DS/SVC/RotatE/RotatE_5.pkl exists. Skipping...\n"
     ]
    },
    {
     "name": "stderr",
     "output_type": "stream",
     "text": [
      "\n",
      "\n",
      " 70%|███████   | 7/10 [00:00<00:00,  7.63it/s]\u001b[A\u001b[A\n",
      "\n",
      " 80%|████████  | 8/10 [00:01<00:00,  7.28it/s]\u001b[A\u001b[A"
     ]
    },
    {
     "name": "stdout",
     "output_type": "stream",
     "text": [
      "2_outputs/small_DS/SVC/RotatE/RotatE_6.pkl exists. Skipping...\n",
      "2_outputs/small_DS/SVC/RotatE/RotatE_7.pkl exists. Skipping...\n"
     ]
    },
    {
     "name": "stderr",
     "output_type": "stream",
     "text": [
      "\n",
      "\n",
      " 90%|█████████ | 9/10 [00:01<00:00,  7.36it/s]\u001b[A\u001b[A"
     ]
    },
    {
     "name": "stdout",
     "output_type": "stream",
     "text": [
      "2_outputs/small_DS/SVC/RotatE/RotatE_8.pkl exists. Skipping...\n"
     ]
    },
    {
     "name": "stderr",
     "output_type": "stream",
     "text": [
      "\n",
      "\n",
      "100%|██████████| 10/10 [33:11<00:00, 199.12s/it]\u001b[A\u001b[A\n",
      "\n",
      " 50%|█████     | 1/2 [33:11<33:11, 1991.33s/it]\u001b[A\n",
      "\n",
      "  0%|          | 0/10 [00:00<?, ?it/s]\u001b[A\u001b[A\n",
      "\n",
      " 10%|█         | 1/10 [02:23<21:33, 143.72s/it]\u001b[A\u001b[A\n",
      "\n",
      " 20%|██        | 2/10 [04:06<15:56, 119.51s/it]\u001b[A\u001b[A\n",
      "\n",
      " 30%|███       | 3/10 [06:18<14:37, 125.30s/it]\u001b[A\u001b[A\n",
      "\n",
      " 40%|████      | 4/10 [08:11<12:02, 120.43s/it]\u001b[A\u001b[A\n",
      "\n",
      " 50%|█████     | 5/10 [10:10<10:00, 120.11s/it]\u001b[A\u001b[A\n",
      "\n",
      " 60%|██████    | 6/10 [11:58<07:42, 115.67s/it]\u001b[A\u001b[A\n",
      "\n",
      " 70%|███████   | 7/10 [13:51<05:45, 115.07s/it]\u001b[A\u001b[A\n",
      "\n",
      " 80%|████████  | 8/10 [15:46<03:49, 114.83s/it]\u001b[A\u001b[A\n",
      "\n",
      " 90%|█████████ | 9/10 [17:41<01:54, 114.91s/it]\u001b[A\u001b[A\n",
      "\n",
      "100%|██████████| 10/10 [19:45<00:00, 118.52s/it]\u001b[A\u001b[A\n",
      "\n",
      "100%|██████████| 2/2 [52:56<00:00, 1588.27s/it]\u001b[A\n",
      "100%|██████████| 2/2 [53:01<00:00, 1590.72s/it]\n"
     ]
    }
   ],
   "source": [
    "N_JOBS = 20\n",
    "CV = 5\n",
    "rerun = False\n",
    "\n",
    "for input_dir, output_dir in tqdm(zip(input_dirs, output_dirs), total=len(input_dirs)):\n",
    "    train(input_dir=input_dir, output_dir=output_dir, model_names=MODEL_NAMES, cv=CV, n_jobs=N_JOBS, rerun=rerun)"
   ]
  },
  {
   "cell_type": "markdown",
   "id": "9e41f459-c208-4cfb-9ea6-bd7547aa6343",
   "metadata": {},
   "source": [
    "## Evaluation"
   ]
  },
  {
   "cell_type": "code",
   "execution_count": 4,
   "id": "26a4492a-317a-4709-abcd-44715f837988",
   "metadata": {},
   "outputs": [],
   "source": [
    "def load_grid_searches(output_dir, model_names):\n",
    "    grid_searches = {}\n",
    "    for model_name in model_names:\n",
    "        grid_searches[model_name] = {}\n",
    "        for j in range(10):\n",
    "            m_name = f'{model_name}_{j}'\n",
    "            m_file = output_dir / model_name / f'{m_name}.pkl'\n",
    "            with open(m_file, 'rb') as f:\n",
    "                grid_search = pickle.load(f)\n",
    "            grid_searches[model_name][m_name] = grid_search\n",
    "\n",
    "    return grid_searches"
   ]
  },
  {
   "cell_type": "code",
   "execution_count": 5,
   "id": "89951ebd-8ffa-4f38-800e-0681a7558fd2",
   "metadata": {},
   "outputs": [],
   "source": [
    "grid_searches_list = [\n",
    "    load_grid_searches(output_dir=o, model_names=MODEL_NAMES) for o in output_dirs\n",
    "]"
   ]
  },
  {
   "cell_type": "code",
   "execution_count": 6,
   "id": "b1411d61-1f00-411f-8b6a-2e19e3d4a391",
   "metadata": {},
   "outputs": [],
   "source": [
    "def score_df_from_grid_searches(grid_searches, input_dir, ns=(10,100)):\n",
    "    ref_df = pd.read_csv(input_dir / 'ref_df.csv', index_col=0)\n",
    "    ref_df.head()\n",
    "\n",
    "    score_dict = {\n",
    "        'model_name': [],\n",
    "        'm_name': [],\n",
    "        'score10_val': [],\n",
    "        'score100_val': [],\n",
    "        'score10_test': [],\n",
    "        'score100_test': [],\n",
    "\n",
    "    }\n",
    "    scale = False\n",
    "    for model_name in grid_searches.keys():\n",
    "        for i, m_name in enumerate(grid_searches[model_name].keys()):\n",
    "            score_dict['model_name'].append(model_name)\n",
    "            score_dict['m_name'].append(m_name)\n",
    "            X_all = np.load(input_dir / f'{model_name}_X_{i}.npy')\n",
    "\n",
    "            ds_names = ('train', 'test', 'val')\n",
    "            Xs = {ds: X_all[ref_df.query(ds)['id']] for ds in ds_names}\n",
    "            ys = {ds: ref_df.query(ds)['y'].values for ds in ds_names}\n",
    "\n",
    "            grid_search = grid_searches[model_name][m_name]\n",
    "            for n in ns:\n",
    "                val_score = evaluate(\n",
    "                    m=grid_search,\n",
    "                    X=Xs['val'],\n",
    "                    y=ys['val'],\n",
    "                    n=n,\n",
    "                    scale=scale\n",
    "                )\n",
    "                score_dict[f'score{n}_val'].append(val_score)\n",
    "\n",
    "                test_score = evaluate(\n",
    "                    m=grid_search,\n",
    "                    X=Xs['test'],\n",
    "                    y=ys['test'],\n",
    "                    n=n,\n",
    "                    scale=scale\n",
    "                )\n",
    "                score_dict[f'score{n}_test'].append(test_score)\n",
    "\n",
    "    score_df = pd.DataFrame(score_dict)\n",
    "    return score_df"
   ]
  },
  {
   "cell_type": "code",
   "execution_count": 7,
   "id": "9a78ec72-80f8-4a6e-b4ed-0474171ae40a",
   "metadata": {},
   "outputs": [],
   "source": [
    "score_dfs = [score_df_from_grid_searches(gs, i) for gs, i in zip(grid_searches_list, input_dirs)]\n",
    "for output_dir, score_df in zip(output_dirs, score_dfs):\n",
    "    score_df.to_csv(output_dir / 'score_df.csv')"
   ]
  },
  {
   "cell_type": "code",
   "execution_count": 8,
   "id": "72fc17ed-9cc9-4019-88ed-4c1d3df5e4b2",
   "metadata": {},
   "outputs": [
    {
     "name": "stderr",
     "output_type": "stream",
     "text": [
      "/tmp/ipykernel_2832291/1470429527.py:1: FutureWarning: The default value of numeric_only in DataFrameGroupBy.mean is deprecated. In a future version, numeric_only will default to False. Either specify numeric_only or select only columns which should be valid for the function.\n",
      "  score_dfs[0].groupby('model_name').mean()\n"
     ]
    },
    {
     "data": {
      "text/html": [
       "<div>\n",
       "<style scoped>\n",
       "    .dataframe tbody tr th:only-of-type {\n",
       "        vertical-align: middle;\n",
       "    }\n",
       "\n",
       "    .dataframe tbody tr th {\n",
       "        vertical-align: top;\n",
       "    }\n",
       "\n",
       "    .dataframe thead th {\n",
       "        text-align: right;\n",
       "    }\n",
       "</style>\n",
       "<table border=\"1\" class=\"dataframe\">\n",
       "  <thead>\n",
       "    <tr style=\"text-align: right;\">\n",
       "      <th></th>\n",
       "      <th>score10_val</th>\n",
       "      <th>score100_val</th>\n",
       "      <th>score10_test</th>\n",
       "      <th>score100_test</th>\n",
       "    </tr>\n",
       "    <tr>\n",
       "      <th>model_name</th>\n",
       "      <th></th>\n",
       "      <th></th>\n",
       "      <th></th>\n",
       "      <th></th>\n",
       "    </tr>\n",
       "  </thead>\n",
       "  <tbody>\n",
       "    <tr>\n",
       "      <th>RotatE</th>\n",
       "      <td>0.0</td>\n",
       "      <td>0.0</td>\n",
       "      <td>0.0</td>\n",
       "      <td>0.0</td>\n",
       "    </tr>\n",
       "    <tr>\n",
       "      <th>TransE</th>\n",
       "      <td>0.0</td>\n",
       "      <td>0.0</td>\n",
       "      <td>0.0</td>\n",
       "      <td>0.0</td>\n",
       "    </tr>\n",
       "  </tbody>\n",
       "</table>\n",
       "</div>"
      ],
      "text/plain": [
       "            score10_val  score100_val  score10_test  score100_test\n",
       "model_name                                                        \n",
       "RotatE              0.0           0.0           0.0            0.0\n",
       "TransE              0.0           0.0           0.0            0.0"
      ]
     },
     "execution_count": 8,
     "metadata": {},
     "output_type": "execute_result"
    }
   ],
   "source": [
    "score_dfs[0].groupby('model_name').mean()"
   ]
  },
  {
   "cell_type": "code",
   "execution_count": 9,
   "id": "34d93785-b64c-4ee4-bbf2-ee1ad76f3eb3",
   "metadata": {},
   "outputs": [
    {
     "data": {
      "text/plain": [
       "Text(0, 0.5, 'score')"
      ]
     },
     "execution_count": 9,
     "metadata": {},
     "output_type": "execute_result"
    },
    {
     "data": {
      "image/png": "[encoded data removed]",
      "text/plain": [
       "<Figure size 640x480 with 1 Axes>"
      ]
     },
     "metadata": {},
     "output_type": "display_data"
    }
   ],
   "source": [
    "import seaborn as sns\n",
    "\n",
    "sns.boxplot(score_dfs[0], x='model_name', y='score10_test').set(title='Hits@100 and hits@10\\n(large positive set)')\n",
    "sns.boxplot(score_dfs[0], x='model_name', y='score100_test').set_ylabel('score')"
   ]
  },
  {
   "cell_type": "code",
   "execution_count": 10,
   "id": "b4f12e20-1513-4bb6-af4e-bb1f03aa33c5",
   "metadata": {},
   "outputs": [
    {
     "name": "stderr",
     "output_type": "stream",
     "text": [
      "/tmp/ipykernel_2832291/647870589.py:1: FutureWarning: The default value of numeric_only in DataFrameGroupBy.mean is deprecated. In a future version, numeric_only will default to False. Either specify numeric_only or select only columns which should be valid for the function.\n",
      "  score_dfs[1].groupby('model_name').mean()\n"
     ]
    },
    {
     "data": {
      "text/html": [
       "<div>\n",
       "<style scoped>\n",
       "    .dataframe tbody tr th:only-of-type {\n",
       "        vertical-align: middle;\n",
       "    }\n",
       "\n",
       "    .dataframe tbody tr th {\n",
       "        vertical-align: top;\n",
       "    }\n",
       "\n",
       "    .dataframe thead th {\n",
       "        text-align: right;\n",
       "    }\n",
       "</style>\n",
       "<table border=\"1\" class=\"dataframe\">\n",
       "  <thead>\n",
       "    <tr style=\"text-align: right;\">\n",
       "      <th></th>\n",
       "      <th>score10_val</th>\n",
       "      <th>score100_val</th>\n",
       "      <th>score10_test</th>\n",
       "      <th>score100_test</th>\n",
       "    </tr>\n",
       "    <tr>\n",
       "      <th>model_name</th>\n",
       "      <th></th>\n",
       "      <th></th>\n",
       "      <th></th>\n",
       "      <th></th>\n",
       "    </tr>\n",
       "  </thead>\n",
       "  <tbody>\n",
       "    <tr>\n",
       "      <th>RotatE</th>\n",
       "      <td>0.0</td>\n",
       "      <td>0.0</td>\n",
       "      <td>0.0</td>\n",
       "      <td>0.0</td>\n",
       "    </tr>\n",
       "    <tr>\n",
       "      <th>TransE</th>\n",
       "      <td>0.0</td>\n",
       "      <td>0.0</td>\n",
       "      <td>0.0</td>\n",
       "      <td>0.0</td>\n",
       "    </tr>\n",
       "  </tbody>\n",
       "</table>\n",
       "</div>"
      ],
      "text/plain": [
       "            score10_val  score100_val  score10_test  score100_test\n",
       "model_name                                                        \n",
       "RotatE              0.0           0.0           0.0            0.0\n",
       "TransE              0.0           0.0           0.0            0.0"
      ]
     },
     "execution_count": 10,
     "metadata": {},
     "output_type": "execute_result"
    }
   ],
   "source": [
    "score_dfs[1].groupby('model_name').mean()"
   ]
  },
  {
   "cell_type": "code",
   "execution_count": 11,
   "id": "09ba3e17-9ce9-4e0e-9a86-40fccc97591b",
   "metadata": {},
   "outputs": [
    {
     "data": {
      "text/plain": [
       "Text(0, 0.5, 'score')"
      ]
     },
     "execution_count": 11,
     "metadata": {},
     "output_type": "execute_result"
    },
    {
     "data": {
      "image/png": "[encoded data removed]",
      "text/plain": [
       "<Figure size 640x480 with 1 Axes>"
      ]
     },
     "metadata": {},
     "output_type": "display_data"
    }
   ],
   "source": [
    "import seaborn as sns\n",
    "\n",
    "sns.boxplot(score_dfs[1], x='model_name', y='score10_test').set(title='Hits@100 and hits@10\\n(small positive set)')\n",
    "sns.boxplot(score_dfs[1], x='model_name', y='score100_test').set_ylabel('score')"
   ]
  },
  {
   "cell_type": "code",
   "execution_count": 12,
   "id": "51cd74b5-41d3-420b-80bb-82ade55f8d0b",
   "metadata": {},
   "outputs": [],
   "source": [
    "score_dfs = []\n",
    "for output_dir in output_dirs:\n",
    "    score_dfs.append(pd.read_csv(output_dir / 'score_df.csv', index_col=0))\n",
    "plot_dfs = []\n",
    "for ds, score_df in zip(('large', 'small'), score_dfs):\n",
    "    plot_df = score_df[['model_name', 'score10_test', 'score100_test']].copy()\n",
    "    plot_df.columns = ['model_name', 'hits@10', 'hits@100']\n",
    "    plot_df['dataset'] = ds\n",
    "    plot_dfs.append(plot_df)\n",
    "    \n",
    "plot_df = pd.concat(plot_dfs)\n",
    "plot_df = plot_df.melt(id_vars=['model_name', 'dataset'])\n",
    "plot_dfs = {k:v for k, v in plot_df.groupby('model_name')}"
   ]
  },
  {
   "cell_type": "code",
   "execution_count": 13,
   "id": "832ac18e-d767-4740-a6d2-f42e0e6d82a8",
   "metadata": {},
   "outputs": [],
   "source": [
    "def calc_predictions(grid_searches, input_dir):\n",
    "    ref_df = pd.read_csv(input_dir / 'ref_df.csv', index_col=0)\n",
    "    ref_df.head()\n",
    "    \n",
    "    ids = ref_df['id'].values\n",
    "    y = ref_df['y'].values\n",
    "    train = ref_df['train'].values\n",
    "    val = ref_df['val'].values\n",
    "    test = ref_df['test'].values\n",
    "    \n",
    "    y_preds = {}\n",
    "    for model_name in grid_searches.keys():\n",
    "        y_preds[model_name] = {}\n",
    "        for i, m_name in enumerate(grid_searches[model_name].keys()):\n",
    "            X_all = np.load(input_dir / f'{model_name}_X_{i}.npy')\n",
    "            X = X_all[ids]\n",
    "\n",
    "            grid_search = grid_searches[model_name][m_name]\n",
    "            y_preds[model_name][m_name] = predict_proba(grid_search, X)\n",
    "            \n",
    "    return y_preds\n",
    "\n",
    "def build_proba_df(grid_searches, input_dir):\n",
    "    from pykeen.datasets import OpenBioLink\n",
    "    obl = OpenBioLink()\n",
    "    id_to_entity = {i:e for e, i in obl.entity_to_id.items()}\n",
    "    \n",
    "    y_preds = calc_predictions(grid_searches=grid_searches, input_dir=input_dir)\n",
    "    \n",
    "    ref_df = pd.read_csv(input_dir / 'ref_df.csv', index_col=0)\n",
    "    ref_df.head()\n",
    "    \n",
    "    ids = ref_df['id'].values\n",
    "    y = ref_df['y'].values\n",
    "    train = ref_df['train'].values\n",
    "    val = ref_df['val'].values\n",
    "    test = ref_df['test'].values\n",
    "    \n",
    "    proba_df = pd.DataFrame(dict(\n",
    "        id=ids,\n",
    "        entity=[id_to_entity[i] for i in ids],\n",
    "        y=y,\n",
    "        train=train,\n",
    "        val=val,\n",
    "        test=test,\n",
    "        **y_preds['RotatE'],\n",
    "        **y_preds['TransE'],\n",
    "    ))\n",
    "    proba_df['RotatE_sum'] = proba_df.filter(regex='RotatE_[0-9]+').sum(axis=1)\n",
    "    proba_df['TransE_sum'] = proba_df.filter(regex='TransE_[0-9]+').sum(axis=1)\n",
    "    \n",
    "    return proba_df"
   ]
  },
  {
   "cell_type": "code",
   "execution_count": 14,
   "id": "025763dd-e886-42ea-a914-3e99adf0c661",
   "metadata": {},
   "outputs": [
    {
     "data": {
      "image/png": "[encoded data removed]",
      "text/plain": [
       "<Figure size 640x480 with 1 Axes>"
      ]
     },
     "metadata": {},
     "output_type": "display_data"
    }
   ],
   "source": [
    "import seaborn as sns\n",
    "model_name = 'TransE'\n",
    "plot_df = plot_dfs[model_name]\n",
    "plot = sns.barplot(plot_df, x='dataset', y='value', hue='variable', order=['small', 'large'])\n",
    "sns.move_legend(plot, 'upper left')\n",
    "plot.set(xlabel='positive dataset', ylabel='score')\n",
    "plot.set_title(f'SVM - {model_name}')\n",
    "plot.set_ylim([0, 55])\n",
    "_ = plot.set_xticklabels(labels=['small', 'large'], rotation=0)"
   ]
  },
  {
   "cell_type": "code",
   "execution_count": 15,
   "id": "f9078cb7-e174-4d63-a75b-628e036fcd12",
   "metadata": {},
   "outputs": [
    {
     "data": {
      "image/png": "[encoded data removed]",
      "text/plain": [
       "<Figure size 640x480 with 1 Axes>"
      ]
     },
     "metadata": {},
     "output_type": "display_data"
    }
   ],
   "source": [
    "import seaborn as sns\n",
    "model_name = 'RotatE'\n",
    "plot_df = plot_dfs[model_name]\n",
    "plot = sns.barplot(plot_df, x='dataset', y='value', hue='variable', order=['small', 'large'])\n",
    "sns.move_legend(plot, 'upper left')\n",
    "plot.set(xlabel='positive dataset', ylabel='score')\n",
    "plot.set_title(f'SVM - {model_name}')\n",
    "plot.set_ylim([0, 55])\n",
    "_ = plot.set_xticklabels(labels=['small', 'large'], rotation=0)"
   ]
  },
  {
   "cell_type": "code",
   "execution_count": 16,
   "id": "7ae05b4d-b629-4674-b623-dda434899515",
   "metadata": {},
   "outputs": [
    {
     "name": "stderr",
     "output_type": "stream",
     "text": [
      "You're trying to map triples with 2052 entities and 0 relations that are not in the training set. These triples will be excluded from the mapping.\n",
      "In total 2047 from 183011 triples were filtered out\n"
     ]
    },
    {
     "ename": "ValueError",
     "evalue": "Per-column arrays must each be 1-dimensional",
     "output_type": "error",
     "traceback": [
      "\u001b[0;31m---------------------------------------------------------------------------\u001b[0m",
      "\u001b[0;31mValueError\u001b[0m                                Traceback (most recent call last)",
      "Cell \u001b[0;32mIn[16], line 1\u001b[0m\n\u001b[0;32m----> 1\u001b[0m proba_dfs \u001b[38;5;241m=\u001b[39m [build_proba_df(gs, i) \u001b[38;5;28;01mfor\u001b[39;00m gs, i \u001b[38;5;129;01min\u001b[39;00m \u001b[38;5;28mzip\u001b[39m(grid_searches_list, input_dirs)]\n\u001b[1;32m      2\u001b[0m \u001b[38;5;28;01mfor\u001b[39;00m output_dir, proba_df \u001b[38;5;129;01min\u001b[39;00m \u001b[38;5;28mzip\u001b[39m(output_dirs, proba_dfs):\n\u001b[1;32m      3\u001b[0m     proba_df\u001b[38;5;241m.\u001b[39mto_csv(output_dir \u001b[38;5;241m/\u001b[39m \u001b[38;5;124m'\u001b[39m\u001b[38;5;124mproba_df.csv\u001b[39m\u001b[38;5;124m'\u001b[39m)\n",
      "Cell \u001b[0;32mIn[16], line 1\u001b[0m, in \u001b[0;36m<listcomp>\u001b[0;34m(.0)\u001b[0m\n\u001b[0;32m----> 1\u001b[0m proba_dfs \u001b[38;5;241m=\u001b[39m [\u001b[43mbuild_proba_df\u001b[49m\u001b[43m(\u001b[49m\u001b[43mgs\u001b[49m\u001b[43m,\u001b[49m\u001b[43m \u001b[49m\u001b[43mi\u001b[49m\u001b[43m)\u001b[49m \u001b[38;5;28;01mfor\u001b[39;00m gs, i \u001b[38;5;129;01min\u001b[39;00m \u001b[38;5;28mzip\u001b[39m(grid_searches_list, input_dirs)]\n\u001b[1;32m      2\u001b[0m \u001b[38;5;28;01mfor\u001b[39;00m output_dir, proba_df \u001b[38;5;129;01min\u001b[39;00m \u001b[38;5;28mzip\u001b[39m(output_dirs, proba_dfs):\n\u001b[1;32m      3\u001b[0m     proba_df\u001b[38;5;241m.\u001b[39mto_csv(output_dir \u001b[38;5;241m/\u001b[39m \u001b[38;5;124m'\u001b[39m\u001b[38;5;124mproba_df.csv\u001b[39m\u001b[38;5;124m'\u001b[39m)\n",
      "Cell \u001b[0;32mIn[13], line 39\u001b[0m, in \u001b[0;36mbuild_proba_df\u001b[0;34m(grid_searches, input_dir)\u001b[0m\n\u001b[1;32m     36\u001b[0m val \u001b[38;5;241m=\u001b[39m ref_df[\u001b[38;5;124m'\u001b[39m\u001b[38;5;124mval\u001b[39m\u001b[38;5;124m'\u001b[39m]\u001b[38;5;241m.\u001b[39mvalues\n\u001b[1;32m     37\u001b[0m test \u001b[38;5;241m=\u001b[39m ref_df[\u001b[38;5;124m'\u001b[39m\u001b[38;5;124mtest\u001b[39m\u001b[38;5;124m'\u001b[39m]\u001b[38;5;241m.\u001b[39mvalues\n\u001b[0;32m---> 39\u001b[0m proba_df \u001b[38;5;241m=\u001b[39m \u001b[43mpd\u001b[49m\u001b[38;5;241;43m.\u001b[39;49m\u001b[43mDataFrame\u001b[49m\u001b[43m(\u001b[49m\u001b[38;5;28;43mdict\u001b[39;49m\u001b[43m(\u001b[49m\n\u001b[1;32m     40\u001b[0m \u001b[43m    \u001b[49m\u001b[38;5;28;43mid\u001b[39;49m\u001b[38;5;241;43m=\u001b[39;49m\u001b[43mids\u001b[49m\u001b[43m,\u001b[49m\n\u001b[1;32m     41\u001b[0m \u001b[43m    \u001b[49m\u001b[43mentity\u001b[49m\u001b[38;5;241;43m=\u001b[39;49m\u001b[43m[\u001b[49m\u001b[43mid_to_entity\u001b[49m\u001b[43m[\u001b[49m\u001b[43mi\u001b[49m\u001b[43m]\u001b[49m\u001b[43m \u001b[49m\u001b[38;5;28;43;01mfor\u001b[39;49;00m\u001b[43m \u001b[49m\u001b[43mi\u001b[49m\u001b[43m \u001b[49m\u001b[38;5;129;43;01min\u001b[39;49;00m\u001b[43m \u001b[49m\u001b[43mids\u001b[49m\u001b[43m]\u001b[49m\u001b[43m,\u001b[49m\n\u001b[1;32m     42\u001b[0m \u001b[43m    \u001b[49m\u001b[43my\u001b[49m\u001b[38;5;241;43m=\u001b[39;49m\u001b[43my\u001b[49m\u001b[43m,\u001b[49m\n\u001b[1;32m     43\u001b[0m \u001b[43m    \u001b[49m\u001b[43mtrain\u001b[49m\u001b[38;5;241;43m=\u001b[39;49m\u001b[43mtrain\u001b[49m\u001b[43m,\u001b[49m\n\u001b[1;32m     44\u001b[0m \u001b[43m    \u001b[49m\u001b[43mval\u001b[49m\u001b[38;5;241;43m=\u001b[39;49m\u001b[43mval\u001b[49m\u001b[43m,\u001b[49m\n\u001b[1;32m     45\u001b[0m \u001b[43m    \u001b[49m\u001b[43mtest\u001b[49m\u001b[38;5;241;43m=\u001b[39;49m\u001b[43mtest\u001b[49m\u001b[43m,\u001b[49m\n\u001b[1;32m     46\u001b[0m \u001b[43m    \u001b[49m\u001b[38;5;241;43m*\u001b[39;49m\u001b[38;5;241;43m*\u001b[39;49m\u001b[43my_preds\u001b[49m\u001b[43m[\u001b[49m\u001b[38;5;124;43m'\u001b[39;49m\u001b[38;5;124;43mRotatE\u001b[39;49m\u001b[38;5;124;43m'\u001b[39;49m\u001b[43m]\u001b[49m\u001b[43m,\u001b[49m\n\u001b[1;32m     47\u001b[0m \u001b[43m    \u001b[49m\u001b[38;5;241;43m*\u001b[39;49m\u001b[38;5;241;43m*\u001b[39;49m\u001b[43my_preds\u001b[49m\u001b[43m[\u001b[49m\u001b[38;5;124;43m'\u001b[39;49m\u001b[38;5;124;43mTransE\u001b[39;49m\u001b[38;5;124;43m'\u001b[39;49m\u001b[43m]\u001b[49m\u001b[43m,\u001b[49m\n\u001b[1;32m     48\u001b[0m \u001b[43m\u001b[49m\u001b[43m)\u001b[49m\u001b[43m)\u001b[49m\n\u001b[1;32m     49\u001b[0m proba_df[\u001b[38;5;124m'\u001b[39m\u001b[38;5;124mRotatE_sum\u001b[39m\u001b[38;5;124m'\u001b[39m] \u001b[38;5;241m=\u001b[39m proba_df\u001b[38;5;241m.\u001b[39mfilter(regex\u001b[38;5;241m=\u001b[39m\u001b[38;5;124m'\u001b[39m\u001b[38;5;124mRotatE_[0-9]+\u001b[39m\u001b[38;5;124m'\u001b[39m)\u001b[38;5;241m.\u001b[39msum(axis\u001b[38;5;241m=\u001b[39m\u001b[38;5;241m1\u001b[39m)\n\u001b[1;32m     50\u001b[0m proba_df[\u001b[38;5;124m'\u001b[39m\u001b[38;5;124mTransE_sum\u001b[39m\u001b[38;5;124m'\u001b[39m] \u001b[38;5;241m=\u001b[39m proba_df\u001b[38;5;241m.\u001b[39mfilter(regex\u001b[38;5;241m=\u001b[39m\u001b[38;5;124m'\u001b[39m\u001b[38;5;124mTransE_[0-9]+\u001b[39m\u001b[38;5;124m'\u001b[39m)\u001b[38;5;241m.\u001b[39msum(axis\u001b[38;5;241m=\u001b[39m\u001b[38;5;241m1\u001b[39m)\n",
      "File \u001b[0;32m~/.conda/envs/giannt/lib/python3.10/site-packages/pandas/core/frame.py:664\u001b[0m, in \u001b[0;36mDataFrame.__init__\u001b[0;34m(self, data, index, columns, dtype, copy)\u001b[0m\n\u001b[1;32m    658\u001b[0m     mgr \u001b[38;5;241m=\u001b[39m \u001b[38;5;28mself\u001b[39m\u001b[38;5;241m.\u001b[39m_init_mgr(\n\u001b[1;32m    659\u001b[0m         data, axes\u001b[38;5;241m=\u001b[39m{\u001b[38;5;124m\"\u001b[39m\u001b[38;5;124mindex\u001b[39m\u001b[38;5;124m\"\u001b[39m: index, \u001b[38;5;124m\"\u001b[39m\u001b[38;5;124mcolumns\u001b[39m\u001b[38;5;124m\"\u001b[39m: columns}, dtype\u001b[38;5;241m=\u001b[39mdtype, copy\u001b[38;5;241m=\u001b[39mcopy\n\u001b[1;32m    660\u001b[0m     )\n\u001b[1;32m    662\u001b[0m \u001b[38;5;28;01melif\u001b[39;00m \u001b[38;5;28misinstance\u001b[39m(data, \u001b[38;5;28mdict\u001b[39m):\n\u001b[1;32m    663\u001b[0m     \u001b[38;5;66;03m# GH#38939 de facto copy defaults to False only in non-dict cases\u001b[39;00m\n\u001b[0;32m--> 664\u001b[0m     mgr \u001b[38;5;241m=\u001b[39m \u001b[43mdict_to_mgr\u001b[49m\u001b[43m(\u001b[49m\u001b[43mdata\u001b[49m\u001b[43m,\u001b[49m\u001b[43m \u001b[49m\u001b[43mindex\u001b[49m\u001b[43m,\u001b[49m\u001b[43m \u001b[49m\u001b[43mcolumns\u001b[49m\u001b[43m,\u001b[49m\u001b[43m \u001b[49m\u001b[43mdtype\u001b[49m\u001b[38;5;241;43m=\u001b[39;49m\u001b[43mdtype\u001b[49m\u001b[43m,\u001b[49m\u001b[43m \u001b[49m\u001b[43mcopy\u001b[49m\u001b[38;5;241;43m=\u001b[39;49m\u001b[43mcopy\u001b[49m\u001b[43m,\u001b[49m\u001b[43m \u001b[49m\u001b[43mtyp\u001b[49m\u001b[38;5;241;43m=\u001b[39;49m\u001b[43mmanager\u001b[49m\u001b[43m)\u001b[49m\n\u001b[1;32m    665\u001b[0m \u001b[38;5;28;01melif\u001b[39;00m \u001b[38;5;28misinstance\u001b[39m(data, ma\u001b[38;5;241m.\u001b[39mMaskedArray):\n\u001b[1;32m    666\u001b[0m     \u001b[38;5;28;01mimport\u001b[39;00m \u001b[38;5;21;01mnumpy\u001b[39;00m\u001b[38;5;21;01m.\u001b[39;00m\u001b[38;5;21;01mma\u001b[39;00m\u001b[38;5;21;01m.\u001b[39;00m\u001b[38;5;21;01mmrecords\u001b[39;00m \u001b[38;5;28;01mas\u001b[39;00m \u001b[38;5;21;01mmrecords\u001b[39;00m\n",
      "File \u001b[0;32m~/.conda/envs/giannt/lib/python3.10/site-packages/pandas/core/internals/construction.py:493\u001b[0m, in \u001b[0;36mdict_to_mgr\u001b[0;34m(data, index, columns, dtype, typ, copy)\u001b[0m\n\u001b[1;32m    489\u001b[0m     \u001b[38;5;28;01melse\u001b[39;00m:\n\u001b[1;32m    490\u001b[0m         \u001b[38;5;66;03m# dtype check to exclude e.g. range objects, scalars\u001b[39;00m\n\u001b[1;32m    491\u001b[0m         arrays \u001b[38;5;241m=\u001b[39m [x\u001b[38;5;241m.\u001b[39mcopy() \u001b[38;5;28;01mif\u001b[39;00m \u001b[38;5;28mhasattr\u001b[39m(x, \u001b[38;5;124m\"\u001b[39m\u001b[38;5;124mdtype\u001b[39m\u001b[38;5;124m\"\u001b[39m) \u001b[38;5;28;01melse\u001b[39;00m x \u001b[38;5;28;01mfor\u001b[39;00m x \u001b[38;5;129;01min\u001b[39;00m arrays]\n\u001b[0;32m--> 493\u001b[0m \u001b[38;5;28;01mreturn\u001b[39;00m \u001b[43marrays_to_mgr\u001b[49m\u001b[43m(\u001b[49m\u001b[43marrays\u001b[49m\u001b[43m,\u001b[49m\u001b[43m \u001b[49m\u001b[43mcolumns\u001b[49m\u001b[43m,\u001b[49m\u001b[43m \u001b[49m\u001b[43mindex\u001b[49m\u001b[43m,\u001b[49m\u001b[43m \u001b[49m\u001b[43mdtype\u001b[49m\u001b[38;5;241;43m=\u001b[39;49m\u001b[43mdtype\u001b[49m\u001b[43m,\u001b[49m\u001b[43m \u001b[49m\u001b[43mtyp\u001b[49m\u001b[38;5;241;43m=\u001b[39;49m\u001b[43mtyp\u001b[49m\u001b[43m,\u001b[49m\u001b[43m \u001b[49m\u001b[43mconsolidate\u001b[49m\u001b[38;5;241;43m=\u001b[39;49m\u001b[43mcopy\u001b[49m\u001b[43m)\u001b[49m\n",
      "File \u001b[0;32m~/.conda/envs/giannt/lib/python3.10/site-packages/pandas/core/internals/construction.py:118\u001b[0m, in \u001b[0;36marrays_to_mgr\u001b[0;34m(arrays, columns, index, dtype, verify_integrity, typ, consolidate)\u001b[0m\n\u001b[1;32m    115\u001b[0m \u001b[38;5;28;01mif\u001b[39;00m verify_integrity:\n\u001b[1;32m    116\u001b[0m     \u001b[38;5;66;03m# figure out the index, if necessary\u001b[39;00m\n\u001b[1;32m    117\u001b[0m     \u001b[38;5;28;01mif\u001b[39;00m index \u001b[38;5;129;01mis\u001b[39;00m \u001b[38;5;28;01mNone\u001b[39;00m:\n\u001b[0;32m--> 118\u001b[0m         index \u001b[38;5;241m=\u001b[39m \u001b[43m_extract_index\u001b[49m\u001b[43m(\u001b[49m\u001b[43marrays\u001b[49m\u001b[43m)\u001b[49m\n\u001b[1;32m    119\u001b[0m     \u001b[38;5;28;01melse\u001b[39;00m:\n\u001b[1;32m    120\u001b[0m         index \u001b[38;5;241m=\u001b[39m ensure_index(index)\n",
      "File \u001b[0;32m~/.conda/envs/giannt/lib/python3.10/site-packages/pandas/core/internals/construction.py:653\u001b[0m, in \u001b[0;36m_extract_index\u001b[0;34m(data)\u001b[0m\n\u001b[1;32m    651\u001b[0m         raw_lengths\u001b[38;5;241m.\u001b[39mappend(\u001b[38;5;28mlen\u001b[39m(val))\n\u001b[1;32m    652\u001b[0m     \u001b[38;5;28;01melif\u001b[39;00m \u001b[38;5;28misinstance\u001b[39m(val, np\u001b[38;5;241m.\u001b[39mndarray) \u001b[38;5;129;01mand\u001b[39;00m val\u001b[38;5;241m.\u001b[39mndim \u001b[38;5;241m>\u001b[39m \u001b[38;5;241m1\u001b[39m:\n\u001b[0;32m--> 653\u001b[0m         \u001b[38;5;28;01mraise\u001b[39;00m \u001b[38;5;167;01mValueError\u001b[39;00m(\u001b[38;5;124m\"\u001b[39m\u001b[38;5;124mPer-column arrays must each be 1-dimensional\u001b[39m\u001b[38;5;124m\"\u001b[39m)\n\u001b[1;32m    655\u001b[0m \u001b[38;5;28;01mif\u001b[39;00m \u001b[38;5;129;01mnot\u001b[39;00m indexes \u001b[38;5;129;01mand\u001b[39;00m \u001b[38;5;129;01mnot\u001b[39;00m raw_lengths:\n\u001b[1;32m    656\u001b[0m     \u001b[38;5;28;01mraise\u001b[39;00m \u001b[38;5;167;01mValueError\u001b[39;00m(\u001b[38;5;124m\"\u001b[39m\u001b[38;5;124mIf using all scalar values, you must pass an index\u001b[39m\u001b[38;5;124m\"\u001b[39m)\n",
      "\u001b[0;31mValueError\u001b[0m: Per-column arrays must each be 1-dimensional"
     ]
    }
   ],
   "source": [
    "proba_dfs = [build_proba_df(gs, i) for gs, i in zip(grid_searches_list, input_dirs)]\n",
    "for output_dir, proba_df in zip(output_dirs, proba_dfs):\n",
    "    proba_df.to_csv(output_dir / 'proba_df.csv')"
   ]
  },
  {
   "cell_type": "code",
   "execution_count": null,
   "id": "7b2c84bc-4a73-4ed7-b818-15f99a1d57d4",
   "metadata": {},
   "outputs": [],
   "source": [
    "proba_df = proba_dfs[0]"
   ]
  },
  {
   "cell_type": "code",
   "execution_count": null,
   "id": "28a0d487-2430-4cc9-9667-c0e7d708bdc6",
   "metadata": {},
   "outputs": [],
   "source": [
    "proba_df.query('test').sort_values('RotatE_sum', ascending=False)"
   ]
  }
 ],
 "metadata": {
  "kernelspec": {
   "display_name": "giannt",
   "language": "python",
   "name": "giannt"
  },
  "language_info": {
   "codemirror_mode": {
    "name": "ipython",
    "version": 3
   },
   "file_extension": ".py",
   "mimetype": "text/x-python",
   "name": "python",
   "nbconvert_exporter": "python",
   "pygments_lexer": "ipython3",
   "version": "3.10.10"
  }
 },
 "nbformat": 4,
 "nbformat_minor": 5
}
