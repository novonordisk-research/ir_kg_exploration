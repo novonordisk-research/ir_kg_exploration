{
 "cells": [
  {
   "cell_type": "code",
   "execution_count": 1,
   "id": "7a02f0d1-4326-4d53-b54c-bec55936ac4a",
   "metadata": {},
   "outputs": [],
   "source": [
    "import pickle\n",
    "from pathlib import Path\n",
    "\n",
    "import pandas as pd\n",
    "import numpy as np\n",
    "from pulearn.elkanoto import ElkanotoPuClassifier\n",
    "from sklearn.svm import SVC\n",
    "from sklearn.model_selection import GridSearchCV\n",
    "from sklearn.pipeline import Pipeline\n",
    "from sklearn.model_selection import ParameterGrid, GridSearchCV\n",
    "from sklearn.decomposition import PCA\n",
    "from tqdm import tqdm\n",
    "\n",
    "import pul_config\n",
    "import importlib\n",
    "importlib.reload(pul_config)\n",
    "\n",
    "def predict_proba(m, X):\n",
    "    try:\n",
    "        proba = m.predict_proba(X)\n",
    "    except:\n",
    "        try:\n",
    "            proba = m.decision_function(X)\n",
    "        except:\n",
    "            proba = m.best_estimator_.decision_function(X)\n",
    "\n",
    "    return proba\n",
    "\n",
    "def evaluate(m, X, y, n=100, scale=True):\n",
    "    y_pred = m.predict(X) > 0\n",
    "    y_prob_pred = predict_proba(m, X)\n",
    "\n",
    "    order = np.argsort(y_prob_pred)[::-1]\n",
    "    # print(y_pred[order][:n])\n",
    "    if scale:\n",
    "        return y[order][:n].sum() / y.sum()\n",
    "    else:\n",
    "        return y[order][:n].sum()\n",
    "    \n",
    "\n",
    "# CHANGE HERE\n",
    "input_dirs = [Path('1_outputs/standard/'), Path('1_outputs/small_DS/')]\n",
    "output_dirs = [Path('2_outputs/standard/'), Path('2_outputs/small_DS/')]\n",
    "method = 'OneClassSVM'\n",
    "pul_cfg = pul_config.OneClassSVMConfig\n",
    "# -----\n",
    "\n",
    "MODEL_NAMES = ('RotatE', 'TransE')\n",
    "output_dirs = [output_dir / method for output_dir in output_dirs]"
   ]
  },
  {
   "cell_type": "markdown",
   "id": "ceddba04-3d10-45f5-867d-7f1fe35cdb47",
   "metadata": {},
   "source": [
    "## Training"
   ]
  },
  {
   "cell_type": "code",
   "execution_count": 8,
   "id": "9385edac-59fb-4c24-8fe5-d2d32c65e51c",
   "metadata": {},
   "outputs": [],
   "source": [
    "np.random.seed(42)"
   ]
  },
  {
   "cell_type": "code",
   "execution_count": 9,
   "id": "ff31689c-1a2e-414d-9572-b333d6793ae0",
   "metadata": {},
   "outputs": [],
   "source": [
    "def train(input_dir, output_dir, n_jobs, cv, model_names, rerun=False):\n",
    "    ref_df = pd.read_csv(input_dir / 'ref_df.csv', index_col=0)\n",
    "    ref_df.head()\n",
    "    for model_name in tqdm(model_names):\n",
    "        out_dir = output_dir / model_name\n",
    "        out_dir.mkdir(exist_ok=True, parents=True)\n",
    "        for i in tqdm(range(10)):\n",
    "            m_file = out_dir / f'{model_name}_{i}.pkl'\n",
    "            if m_file.exists():\n",
    "                try:\n",
    "                    # try to load the file\n",
    "                    with open(m_file, 'rb') as f:\n",
    "                        pickle.load(f)\n",
    "                    if not rerun:\n",
    "                        print(m_file, 'exists. Skipping...')\n",
    "                        continue\n",
    "                except:\n",
    "                    pass\n",
    "\n",
    "            X_all = np.load(input_dir / f'{model_name}_X_{i}.npy')\n",
    "\n",
    "            ds_names = ('train', 'test', 'val')\n",
    "            Xs = {ds: X_all[ref_df.query(ds)['id']] for ds in ds_names}\n",
    "            ys = {ds: ref_df.query(ds)['y'].values for ds in ds_names}\n",
    "\n",
    "            ds = 'train'\n",
    "            X = Xs[ds]\n",
    "            y = ys[ds]\n",
    "\n",
    "            pipe = pul_cfg.build_pipeline()\n",
    "            param_grid = pul_cfg.build_param_grid()\n",
    "\n",
    "            grid_search = GridSearchCV(pipe, param_grid=param_grid, cv=cv, refit=True, n_jobs=n_jobs, scoring=evaluate)\n",
    "            grid_search.fit(X=X, y=y)\n",
    "\n",
    "            with open(m_file, 'wb') as f:\n",
    "                pickle.dump(grid_search, f)"
   ]
  },
  {
   "cell_type": "code",
   "execution_count": null,
   "id": "002009b4-f5f6-4db7-8059-35bbe07d3432",
   "metadata": {},
   "outputs": [
    {
     "name": "stderr",
     "output_type": "stream",
     "text": [
      "  0%|          | 0/2 [00:00<?, ?it/s]\n",
      "  0%|          | 0/2 [00:00<?, ?it/s]\u001b[A\n",
      "\n",
      "  0%|          | 0/10 [00:00<?, ?it/s]\u001b[A\u001b[A"
     ]
    }
   ],
   "source": [
    "N_JOBS = 20\n",
    "CV = 5\n",
    "\n",
    "for input_dir, output_dir in tqdm(zip(input_dirs, output_dirs), total=len(input_dirs)):\n",
    "    train(input_dir=input_dir, output_dir=output_dir, model_names=MODEL_NAMES, cv=CV, n_jobs=N_JOBS)"
   ]
  },
  {
   "cell_type": "markdown",
   "id": "9e41f459-c208-4cfb-9ea6-bd7547aa6343",
   "metadata": {},
   "source": [
    "# Evaluation"
   ]
  },
  {
   "cell_type": "code",
   "execution_count": 2,
   "id": "26a4492a-317a-4709-abcd-44715f837988",
   "metadata": {},
   "outputs": [],
   "source": [
    "def load_grid_searches(output_dir, model_names):\n",
    "    grid_searches = {}\n",
    "    for model_name in model_names:\n",
    "        grid_searches[model_name] = {}\n",
    "        for j in range(10):\n",
    "            m_name = f'{model_name}_{j}'\n",
    "            m_file = output_dir / model_name / f'{m_name}.pkl'\n",
    "            with open(m_file, 'rb') as f:\n",
    "                grid_search = pickle.load(f)\n",
    "            grid_searches[model_name][m_name] = grid_search\n",
    "\n",
    "    return grid_searches"
   ]
  },
  {
   "cell_type": "code",
   "execution_count": 3,
   "id": "89951ebd-8ffa-4f38-800e-0681a7558fd2",
   "metadata": {},
   "outputs": [],
   "source": [
    "grid_searches_list = [\n",
    "    load_grid_searches(output_dir=o, model_names=MODEL_NAMES) for o in output_dirs\n",
    "]"
   ]
  },
  {
   "cell_type": "code",
   "execution_count": 4,
   "id": "b1411d61-1f00-411f-8b6a-2e19e3d4a391",
   "metadata": {},
   "outputs": [],
   "source": [
    "def score_df_from_grid_searches(grid_searches, input_dir, ns=(10,100)):\n",
    "    ref_df = pd.read_csv(input_dir / 'ref_df.csv', index_col=0)\n",
    "    ref_df.head()\n",
    "\n",
    "    score_dict = {\n",
    "        'model_name': [],\n",
    "        'm_name': [],\n",
    "        'score10_val': [],\n",
    "        'score100_val': [],\n",
    "        'score10_test': [],\n",
    "        'score100_test': [],\n",
    "\n",
    "    }\n",
    "    scale = False\n",
    "    for model_name in grid_searches.keys():\n",
    "        for i, m_name in enumerate(grid_searches[model_name].keys()):\n",
    "            score_dict['model_name'].append(model_name)\n",
    "            score_dict['m_name'].append(m_name)\n",
    "            X_all = np.load(input_dir / f'{model_name}_X_{i}.npy')\n",
    "\n",
    "            ds_names = ('train', 'test', 'val')\n",
    "            Xs = {ds: X_all[ref_df.query(ds)['id']] for ds in ds_names}\n",
    "            ys = {ds: ref_df.query(ds)['y'].values for ds in ds_names}\n",
    "\n",
    "            grid_search = grid_searches[model_name][m_name]\n",
    "            for n in ns:\n",
    "                val_score = evaluate(\n",
    "                    m=grid_search,\n",
    "                    X=Xs['val'],\n",
    "                    y=ys['val'],\n",
    "                    n=n,\n",
    "                    scale=scale\n",
    "                )\n",
    "                score_dict[f'score{n}_val'].append(val_score)\n",
    "\n",
    "                test_score = evaluate(\n",
    "                    m=grid_search,\n",
    "                    X=Xs['test'],\n",
    "                    y=ys['test'],\n",
    "                    n=n,\n",
    "                    scale=scale\n",
    "                )\n",
    "                score_dict[f'score{n}_test'].append(test_score)\n",
    "\n",
    "    score_df = pd.DataFrame(score_dict)\n",
    "    return score_df"
   ]
  },
  {
   "cell_type": "code",
   "execution_count": 5,
   "id": "9a78ec72-80f8-4a6e-b4ed-0474171ae40a",
   "metadata": {},
   "outputs": [],
   "source": [
    "score_dfs = [score_df_from_grid_searches(gs, i) for gs, i in zip(grid_searches_list, input_dirs)]\n",
    "for output_dir, score_df in zip(output_dirs, score_dfs):\n",
    "    score_df.to_csv(output_dir / 'score_df.csv')"
   ]
  },
  {
   "cell_type": "code",
   "execution_count": 16,
   "id": "72fc17ed-9cc9-4019-88ed-4c1d3df5e4b2",
   "metadata": {},
   "outputs": [
    {
     "name": "stderr",
     "output_type": "stream",
     "text": [
      "/tmp/ipykernel_2820235/1470429527.py:1: FutureWarning: The default value of numeric_only in DataFrameGroupBy.mean is deprecated. In a future version, numeric_only will default to False. Either specify numeric_only or select only columns which should be valid for the function.\n",
      "  score_dfs[0].groupby('model_name').mean()\n"
     ]
    },
    {
     "data": {
      "text/html": [
       "<div>\n",
       "<style scoped>\n",
       "    .dataframe tbody tr th:only-of-type {\n",
       "        vertical-align: middle;\n",
       "    }\n",
       "\n",
       "    .dataframe tbody tr th {\n",
       "        vertical-align: top;\n",
       "    }\n",
       "\n",
       "    .dataframe thead th {\n",
       "        text-align: right;\n",
       "    }\n",
       "</style>\n",
       "<table border=\"1\" class=\"dataframe\">\n",
       "  <thead>\n",
       "    <tr style=\"text-align: right;\">\n",
       "      <th></th>\n",
       "      <th>score10_val</th>\n",
       "      <th>score100_val</th>\n",
       "      <th>score10_test</th>\n",
       "      <th>score100_test</th>\n",
       "    </tr>\n",
       "    <tr>\n",
       "      <th>model_name</th>\n",
       "      <th></th>\n",
       "      <th></th>\n",
       "      <th></th>\n",
       "      <th></th>\n",
       "    </tr>\n",
       "  </thead>\n",
       "  <tbody>\n",
       "    <tr>\n",
       "      <th>RotatE</th>\n",
       "      <td>6.4</td>\n",
       "      <td>31.0</td>\n",
       "      <td>6.6</td>\n",
       "      <td>34.9</td>\n",
       "    </tr>\n",
       "    <tr>\n",
       "      <th>TransE</th>\n",
       "      <td>1.1</td>\n",
       "      <td>15.5</td>\n",
       "      <td>1.3</td>\n",
       "      <td>16.8</td>\n",
       "    </tr>\n",
       "  </tbody>\n",
       "</table>\n",
       "</div>"
      ],
      "text/plain": [
       "            score10_val  score100_val  score10_test  score100_test\n",
       "model_name                                                        \n",
       "RotatE              6.4          31.0           6.6           34.9\n",
       "TransE              1.1          15.5           1.3           16.8"
      ]
     },
     "execution_count": 16,
     "metadata": {},
     "output_type": "execute_result"
    }
   ],
   "source": [
    "score_dfs[0].groupby('model_name').mean()"
   ]
  },
  {
   "cell_type": "code",
   "execution_count": 7,
   "id": "34d93785-b64c-4ee4-bbf2-ee1ad76f3eb3",
   "metadata": {},
   "outputs": [
    {
     "data": {
      "text/plain": [
       "Text(0, 0.5, 'score')"
      ]
     },
     "execution_count": 7,
     "metadata": {},
     "output_type": "execute_result"
    },
    {
     "data": {
      "image/png": "[encoded data removed]",
      "text/plain": [
       "<Figure size 640x480 with 1 Axes>"
      ]
     },
     "metadata": {},
     "output_type": "display_data"
    }
   ],
   "source": [
    "import seaborn as sns\n",
    "\n",
    "sns.boxplot(score_dfs[0], x='model_name', y='score10_test').set(title='Hits@100 and hits@10\\n(large positive set)')\n",
    "sns.boxplot(score_dfs[0], x='model_name', y='score100_test').set_ylabel('score')"
   ]
  },
  {
   "cell_type": "code",
   "execution_count": 8,
   "id": "b4f12e20-1513-4bb6-af4e-bb1f03aa33c5",
   "metadata": {},
   "outputs": [
    {
     "name": "stderr",
     "output_type": "stream",
     "text": [
      "/tmp/ipykernel_2820235/647870589.py:1: FutureWarning: The default value of numeric_only in DataFrameGroupBy.mean is deprecated. In a future version, numeric_only will default to False. Either specify numeric_only or select only columns which should be valid for the function.\n",
      "  score_dfs[1].groupby('model_name').mean()\n"
     ]
    },
    {
     "data": {
      "text/html": [
       "<div>\n",
       "<style scoped>\n",
       "    .dataframe tbody tr th:only-of-type {\n",
       "        vertical-align: middle;\n",
       "    }\n",
       "\n",
       "    .dataframe tbody tr th {\n",
       "        vertical-align: top;\n",
       "    }\n",
       "\n",
       "    .dataframe thead th {\n",
       "        text-align: right;\n",
       "    }\n",
       "</style>\n",
       "<table border=\"1\" class=\"dataframe\">\n",
       "  <thead>\n",
       "    <tr style=\"text-align: right;\">\n",
       "      <th></th>\n",
       "      <th>score10_val</th>\n",
       "      <th>score100_val</th>\n",
       "      <th>score10_test</th>\n",
       "      <th>score100_test</th>\n",
       "    </tr>\n",
       "    <tr>\n",
       "      <th>model_name</th>\n",
       "      <th></th>\n",
       "      <th></th>\n",
       "      <th></th>\n",
       "      <th></th>\n",
       "    </tr>\n",
       "  </thead>\n",
       "  <tbody>\n",
       "    <tr>\n",
       "      <th>RotatE</th>\n",
       "      <td>1.3</td>\n",
       "      <td>11.6</td>\n",
       "      <td>2.7</td>\n",
       "      <td>14.5</td>\n",
       "    </tr>\n",
       "    <tr>\n",
       "      <th>TransE</th>\n",
       "      <td>3.3</td>\n",
       "      <td>18.0</td>\n",
       "      <td>1.1</td>\n",
       "      <td>16.9</td>\n",
       "    </tr>\n",
       "  </tbody>\n",
       "</table>\n",
       "</div>"
      ],
      "text/plain": [
       "            score10_val  score100_val  score10_test  score100_test\n",
       "model_name                                                        \n",
       "RotatE              1.3          11.6           2.7           14.5\n",
       "TransE              3.3          18.0           1.1           16.9"
      ]
     },
     "execution_count": 8,
     "metadata": {},
     "output_type": "execute_result"
    }
   ],
   "source": [
    "score_dfs[1].groupby('model_name').mean()"
   ]
  },
  {
   "cell_type": "code",
   "execution_count": 9,
   "id": "09ba3e17-9ce9-4e0e-9a86-40fccc97591b",
   "metadata": {},
   "outputs": [
    {
     "data": {
      "text/plain": [
       "Text(0, 0.5, 'score')"
      ]
     },
     "execution_count": 9,
     "metadata": {},
     "output_type": "execute_result"
    },
    {
     "data": {
      "image/png": "[encoded data removed]",
      "text/plain": [
       "<Figure size 640x480 with 1 Axes>"
      ]
     },
     "metadata": {},
     "output_type": "display_data"
    }
   ],
   "source": [
    "import seaborn as sns\n",
    "\n",
    "sns.boxplot(score_dfs[1], x='model_name', y='score10_test').set(title='Hits@100 and hits@10\\n(small positive set)')\n",
    "sns.boxplot(score_dfs[1], x='model_name', y='score100_test').set_ylabel('score')"
   ]
  },
  {
   "cell_type": "code",
   "execution_count": 2,
   "id": "51df7f95-554a-48c1-ac29-029385fae3cc",
   "metadata": {},
   "outputs": [],
   "source": [
    "score_dfs = []\n",
    "for output_dir in output_dirs:\n",
    "    score_dfs.append(pd.read_csv(output_dir / 'score_df.csv', index_col=0))\n",
    "plot_dfs = []\n",
    "for ds, score_df in zip(('large', 'small'), score_dfs):\n",
    "    plot_df = score_df[['model_name', 'score10_test', 'score100_test']].copy()\n",
    "    plot_df.columns = ['model_name', 'hits@10', 'hits@100']\n",
    "    plot_df['dataset'] = ds\n",
    "    plot_dfs.append(plot_df)\n",
    "    \n",
    "plot_df = pd.concat(plot_dfs)\n",
    "plot_df = plot_df.melt(id_vars=['model_name', 'dataset'])\n",
    "plot_dfs = {k:v for k, v in plot_df.groupby('model_name')}"
   ]
  },
  {
   "cell_type": "code",
   "execution_count": 5,
   "id": "7c67fdb1-e1d2-4331-ab32-9ada1f2734d0",
   "metadata": {},
   "outputs": [
    {
     "data": {
      "image/png": "[encoded data removed]",
      "text/plain": [
       "<Figure size 640x480 with 1 Axes>"
      ]
     },
     "metadata": {},
     "output_type": "display_data"
    }
   ],
   "source": [
    "import seaborn as sns\n",
    "model_name = 'TransE'\n",
    "plot_df = plot_dfs[model_name]\n",
    "plot = sns.barplot(plot_df, x='dataset', y='value', hue='variable', order=['small', 'large'])\n",
    "sns.move_legend(plot, 'upper left')\n",
    "plot.set(xlabel='positive dataset', ylabel='score')\n",
    "plot.set_title(f'One-Class SVM - {model_name}')\n",
    "plot.set_ylim([0, 55])\n",
    "_ = plot.set_xticklabels(labels=['small', 'large'], rotation=0)"
   ]
  },
  {
   "cell_type": "code",
   "execution_count": 6,
   "id": "4fa374f6-c14c-4d38-956b-2f0e00385631",
   "metadata": {},
   "outputs": [
    {
     "data": {
      "image/png": "[encoded data removed]",
      "text/plain": [
       "<Figure size 640x480 with 1 Axes>"
      ]
     },
     "metadata": {},
     "output_type": "display_data"
    }
   ],
   "source": [
    "import seaborn as sns\n",
    "model_name = 'RotatE'\n",
    "plot_df = plot_dfs[model_name]\n",
    "plot = sns.barplot(plot_df, x='dataset', y='value', hue='variable', order=['small', 'large'])\n",
    "sns.move_legend(plot, 'upper left')\n",
    "plot.set(xlabel='positive dataset', ylabel='score')\n",
    "plot.set_title(f'One-Class SVM - {model_name}')\n",
    "plot.set_ylim([0, 55])\n",
    "_ = plot.set_xticklabels(labels=['small', 'large'], rotation=0)"
   ]
  },
  {
   "cell_type": "code",
   "execution_count": 10,
   "id": "832ac18e-d767-4740-a6d2-f42e0e6d82a8",
   "metadata": {},
   "outputs": [],
   "source": [
    "def calc_predictions(grid_searches, input_dir):\n",
    "    ref_df = pd.read_csv(input_dir / 'ref_df.csv', index_col=0)\n",
    "    ref_df.head()\n",
    "    \n",
    "    ids = ref_df['id'].values\n",
    "    y = ref_df['y'].values\n",
    "    train = ref_df['train'].values\n",
    "    val = ref_df['val'].values\n",
    "    test = ref_df['test'].values\n",
    "    \n",
    "    y_preds = {}\n",
    "    for model_name in grid_searches.keys():\n",
    "        y_preds[model_name] = {}\n",
    "        for i, m_name in enumerate(grid_searches[model_name].keys()):\n",
    "            X_all = np.load(input_dir / f'{model_name}_X_{i}.npy')\n",
    "            X = X_all[ids]\n",
    "\n",
    "            grid_search = grid_searches[model_name][m_name]\n",
    "            y_preds[model_name][m_name] = predict_proba(grid_search, X)\n",
    "            \n",
    "    return y_preds\n",
    "\n",
    "def build_proba_df(grid_searches, input_dir):\n",
    "    from pykeen.datasets import OpenBioLink\n",
    "    obl = OpenBioLink()\n",
    "    id_to_entity = {i:e for e, i in obl.entity_to_id.items()}\n",
    "    \n",
    "    y_preds = calc_predictions(grid_searches=grid_searches, input_dir=input_dir)\n",
    "    \n",
    "    ref_df = pd.read_csv(input_dir / 'ref_df.csv', index_col=0)\n",
    "    ref_df.head()\n",
    "    \n",
    "    ids = ref_df['id'].values\n",
    "    y = ref_df['y'].values\n",
    "    train = ref_df['train'].values\n",
    "    val = ref_df['val'].values\n",
    "    test = ref_df['test'].values\n",
    "    \n",
    "    proba_df = pd.DataFrame(dict(\n",
    "        id=ids,\n",
    "        entity=[id_to_entity[i] for i in ids],\n",
    "        y=y,\n",
    "        train=train,\n",
    "        val=val,\n",
    "        test=test,\n",
    "        **y_preds['RotatE'],\n",
    "        **y_preds['TransE'],\n",
    "    ))\n",
    "    proba_df['RotatE_sum'] = proba_df.filter(regex='RotatE_[0-9]+').sum(axis=1)\n",
    "    proba_df['TransE_sum'] = proba_df.filter(regex='TransE_[0-9]+').sum(axis=1)\n",
    "    \n",
    "    return proba_df"
   ]
  },
  {
   "cell_type": "code",
   "execution_count": null,
   "id": "7ae05b4d-b629-4674-b623-dda434899515",
   "metadata": {},
   "outputs": [
    {
     "name": "stderr",
     "output_type": "stream",
     "text": [
      "You're trying to map triples with 2052 entities and 0 relations that are not in the training set. These triples will be excluded from the mapping.\n",
      "In total 2047 from 183011 triples were filtered out\n"
     ]
    }
   ],
   "source": [
    "proba_dfs = [build_proba_df(gs, i) for gs, i in zip(grid_searches_list, input_dirs)]\n",
    "for output_dir, proba_df in zip(output_dirs, proba_dfs):\n",
    "    proba_df.to_csv(output_dir / 'proba_df.csv')"
   ]
  },
  {
   "cell_type": "code",
   "execution_count": null,
   "id": "7b2c84bc-4a73-4ed7-b818-15f99a1d57d4",
   "metadata": {},
   "outputs": [],
   "source": [
    "proba_df = proba_dfs[0]"
   ]
  },
  {
   "cell_type": "code",
   "execution_count": null,
   "id": "28a0d487-2430-4cc9-9667-c0e7d708bdc6",
   "metadata": {},
   "outputs": [],
   "source": [
    "proba_df.query('test').sort_values('RotatE_sum', ascending=False)"
   ]
  }
 ],
 "metadata": {
  "kernelspec": {
   "display_name": "giannt",
   "language": "python",
   "name": "giannt"
  },
  "language_info": {
   "codemirror_mode": {
    "name": "ipython",
    "version": 3
   },
   "file_extension": ".py",
   "mimetype": "text/x-python",
   "name": "python",
   "nbconvert_exporter": "python",
   "pygments_lexer": "ipython3",
   "version": "3.10.10"
  }
 },
 "nbformat": 4,
 "nbformat_minor": 5
}
