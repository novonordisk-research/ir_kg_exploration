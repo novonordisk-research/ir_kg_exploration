{
 "cells": [
  {
   "cell_type": "code",
   "execution_count": 2,
   "id": "58cd4c88-0815-40c4-bbbc-666c13e27a24",
   "metadata": {},
   "outputs": [],
   "source": [
    "import pickle\n",
    "from pathlib import Path\n",
    "\n",
    "import pandas as pd\n",
    "import numpy as np\n",
    "from tqdm import tqdm"
   ]
  },
  {
   "cell_type": "code",
   "execution_count": 2,
   "id": "cdd2e07b-8b67-476b-95b8-8f60a6580db3",
   "metadata": {},
   "outputs": [],
   "source": [
    "PAIRS_DIR = \".\"\n",
    "NODEWISE_DIR = \"2_outputs/nodewise/\"\n",
    "PAIRWISE_DIR = \"2_outputs/pairwise/\"\n",
    "PAIRWISE_PROCESSED_DIR = \"./3_outputs/pairwise_processed/\"\n",
    "NODEWISE_PROCESSED_DIR = \"./3_outputs/nodewise_processed/\""
   ]
  },
  {
   "cell_type": "markdown",
   "id": "8b0a7257-b881-4ec4-a2a7-226fc9ac3c7b",
   "metadata": {},
   "source": [
    "## Prepare Pairwise Metrics Files"
   ]
  },
  {
   "cell_type": "code",
   "execution_count": 3,
   "id": "ce871344-adc2-4c1b-b930-cdfd72ae2890",
   "metadata": {},
   "outputs": [],
   "source": [
    "def reshape_pairwise_metric(\n",
    "    pairs_file,\n",
    "    metric_file,\n",
    "    out_file,\n",
    "):\n",
    "    with open(pairs_file, \"rb\") as f:\n",
    "        pairs = pickle.load(f)\n",
    "\n",
    "    p0s, p0_counts = np.unique([p[0] for p in pairs], return_counts=True)\n",
    "    p1s, p1_counts = np.unique([p[1] for p in pairs], return_counts=True)\n",
    "\n",
    "    val_df = pd.read_csv(metric_file)\n",
    "\n",
    "    metric_df = pd.DataFrame(\n",
    "        val_df.values.reshape((len(p0s), len(p1s))), columns=p1s, index=p0s\n",
    "    )\n",
    "    metric_df.to_csv(out_file)\n",
    "\n",
    "\n",
    "def reshape_pairwise_metric2(\n",
    "    pairs_file,\n",
    "    metric_file,\n",
    "    out_file,\n",
    "):\n",
    "    with open(pairs_file, \"rb\") as f:\n",
    "        pairs = pickle.load(f)\n",
    "\n",
    "    p0s = np.unique([p[0] for p in pairs])\n",
    "    p1s = pairs[0][1]\n",
    "\n",
    "    metric_df = pd.read_csv(metric_file, header=None)\n",
    "\n",
    "    metric_df.index = p0s\n",
    "    metric_df.columns = p1s\n",
    "    metric_df.to_csv(out_file)"
   ]
  },
  {
   "cell_type": "code",
   "execution_count": 4,
   "id": "f5351b67-63d6-41e2-b18e-9f01255315c3",
   "metadata": {},
   "outputs": [
    {
     "name": "stderr",
     "output_type": "stream",
     "text": [
      "100%|██████████| 9/9 [00:08<00:00,  1.11it/s]\n"
     ]
    }
   ],
   "source": [
    "metric_input_dir = Path(NODEWISE_DIR)\n",
    "out_dir = Path(NODEWISE_PROCESSED_DIR)\n",
    "out_dir.mkdir(exist_ok=True, parents=True)\n",
    "\n",
    "metric_input_dir = Path(NODEWISE_DIR)\n",
    "metric_files = list(metric_input_dir.glob(f\"*.csv\"))\n",
    "\n",
    "for metric_file in tqdm(metric_files):\n",
    "    m_df = pd.read_csv(metric_file)\n",
    "    m_df.to_csv(out_dir / metric_file.name)"
   ]
  },
  {
   "cell_type": "code",
   "execution_count": 5,
   "id": "992174a0-ebb3-4406-b89d-3deab5d16c71",
   "metadata": {},
   "outputs": [
    {
     "name": "stderr",
     "output_type": "stream",
     "text": [
      "100%|██████████| 8/8 [02:02<00:00, 15.35s/it]\n",
      "100%|██████████| 8/8 [09:03<00:00, 67.92s/it]\n"
     ]
    }
   ],
   "source": [
    "metric_input_dir = Path(PAIRWISE_DIR)\n",
    "pairs_dir = Path(PAIRS_DIR)\n",
    "out_dir = Path(PAIRWISE_PROCESSED_DIR)\n",
    "out_dir.mkdir(exist_ok=True, parents=True)\n",
    "\n",
    "for suffix in (\"_disease\", \"_pathway\"):\n",
    "    metric_files = list(metric_input_dir.glob(f\"*{suffix}.csv\"))\n",
    "\n",
    "    for metric_file in tqdm(metric_files):\n",
    "        if metric_file.name.startswith(\"personalized_pagerank\"):\n",
    "            fun = reshape_pairwise_metric2\n",
    "            pairs_file = pairs_dir / f\"input_pairs_obl{suffix}.pkl\"\n",
    "        else:\n",
    "            fun = reshape_pairwise_metric\n",
    "            pairs_file = pairs_dir / f\"pairs_obl{suffix}.pkl\"\n",
    "        out_file = out_dir / metric_file.name\n",
    "        fun(\n",
    "            pairs_file=pairs_file,\n",
    "            metric_file=metric_file,\n",
    "            out_file=out_file,\n",
    "        )"
   ]
  },
  {
   "cell_type": "code",
   "execution_count": 1,
   "id": "93a12b6c-68c8-4ebb-b342-ed023df21e5c",
   "metadata": {},
   "outputs": [
    {
     "ename": "NameError",
     "evalue": "name 'Path' is not defined",
     "output_type": "error",
     "traceback": [
      "\u001b[0;31m---------------------------------------------------------------------------\u001b[0m",
      "\u001b[0;31mNameError\u001b[0m                                 Traceback (most recent call last)",
      "Cell \u001b[0;32mIn[1], line 3\u001b[0m\n\u001b[1;32m      1\u001b[0m sampling_strategy \u001b[38;5;241m=\u001b[39m \u001b[38;5;241m1.0\u001b[39m\n\u001b[0;32m----> 3\u001b[0m pp_dir \u001b[38;5;241m=\u001b[39m \u001b[43mPath\u001b[49m(PAIRWISE_PROCESSED_DIR)\n\u001b[1;32m      4\u001b[0m nd_dir \u001b[38;5;241m=\u001b[39m Path(NODEWISE_PROCESSED_DIR)\n\u001b[1;32m      6\u001b[0m xy_dir \u001b[38;5;241m=\u001b[39m Path(XY_OUTPUT_DIR)\n",
      "\u001b[0;31mNameError\u001b[0m: name 'Path' is not defined"
     ]
    }
   ],
   "source": [
    "sampling_strategy = 1.0\n",
    "\n",
    "pp_dir = Path(PAIRWISE_PROCESSED_DIR)\n",
    "nd_dir = Path(NODEWISE_PROCESSED_DIR)\n",
    "y_train\n",
    "xy_dir = Path(XY_OUTPUT_DIR)\n",
    "xy_dir.mkdir(exist_ok=True, parents=True)\n",
    "train_dir = xy_dir / \"train\"\n",
    "train_dir.mkdir(exist_ok=True, parents=True)\n",
    "val_dir = xy_dir / \"val\"\n",
    "val_dir.mkdir(exist_ok=True, parents=True)\n",
    "test_dir = xy_dir / \"test\"\n",
    "test_dir.mkdir(exist_ok=True, parents=True)\n",
    "\n",
    "nd_files = list(nd_dir.glob(\"*.csv\"))\n",
    "pp_files_d = list(pp_dir.glob(\"*_disease.csv\"))\n",
    "pp_files_p = list(pp_dir.glob(\"*_pathway.csv\"))\n",
    "\n",
    "ds = OpenBioLinkDataset(\"./tmp/openbiolink/\")\n",
    "\n",
    "ref_df = pd.read_csv(REF_DF_OUT_FILE, index_col=0)\n",
    "\n",
    "idcs_train = ref_df.query(\"train\").index.values\n",
    "y = ref_df.query(\"train\")[\"irr\"].values\n",
    "sampler = RandomOverSampler(sampling_strategy=sampling_strategy)\n",
    "idcs_train_rs, y_rs = sampler.fit_resample(idcs_train.reshape(-1, 1), y=y)\n",
    "idcs_train_rs = idcs_train_rs.flatten()\n",
    "\n",
    "idcs_val = ref_df.query(\"val\").index.values\n",
    "idcs_test = ref_df.query(\"test\").index.values\n",
    "\n",
    "y_train = ref_df.loc[idcs_train_rs][\"irr\"].values\n",
    "y_val = ref_df.loc[idcs_val][\"irr\"].values\n",
    "y_test = ref_df.loc[idcs_test][\"irr\"].values\n",
    "\n",
    "y_train_df = pd.DataFrame(dict(irr=y_train), index=idcs_train_rs)\n",
    "y_val_df = pd.DataFrame(dict(irr=y_val), index=idcs_val)\n",
    "y_test_df = pd.DataFrame(dict(irr=y_test), index=idcs_test)\n",
    "y_train_df.to_csv(train_dir / \"y.csv\")\n",
    "y_val_df.to_csv(val_dir / \"y.csv\")\n",
    "y_test_df.to_csv(test_dir / \"y.csv\")\n",
    "\n",
    "\n",
    "def select_gene(metric_df):\n",
    "    idx = ds.get_nodes().query(\"node_type == 'GENE'\").index.values\n",
    "    return metric_df[metric_df.index.isin(idx)]\n",
    "\n",
    "\n",
    "for f in tqdm([*pp_files_d, *pp_files_p, *nd_files]):\n",
    "    nm = f.name.split(\".\")[0]\n",
    "    m_df = pd.read_csv(f, index_col=0)\n",
    "\n",
    "    for idcs, out_dir in zip(\n",
    "        (idcs_train_rs, idcs_val, idcs_test), (train_dir, val_dir, test_dir)\n",
    "    ):\n",
    "        X = m_df.loc[idcs]\n",
    "        X.to_csv(out_dir / f\"{nm}.csv\")"
   ]
  }
 ],
 "metadata": {
  "kernelspec": {
   "display_name": "giannt",
   "language": "python",
   "name": "giannt"
  },
  "language_info": {
   "codemirror_mode": {
    "name": "ipython",
    "version": 3
   },
   "file_extension": ".py",
   "mimetype": "text/x-python",
   "name": "python",
   "nbconvert_exporter": "python",
   "pygments_lexer": "ipython3",
   "version": "3.10.10"
  }
 },
 "nbformat": 4,
 "nbformat_minor": 5
}
