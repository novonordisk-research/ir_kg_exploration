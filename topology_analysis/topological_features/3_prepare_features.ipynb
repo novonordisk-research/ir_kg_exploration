{
 "cells": [
  {
   "cell_type": "code",
   "execution_count": 2,
   "id": "58cd4c88-0815-40c4-bbbc-666c13e27a24",
   "metadata": {},
   "outputs": [],
   "source": [
    "import pickle\n",
    "from pathlib import Path\n",
    "\n",
    "import pandas as pd\n",
    "import numpy as np\n",
    "from tqdm import tqdm"
   ]
  },
  {
   "cell_type": "code",
   "execution_count": 2,
   "id": "cdd2e07b-8b67-476b-95b8-8f60a6580db3",
   "metadata": {},
   "outputs": [],
   "source": [
    "PAIRS_DIR = \".\"\n",
    "NODEWISE_DIR = \"2_outputs/nodewise/\"\n",
    "PAIRWISE_DIR = \"2_outputs/pairwise/\"\n",
    "PAIRWISE_PROCESSED_DIR = \"./3_outputs/pairwise_processed/\"\n",
    "NODEWISE_PROCESSED_DIR = \"./3_outputs/nodewise_processed/\""
   ]
  },
  {
   "cell_type": "markdown",
   "id": "8b0a7257-b881-4ec4-a2a7-226fc9ac3c7b",
   "metadata": {},
   "source": [
    "## Prepare Pairwise Feature Files"
   ]
  },
  {
   "cell_type": "code",
   "execution_count": 3,
   "id": "ce871344-adc2-4c1b-b930-cdfd72ae2890",
   "metadata": {},
   "outputs": [],
   "source": [
    "def reshape_pairwise_feature(\n",
    "    pairs_file,\n",
    "    feature_file,\n",
    "    out_file,\n",
    "):\n",
    "    with open(pairs_file, \"rb\") as f:\n",
    "        pairs = pickle.load(f)\n",
    "\n",
    "    p0s, p0_counts = np.unique([p[0] for p in pairs], return_counts=True)\n",
    "    p1s, p1_counts = np.unique([p[1] for p in pairs], return_counts=True)\n",
    "\n",
    "    val_df = pd.read_csv(feature_file)\n",
    "\n",
    "    feature_df = pd.DataFrame(\n",
    "        val_df.values.reshape((len(p0s), len(p1s))), columns=p1s, index=p0s\n",
    "    )\n",
    "    feature_df.to_csv(out_file)\n",
    "\n",
    "\n",
    "def reshape_pairwise_feature2(\n",
    "    pairs_file,\n",
    "    feature_file,\n",
    "    out_file,\n",
    "):\n",
    "    with open(pairs_file, \"rb\") as f:\n",
    "        pairs = pickle.load(f)\n",
    "\n",
    "    p0s = np.unique([p[0] for p in pairs])\n",
    "    p1s = pairs[0][1]\n",
    "\n",
    "    feature_df = pd.read_csv(feature_file, header=None)\n",
    "\n",
    "    feature_df.index = p0s\n",
    "    feature_df.columns = p1s\n",
    "    feature_df.to_csv(out_file)"
   ]
  },
  {
   "cell_type": "code",
   "execution_count": 4,
   "id": "f5351b67-63d6-41e2-b18e-9f01255315c3",
   "metadata": {},
   "outputs": [
    {
     "name": "stderr",
     "output_type": "stream",
     "text": [
      "100%|██████████| 9/9 [00:08<00:00,  1.11it/s]\n"
     ]
    }
   ],
   "source": [
    "feature_input_dir = Path(NODEWISE_DIR)\n",
    "out_dir = Path(NODEWISE_PROCESSED_DIR)\n",
    "out_dir.mkdir(exist_ok=True, parents=True)\n",
    "\n",
    "feature_input_dir = Path(NODEWISE_DIR)\n",
    "feature_files = list(feature_input_dir.glob(f\"*.csv\"))\n",
    "\n",
    "for feature_file in tqdm(feature_files):\n",
    "    m_df = pd.read_csv(feature_file)\n",
    "    m_df.to_csv(out_dir / feature_file.name)"
   ]
  },
  {
   "cell_type": "code",
   "execution_count": 5,
   "id": "992174a0-ebb3-4406-b89d-3deab5d16c71",
   "metadata": {},
   "outputs": [
    {
     "name": "stderr",
     "output_type": "stream",
     "text": [
      "100%|██████████| 8/8 [02:02<00:00, 15.35s/it]\n",
      "100%|██████████| 8/8 [09:03<00:00, 67.92s/it]\n"
     ]
    }
   ],
   "source": [
    "feature_input_dir = Path(PAIRWISE_DIR)\n",
    "pairs_dir = Path(PAIRS_DIR)\n",
    "out_dir = Path(PAIRWISE_PROCESSED_DIR)\n",
    "out_dir.mkdir(exist_ok=True, parents=True)\n",
    "\n",
    "for suffix in (\"_disease\", \"_pathway\"):\n",
    "    feature_files = list(feature_input_dir.glob(f\"*{suffix}.csv\"))\n",
    "\n",
    "    for feature_file in tqdm(feature_files):\n",
    "        if feature_file.name.startswith(\"personalized_pagerank\"):\n",
    "            fun = reshape_pairwise_feature2\n",
    "            pairs_file = pairs_dir / f\"input_pairs_obl{suffix}.pkl\"\n",
    "        else:\n",
    "            fun = reshape_pairwise_feature\n",
    "            pairs_file = pairs_dir / f\"pairs_obl{suffix}.pkl\"\n",
    "        out_file = out_dir / feature_file.name\n",
    "        fun(\n",
    "            pairs_file=pairs_file,\n",
    "            feature_file=feature_file,\n",
    "            out_file=out_file,\n",
    "        )"
   ]
  }
 ],
 "metadata": {
  "kernelspec": {
   "display_name": "giannt",
   "language": "python",
   "name": "giannt"
  },
  "language_info": {
   "codemirror_mode": {
    "name": "ipython",
    "version": 3
   },
   "file_extension": ".py",
   "mimetype": "text/x-python",
   "name": "python",
   "nbconvert_exporter": "python",
   "pygments_lexer": "ipython3",
   "version": "3.10.10"
  }
 },
 "nbformat": 4,
 "nbformat_minor": 5
}
