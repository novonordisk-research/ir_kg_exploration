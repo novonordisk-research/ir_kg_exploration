{
 "cells": [
  {
   "cell_type": "markdown",
   "id": "69aa8d50",
   "metadata": {},
   "source": [
    "# Prepare Input for Machine Learning\n",
    "\n",
    "Prepare the feature matrix X and the target vector y. The minority class is oversampled."
   ]
  },
  {
   "cell_type": "code",
   "execution_count": 1,
   "id": "58cd4c88-0815-40c4-bbbc-666c13e27a24",
   "metadata": {},
   "outputs": [],
   "source": [
    "from pathlib import Path\n",
    "\n",
    "import pandas as pd\n",
    "import numpy as np\n",
    "from sklearn.model_selection import train_test_split\n",
    "from imblearn.over_sampling import RandomOverSampler\n",
    "from tqdm import tqdm\n",
    "\n",
    "from pykeen.datasets import OpenBioLink\n",
    "\n",
    "from anngel.datasets.openbiolink import OpenBioLinkDataset\n",
    "\n",
    "from pykeen.datasets import OpenBioLink"
   ]
  },
  {
   "cell_type": "code",
   "execution_count": 2,
   "id": "65ff005f-c585-4a2a-94de-cbd2515bb934",
   "metadata": {},
   "outputs": [],
   "source": [
    "RANDOM_SEED = 42\n",
    "np.random.seed(RANDOM_SEED)"
   ]
  },
  {
   "cell_type": "code",
   "execution_count": 3,
   "id": "cdd2e07b-8b67-476b-95b8-8f60a6580db3",
   "metadata": {},
   "outputs": [],
   "source": [
    "DS_PATH = \"./tmp/openbiolink/\"\n",
    "TRAIN_IDS_FILE = \"./data/train_obl.csv\"\n",
    "VAL_IDS_FILE = \"../../data/editedOpenBioLink/val_genes_id.csv\"\n",
    "TEST_IDS_FILE = \"../../data/editedOpenBioLink/test_genes_id.csv\"\n",
    "\n",
    "PAIRWISE_PROCESSED_DIR = Path(\"./3_outputs/pairwise_processed/\")\n",
    "NODEWISE_PROCESSED_DIR = Path(\"./3_outputs/nodewise_processed/\")\n",
    "\n",
    "OUT_DIR = Path(\"./4_outputs/small_DS/\")\n",
    "REF_DF_OUT_FILE = OUT_DIR / \"ref_df.csv\"\n",
    "XY_OUTPUT_DIR = OUT_DIR / \"XY\"\n",
    "\n",
    "OUT_DIR.mkdir(exist_ok=True, parents=True)\n",
    "XY_OUTPUT_DIR.mkdir(exist_ok=True, parents=True)"
   ]
  },
  {
   "cell_type": "markdown",
   "id": "165aee1b-ef4d-4a0c-8545-9141f6496c25",
   "metadata": {
    "tags": []
   },
   "source": [
    "## Prepare X and y files"
   ]
  },
  {
   "cell_type": "code",
   "execution_count": 4,
   "id": "3e3ae241-3f6b-4a18-b3c6-f7d0d365aa11",
   "metadata": {},
   "outputs": [
    {
     "name": "stderr",
     "output_type": "stream",
     "text": [
      "You're trying to map triples with 2052 entities and 0 relations that are not in the training set. These triples will be excluded from the mapping.\n",
      "In total 2047 from 183011 triples were filtered out\n"
     ]
    }
   ],
   "source": [
    "obl = OpenBioLink()\n",
    "\n",
    "id_to_entity = {i: e for e, i in obl.entity_to_id.items()}\n",
    "entity_to_id = obl.entity_to_id\n",
    "\n",
    "ds = OpenBioLinkDataset(DS_PATH)\n",
    "\n",
    "train_ids = pd.read_csv(TRAIN_IDS_FILE, header=None).iloc[:, 0].values\n",
    "val_ids = pd.read_csv(VAL_IDS_FILE, index_col=0).iloc[:, 0].values\n",
    "test_ids = pd.read_csv(TEST_IDS_FILE, index_col=0).iloc[:, 0].values\n",
    "\n",
    "gene_df = ds.get_nodes().query('node_type == \"GENE\"')\n",
    "\n",
    "train_idcs = gene_df.index[gene_df[\"node_id\"].isin(train_ids)].values\n",
    "test_idcs = gene_df.index[gene_df[\"node_id\"].isin(test_ids)].values\n",
    "val_idcs = gene_df.index[gene_df[\"node_id\"].isin(val_ids)].values\n",
    "\n",
    "nirr_idcs = gene_df.index[\n",
    "    ~gene_df[\"node_id\"].isin(np.r_[train_ids, val_ids, test_ids])\n",
    "].values\n",
    "nirr_idcs_train, nirr_idcs_val = train_test_split(nirr_idcs, test_size=0.40)\n",
    "nirr_idcs_val, nirr_idcs_test = train_test_split(nirr_idcs_val, test_size=0.50)\n",
    "\n",
    "irr_idcs = np.r_[train_idcs, val_idcs, test_idcs]\n",
    "train_idcs = np.r_[train_idcs, nirr_idcs_train]\n",
    "val_idcs = np.r_[val_idcs, nirr_idcs_val]\n",
    "test_idcs = np.r_[test_idcs, nirr_idcs_test]\n",
    "\n",
    "ref_df = gene_df[[\"node_id\"]].copy()\n",
    "ref_df[\"train\"] = ref_df.index.isin(train_idcs)\n",
    "ref_df[\"val\"] = ref_df.index.isin(val_idcs)\n",
    "ref_df[\"test\"] = ref_df.index.isin(test_idcs)\n",
    "ref_df[\"irr\"] = ref_df.index.isin(irr_idcs)\n",
    "\n",
    "ref_df.to_csv(REF_DF_OUT_FILE, index=True)"
   ]
  },
  {
   "cell_type": "code",
   "execution_count": 5,
   "id": "93a12b6c-68c8-4ebb-b342-ed023df21e5c",
   "metadata": {},
   "outputs": [],
   "source": [
    "sampling_strategy = 1.0\n",
    "\n",
    "train_dir = XY_OUTPUT_DIR / \"train\"\n",
    "val_dir = XY_OUTPUT_DIR / \"val\"\n",
    "test_dir = XY_OUTPUT_DIR / \"test\"\n",
    "train_dir.mkdir(exist_ok=True, parents=True)\n",
    "val_dir.mkdir(exist_ok=True, parents=True)\n",
    "test_dir.mkdir(exist_ok=True, parents=True)\n",
    "\n",
    "nd_files = list(NODEWISE_PROCESSED_DIR.glob(\"*.csv\"))\n",
    "pp_files_d = list(PAIRWISE_PROCESSED_DIR.glob(\"*_disease.csv\"))\n",
    "pp_files_p = list(PAIRWISE_PROCESSED_DIR.glob(\"*_pathway.csv\"))\n",
    "\n",
    "ds = OpenBioLinkDataset(\"./tmp/openbiolink/\")\n",
    "\n",
    "ref_df = pd.read_csv(REF_DF_OUT_FILE, index_col=0)\n",
    "\n",
    "idcs_train = ref_df.query(\"train\").index.values\n",
    "y = ref_df.query(\"train\")[\"irr\"].values\n",
    "sampler = RandomOverSampler(sampling_strategy=sampling_strategy)\n",
    "idcs_train_rs, y_rs = sampler.fit_resample(idcs_train.reshape(-1, 1), y=y)\n",
    "idcs_train_rs = idcs_train_rs.flatten()\n",
    "\n",
    "idcs_val = ref_df.query(\"val\").index.values\n",
    "idcs_test = ref_df.query(\"test\").index.values\n",
    "\n",
    "y_train = ref_df.loc[idcs_train_rs][\"irr\"].values\n",
    "y_val = ref_df.loc[idcs_val][\"irr\"].values\n",
    "y_test = ref_df.loc[idcs_test][\"irr\"].values\n",
    "\n",
    "y_train_df = pd.DataFrame(dict(irr=y_train), index=idcs_train_rs)\n",
    "y_val_df = pd.DataFrame(dict(irr=y_val), index=idcs_val)\n",
    "y_test_df = pd.DataFrame(dict(irr=y_test), index=idcs_test)\n",
    "y_train_df.to_csv(train_dir / \"y.csv\")\n",
    "y_val_df.to_csv(val_dir / \"y.csv\")\n",
    "y_test_df.to_csv(test_dir / \"y.csv\")"
   ]
  },
  {
   "cell_type": "code",
   "execution_count": 6,
   "id": "d0a2a493-4987-48a6-84d8-b812b84856c0",
   "metadata": {},
   "outputs": [
    {
     "name": "stderr",
     "output_type": "stream",
     "text": [
      "100%|██████████| 25/25 [04:44<00:00, 11.38s/it]\n"
     ]
    }
   ],
   "source": [
    "def select_gene(metric_df):\n",
    "    idx = ds.get_nodes().query(\"node_type == 'GENE'\").index.values\n",
    "    return metric_df[metric_df.index.isin(idx)]\n",
    "\n",
    "\n",
    "for f in tqdm([*pp_files_d, *pp_files_p, *nd_files]):\n",
    "    nm = f.name.split(\".\")[0]\n",
    "    m_df = pd.read_csv(f, index_col=0)\n",
    "\n",
    "    for idcs, out_dir in zip(\n",
    "        (idcs_train_rs, idcs_val, idcs_test), (train_dir, val_dir, test_dir)\n",
    "    ):\n",
    "        X = m_df.loc[idcs]\n",
    "        X.to_csv(out_dir / f\"{nm}.csv\")"
   ]
  }
 ],
 "metadata": {
  "kernelspec": {
   "display_name": "giannt",
   "language": "python",
   "name": "giannt"
  },
  "language_info": {
   "codemirror_mode": {
    "name": "ipython",
    "version": 3
   },
   "file_extension": ".py",
   "mimetype": "text/x-python",
   "name": "python",
   "nbconvert_exporter": "python",
   "pygments_lexer": "ipython3",
   "version": "3.10.10"
  }
 },
 "nbformat": 4,
 "nbformat_minor": 5
}
