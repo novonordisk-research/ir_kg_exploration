{
 "cells": [
  {
   "cell_type": "code",
   "execution_count": 1,
   "id": "023f0f91-0a5e-4508-86e9-892facbe36f8",
   "metadata": {},
   "outputs": [
    {
     "name": "stdout",
     "output_type": "stream",
     "text": [
      "Found 12 files in local directory \"tmp/s3_files\".\n"
     ]
    }
   ],
   "source": [
    "import pickle\n",
    "\n",
    "from anngel.datalib.s3datastore import S3DataStore\n",
    "from anngel.datasets.openbiolink import OpenBioLinkDataset\n",
    "from anngel.datasets.custom_dataset import CustomDataset\n",
    "\n",
    "import pandas as pd\n",
    "import numpy as np\n",
    "import pandas as pd\n",
    "\n",
    "from pathlib import Path\n",
    "\n",
    "out_dir = Path(\"tmp\")\n",
    "out_dir.mkdir(exist_ok=True)\n",
    "\n",
    "ds = OpenBioLinkDataset(out_dir / \"openbiolink\")\n",
    "TRAIN_IDS_FILE = \"../../data/editedOpenBioLink/train_genes_id.csv\"\n",
    "VAL_IDS_FILE = \"../../data/editedOpenBioLink/val_genes_id.csv\"\n",
    "TEST_IDS_FILE = \"../../data/editedOpenBioLink/test_genes_id.csv\"\n",
    "\n",
    "irr_node = \"HP:0000855\"\n",
    "\n",
    "edges = ds.get_edges()\n",
    "nodes = ds.get_nodes()\n",
    "genes = nodes.query('node_type == \"GENE\"')[\"node_id\"].values\n",
    "small_irr_genes = edges.query(\n",
    "    \"target_node_id == @irr_node and source_node_id.isin(@genes)\"\n",
    ")[\"source_node_id\"].values\n",
    "\n",
    "large_irr_genes = (\n",
    "    pd.concat(\n",
    "        [\n",
    "            pd.read_csv(TRAIN_IDS_FILE, index_col=0),\n",
    "            # pd.read_csv(VAL_IDS_FILE, index_col=0),\n",
    "            # pd.read_csv(TEST_IDS_FILE, index_col=0),\n",
    "        ]\n",
    "    )\n",
    "    .iloc[:, 0]\n",
    "    .values\n",
    ")\n",
    "\n",
    "missing_irr_genes = large_irr_genes[~np.isin(large_irr_genes, small_irr_genes)]\n",
    "\n",
    "new_edges = pd.DataFrame.from_records(\n",
    "    [\n",
    "        (gene, \"GENE_PHENOTYPE\", irr_node, np.NaN, \"CUSTOM\")\n",
    "        for gene in missing_irr_genes\n",
    "    ],\n",
    "    columns=edges.columns,\n",
    ")\n",
    "\n",
    "edges_enriched = pd.concat((edges, new_edges))\n",
    "nodes_enriched = nodes\n",
    "\n",
    "ds_name = \"enriched_openbiolink\"\n",
    "(out_dir / ds_name).mkdir(exist_ok=True, parents=True)\n",
    "edges_enriched.to_csv(out_dir / ds_name / \"edges.tsv\", index=False, sep=\"\\t\")\n",
    "nodes_enriched.to_csv(out_dir / ds_name / \"nodes.tsv\", index=False, sep=\"\\t\")\n",
    "ds = CustomDataset(out_dir, ds_name)"
   ]
  },
  {
   "cell_type": "code",
   "execution_count": 2,
   "id": "648fda9e-c156-4967-9b70-e1bfe4b32d3f",
   "metadata": {},
   "outputs": [
    {
     "name": "stderr",
     "output_type": "stream",
     "text": [
      "/nfs_home/users/thzo/aNNGEL/anngel/datasets/custom_dataset/__init__.py:26: DtypeWarning: Columns (3) have mixed types. Specify dtype option on import or set low_memory=False.\n",
      "  edges_df = pd.read_csv(self.edges_file, sep=\"\\t\")\n"
     ]
    },
    {
     "name": "stdout",
     "output_type": "stream",
     "text": [
      "Only local copy available.\n",
      "Only local copy available.\n"
     ]
    },
    {
     "name": "stderr",
     "output_type": "stream",
     "text": [
      "/nfs_home/users/thzo/aNNGEL/anngel/datasets/custom_dataset/__init__.py:26: DtypeWarning: Columns (3) have mixed types. Specify dtype option on import or set low_memory=False.\n",
      "  edges_df = pd.read_csv(self.edges_file, sep=\"\\t\")\n"
     ]
    },
    {
     "name": "stdout",
     "output_type": "stream",
     "text": [
      "Only local copy available.\n",
      "Only local copy available.\n"
     ]
    }
   ],
   "source": [
    "graph = ds.to_networkx()\n",
    "with open(\"graph_obl_enriched_directed.pkl\", \"wb\") as f:\n",
    "    pickle.dump(graph, f)\n",
    "with open(\"graph_obl_enriched_undirected.pkl\", \"wb\") as f:\n",
    "    pickle.dump(graph.to_undirected(), f)\n",
    "del graph\n",
    "\n",
    "genes = ds.get_nodes().query('node_type == \"GENE\"')[\"node_id\"].values\n",
    "irr_genes = (\n",
    "    ds.get_edges()\n",
    "    .query(\"target_node_id == @irr_node and source_node_id.isin(@genes)\")[\n",
    "        \"source_node_id\"\n",
    "    ]\n",
    "    .values\n",
    ")\n",
    "df = ds.get_nodes()\n",
    "df[\"irr_gene\"] = False\n",
    "df.loc[df[\"node_id\"].isin(irr_genes), \"irr_gene\"] = True\n",
    "df\n",
    "\n",
    "irr_diseases_df = pd.read_csv(\n",
    "    \"../../data/IR_related_diseases_DOID_533.tsv\", sep=\"\\t\", header=None\n",
    ")\n",
    "irr_diseases_df.columns = [\"Disease\", \"URL\"]\n",
    "irr_diseases_df[\"node_id\"] = (\n",
    "    irr_diseases_df[\"URL\"].str.split(\"/\").apply(lambda r: r[-1].replace(\"_\", \":\"))\n",
    ")\n",
    "irr_diseases_df.to_csv(\"ir_related_diseases.csv\", index=False)\n",
    "df[\"irr_disease\"] = df[\"node_id\"].isin(irr_diseases_df[\"node_id\"])\n",
    "\n",
    "irr_pathways_df = pd.read_csv(\"../../data/IRrelatedPathways\", sep=\"\\t\")\n",
    "df[\"irr_pathway\"] = (\n",
    "    df[\"node_id\"]\n",
    "    .str.split(\":\")\n",
    "    .apply(lambda x: x[1])\n",
    "    .isin(irr_pathways_df[\"Pathway identifier\"])\n",
    ")\n",
    "df.to_parquet(\"enriched_openbiolink_df.parquet\", index=False)"
   ]
  },
  {
   "cell_type": "code",
   "execution_count": 3,
   "id": "db35e2de-3a50-4ab8-8939-327f814910d1",
   "metadata": {},
   "outputs": [
    {
     "name": "stdout",
     "output_type": "stream",
     "text": [
      "Only local copy available.\n",
      "Only local copy available.\n"
     ]
    }
   ],
   "source": [
    "irr_pathway_idcs = np.where(df[\"irr_pathway\"])[0]\n",
    "gene_idcs = np.where(df[\"node_type\"] == \"GENE\")[0]\n",
    "pairs_pathway = [(a, b) for a in gene_idcs for b in irr_pathway_idcs]\n",
    "\n",
    "with open(\"pairs_obl_enriched_pathway.pkl\", \"wb\") as f:\n",
    "    pickle.dump(pairs_pathway, f)\n",
    "# pairs_pathway_dsf.upload()\n",
    "\n",
    "sources = np.sort(np.unique(np.array(pairs_pathway)[:, 0]))\n",
    "targets = np.sort(np.unique(np.array(pairs_pathway)[:, 1]))\n",
    "input_pairs_pathway = [(g_idx, targets) for g_idx in sources]\n",
    "with open(\"input_pairs_obl_enriched_pathway.pkl\", \"wb\") as f:\n",
    "    pickle.dump(input_pairs_pathway, f)\n",
    "# input_pairs_pathway_dsf.upload()\n",
    "del pairs_pathway\n",
    "del input_pairs_pathway"
   ]
  },
  {
   "cell_type": "code",
   "execution_count": 5,
   "id": "f16bf264-6e38-4d11-ae14-67a1cf6435b5",
   "metadata": {},
   "outputs": [
    {
     "name": "stdout",
     "output_type": "stream",
     "text": [
      "Only local copy available.\n"
     ]
    }
   ],
   "source": [
    "ds.get_nodes().to_csv(\"nodes_obl_enriched.csv\", index=False)"
   ]
  }
 ],
 "metadata": {
  "kernelspec": {
   "display_name": "giannt",
   "language": "python",
   "name": "giannt"
  },
  "language_info": {
   "codemirror_mode": {
    "name": "ipython",
    "version": 3
   },
   "file_extension": ".py",
   "mimetype": "text/x-python",
   "name": "python",
   "nbconvert_exporter": "python",
   "pygments_lexer": "ipython3",
   "version": "3.10.10"
  }
 },
 "nbformat": 4,
 "nbformat_minor": 5
}
