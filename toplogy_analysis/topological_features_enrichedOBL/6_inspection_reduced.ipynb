{
 "cells": [
  {
   "cell_type": "markdown",
   "id": "17154573-2027-46dc-8e82-9b1d81fc312f",
   "metadata": {
    "tags": []
   },
   "source": [
    "## Machine Learning"
   ]
  },
  {
   "cell_type": "code",
   "execution_count": 1,
   "id": "bbf43fcd-4169-4777-883c-f78856326233",
   "metadata": {},
   "outputs": [],
   "source": [
    "import pickle\n",
    "from pathlib import Path\n",
    "import pandas as pd\n",
    "import numpy as np\n",
    "from sklearn.model_selection import GridSearchCV\n",
    "from sklearn.ensemble import RandomForestClassifier\n",
    "from sklearn.metrics import f1_score, recall_score, precision_score, confusion_matrix\n",
    "from sklearn.linear_model import LogisticRegression, LogisticRegressionCV\n",
    "from tqdm import tqdm\n",
    "\n",
    "from anngel.datasets.custom_dataset import CustomDataset"
   ]
  },
  {
   "cell_type": "code",
   "execution_count": 15,
   "id": "fc7ab9f9-59e4-46a1-a30d-31faec524004",
   "metadata": {},
   "outputs": [],
   "source": [
    "# CHANGE HERE\n",
    "output_dir_4 = Path('./4_outputs/standard/')\n",
    "output_dir_4_standard = Path('./4_outputs/standard/')\n",
    "output_dir_4_small_ds = Path('./4_outputs/small_DS/')\n",
    "output_dir_5_standard = Path('./5_outputs/standard_reduced')\n",
    "output_dir_5_small_ds = Path('./5_outputs/small_DS_reduced')\n",
    "output_dirs_5_standard = [Path(f'./5_outputs/standard_reduced_{i}/') for i in range(10)]\n",
    "output_dirs_5_small_ds = [Path(f'./5_outputs/small_DS_reduced_{i}/') for i in range(10)]\n",
    "# ----\n",
    "\n",
    "output_dir_5_standard.mkdir(exist_ok=True)\n",
    "output_dir_5_small_ds.mkdir(exist_ok=True)\n",
    "\n",
    "ds = CustomDataset(\"./tmp\", dataset_name='enriched_opnbiolink')"
   ]
  },
  {
   "cell_type": "code",
   "execution_count": 3,
   "id": "82a3c22f-05c1-4609-bb54-b10db43c6e6a",
   "metadata": {},
   "outputs": [],
   "source": [
    "def load_outputs_5(output_dir_4, output_dir_5):\n",
    "    xy_dir = output_dir_4 / 'XY_reduced'\n",
    "    train_dir = xy_dir / 'train'\n",
    "    val_dir = xy_dir / 'val'\n",
    "    test_dir = xy_dir / 'test'\n",
    "\n",
    "    y_train_file = train_dir / 'y.csv'\n",
    "    y_val_file = val_dir / 'y.csv'\n",
    "    y_test_file = test_dir / 'y.csv'\n",
    "\n",
    "    X_train_files = [f for f in train_dir.glob('*.csv') if not f.name == 'y.csv']\n",
    "    X_val_files = [val_dir / f.name for f in X_train_files]\n",
    "    X_test_files = [test_dir / f.name for f in X_train_files]\n",
    "\n",
    "    def evaluate(m, X, y, n=100, scale=True):\n",
    "        y_pred = m.predict(X) > 0\n",
    "        y_prob_pred = m.predict_proba(X)\n",
    "\n",
    "        order = np.argsort(y_prob_pred)[::-1]\n",
    "        # print(y_pred[order][:n])\n",
    "        if scale:\n",
    "            return y[order][:n].sum() / y.sum()\n",
    "        else:\n",
    "            return y[order][:n].sum()\n",
    "\n",
    "    def calc_metrics(y_pred, y_true):\n",
    "        return {\n",
    "            \"f1\": f1_score(y_pred=y_pred, y_true=y_true),\n",
    "            \"recall\": recall_score(y_pred=y_pred, y_true=y_true),\n",
    "            \"precision\": precision_score(y_pred=y_pred, y_true=y_true, zero_division=0),\n",
    "            \"confusion_matrix\": confusion_matrix(y_pred=y_pred, y_true=y_true),\n",
    "        }\n",
    "\n",
    "    r = {}\n",
    "\n",
    "    proba_dfs = {}\n",
    "    Xs = {}\n",
    "    y_dfs = {}\n",
    "    ys = {}\n",
    "    indices={}\n",
    "    for ds in ('train', 'val', 'test'):\n",
    "        proba_df = pd.read_csv(output_dir_5 / f'{ds}_probabilities.csv', index_col=0)\n",
    "        proba_dfs[ds] = proba_df\n",
    "        y_df = pd.read_csv(xy_dir / f'{ds}/y.csv', index_col=0)\n",
    "        y_dfs[ds] = y_df\n",
    "\n",
    "        X = proba_df.values\n",
    "        Xs[ds] = X\n",
    "        y = y_df.iloc[:, 0].values\n",
    "        ys[ds] = y\n",
    "\n",
    "        indices[ds] = proba_df.index\n",
    "\n",
    "    feature_names = proba_dfs['train'].columns.values\n",
    "\n",
    "    lr_file = output_dir_5 / 'lr.pkl'\n",
    "    with open(lr_file, 'rb') as f:\n",
    "        lr = pickle.load(f)\n",
    "\n",
    "\n",
    "    r['proba_dfs'] = proba_dfs\n",
    "    r['feature_names'] = feature_names\n",
    "    r['lr'] = lr\n",
    "\n",
    "    y_val_pred = lr.predict(Xs['val'])\n",
    "    r['val_metrics'] = calc_metrics(y_pred=y_val_pred, y_true=ys['val'])\n",
    "\n",
    "    y_test_pred = lr.predict(Xs['test'])\n",
    "    r['test_metrics'] = calc_metrics(y_pred=y_test_pred, y_true=ys['test'])\n",
    "\n",
    "    y_test_prob = lr.predict_proba(Xs['test'])\n",
    "    y_test_pred = lr.predict(Xs['test'])\n",
    "\n",
    "    tmp_df = pd.DataFrame(y_test_prob, index=indices['test'])\n",
    "    tmp_df['irr'] = ys['test']\n",
    "    tmp_df_sorted = tmp_df.sort_values(0, ascending=True)\n",
    "    r['tmp_df'] = tmp_df\n",
    "    r['tmp_df_sorted'] = tmp_df_sorted\n",
    "\n",
    "    n_top = 100\n",
    "    hits_100 = tmp_df_sorted.iloc[:n_top]['irr'].sum()\n",
    "    r['hits_100'] = hits_100\n",
    "\n",
    "    n_top = 10\n",
    "    hits_10 = tmp_df_sorted.iloc[:n_top]['irr'].sum()\n",
    "    r['hits_10'] = hits_10\n",
    "    \n",
    "    \n",
    "    y_train_prob = lr.predict_proba(Xs['train'])\n",
    "    y_val_prob = lr.predict_proba(Xs['val'])\n",
    "    y_test_prob = lr.predict_proba(Xs['test'])\n",
    "    \n",
    "    y_prob = np.r_[y_train_prob, y_val_prob, y_test_prob][:,1]\n",
    "    y = np.r_[ys['train'], ys['val'], ys['test']]\n",
    "    \n",
    "    index = np.r_[indices['train'], indices['val'], indices['test']]\n",
    "\n",
    "    train_idcs = np.arange(len(y_train_prob))\n",
    "    val_idcs = np.arange(len(y_train_prob), len(y_train_prob) + len(y_val_prob))\n",
    "    test_idcs = np.arange(len(y_train_prob) + len(y_val_prob), len(y_train_prob) + len(y_val_prob) + len(y_test_prob))\n",
    "\n",
    "    proba_df = pd.DataFrame({'probability': y_prob, 'irr': y}, index=index)\n",
    "    proba_df['train'] = False\n",
    "    proba_df.iloc[train_idcs, 2] = True\n",
    "    proba_df['val'] = False\n",
    "    proba_df.iloc[val_idcs, 3] = True\n",
    "    proba_df['test'] = False\n",
    "    proba_df.iloc[test_idcs, 4] = True\n",
    "\n",
    "    r['proba_df'] = proba_df\n",
    "    \n",
    "    return r"
   ]
  },
  {
   "cell_type": "code",
   "execution_count": 4,
   "id": "20f2e2f1-acb3-4e23-934d-32c72cf3eb31",
   "metadata": {},
   "outputs": [],
   "source": [
    "rs_standard = [load_outputs_5(output_dir_4_standard, d) for d in output_dirs_5_standard]\n",
    "rs_small_ds = [load_outputs_5(output_dir_4_small_ds, d) for d in output_dirs_5_small_ds]\n",
    "\n",
    "hits_100_standard = [r['hits_100'] for r in rs_standard]\n",
    "hits_10_standard = [r['hits_10'] for r in rs_standard]\n",
    "hits_100_small_ds = [r['hits_100'] for r in rs_small_ds]\n",
    "hits_10_small_ds = [r['hits_10'] for r in rs_small_ds]\n",
    "\n",
    "hits_df = pd.DataFrame({\n",
    "    'model_name': ['standard'] * len(hits_100_standard) + ['small_ds'] * len(hits_100_small_ds),\n",
    "    'hits_100': [*hits_100_standard, *hits_100_small_ds],\n",
    "    'hits_10': [*hits_10_standard, *hits_10_small_ds],\n",
    "})"
   ]
  },
  {
   "cell_type": "code",
   "execution_count": 5,
   "id": "92035ebc-8873-4556-b00a-d5fb0b547e8f",
   "metadata": {},
   "outputs": [],
   "source": [
    "def build_proba_df_all(rs):\n",
    "    from anngel.datasets.openbiolink import OpenBioLinkDataset\n",
    "\n",
    "    ds = OpenBioLinkDataset(\"./tmp/openbiolink/\")\n",
    "    nodes_df = ds.get_nodes()\n",
    "\n",
    "    proba_df_all = rs[0]['proba_df']\n",
    "    proba_df_all = proba_df_all.drop('probability', axis=1)\n",
    "\n",
    "    for i, r in enumerate(rs):\n",
    "        proba_df = r['proba_df']\n",
    "        proba_df_all[f'Topology_{i}'] = proba_df['probability']\n",
    "\n",
    "    proba_df_all = proba_df_all.sort_index()\n",
    "    proba_df_all = proba_df_all[~proba_df_all.index.duplicated(keep='first')]\n",
    "    proba_df_all = proba_df_all.join(nodes_df)\n",
    "    \n",
    "    gene_mapping_df = pd.read_csv('./data/gene_df.csv')\n",
    "    gene_mapping_df['node_id'] = [f'NCBIGENE:{i}' for i in gene_mapping_df['gene_label']]\n",
    "    gene_mapping_df = gene_mapping_df[['node_id', 'gene_name']]\n",
    "    gene_map = {node_id: gene_name for _, (node_id, gene_name) in gene_mapping_df.iterrows()}\n",
    "    proba_df_all['gene_name'] = [gene_map[node_id] for node_id in proba_df_all['node_id']]\n",
    "    \n",
    "    proba_df_all = proba_df_all.drop('node_type', axis=1)\n",
    "    proba_df_all = proba_df_all[['node_id', 'gene_name', 'irr', 'train', 'val', 'test', *[c for c in proba_df_all.columns if c.startswith('Topology_')]]]\n",
    "    \n",
    "    return proba_df_all"
   ]
  },
  {
   "cell_type": "code",
   "execution_count": 16,
   "id": "14c9b575-18db-410d-b7c3-71d53544bce2",
   "metadata": {},
   "outputs": [],
   "source": [
    "proba_df_all_large = build_proba_df_all(rs_standard)\n",
    "proba_df_all_small = build_proba_df_all(rs_small_ds)\n",
    "\n",
    "proba_df_all_large.to_csv(output_dir_5_standard / 'proba_df.csv')\n",
    "proba_df_all_large.query('test').to_csv(output_dir_5_standard / 'proba_df_test.csv')\n",
    "proba_df_all_small.to_csv(output_dir_5_small_ds / 'proba_df.csv')\n",
    "proba_df_all_small.query('test').to_csv(output_dir_5_small_ds / 'proba_df_test.csv')"
   ]
  },
  {
   "cell_type": "code",
   "execution_count": 17,
   "id": "099fb0d2-8e36-4760-a256-cf71112d8974",
   "metadata": {},
   "outputs": [
    {
     "data": {
      "text/plain": [
       "19"
      ]
     },
     "execution_count": 17,
     "metadata": {},
     "output_type": "execute_result"
    }
   ],
   "source": [
    "proba_df_all_large.sort_values('Topology_0', ascending=False).query('test').iloc[:100,:]['irr'].sum()"
   ]
  },
  {
   "cell_type": "code",
   "execution_count": 18,
   "id": "6baae3a8-aa9a-4760-a440-6916127c34ba",
   "metadata": {},
   "outputs": [
    {
     "data": {
      "text/plain": [
       "5"
      ]
     },
     "execution_count": 18,
     "metadata": {},
     "output_type": "execute_result"
    }
   ],
   "source": [
    "proba_df_all_small.sort_values('Topology_0', ascending=False).query('test').iloc[:100,:]['irr'].sum()"
   ]
  },
  {
   "cell_type": "code",
   "execution_count": 19,
   "id": "482fa57c-0746-4904-8126-578c5e7ec450",
   "metadata": {},
   "outputs": [],
   "source": [
    "proba_df_all_large = pd.read_csv(output_dir_5_standard / 'proba_df.csv', index_col=0)\n",
    "proba_df_all_small = pd.read_csv(output_dir_5_small_ds / 'proba_df.csv', index_col=0)"
   ]
  },
  {
   "cell_type": "code",
   "execution_count": 20,
   "id": "53c8f1f6-cb63-4325-b512-dd957a542933",
   "metadata": {},
   "outputs": [
    {
     "data": {
      "text/html": [
       "<div>\n",
       "<style scoped>\n",
       "    .dataframe tbody tr th:only-of-type {\n",
       "        vertical-align: middle;\n",
       "    }\n",
       "\n",
       "    .dataframe tbody tr th {\n",
       "        vertical-align: top;\n",
       "    }\n",
       "\n",
       "    .dataframe thead th {\n",
       "        text-align: right;\n",
       "    }\n",
       "</style>\n",
       "<table border=\"1\" class=\"dataframe\">\n",
       "  <thead>\n",
       "    <tr style=\"text-align: right;\">\n",
       "      <th></th>\n",
       "      <th>node_id</th>\n",
       "      <th>gene_name</th>\n",
       "      <th>irr</th>\n",
       "      <th>train</th>\n",
       "      <th>val</th>\n",
       "      <th>test</th>\n",
       "      <th>Topology_0</th>\n",
       "      <th>Topology_1</th>\n",
       "      <th>Topology_2</th>\n",
       "      <th>Topology_3</th>\n",
       "      <th>Topology_4</th>\n",
       "      <th>Topology_5</th>\n",
       "      <th>Topology_6</th>\n",
       "      <th>Topology_7</th>\n",
       "      <th>Topology_8</th>\n",
       "      <th>Topology_9</th>\n",
       "    </tr>\n",
       "  </thead>\n",
       "  <tbody>\n",
       "    <tr>\n",
       "      <th>116136</th>\n",
       "      <td>NCBIGENE:5702</td>\n",
       "      <td>PSMC3</td>\n",
       "      <td>False</td>\n",
       "      <td>False</td>\n",
       "      <td>False</td>\n",
       "      <td>True</td>\n",
       "      <td>0.943218</td>\n",
       "      <td>0.941135</td>\n",
       "      <td>0.944858</td>\n",
       "      <td>0.940150</td>\n",
       "      <td>0.946483</td>\n",
       "      <td>0.943607</td>\n",
       "      <td>0.946501</td>\n",
       "      <td>0.943606</td>\n",
       "      <td>0.945444</td>\n",
       "      <td>0.945294</td>\n",
       "    </tr>\n",
       "    <tr>\n",
       "      <th>104479</th>\n",
       "      <td>NCBIGENE:109</td>\n",
       "      <td>ADCY3</td>\n",
       "      <td>False</td>\n",
       "      <td>False</td>\n",
       "      <td>False</td>\n",
       "      <td>True</td>\n",
       "      <td>0.899925</td>\n",
       "      <td>0.891810</td>\n",
       "      <td>0.911770</td>\n",
       "      <td>0.906337</td>\n",
       "      <td>0.894996</td>\n",
       "      <td>0.906687</td>\n",
       "      <td>0.904149</td>\n",
       "      <td>0.884961</td>\n",
       "      <td>0.889610</td>\n",
       "      <td>0.897229</td>\n",
       "    </tr>\n",
       "    <tr>\n",
       "      <th>110586</th>\n",
       "      <td>NCBIGENE:2967</td>\n",
       "      <td>GTF2H3</td>\n",
       "      <td>False</td>\n",
       "      <td>False</td>\n",
       "      <td>False</td>\n",
       "      <td>True</td>\n",
       "      <td>0.886081</td>\n",
       "      <td>0.845648</td>\n",
       "      <td>0.843735</td>\n",
       "      <td>0.866427</td>\n",
       "      <td>0.866440</td>\n",
       "      <td>0.873583</td>\n",
       "      <td>0.879555</td>\n",
       "      <td>0.870720</td>\n",
       "      <td>0.868666</td>\n",
       "      <td>0.862958</td>\n",
       "    </tr>\n",
       "    <tr>\n",
       "      <th>114061</th>\n",
       "      <td>NCBIGENE:51343</td>\n",
       "      <td>FZR1</td>\n",
       "      <td>False</td>\n",
       "      <td>False</td>\n",
       "      <td>False</td>\n",
       "      <td>True</td>\n",
       "      <td>0.882786</td>\n",
       "      <td>0.884655</td>\n",
       "      <td>0.858299</td>\n",
       "      <td>0.904063</td>\n",
       "      <td>0.896299</td>\n",
       "      <td>0.873125</td>\n",
       "      <td>0.890002</td>\n",
       "      <td>0.904773</td>\n",
       "      <td>0.904636</td>\n",
       "      <td>0.897480</td>\n",
       "    </tr>\n",
       "    <tr>\n",
       "      <th>111068</th>\n",
       "      <td>NCBIGENE:3360</td>\n",
       "      <td>HTR4</td>\n",
       "      <td>False</td>\n",
       "      <td>False</td>\n",
       "      <td>False</td>\n",
       "      <td>True</td>\n",
       "      <td>0.859910</td>\n",
       "      <td>0.842277</td>\n",
       "      <td>0.835115</td>\n",
       "      <td>0.875342</td>\n",
       "      <td>0.828191</td>\n",
       "      <td>0.846977</td>\n",
       "      <td>0.867341</td>\n",
       "      <td>0.832118</td>\n",
       "      <td>0.836753</td>\n",
       "      <td>0.852648</td>\n",
       "    </tr>\n",
       "    <tr>\n",
       "      <th>...</th>\n",
       "      <td>...</td>\n",
       "      <td>...</td>\n",
       "      <td>...</td>\n",
       "      <td>...</td>\n",
       "      <td>...</td>\n",
       "      <td>...</td>\n",
       "      <td>...</td>\n",
       "      <td>...</td>\n",
       "      <td>...</td>\n",
       "      <td>...</td>\n",
       "      <td>...</td>\n",
       "      <td>...</td>\n",
       "      <td>...</td>\n",
       "      <td>...</td>\n",
       "      <td>...</td>\n",
       "      <td>...</td>\n",
       "    </tr>\n",
       "    <tr>\n",
       "      <th>110385</th>\n",
       "      <td>NCBIGENE:286527</td>\n",
       "      <td>TMSB15B</td>\n",
       "      <td>False</td>\n",
       "      <td>False</td>\n",
       "      <td>False</td>\n",
       "      <td>True</td>\n",
       "      <td>0.000095</td>\n",
       "      <td>0.000096</td>\n",
       "      <td>0.000094</td>\n",
       "      <td>0.000094</td>\n",
       "      <td>0.000095</td>\n",
       "      <td>0.000096</td>\n",
       "      <td>0.000098</td>\n",
       "      <td>0.000094</td>\n",
       "      <td>0.000094</td>\n",
       "      <td>0.000102</td>\n",
       "    </tr>\n",
       "    <tr>\n",
       "      <th>111436</th>\n",
       "      <td>NCBIGENE:347468</td>\n",
       "      <td>OR13H1</td>\n",
       "      <td>False</td>\n",
       "      <td>False</td>\n",
       "      <td>False</td>\n",
       "      <td>True</td>\n",
       "      <td>0.000095</td>\n",
       "      <td>0.000096</td>\n",
       "      <td>0.000094</td>\n",
       "      <td>0.000094</td>\n",
       "      <td>0.000095</td>\n",
       "      <td>0.000096</td>\n",
       "      <td>0.000095</td>\n",
       "      <td>0.000094</td>\n",
       "      <td>0.000094</td>\n",
       "      <td>0.000094</td>\n",
       "    </tr>\n",
       "    <tr>\n",
       "      <th>111686</th>\n",
       "      <td>NCBIGENE:3676</td>\n",
       "      <td>ITGA4</td>\n",
       "      <td>False</td>\n",
       "      <td>False</td>\n",
       "      <td>False</td>\n",
       "      <td>True</td>\n",
       "      <td>0.000092</td>\n",
       "      <td>0.000093</td>\n",
       "      <td>0.000093</td>\n",
       "      <td>0.000088</td>\n",
       "      <td>0.000089</td>\n",
       "      <td>0.000097</td>\n",
       "      <td>0.000093</td>\n",
       "      <td>0.000087</td>\n",
       "      <td>0.000091</td>\n",
       "      <td>0.000089</td>\n",
       "    </tr>\n",
       "    <tr>\n",
       "      <th>104306</th>\n",
       "      <td>NCBIGENE:10692</td>\n",
       "      <td>RRH</td>\n",
       "      <td>False</td>\n",
       "      <td>False</td>\n",
       "      <td>False</td>\n",
       "      <td>True</td>\n",
       "      <td>0.000085</td>\n",
       "      <td>0.000086</td>\n",
       "      <td>0.000085</td>\n",
       "      <td>0.000084</td>\n",
       "      <td>0.000085</td>\n",
       "      <td>0.000086</td>\n",
       "      <td>0.000085</td>\n",
       "      <td>0.000084</td>\n",
       "      <td>0.000085</td>\n",
       "      <td>0.000085</td>\n",
       "    </tr>\n",
       "    <tr>\n",
       "      <th>122341</th>\n",
       "      <td>NCBIGENE:9536</td>\n",
       "      <td>PTGES</td>\n",
       "      <td>True</td>\n",
       "      <td>False</td>\n",
       "      <td>False</td>\n",
       "      <td>True</td>\n",
       "      <td>0.000085</td>\n",
       "      <td>0.000086</td>\n",
       "      <td>0.000085</td>\n",
       "      <td>0.000084</td>\n",
       "      <td>0.000085</td>\n",
       "      <td>0.000086</td>\n",
       "      <td>0.000085</td>\n",
       "      <td>0.000084</td>\n",
       "      <td>0.000085</td>\n",
       "      <td>0.000085</td>\n",
       "    </tr>\n",
       "  </tbody>\n",
       "</table>\n",
       "<p>3915 rows × 16 columns</p>\n",
       "</div>"
      ],
      "text/plain": [
       "                node_id gene_name    irr  train    val  test  Topology_0  \\\n",
       "116136    NCBIGENE:5702     PSMC3  False  False  False  True    0.943218   \n",
       "104479     NCBIGENE:109     ADCY3  False  False  False  True    0.899925   \n",
       "110586    NCBIGENE:2967    GTF2H3  False  False  False  True    0.886081   \n",
       "114061   NCBIGENE:51343      FZR1  False  False  False  True    0.882786   \n",
       "111068    NCBIGENE:3360      HTR4  False  False  False  True    0.859910   \n",
       "...                 ...       ...    ...    ...    ...   ...         ...   \n",
       "110385  NCBIGENE:286527   TMSB15B  False  False  False  True    0.000095   \n",
       "111436  NCBIGENE:347468    OR13H1  False  False  False  True    0.000095   \n",
       "111686    NCBIGENE:3676     ITGA4  False  False  False  True    0.000092   \n",
       "104306   NCBIGENE:10692       RRH  False  False  False  True    0.000085   \n",
       "122341    NCBIGENE:9536     PTGES   True  False  False  True    0.000085   \n",
       "\n",
       "        Topology_1  Topology_2  Topology_3  Topology_4  Topology_5  \\\n",
       "116136    0.941135    0.944858    0.940150    0.946483    0.943607   \n",
       "104479    0.891810    0.911770    0.906337    0.894996    0.906687   \n",
       "110586    0.845648    0.843735    0.866427    0.866440    0.873583   \n",
       "114061    0.884655    0.858299    0.904063    0.896299    0.873125   \n",
       "111068    0.842277    0.835115    0.875342    0.828191    0.846977   \n",
       "...            ...         ...         ...         ...         ...   \n",
       "110385    0.000096    0.000094    0.000094    0.000095    0.000096   \n",
       "111436    0.000096    0.000094    0.000094    0.000095    0.000096   \n",
       "111686    0.000093    0.000093    0.000088    0.000089    0.000097   \n",
       "104306    0.000086    0.000085    0.000084    0.000085    0.000086   \n",
       "122341    0.000086    0.000085    0.000084    0.000085    0.000086   \n",
       "\n",
       "        Topology_6  Topology_7  Topology_8  Topology_9  \n",
       "116136    0.946501    0.943606    0.945444    0.945294  \n",
       "104479    0.904149    0.884961    0.889610    0.897229  \n",
       "110586    0.879555    0.870720    0.868666    0.862958  \n",
       "114061    0.890002    0.904773    0.904636    0.897480  \n",
       "111068    0.867341    0.832118    0.836753    0.852648  \n",
       "...            ...         ...         ...         ...  \n",
       "110385    0.000098    0.000094    0.000094    0.000102  \n",
       "111436    0.000095    0.000094    0.000094    0.000094  \n",
       "111686    0.000093    0.000087    0.000091    0.000089  \n",
       "104306    0.000085    0.000084    0.000085    0.000085  \n",
       "122341    0.000085    0.000084    0.000085    0.000085  \n",
       "\n",
       "[3915 rows x 16 columns]"
      ]
     },
     "execution_count": 20,
     "metadata": {},
     "output_type": "execute_result"
    }
   ],
   "source": [
    "proba_df_all_large.sort_values('Topology_0', ascending=False).query('test')"
   ]
  },
  {
   "cell_type": "code",
   "execution_count": 21,
   "id": "b97363c9-f775-4e72-b493-2fc139e966c3",
   "metadata": {},
   "outputs": [],
   "source": [
    "def build_ranked_lists(proba_df, prefix='Topology'):\n",
    "    gene_lists = {}\n",
    "    for i in range(10):\n",
    "        col_nm = f'{prefix}_{i}'\n",
    "        genes_100 = proba_df[['gene_name', col_nm]].sort_values(col_nm, ascending=False).iloc[:100]['gene_name'].values\n",
    "        gene_lists[col_nm] = genes_100\n",
    "\n",
    "    return pd.DataFrame(gene_lists)"
   ]
  },
  {
   "cell_type": "code",
   "execution_count": 22,
   "id": "4228a4a7-8831-4db3-9d86-37bfe54e2d28",
   "metadata": {},
   "outputs": [],
   "source": [
    "genes_100_large = build_ranked_lists(proba_df_all_large)\n",
    "genes_100_large_test = build_ranked_lists(proba_df_all_large.query('test'))\n",
    "genes_100_small = build_ranked_lists(proba_df_all_small)\n",
    "genes_100_small_test = build_ranked_lists(proba_df_all_small.query('test'))"
   ]
  },
  {
   "cell_type": "code",
   "execution_count": 23,
   "id": "f0199915-8377-4e3c-a793-56364b018e28",
   "metadata": {},
   "outputs": [],
   "source": [
    "genes_100_large.to_csv(output_dir_5_standard / 'genes_100.csv', index=False)\n",
    "genes_100_large_test.to_csv(output_dir_5_standard / 'genes_100_test.csv', index=False)\n",
    "genes_100_small.to_csv(output_dir_5_small_ds / 'genes_100.csv', index=False)\n",
    "genes_100_small_test.to_csv(output_dir_5_small_ds / 'genes_100_test.csv', index=False)"
   ]
  },
  {
   "cell_type": "code",
   "execution_count": 24,
   "id": "17deb6ea-66c8-41cd-98ca-0fa78e623393",
   "metadata": {},
   "outputs": [],
   "source": [
    "from sklearn.metrics import confusion_matrix\n",
    "from anngel.metrics import mr_on_proba_df, mrr_on_proba_df, amri_on_proba_df\n",
    "\n",
    "from sklearn.metrics import confusion_matrix as sklearn_confusion_matrix\n",
    "\n",
    "def calc_scores(proba_df, prefix='Topology', th=0.5):\n",
    "    columns = {\n",
    "        'model_name': [],\n",
    "        'hits@10': [],\n",
    "        'hits@100': [],\n",
    "        'mr': [],\n",
    "        'mrr': [],\n",
    "        'amri': [],\n",
    "        'tp': [],\n",
    "        'fp': [],\n",
    "        'fn': [],\n",
    "        'tn': [],\n",
    "    }\n",
    "    for i in range(10):\n",
    "        col_nm = f'{prefix}_{i}'\n",
    "        columns['model_name'].append(col_nm)\n",
    "\n",
    "        tmp_df = proba_df[['irr', col_nm]].sort_values(col_nm, ascending=False)\n",
    "        columns['hits@10'].append(tmp_df.iloc[:10]['irr'].sum())\n",
    "        columns['hits@100'].append(tmp_df.iloc[:100]['irr'].sum())\n",
    "        columns['mr'].append(mr_on_proba_df(proba_df, colname_scores=col_nm, colname_y='irr'))\n",
    "        columns['mrr'].append(mrr_on_proba_df(proba_df, colname_scores=col_nm, colname_y='irr'))\n",
    "        columns['amri'].append(amri_on_proba_df(proba_df, colname_scores=col_nm, colname_y='irr'))\n",
    "        \n",
    "        cmat = sklearn_confusion_matrix(y_true=tmp_df['irr'], y_pred=tmp_df[col_nm] > th)\n",
    "        columns['tp'].append(cmat[0, 0])\n",
    "        columns['fp'].append(cmat[0, 1])\n",
    "        columns['fn'].append(cmat[1, 0])\n",
    "        columns['tn'].append(cmat[1, 1])\n",
    "\n",
    "    score_df = pd.DataFrame(columns)\n",
    "    score_df = score_df.set_index('model_name').T\n",
    "    score_df = score_df.reset_index().rename({'index': 'score'}, axis=1)\n",
    "    score_df['mean'] = score_df.mean(axis=1)\n",
    "    \n",
    "    return score_df"
   ]
  },
  {
   "cell_type": "code",
   "execution_count": 40,
   "id": "ada5e573-4942-41a0-b673-60698ea37a48",
   "metadata": {
    "tags": []
   },
   "outputs": [
    {
     "name": "stderr",
     "output_type": "stream",
     "text": [
      "/tmp/ipykernel_35730/36169545.py:39: FutureWarning: Dropping of nuisance columns in DataFrame reductions (with 'numeric_only=None') is deprecated; in a future version this will raise TypeError.  Select only valid columns before calling the reduction.\n",
      "  score_df['mean'] = score_df.mean(axis=1)\n",
      "/tmp/ipykernel_35730/36169545.py:39: FutureWarning: Dropping of nuisance columns in DataFrame reductions (with 'numeric_only=None') is deprecated; in a future version this will raise TypeError.  Select only valid columns before calling the reduction.\n",
      "  score_df['mean'] = score_df.mean(axis=1)\n",
      "/tmp/ipykernel_35730/36169545.py:39: FutureWarning: Dropping of nuisance columns in DataFrame reductions (with 'numeric_only=None') is deprecated; in a future version this will raise TypeError.  Select only valid columns before calling the reduction.\n",
      "  score_df['mean'] = score_df.mean(axis=1)\n",
      "/tmp/ipykernel_35730/36169545.py:39: FutureWarning: Dropping of nuisance columns in DataFrame reductions (with 'numeric_only=None') is deprecated; in a future version this will raise TypeError.  Select only valid columns before calling the reduction.\n",
      "  score_df['mean'] = score_df.mean(axis=1)\n"
     ]
    }
   ],
   "source": [
    "score_df_large_all = calc_scores(proba_df_all_large)\n",
    "score_df_large_test = calc_scores(proba_df_all_large.query('test'))\n",
    "score_df_large_all.to_csv(output_dir_5_standard / 'scores.csv', index=False)\n",
    "score_df_large_test.to_csv(output_dir_5_standard / 'scores_test.csv', index=False)\n",
    "\n",
    "score_df_small_all = calc_scores(proba_df_all_small)\n",
    "score_df_small_test = calc_scores(proba_df_all_small.query('test'))\n",
    "score_df_small_all.to_csv(output_dir_5_small_ds / 'scores.csv', index=False)\n",
    "score_df_small_test.to_csv(output_dir_5_small_ds / 'scores_test.csv', index=False)"
   ]
  },
  {
   "cell_type": "code",
   "execution_count": null,
   "id": "8f33376e-10fb-42d2-9b11-cad33840094b",
   "metadata": {},
   "outputs": [],
   "source": [
    "# s3_prefix = \"s3://nnedl-core-prd-eu-central-1-curated/compbiosandbox/Projects/NNRCO_KG/Sprint_3_3_IR_Paper/Result_lists\"\n",
    "# method = \"Topology\"\n",
    "# graph = \"enrichedOBL\"\n",
    "\n",
    "# ts = \"LargeTS\"\n",
    "# subset = \"WholeSet\"\n",
    "# !aws s3 cp './5_outputs/standard/proba_df.csv' {s3_prefix}/{graph}/{ts}/{method}/{subset}/all_results.csv\n",
    "# !aws s3 cp './5_outputs/standard/genes_100.csv' {s3_prefix}/{graph}/{ts}/{method}/{subset}/gene_100.csv\n",
    "# !aws s3 cp './5_outputs/standard/scores.csv' {s3_prefix}/{graph}/{ts}/{method}/{subset}/scores.csv\n",
    "# subset = \"TestSet\"\n",
    "# !aws s3 cp './5_outputs/standard/proba_df_test.csv' {s3_prefix}/{graph}/{ts}/{method}/{subset}/all_results.csv\n",
    "# !aws s3 cp './5_outputs/standard/genes_100_test.csv' {s3_prefix}/{graph}/{ts}/{method}/{subset}/gene_100.csv\n",
    "# !aws s3 cp './5_outputs/standard/scores_test.csv' {s3_prefix}/{graph}/{ts}/{method}/{subset}/scores.csv\n",
    "\n",
    "# ts = \"SmallTS\"\n",
    "# subset = \"WholeSet\"\n",
    "# !aws s3 cp './5_outputs/small_DS/proba_df.csv' {s3_prefix}/{graph}/{ts}/{method}/{subset}/all_results.csv\n",
    "# !aws s3 cp './5_outputs/small_DS/genes_100.csv' {s3_prefix}/{graph}/{ts}/{method}/{subset}/gene_100.csv\n",
    "# !aws s3 cp './5_outputs/small_DS/scores.csv' {s3_prefix}/{graph}/{ts}/{method}/{subset}/scores.csv\n",
    "# subset = \"TestSet\"\n",
    "# !aws s3 cp './5_outputs/small_DS/proba_df_test.csv' {s3_prefix}/{graph}/{ts}/{method}/{subset}/all_results.csv\n",
    "# !aws s3 cp './5_outputs/small_DS/genes_100_test.csv' {s3_prefix}/{graph}/{ts}/{method}/{subset}/gene_100.csv\n",
    "# !aws s3 cp './5_outputs/small_DS/scores_test.csv' {s3_prefix}/{graph}/{ts}/{method}/{subset}/scores.csv\n",
    "\n",
    "# !aws s3 ls --recursive {s3_prefix}"
   ]
  },
  {
   "cell_type": "code",
   "execution_count": 26,
   "id": "67924fda-5c97-4b3a-9584-0fec8cfb874e",
   "metadata": {},
   "outputs": [],
   "source": [
    "import matplotlib.pyplot as plt\n",
    "from sklearn.metrics import roc_curve, auc"
   ]
  },
  {
   "cell_type": "code",
   "execution_count": 27,
   "id": "31ed93ed-5e48-42b6-85a6-432cc27c310a",
   "metadata": {},
   "outputs": [
    {
     "data": {
      "image/png": "[encoded data removed]",
      "text/plain": [
       "<Figure size 640x480 with 1 Axes>"
      ]
     },
     "metadata": {},
     "output_type": "display_data"
    }
   ],
   "source": [
    "roc_curves = []\n",
    "aucs = []\n",
    "for r in rs_standard:\n",
    "    df = r['tmp_df']\n",
    "    y_score = df[1]\n",
    "    y_true = df['irr']\n",
    "\n",
    "    fpr, tpr, ths = roc_curve(y_true=y_true, y_score=y_score, drop_intermediate=False)\n",
    "    roc_curves.append((fpr, tpr, ths))\n",
    "    aucs.append(auc(fpr, tpr))\n",
    "    \n",
    "fig = plt.figure()\n",
    "for fpr, tpr, _ in roc_curves:\n",
    "    plt.plot(fpr, tpr, color='orange', alpha=0.5)\n",
    "plt.plot([0, 1], [0, 1], \"k--\", label=\"chance level (AUC = 0.5)\")\n",
    "plt.axis(\"square\")\n",
    "plt.xlabel(\"False Positive Rate\")\n",
    "plt.ylabel(\"True Positive Rate\")\n",
    "plt.title(f'Mean AUC = {round(np.mean(aucs), 3)}')\n",
    "plt.legend()\n",
    "plt.show()\n",
    "fig.savefig(Path('5_outputs/standard') / 'ROC_curve.png', dpi=300)"
   ]
  },
  {
   "cell_type": "code",
   "execution_count": 28,
   "id": "dddcc797-7e96-4a5b-8922-17b44c29ac1b",
   "metadata": {},
   "outputs": [],
   "source": [
    "def get_cmat_df(rs):\n",
    "    cmats = [r['test_metrics']['confusion_matrix'] for r in rs]\n",
    "    cmat_df = pd.DataFrame(np.array(cmats).mean(axis=0), columns=('Positive', 'Negative'), index=('Positive', 'Negative'))\n",
    "    return cmat_df, cmats"
   ]
  },
  {
   "cell_type": "code",
   "execution_count": 29,
   "id": "79f78f6b-9ab1-4766-a03c-41e2a0369d2e",
   "metadata": {},
   "outputs": [],
   "source": [
    "cmat_df_standard, cmats_standard = get_cmat_df(rs_standard)\n",
    "cmat_df_small, cmats_small = get_cmat_df(rs_small_ds)"
   ]
  },
  {
   "cell_type": "code",
   "execution_count": 30,
   "id": "3ff15637-dbc3-41be-8100-17b749b36e25",
   "metadata": {},
   "outputs": [],
   "source": [
    "cmat_df_standard.to_csv('./5_outputs/standard/cmat.csv')\n",
    "cmat_df_small.to_csv('./5_outputs/small_DS/cmat.csv')"
   ]
  },
  {
   "cell_type": "code",
   "execution_count": 31,
   "id": "f95b402f-afab-481a-bc2d-5e222f2ddea7",
   "metadata": {},
   "outputs": [
    {
     "data": {
      "text/html": [
       "<div>\n",
       "<style scoped>\n",
       "    .dataframe tbody tr th:only-of-type {\n",
       "        vertical-align: middle;\n",
       "    }\n",
       "\n",
       "    .dataframe tbody tr th {\n",
       "        vertical-align: top;\n",
       "    }\n",
       "\n",
       "    .dataframe thead th {\n",
       "        text-align: right;\n",
       "    }\n",
       "</style>\n",
       "<table border=\"1\" class=\"dataframe\">\n",
       "  <thead>\n",
       "    <tr style=\"text-align: right;\">\n",
       "      <th></th>\n",
       "      <th>Positive</th>\n",
       "      <th>Negative</th>\n",
       "    </tr>\n",
       "  </thead>\n",
       "  <tbody>\n",
       "    <tr>\n",
       "      <th>Positive</th>\n",
       "      <td>3785.5</td>\n",
       "      <td>10.5</td>\n",
       "    </tr>\n",
       "    <tr>\n",
       "      <th>Negative</th>\n",
       "      <td>114.0</td>\n",
       "      <td>5.0</td>\n",
       "    </tr>\n",
       "  </tbody>\n",
       "</table>\n",
       "</div>"
      ],
      "text/plain": [
       "          Positive  Negative\n",
       "Positive    3785.5      10.5\n",
       "Negative     114.0       5.0"
      ]
     },
     "execution_count": 31,
     "metadata": {},
     "output_type": "execute_result"
    }
   ],
   "source": [
    "cmat_df_standard"
   ]
  },
  {
   "cell_type": "code",
   "execution_count": 32,
   "id": "45ac11b8-ab29-4bac-9c02-dace8ff9b1eb",
   "metadata": {},
   "outputs": [
    {
     "data": {
      "text/html": [
       "<div>\n",
       "<style scoped>\n",
       "    .dataframe tbody tr th:only-of-type {\n",
       "        vertical-align: middle;\n",
       "    }\n",
       "\n",
       "    .dataframe tbody tr th {\n",
       "        vertical-align: top;\n",
       "    }\n",
       "\n",
       "    .dataframe thead th {\n",
       "        text-align: right;\n",
       "    }\n",
       "</style>\n",
       "<table border=\"1\" class=\"dataframe\">\n",
       "  <thead>\n",
       "    <tr style=\"text-align: right;\">\n",
       "      <th></th>\n",
       "      <th>Positive</th>\n",
       "      <th>Negative</th>\n",
       "    </tr>\n",
       "  </thead>\n",
       "  <tbody>\n",
       "    <tr>\n",
       "      <th>Positive</th>\n",
       "      <td>3863.0</td>\n",
       "      <td>0.0</td>\n",
       "    </tr>\n",
       "    <tr>\n",
       "      <th>Negative</th>\n",
       "      <td>119.0</td>\n",
       "      <td>0.0</td>\n",
       "    </tr>\n",
       "  </tbody>\n",
       "</table>\n",
       "</div>"
      ],
      "text/plain": [
       "          Positive  Negative\n",
       "Positive    3863.0       0.0\n",
       "Negative     119.0       0.0"
      ]
     },
     "execution_count": 32,
     "metadata": {},
     "output_type": "execute_result"
    }
   ],
   "source": [
    "cmat_df_small"
   ]
  },
  {
   "cell_type": "code",
   "execution_count": 33,
   "id": "ce9dd11d-9348-4da2-82ef-90e796c4ed33",
   "metadata": {},
   "outputs": [
    {
     "data": {
      "text/html": [
       "<div>\n",
       "<style scoped>\n",
       "    .dataframe tbody tr th:only-of-type {\n",
       "        vertical-align: middle;\n",
       "    }\n",
       "\n",
       "    .dataframe tbody tr th {\n",
       "        vertical-align: top;\n",
       "    }\n",
       "\n",
       "    .dataframe thead th {\n",
       "        text-align: right;\n",
       "    }\n",
       "</style>\n",
       "<table border=\"1\" class=\"dataframe\">\n",
       "  <thead>\n",
       "    <tr style=\"text-align: right;\">\n",
       "      <th></th>\n",
       "      <th>hits_100</th>\n",
       "      <th>hits_10</th>\n",
       "    </tr>\n",
       "    <tr>\n",
       "      <th>model_name</th>\n",
       "      <th></th>\n",
       "      <th></th>\n",
       "    </tr>\n",
       "  </thead>\n",
       "  <tbody>\n",
       "    <tr>\n",
       "      <th>small_ds</th>\n",
       "      <td>5.0</td>\n",
       "      <td>0.0</td>\n",
       "    </tr>\n",
       "    <tr>\n",
       "      <th>standard</th>\n",
       "      <td>18.5</td>\n",
       "      <td>1.9</td>\n",
       "    </tr>\n",
       "  </tbody>\n",
       "</table>\n",
       "</div>"
      ],
      "text/plain": [
       "            hits_100  hits_10\n",
       "model_name                   \n",
       "small_ds         5.0      0.0\n",
       "standard        18.5      1.9"
      ]
     },
     "execution_count": 33,
     "metadata": {},
     "output_type": "execute_result"
    }
   ],
   "source": [
    "hits_df.groupby('model_name').mean()"
   ]
  },
  {
   "cell_type": "code",
   "execution_count": 34,
   "id": "828ecf1a-22e5-4e26-8bf9-27adbab446f4",
   "metadata": {},
   "outputs": [
    {
     "data": {
      "image/png": "[encoded data removed]",
      "text/plain": [
       "<Figure size 640x480 with 1 Axes>"
      ]
     },
     "metadata": {},
     "output_type": "display_data"
    }
   ],
   "source": [
    "import seaborn as sns\n",
    "sns.boxplot(hits_df, x='model_name', y='hits_100')\n",
    "plot = sns.boxplot(hits_df, x='model_name', y='hits_10')\n",
    "plot.set(xlabel='positive dataset', ylabel='score')\n",
    "_ = plot.set_xticklabels(labels=['large', 'small'], rotation=0)"
   ]
  },
  {
   "cell_type": "code",
   "execution_count": 35,
   "id": "eee94c7c-9d9b-4b7b-b958-a7d434fc728e",
   "metadata": {},
   "outputs": [
    {
     "data": {
      "image/png": "[encoded data removed]",
      "text/plain": [
       "<Figure size 640x480 with 1 Axes>"
      ]
     },
     "metadata": {},
     "output_type": "display_data"
    }
   ],
   "source": [
    "import seaborn as sns\n",
    "sns.boxplot(pd.melt(hits_df, id_vars=['model_name']), x='model_name', y='value', hue='variable')\n",
    "plot.set(xlabel='positive dataset', ylabel='score')\n",
    "_ = plot.set_xticklabels(labels=['large', 'small'], rotation=0)"
   ]
  },
  {
   "cell_type": "code",
   "execution_count": 36,
   "id": "d4d38b6c-fc0c-499b-a725-dd4b3e2ebaaf",
   "metadata": {},
   "outputs": [
    {
     "data": {
      "image/png": "[encoded data removed]",
      "text/plain": [
       "<Figure size 640x480 with 1 Axes>"
      ]
     },
     "metadata": {},
     "output_type": "display_data"
    }
   ],
   "source": [
    "import seaborn as sns\n",
    "\n",
    "y_lim= (0, 105)\n",
    "y_label = 'Score'\n",
    "\n",
    "plot_df = pd.melt(hits_df, id_vars=['model_name'])\n",
    "variable_mapping = {'hits_100': 'hits@100', 'hits_10': 'hits@10'}\n",
    "plot_df['Hits'] = plot_df['variable'].apply(lambda x: variable_mapping[x])\n",
    "plot_df = plot_df.sort_values('Hits')\n",
    "plot = sns.barplot(plot_df, x='model_name', y='value', hue='Hits', order=['small_ds', 'standard'])\n",
    "sns.move_legend(plot, 'upper left')\n",
    "plot.set(xlabel='positive dataset', ylabel=y_label)\n",
    "plot.set_title(f'Topological Feature Stack')\n",
    "plot.set_ylim(y_lim)\n",
    "_ = plot.set_xticklabels(labels=['small', 'large'], rotation=0)"
   ]
  },
  {
   "cell_type": "code",
   "execution_count": 37,
   "id": "45b3b33c-0fd1-4079-ab2d-b47d07e40fc0",
   "metadata": {},
   "outputs": [],
   "source": [
    "def plot_coeffs(rs):\n",
    "    coef_df = pd.DataFrame({\n",
    "        'coef_value': np.array([r['lr'].coef_ for r in rs]).flatten(),\n",
    "        'coef_name': list(rs[0]['feature_names']) * len(rs),\n",
    "    })\n",
    "\n",
    "    plot = sns.boxplot(coef_df, x='coef_name', y='coef_value', order=coef_df.groupby('coef_name').mean().sort_values('coef_value').index.values)\n",
    "    _ = plot.set_xticklabels(labels=plot.get_xticklabels(), rotation=90)\n",
    "    \n",
    "    return plot"
   ]
  },
  {
   "cell_type": "code",
   "execution_count": 38,
   "id": "79989493-5a15-4e20-a210-ec09b4664b65",
   "metadata": {},
   "outputs": [
    {
     "data": {
      "text/plain": [
       "<Axes: xlabel='coef_name', ylabel='coef_value'>"
      ]
     },
     "execution_count": 38,
     "metadata": {},
     "output_type": "execute_result"
    },
    {
     "data": {
      "image/png": "[encoded data removed]",
      "text/plain": [
       "<Figure size 640x480 with 1 Axes>"
      ]
     },
     "metadata": {},
     "output_type": "display_data"
    }
   ],
   "source": [
    "plot_coeffs(rs_standard)"
   ]
  },
  {
   "cell_type": "code",
   "execution_count": 39,
   "id": "febeb56f-4b48-49a7-8d90-70f3fd2b5398",
   "metadata": {},
   "outputs": [
    {
     "data": {
      "text/plain": [
       "<Axes: xlabel='coef_name', ylabel='coef_value'>"
      ]
     },
     "execution_count": 39,
     "metadata": {},
     "output_type": "execute_result"
    },
    {
     "data": {
      "image/png": "[encoded data removed]",
      "text/plain": [
       "<Figure size 640x480 with 1 Axes>"
      ]
     },
     "metadata": {},
     "output_type": "display_data"
    }
   ],
   "source": [
    "plot_coeffs(rs_small_ds)"
   ]
  },
  {
   "cell_type": "code",
   "execution_count": null,
   "id": "8e21fe0b-2d04-4819-9b07-2e38c6143d54",
   "metadata": {},
   "outputs": [],
   "source": []
  }
 ],
 "metadata": {
  "kernelspec": {
   "display_name": "giannt",
   "language": "python",
   "name": "giannt"
  },
  "language_info": {
   "codemirror_mode": {
    "name": "ipython",
    "version": 3
   },
   "file_extension": ".py",
   "mimetype": "text/x-python",
   "name": "python",
   "nbconvert_exporter": "python",
   "pygments_lexer": "ipython3",
   "version": "3.10.10"
  }
 },
 "nbformat": 4,
 "nbformat_minor": 5
}
