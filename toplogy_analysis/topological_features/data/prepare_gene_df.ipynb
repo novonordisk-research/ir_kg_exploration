{
 "cells": [
  {
   "cell_type": "code",
   "execution_count": 10,
   "id": "227e2500-b1c8-43b7-be37-05d588583d27",
   "metadata": {},
   "outputs": [
    {
     "name": "stderr",
     "output_type": "stream",
     "text": [
      "100%|██████████| 20/20 [00:57<00:00,  2.86s/it]\n"
     ]
    }
   ],
   "source": [
    "from anngel.datasets.openbiolink import OpenBioLinkDataset\n",
    "import pandas as pd\n",
    "\n",
    "OUT_FILE = \"./gene_df.csv\"\n",
    "EMAIL = \"ENTER YOUR EMAIL HERE\"\n",
    "\n",
    "\n",
    "ds = OpenBioLinkDataset(\"../tmp/openbiolink/\")\n",
    "nodes_df = ds.get_nodes().query('node_id.str.startswith(\"NCBIGENE:\")')\n",
    "gene_ids = [s.replace(\"NCBIGENE:\", \"\") for s in nodes_df[\"node_id\"]]\n",
    "\n",
    "from Bio import Entrez\n",
    "\n",
    "Entrez.email = EMAIL\n",
    "\n",
    "\n",
    "def get_gene_info(gene_ids):\n",
    "    handle = Entrez.esummary(db=\"gene\", id=\",\".join(gene_ids))\n",
    "    result = Entrez.read(handle)\n",
    "    handle.close()\n",
    "\n",
    "    return result[\"DocumentSummarySet\"][\"DocumentSummary\"]\n",
    "\n",
    "\n",
    "from tqdm import tqdm\n",
    "\n",
    "batch_size = 1000\n",
    "gene_infos = []\n",
    "for i in tqdm(range(0, len(gene_ids), batch_size)):\n",
    "    gene_infos.extend(get_gene_info(gene_ids[i : i + batch_size]))\n",
    "\n",
    "gene_names = [x[\"Name\"] for x in gene_infos]\n",
    "gene_df = pd.DataFrame(\n",
    "    {\n",
    "        \"gene_name\": gene_names,\n",
    "        \"gene_label\": gene_ids,\n",
    "        \"gene_id\": nodes_df.index,\n",
    "    }\n",
    ")\n",
    "gene_df.to_csv(OUT_FILE, index=False)"
   ]
  }
 ],
 "metadata": {
  "kernelspec": {
   "display_name": "giannt",
   "language": "python",
   "name": "giannt"
  },
  "language_info": {
   "codemirror_mode": {
    "name": "ipython",
    "version": 3
   },
   "file_extension": ".py",
   "mimetype": "text/x-python",
   "name": "python",
   "nbconvert_exporter": "python",
   "pygments_lexer": "ipython3",
   "version": "3.10.10"
  }
 },
 "nbformat": 4,
 "nbformat_minor": 5
}
