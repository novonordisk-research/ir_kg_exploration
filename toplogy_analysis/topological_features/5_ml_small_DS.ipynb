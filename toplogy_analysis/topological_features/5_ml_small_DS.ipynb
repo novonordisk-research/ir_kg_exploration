{
 "cells": [
  {
   "cell_type": "markdown",
   "id": "17154573-2027-46dc-8e82-9b1d81fc312f",
   "metadata": {
    "tags": []
   },
   "source": [
    "## Machine Learning"
   ]
  },
  {
   "cell_type": "code",
   "execution_count": 1,
   "id": "bbf43fcd-4169-4777-883c-f78856326233",
   "metadata": {},
   "outputs": [],
   "source": [
    "import pickle\n",
    "from pathlib import Path\n",
    "import pandas as pd\n",
    "import numpy as np\n",
    "from sklearn.model_selection import GridSearchCV\n",
    "from sklearn.ensemble import RandomForestClassifier\n",
    "from sklearn.metrics import f1_score, recall_score, precision_score, confusion_matrix\n",
    "from sklearn.linear_model import LogisticRegression, LogisticRegressionCV\n",
    "from tqdm import tqdm\n",
    "\n",
    "from anngel.datasets.openbiolink import OpenBioLinkDataset"
   ]
  },
  {
   "cell_type": "code",
   "execution_count": 2,
   "id": "fc7ab9f9-59e4-46a1-a30d-31faec524004",
   "metadata": {},
   "outputs": [],
   "source": [
    "ds = OpenBioLinkDataset(\"./tmp/openbiolink/\")\n",
    "input_dir = Path('./4_outputs/small_DS/')\n",
    "output_dir = Path('./5_outputs/small_DS/')"
   ]
  },
  {
   "cell_type": "code",
   "execution_count": 3,
   "id": "e3c5c4d7-fd10-4b77-9c85-2098d914cea4",
   "metadata": {},
   "outputs": [],
   "source": [
    "xy_dir = input_dir / 'XY'\n",
    "train_dir = xy_dir / 'train'\n",
    "val_dir = xy_dir / 'val'\n",
    "test_dir = xy_dir / 'test'\n",
    "\n",
    "y_train_file = train_dir / 'y.csv'\n",
    "y_val_file = val_dir / 'y.csv'\n",
    "y_test_file = test_dir / 'y.csv'\n",
    "\n",
    "X_train_files = [f for f in train_dir.glob('*.csv') if not f.name == 'y.csv']\n",
    "X_val_files = [val_dir / f.name for f in X_train_files]\n",
    "X_test_files = [test_dir / f.name for f in X_train_files]\n",
    "\n",
    "def calc_metrics(y_pred, y_true):\n",
    "    return {\n",
    "        \"f1\": f1_score(y_pred=y_pred, y_true=y_true),\n",
    "        \"recall\": recall_score(y_pred=y_pred, y_true=y_true),\n",
    "        \"precision\": precision_score(y_pred=y_pred, y_true=y_true, zero_division=0),\n",
    "        \"confusion_matrix\": confusion_matrix(y_pred=y_pred, y_true=y_true),\n",
    "    }\n",
    "\n",
    "def custom_scorer(clf, X, y):\n",
    "    y_pred = clf.predict(X)\n",
    "    metrics = calc_metrics(y_pred=y_pred, y_true=y)\n",
    "    cm = metrics[\"confusion_matrix\"]\n",
    "    metrics[\"TP\"] = cm[0, 0]\n",
    "    metrics[\"FP\"] = cm[0, 1]\n",
    "    metrics[\"FN\"] = cm[1, 0]\n",
    "    metrics[\"TN\"] = cm[1, 1]\n",
    "    del metrics[\"confusion_matrix\"]\n",
    "    return metrics\n",
    "\n",
    "\n",
    "def evaluate(m, X, y, n=100, scale=True):\n",
    "    y_pred = m.predict(X) > 0\n",
    "    y_prob_pred = m.predict_proba(X)\n",
    "    \n",
    "    order = np.argsort(y_prob_pred)[::-1]\n",
    "    # print(y_pred[order][:n])\n",
    "    if scale:\n",
    "        return y[order][:n].sum() / y.sum()\n",
    "    else:\n",
    "        return y[order][:n].sum()\n",
    "    \n",
    "def fit_model(\n",
    "    X_train,\n",
    "    y_train,\n",
    "    model,\n",
    "    parameters,\n",
    "    scoring=evaluate,\n",
    "    cv=5,\n",
    "    **kwargs\n",
    "):    \n",
    "    clf = GridSearchCV(model, parameters, scoring=scoring, cv=cv, **kwargs)\n",
    "    clf.fit(X=X_train, y=y_train)\n",
    "    return clf\n",
    "\n",
    "CV = 5\n",
    "N_JOBS=20\n",
    "\n",
    "def train_predictor(\n",
    "    X_train_file, y_train_file,\n",
    "    out_file,\n",
    "    cv=CV,\n",
    "    n_jobs=N_JOBS,\n",
    "    scoring=evaluate,\n",
    "):\n",
    "    m = RandomForestClassifier()\n",
    "    parameters = dict(\n",
    "        n_estimators=[100, 250, 500],\n",
    "        max_depth=[None, 2, 5, 10],\n",
    "        min_samples_leaf=[1, 32, 128, 256],\n",
    "        max_features=['sqrt', 1, 2, 4, 8,]\n",
    "    )\n",
    "\n",
    "    X_train = pd.read_csv(X_train_file, index_col=0).values\n",
    "    y_train = pd.read_csv(y_train_file, index_col=0).iloc[:,0].values\n",
    "\n",
    "    clf = fit_model(\n",
    "        X_train=X_train,\n",
    "        y_train=y_train,\n",
    "        model=m,\n",
    "        parameters=parameters,\n",
    "        cv=cv,\n",
    "        n_jobs=n_jobs,\n",
    "    )\n",
    "\n",
    "    with open(out_file, 'wb') as f:\n",
    "        pickle.dump(clf, f)\n",
    "    return clf"
   ]
  },
  {
   "cell_type": "code",
   "execution_count": null,
   "id": "6eca08d1-5793-4f80-91e1-40616036cedc",
   "metadata": {},
   "outputs": [
    {
     "name": "stderr",
     "output_type": "stream",
     "text": [
      " 32%|███▏      | 8/25 [1:14:15<2:21:01, 497.72s/it]"
     ]
    }
   ],
   "source": [
    "classifiers_dir = output_dir / 'classifiers_ml'\n",
    "classifiers_dir.mkdir(exist_ok=True, parents=True)\n",
    "\n",
    "rerun=False\n",
    "for X_train_file in tqdm(X_train_files):\n",
    "    nm = X_train_file.name.split('.')[0]\n",
    "    out_file = classifiers_dir / f'{nm}.pkl'\n",
    "    if out_file.exists():\n",
    "        try:\n",
    "            # try to load the file\n",
    "            with open(out_file, 'rb') as f:\n",
    "                pickle.load(f)\n",
    "            if not rerun:\n",
    "                print(out_file, 'exists. Skipping...')\n",
    "                continue\n",
    "        except:\n",
    "            pass\n",
    "\n",
    "    train_predictor(\n",
    "        X_train_file=X_train_file,\n",
    "        y_train_file=y_train_file,\n",
    "        out_file=out_file,\n",
    "        cv=CV,\n",
    "        n_jobs=N_JOBS,\n",
    "    )"
   ]
  },
  {
   "cell_type": "code",
   "execution_count": 4,
   "id": "8ec3f9f6-f99b-4414-9255-9c8cd4b353f9",
   "metadata": {},
   "outputs": [
    {
     "name": "stderr",
     "output_type": "stream",
     "text": [
      "100%|██████████| 25/25 [01:56<00:00,  4.67s/it]\n"
     ]
    }
   ],
   "source": [
    "classifiers_dir = output_dir / 'classifiers_ml'\n",
    "classifier_paths = list(classifiers_dir.glob('*.pkl'))\n",
    "\n",
    "probas = {}\n",
    "val_results = {}\n",
    "indices = {}\n",
    "for clf_file in tqdm(classifier_paths):\n",
    "    with open(clf_file, 'rb') as f:\n",
    "        clf = pickle.load(f)\n",
    "    \n",
    "    nm = clf_file.name.split('.')[0]\n",
    "    for ds in ('train', 'val', 'test'):\n",
    "        if probas.get(ds) is None:\n",
    "            probas[ds] = {}\n",
    "        X_file = xy_dir / ds / f'{nm}.csv'\n",
    "        y_file = xy_dir / ds / 'y.csv'\n",
    "        \n",
    "        X_df = pd.read_csv(X_file, index_col=0)\n",
    "        indices[ds] = X_df.index\n",
    "        X = X_df.values\n",
    "        y = pd.read_csv(y_file, index_col=0).iloc[:,0].values\n",
    "        \n",
    "        probas[ds][nm] = clf.predict_proba(X)\n",
    "        if ds == 'val':\n",
    "            y_pred = clf.predict(X)\n",
    "            val_results[nm] = calc_metrics(y_true=y, y_pred=y_pred)"
   ]
  },
  {
   "cell_type": "code",
   "execution_count": 5,
   "id": "1fe9f989-92d3-410e-9009-7b00b749c28b",
   "metadata": {},
   "outputs": [],
   "source": [
    "train_probas_df = pd.DataFrame({nm: v[:,1] for nm, v in probas['train'].items()}, index=indices['train'])\n",
    "val_probas_df = pd.DataFrame({nm: v[:,1] for nm, v in probas['val'].items()}, index=indices['val'])\n",
    "test_probas_df = pd.DataFrame({nm: v[:,1] for nm, v in probas['test'].items()}, index=indices['test'])\n",
    "\n",
    "train_probas_df.to_csv(output_dir / 'train_probabilities.csv')\n",
    "val_probas_df.to_csv(output_dir / 'val_probabilities.csv')\n",
    "test_probas_df.to_csv(output_dir / 'test_probabilities.csv')"
   ]
  },
  {
   "cell_type": "code",
   "execution_count": 6,
   "id": "c072ff04-bceb-4d76-a153-356355dfd26b",
   "metadata": {},
   "outputs": [
    {
     "data": {
      "text/plain": [
       "array([[0.90653464, 0.90518366, 0.90734485, 0.90525704, 0.90507597,\n",
       "        0.90192904, 0.90666705, 0.90601646, 0.90740873, 0.47848082,\n",
       "        0.90517799, 0.90279074, 0.23329056, 0.88660579, 0.8998467 ,\n",
       "        0.47861354, 0.47850793, 0.90521636, 0.90574023, 0.90649202,\n",
       "        0.47852438, 0.90660079, 0.90728579, 0.47866521, 0.90528542]])"
      ]
     },
     "execution_count": 6,
     "metadata": {},
     "output_type": "execute_result"
    }
   ],
   "source": [
    "proba_dfs = {}\n",
    "Xs = {}\n",
    "y_dfs = {}\n",
    "ys = {}\n",
    "indices={}\n",
    "for ds in ('train', 'val', 'test'):\n",
    "    proba_df = pd.read_csv(output_dir / f'{ds}_probabilities.csv', index_col=0)\n",
    "    proba_dfs[ds] = proba_df\n",
    "    y_df = pd.read_csv(xy_dir / f'{ds}/y.csv', index_col=0)\n",
    "    y_dfs[ds] = y_df\n",
    "    \n",
    "    X = proba_df.values\n",
    "    Xs[ds] = X\n",
    "    y = y_df.iloc[:, 0].values\n",
    "    ys[ds] = y\n",
    "    \n",
    "    indices[ds] = proba_df.index\n",
    "\n",
    "# lr = LogisticRegression(penalty='elasticnet', solver='saga', l1_ratio=(1), max_iter=10000, C=1.0)\n",
    "lr = LogisticRegression(max_iter=1000)\n",
    "lr.fit(Xs['train'], ys['train'])\n",
    "lr.coef_"
   ]
  },
  {
   "cell_type": "code",
   "execution_count": 7,
   "id": "a476d3f1-2851-4686-967f-abaea1e8f00c",
   "metadata": {},
   "outputs": [
    {
     "data": {
      "image/png": "[encoded data removed]",
      "text/plain": [
       "<Figure size 640x480 with 1 Axes>"
      ]
     },
     "metadata": {},
     "output_type": "display_data"
    }
   ],
   "source": [
    "import seaborn as sns\n",
    "plot_df = pd.DataFrame({'feature': proba_dfs['train'].columns.values, 'coefficient': lr.coef_[0]})\n",
    "plot_df['coefficient_abs'] = plot_df['coefficient'].abs()\n",
    "\n",
    "plot = sns.barplot(plot_df.sort_values('coefficient_abs'), x='feature', y='coefficient')\n",
    "_ = plot.set_xticklabels(labels=plot.get_xticklabels(), rotation=90, )"
   ]
  },
  {
   "cell_type": "code",
   "execution_count": 8,
   "id": "21905b0a-ea53-43a6-99f4-7a52d5856908",
   "metadata": {},
   "outputs": [
    {
     "data": {
      "text/plain": [
       "{'f1': 0.12030075187969924,\n",
       " 'recall': 0.064,\n",
       " 'precision': 1.0,\n",
       " 'confusion_matrix': array([[3862,    0],\n",
       "        [ 117,    8]])}"
      ]
     },
     "execution_count": 8,
     "metadata": {},
     "output_type": "execute_result"
    }
   ],
   "source": [
    "y_val_pred = lr.predict(Xs['val'])\n",
    "\n",
    "calc_metrics(y_pred=y_val_pred, y_true=ys['val'])"
   ]
  },
  {
   "cell_type": "code",
   "execution_count": 9,
   "id": "7e5a33ad-ec12-4e53-9e99-de14f41c5936",
   "metadata": {},
   "outputs": [
    {
     "data": {
      "text/plain": [
       "array([[3863,    0],\n",
       "       [ 119,    0]])"
      ]
     },
     "execution_count": 9,
     "metadata": {},
     "output_type": "execute_result"
    }
   ],
   "source": [
    "y_test_pred = lr.predict(Xs['test'])\n",
    "\n",
    "metrics = calc_metrics(y_pred=y_test_pred, y_true=ys['test'])\n",
    "metrics['confusion_matrix']"
   ]
  },
  {
   "cell_type": "code",
   "execution_count": 10,
   "id": "dbf56478-2070-4f20-90c5-da342794bdf5",
   "metadata": {},
   "outputs": [],
   "source": [
    "y_test_prob = lr.predict_proba(Xs['test'])\n",
    "y_test_pred = lr.predict(Xs['test'])\n",
    "\n",
    "tmp_df = pd.DataFrame(y_test_prob, index=indices['test'])\n",
    "tmp_df['irr'] = ys['test']\n",
    "tmp_df_sorted = tmp_df.sort_values(0, ascending=True)"
   ]
  },
  {
   "cell_type": "code",
   "execution_count": 11,
   "id": "b72fef78-e71a-4515-a89e-516a38b12624",
   "metadata": {},
   "outputs": [
    {
     "data": {
      "text/plain": [
       "True"
      ]
     },
     "execution_count": 11,
     "metadata": {},
     "output_type": "execute_result"
    }
   ],
   "source": [
    "((y_test_prob[:,1] > 0.5) == y_test_pred).all()"
   ]
  },
  {
   "cell_type": "code",
   "execution_count": 12,
   "id": "65f41273-0353-475e-aaa1-4db1478c1967",
   "metadata": {},
   "outputs": [],
   "source": [
    "ths = np.linspace(0.0, 1.0, 101)\n",
    "\n",
    "ratios = []\n",
    "for th in ths:\n",
    "    idcs = tmp_df_sorted[1] >= th\n",
    "    ratios.append(tmp_df_sorted[idcs]['irr'].sum() / tmp_df_sorted['irr'].sum())\n",
    "ratios = np.array(ratios)\n",
    "    \n",
    "ratio_df = pd.DataFrame(dict(th=ths, ratio=ratios))"
   ]
  },
  {
   "cell_type": "code",
   "execution_count": 13,
   "id": "3168fd09-5ed0-4a37-a4f8-04cbad2ddffd",
   "metadata": {},
   "outputs": [
    {
     "data": {
      "text/plain": [
       "Text(0, 0.5, 'irr_pred / irr_total')"
      ]
     },
     "execution_count": 13,
     "metadata": {},
     "output_type": "execute_result"
    },
    {
     "data": {
      "image/png": "[encoded data removed]",
      "text/plain": [
       "<Figure size 640x480 with 1 Axes>"
      ]
     },
     "metadata": {},
     "output_type": "display_data"
    }
   ],
   "source": [
    "ratio_df.plot(x='th', y='ratio').set_ylabel('irr_pred / irr_total')"
   ]
  },
  {
   "cell_type": "code",
   "execution_count": 14,
   "id": "ccda2392-cdac-4ddb-8975-81f8827f01c1",
   "metadata": {},
   "outputs": [
    {
     "data": {
      "text/plain": [
       "119"
      ]
     },
     "execution_count": 14,
     "metadata": {},
     "output_type": "execute_result"
    }
   ],
   "source": [
    "ys['test'].sum()"
   ]
  },
  {
   "cell_type": "code",
   "execution_count": 15,
   "id": "e3724629-2f10-45f0-ac55-2a4e286cd424",
   "metadata": {},
   "outputs": [
    {
     "data": {
      "text/plain": [
       "12"
      ]
     },
     "execution_count": 15,
     "metadata": {},
     "output_type": "execute_result"
    }
   ],
   "source": [
    "n_top = 100\n",
    "\n",
    "tmp_df_sorted.iloc[:n_top]['irr'].sum()"
   ]
  },
  {
   "cell_type": "code",
   "execution_count": 16,
   "id": "58ef2ca4-9e41-42d1-9176-e6f85d17557f",
   "metadata": {},
   "outputs": [
    {
     "data": {
      "text/plain": [
       "4"
      ]
     },
     "execution_count": 16,
     "metadata": {},
     "output_type": "execute_result"
    }
   ],
   "source": [
    "n_top = 10\n",
    "\n",
    "tmp_df_sorted.iloc[:n_top]['irr'].sum()"
   ]
  },
  {
   "cell_type": "code",
   "execution_count": 17,
   "id": "e6207488-0b95-4de1-80de-8344d7dfb84b",
   "metadata": {},
   "outputs": [],
   "source": [
    "from anngel.datasets.openbiolink import OpenBioLinkDataset\n",
    "\n",
    "ds = OpenBioLinkDataset(\"./tmp/openbiolink/\")\n",
    "nodes_df = ds.get_nodes()\n",
    "\n",
    "proba_df_all = pd.concat([\n",
    "    proba_dfs['train'][~proba_dfs['train'].index.duplicated(keep='first')],\n",
    "    proba_dfs['val'],\n",
    "    proba_dfs['test'],\n",
    "]).sort_index()\n",
    "\n",
    "y_df_all = pd.concat([\n",
    "    y_dfs['train'][~y_dfs['train'].index.duplicated(keep='first')],\n",
    "    y_dfs['val'],\n",
    "    y_dfs['test'],\n",
    "]).sort_index()\n",
    "\n",
    "X_all = proba_df_all.values\n",
    "y_all = y_df_all.values\n",
    "y_pred_all = lr.predict_proba(X_all)\n",
    "y_pred_all_df = pd.DataFrame(y_pred_all, index=proba_df_all.index).drop(0, axis=1)\n",
    "y_pred_all_df.columns = ['probability']"
   ]
  },
  {
   "cell_type": "code",
   "execution_count": 19,
   "id": "2764016d-88bd-4d1c-ba09-d818befcdeb8",
   "metadata": {},
   "outputs": [
    {
     "data": {
      "text/html": [
       "<div>\n",
       "<style scoped>\n",
       "    .dataframe tbody tr th:only-of-type {\n",
       "        vertical-align: middle;\n",
       "    }\n",
       "\n",
       "    .dataframe tbody tr th {\n",
       "        vertical-align: top;\n",
       "    }\n",
       "\n",
       "    .dataframe thead th {\n",
       "        text-align: right;\n",
       "    }\n",
       "</style>\n",
       "<table border=\"1\" class=\"dataframe\">\n",
       "  <thead>\n",
       "    <tr style=\"text-align: right;\">\n",
       "      <th></th>\n",
       "      <th>probability</th>\n",
       "      <th>node_id</th>\n",
       "      <th>node_type</th>\n",
       "      <th>irr</th>\n",
       "    </tr>\n",
       "  </thead>\n",
       "  <tbody>\n",
       "    <tr>\n",
       "      <th>114806</th>\n",
       "      <td>0.999942</td>\n",
       "      <td>NCBIGENE:5468</td>\n",
       "      <td>GENE</td>\n",
       "      <td>True</td>\n",
       "    </tr>\n",
       "    <tr>\n",
       "      <th>114441</th>\n",
       "      <td>0.999942</td>\n",
       "      <td>NCBIGENE:5295</td>\n",
       "      <td>GENE</td>\n",
       "      <td>True</td>\n",
       "    </tr>\n",
       "    <tr>\n",
       "      <th>114441</th>\n",
       "      <td>0.999942</td>\n",
       "      <td>NCBIGENE:5295</td>\n",
       "      <td>GENE</td>\n",
       "      <td>True</td>\n",
       "    </tr>\n",
       "    <tr>\n",
       "      <th>114441</th>\n",
       "      <td>0.999942</td>\n",
       "      <td>NCBIGENE:5295</td>\n",
       "      <td>GENE</td>\n",
       "      <td>True</td>\n",
       "    </tr>\n",
       "    <tr>\n",
       "      <th>114441</th>\n",
       "      <td>0.999942</td>\n",
       "      <td>NCBIGENE:5295</td>\n",
       "      <td>GENE</td>\n",
       "      <td>True</td>\n",
       "    </tr>\n",
       "    <tr>\n",
       "      <th>...</th>\n",
       "      <td>...</td>\n",
       "      <td>...</td>\n",
       "      <td>...</td>\n",
       "      <td>...</td>\n",
       "    </tr>\n",
       "    <tr>\n",
       "      <th>103329</th>\n",
       "      <td>0.000043</td>\n",
       "      <td>NCBIGENE:10022</td>\n",
       "      <td>GENE</td>\n",
       "      <td>False</td>\n",
       "    </tr>\n",
       "    <tr>\n",
       "      <th>118231</th>\n",
       "      <td>0.000043</td>\n",
       "      <td>NCBIGENE:6846</td>\n",
       "      <td>GENE</td>\n",
       "      <td>False</td>\n",
       "    </tr>\n",
       "    <tr>\n",
       "      <th>117882</th>\n",
       "      <td>0.000043</td>\n",
       "      <td>NCBIGENE:6534</td>\n",
       "      <td>GENE</td>\n",
       "      <td>False</td>\n",
       "    </tr>\n",
       "    <tr>\n",
       "      <th>109896</th>\n",
       "      <td>0.000043</td>\n",
       "      <td>NCBIGENE:27334</td>\n",
       "      <td>GENE</td>\n",
       "      <td>False</td>\n",
       "    </tr>\n",
       "    <tr>\n",
       "      <th>110563</th>\n",
       "      <td>0.000043</td>\n",
       "      <td>NCBIGENE:2938</td>\n",
       "      <td>GENE</td>\n",
       "      <td>False</td>\n",
       "    </tr>\n",
       "  </tbody>\n",
       "</table>\n",
       "<p>19622 rows × 4 columns</p>\n",
       "</div>"
      ],
      "text/plain": [
       "        probability         node_id node_type    irr\n",
       "114806     0.999942   NCBIGENE:5468      GENE   True\n",
       "114441     0.999942   NCBIGENE:5295      GENE   True\n",
       "114441     0.999942   NCBIGENE:5295      GENE   True\n",
       "114441     0.999942   NCBIGENE:5295      GENE   True\n",
       "114441     0.999942   NCBIGENE:5295      GENE   True\n",
       "...             ...             ...       ...    ...\n",
       "103329     0.000043  NCBIGENE:10022      GENE  False\n",
       "118231     0.000043   NCBIGENE:6846      GENE  False\n",
       "117882     0.000043   NCBIGENE:6534      GENE  False\n",
       "109896     0.000043  NCBIGENE:27334      GENE  False\n",
       "110563     0.000043   NCBIGENE:2938      GENE  False\n",
       "\n",
       "[19622 rows x 4 columns]"
      ]
     },
     "execution_count": 19,
     "metadata": {},
     "output_type": "execute_result"
    }
   ],
   "source": [
    "out_df = y_pred_all_df.join(nodes_df, how='left')\n",
    "out_df = out_df.join(y_df_all)\n",
    "out_df.sort_values('probability', ascending=False)"
   ]
  },
  {
   "cell_type": "code",
   "execution_count": 20,
   "id": "4dac8992-a56e-4e82-b657-e1cc9d10fc94",
   "metadata": {},
   "outputs": [],
   "source": [
    "out_df.to_csv(output_dir / 'proba_out_df.csv')"
   ]
  }
 ],
 "metadata": {
  "kernelspec": {
   "display_name": "giannt",
   "language": "python",
   "name": "giannt"
  },
  "language_info": {
   "codemirror_mode": {
    "name": "ipython",
    "version": 3
   },
   "file_extension": ".py",
   "mimetype": "text/x-python",
   "name": "python",
   "nbconvert_exporter": "python",
   "pygments_lexer": "ipython3",
   "version": "3.10.10"
  }
 },
 "nbformat": 4,
 "nbformat_minor": 5
}
