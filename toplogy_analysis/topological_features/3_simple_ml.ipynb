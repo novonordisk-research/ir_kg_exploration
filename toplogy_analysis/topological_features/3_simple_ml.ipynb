{
 "cells": [
  {
   "cell_type": "markdown",
   "id": "e338af47-16c5-454e-91b2-bb2932505367",
   "metadata": {},
   "source": [
    "## Data Preparation"
   ]
  },
  {
   "cell_type": "code",
   "execution_count": 38,
   "id": "6d7746a4-bcfd-422b-a5b2-03c5d8e2a62c",
   "metadata": {},
   "outputs": [],
   "source": [
    "from pathlib import Path\n",
    "import pandas as pd\n",
    "import numpy as np\n",
    "import pickle\n",
    "from tqdm import tqdm"
   ]
  },
  {
   "cell_type": "code",
   "execution_count": 39,
   "id": "e7ce60ed-812b-4825-a0f7-c62460d3e710",
   "metadata": {},
   "outputs": [],
   "source": [
    "def reshape_pairwise_metric(\n",
    "    pairs_file,\n",
    "    metric_file,\n",
    "    out_file,\n",
    "):\n",
    "    with open(pairs_file, 'rb') as f:\n",
    "        pairs = pickle.load(f)\n",
    "        \n",
    "    p0s, p0_counts = np.unique([p[0] for p in pairs], return_counts=True)\n",
    "    p1s, p1_counts = np.unique([p[1] for p in pairs], return_counts=True)\n",
    "    \n",
    "    val_df = pd.read_csv(metric_file)\n",
    "    \n",
    "    metric_df = pd.DataFrame(val_df.values.reshape((len(p0s), len(p1s))), columns=p1s, index=p0s)\n",
    "    metric_df.to_csv(out_file)\n",
    "    \n",
    "def reshape_pairwise_metric2(\n",
    "    pairs_file,\n",
    "    metric_file,\n",
    "    out_file,\n",
    "):\n",
    "    with open(pairs_file, 'rb') as f:\n",
    "        pairs = pickle.load(f)\n",
    "        \n",
    "    p0s = np.unique([p[0] for p in pairs])\n",
    "    p1s = pairs[0][1]\n",
    "    \n",
    "    metric_df = pd.read_csv(metric_file, header=None)\n",
    "\n",
    "    metric_df.index = p0s\n",
    "    metric_df.columns = p1s\n",
    "    metric_df.to_csv(out_file)"
   ]
  },
  {
   "cell_type": "code",
   "execution_count": 40,
   "id": "06c025b9-769b-445a-9192-a0040bbdc74d",
   "metadata": {},
   "outputs": [
    {
     "name": "stderr",
     "output_type": "stream",
     "text": [
      "100%|██████████| 8/8 [01:33<00:00, 11.66s/it]\n",
      "100%|██████████| 8/8 [04:59<00:00, 37.43s/it]\n"
     ]
    }
   ],
   "source": [
    "metric_input_dir = Path('2_outputs/pairwise/')\n",
    "pairs_dir = Path(\"./tmp/s3_files/\")\n",
    "out_dir = Path('./3_outputs/pairwise_processed')\n",
    "out_dir.mkdir(exist_ok=True, parents=True)\n",
    "\n",
    "for suffix in ('_disease', '_pathway'):\n",
    "    metric_files = list(metric_input_dir.glob(f'*{suffix}.csv'))\n",
    "    \n",
    "    for metric_file in tqdm(metric_files):\n",
    "        if metric_file.name.startswith(\"personalized_pagerank\"):\n",
    "            fun = reshape_pairwise_metric2\n",
    "            pairs_file = pairs_dir / f'input_pairs_obl{suffix}.pkl'\n",
    "        else:\n",
    "            fun = reshape_pairwise_metric\n",
    "            pairs_file = pairs_dir / f'pairs_obl{suffix}.pkl'\n",
    "        out_file = out_dir / metric_file.name\n",
    "        fun(\n",
    "            pairs_file=pairs_file,\n",
    "            metric_file=metric_file,\n",
    "            out_file=out_file,\n",
    "        )"
   ]
  },
  {
   "cell_type": "markdown",
   "id": "0eab198a-b27c-4f3a-b2f2-d5d232d92ec8",
   "metadata": {
    "tags": []
   },
   "source": [
    "## Attach IRR information, Move Metrics to Common Directory"
   ]
  },
  {
   "cell_type": "code",
   "execution_count": 41,
   "id": "07ee3708-f1d1-498f-8120-1af369f1d159",
   "metadata": {},
   "outputs": [],
   "source": [
    "from pathlib import Path\n",
    "import pandas as pd\n",
    "from anngel.datasets.openbiolink import OpenBioLinkDataset\n",
    "from anngel.datalib.s3datastore import S3DataStore"
   ]
  },
  {
   "cell_type": "code",
   "execution_count": 42,
   "id": "c68b0f34-dc62-42d9-bfc2-d4d3c5ee425d",
   "metadata": {},
   "outputs": [
    {
     "name": "stdout",
     "output_type": "stream",
     "text": [
      "Found 18 files in local directory \"tmp/s3_files\".\n"
     ]
    },
    {
     "ename": "ClientError",
     "evalue": "An error occurred (ExpiredToken) when calling the ListObjects operation: The provided token has expired.",
     "output_type": "error",
     "traceback": [
      "\u001b[0;31m---------------------------------------------------------------------------\u001b[0m",
      "\u001b[0;31mClientError\u001b[0m                               Traceback (most recent call last)",
      "Cell \u001b[0;32mIn[42], line 22\u001b[0m\n\u001b[1;32m     11\u001b[0m data_store \u001b[38;5;241m=\u001b[39m S3DataStore(\n\u001b[1;32m     12\u001b[0m     aws_access_key_id\u001b[38;5;241m=\u001b[39m\u001b[38;5;28;01mNone\u001b[39;00m,\n\u001b[1;32m     13\u001b[0m     aws_secret_access_key\u001b[38;5;241m=\u001b[39m\u001b[38;5;28;01mNone\u001b[39;00m,\n\u001b[0;32m   (...)\u001b[0m\n\u001b[1;32m     17\u001b[0m     local_directory\u001b[38;5;241m=\u001b[39m\u001b[38;5;124m\"\u001b[39m\u001b[38;5;124mtmp/s3_files\u001b[39m\u001b[38;5;124m\"\u001b[39m,\n\u001b[1;32m     18\u001b[0m )\n\u001b[1;32m     20\u001b[0m ds \u001b[38;5;241m=\u001b[39m OpenBioLinkDataset(\u001b[38;5;124m\"\u001b[39m\u001b[38;5;124m./tmp/openbiolink/\u001b[39m\u001b[38;5;124m\"\u001b[39m)\n\u001b[0;32m---> 22\u001b[0m irr_df_obl \u001b[38;5;241m=\u001b[39m pd\u001b[38;5;241m.\u001b[39mread_csv(\u001b[43mdata_store\u001b[49m\u001b[38;5;241;43m.\u001b[39;49m\u001b[43mget_file\u001b[49m\u001b[43m(\u001b[49m\u001b[38;5;124;43m\"\u001b[39;49m\u001b[38;5;124;43mNodes_OpenBioLink_connected_IR.txt\u001b[39;49m\u001b[38;5;124;43m\"\u001b[39;49m\u001b[43m)\u001b[49m\u001b[38;5;241m.\u001b[39mlocal_path)\n\u001b[1;32m     23\u001b[0m irr_df \u001b[38;5;241m=\u001b[39m pd\u001b[38;5;241m.\u001b[39mread_csv(data_store\u001b[38;5;241m.\u001b[39mget_file(\u001b[38;5;124m\"\u001b[39m\u001b[38;5;124mfull_node_info_train_val_test.csv\u001b[39m\u001b[38;5;124m\"\u001b[39m)\u001b[38;5;241m.\u001b[39mlocal_path, sep\u001b[38;5;241m=\u001b[39m\u001b[38;5;124m\"\u001b[39m\u001b[38;5;124m;\u001b[39m\u001b[38;5;124m\"\u001b[39m)\n\u001b[1;32m     24\u001b[0m irr_df[\u001b[38;5;124m\"\u001b[39m\u001b[38;5;124mirr2\u001b[39m\u001b[38;5;124m\"\u001b[39m] \u001b[38;5;241m=\u001b[39m irr_df[\u001b[38;5;124m\"\u001b[39m\u001b[38;5;124mIR list\u001b[39m\u001b[38;5;124m\"\u001b[39m] \u001b[38;5;241m==\u001b[39m \u001b[38;5;124m\"\u001b[39m\u001b[38;5;124mIR_True\u001b[39m\u001b[38;5;124m\"\u001b[39m\n",
      "File \u001b[0;32m~/aNNGEL/anngel/datalib/s3datastore/__init__.py:210\u001b[0m, in \u001b[0;36mS3DataStore.get_file\u001b[0;34m(self, file_name, force_download, new_if_not_exist)\u001b[0m\n\u001b[1;32m    207\u001b[0m \u001b[38;5;28;01mif\u001b[39;00m \u001b[38;5;28misinstance\u001b[39m(file_name, S3DataStoreFile):\n\u001b[1;32m    208\u001b[0m     file_name \u001b[38;5;241m=\u001b[39m file_name\u001b[38;5;241m.\u001b[39mfile_name\n\u001b[0;32m--> 210\u001b[0m has_remote_copy \u001b[38;5;241m=\u001b[39m \u001b[38;5;28;43mself\u001b[39;49m\u001b[38;5;241;43m.\u001b[39;49m\u001b[43mfile_has_remote_copy\u001b[49m\u001b[43m(\u001b[49m\u001b[43mfile_name\u001b[49m\u001b[43m)\u001b[49m\n\u001b[1;32m    211\u001b[0m has_local_copy \u001b[38;5;241m=\u001b[39m \u001b[38;5;28mself\u001b[39m\u001b[38;5;241m.\u001b[39mfile_has_local_copy(file_name)\n\u001b[1;32m    213\u001b[0m \u001b[38;5;28;01mif\u001b[39;00m force_download:\n",
      "File \u001b[0;32m~/aNNGEL/anngel/datalib/s3datastore/__init__.py:271\u001b[0m, in \u001b[0;36mS3DataStore.file_has_remote_copy\u001b[0;34m(self, file_name)\u001b[0m\n\u001b[1;32m    269\u001b[0m \u001b[38;5;28;01mif\u001b[39;00m \u001b[38;5;28misinstance\u001b[39m(file_name, S3DataStoreFile):\n\u001b[1;32m    270\u001b[0m     file_name \u001b[38;5;241m=\u001b[39m file_name\u001b[38;5;241m.\u001b[39mfile_name\n\u001b[0;32m--> 271\u001b[0m \u001b[38;5;28;01mreturn\u001b[39;00m \u001b[38;5;28many\u001b[39m([f\u001b[38;5;241m.\u001b[39mfile_name \u001b[38;5;241m==\u001b[39m file_name \u001b[38;5;28;01mfor\u001b[39;00m f \u001b[38;5;129;01min\u001b[39;00m \u001b[38;5;28;43mself\u001b[39;49m\u001b[38;5;241;43m.\u001b[39;49m\u001b[43mlist_remote_files\u001b[49m\u001b[43m(\u001b[49m\u001b[43m)\u001b[49m])\n",
      "File \u001b[0;32m~/aNNGEL/anngel/datalib/s3datastore/__init__.py:162\u001b[0m, in \u001b[0;36mS3DataStore.list_remote_files\u001b[0;34m(self, prefix)\u001b[0m\n\u001b[1;32m    160\u001b[0m r \u001b[38;5;241m=\u001b[39m []\n\u001b[1;32m    161\u001b[0m prefix \u001b[38;5;241m=\u001b[39m \u001b[38;5;28mself\u001b[39m\u001b[38;5;241m.\u001b[39mprefix \u001b[38;5;241m+\u001b[39m prefix\n\u001b[0;32m--> 162\u001b[0m \u001b[38;5;28;01mfor\u001b[39;00m o \u001b[38;5;129;01min\u001b[39;00m \u001b[38;5;28mself\u001b[39m\u001b[38;5;241m.\u001b[39mbucket\u001b[38;5;241m.\u001b[39mobjects\u001b[38;5;241m.\u001b[39mfilter(Prefix\u001b[38;5;241m=\u001b[39mprefix):\n\u001b[1;32m    163\u001b[0m     r\u001b[38;5;241m.\u001b[39mappend(S3DataStoreFile(\u001b[38;5;28mself\u001b[39m, o\u001b[38;5;241m.\u001b[39mkey\u001b[38;5;241m.\u001b[39mreplace(\u001b[38;5;28mself\u001b[39m\u001b[38;5;241m.\u001b[39mprefix, \u001b[38;5;124m\"\u001b[39m\u001b[38;5;124m\"\u001b[39m)))\n\u001b[1;32m    164\u001b[0m \u001b[38;5;28;01mreturn\u001b[39;00m r\n",
      "File \u001b[0;32m~/.conda/envs/giannt/lib/python3.10/site-packages/boto3/resources/collection.py:81\u001b[0m, in \u001b[0;36mResourceCollection.__iter__\u001b[0;34m(self)\u001b[0m\n\u001b[1;32m     78\u001b[0m limit \u001b[38;5;241m=\u001b[39m \u001b[38;5;28mself\u001b[39m\u001b[38;5;241m.\u001b[39m_params\u001b[38;5;241m.\u001b[39mget(\u001b[38;5;124m'\u001b[39m\u001b[38;5;124mlimit\u001b[39m\u001b[38;5;124m'\u001b[39m, \u001b[38;5;28;01mNone\u001b[39;00m)\n\u001b[1;32m     80\u001b[0m count \u001b[38;5;241m=\u001b[39m \u001b[38;5;241m0\u001b[39m\n\u001b[0;32m---> 81\u001b[0m \u001b[38;5;28;01mfor\u001b[39;00m page \u001b[38;5;129;01min\u001b[39;00m \u001b[38;5;28mself\u001b[39m\u001b[38;5;241m.\u001b[39mpages():\n\u001b[1;32m     82\u001b[0m     \u001b[38;5;28;01mfor\u001b[39;00m item \u001b[38;5;129;01min\u001b[39;00m page:\n\u001b[1;32m     83\u001b[0m         \u001b[38;5;28;01myield\u001b[39;00m item\n",
      "File \u001b[0;32m~/.conda/envs/giannt/lib/python3.10/site-packages/boto3/resources/collection.py:171\u001b[0m, in \u001b[0;36mResourceCollection.pages\u001b[0;34m(self)\u001b[0m\n\u001b[1;32m    168\u001b[0m \u001b[38;5;66;03m# Now that we have a page iterator or single page of results\u001b[39;00m\n\u001b[1;32m    169\u001b[0m \u001b[38;5;66;03m# we start processing and yielding individual items.\u001b[39;00m\n\u001b[1;32m    170\u001b[0m count \u001b[38;5;241m=\u001b[39m \u001b[38;5;241m0\u001b[39m\n\u001b[0;32m--> 171\u001b[0m \u001b[38;5;28;01mfor\u001b[39;00m page \u001b[38;5;129;01min\u001b[39;00m pages:\n\u001b[1;32m    172\u001b[0m     page_items \u001b[38;5;241m=\u001b[39m []\n\u001b[1;32m    173\u001b[0m     \u001b[38;5;28;01mfor\u001b[39;00m item \u001b[38;5;129;01min\u001b[39;00m \u001b[38;5;28mself\u001b[39m\u001b[38;5;241m.\u001b[39m_handler(\u001b[38;5;28mself\u001b[39m\u001b[38;5;241m.\u001b[39m_parent, params, page):\n",
      "File \u001b[0;32m~/.conda/envs/giannt/lib/python3.10/site-packages/botocore/paginate.py:269\u001b[0m, in \u001b[0;36mPageIterator.__iter__\u001b[0;34m(self)\u001b[0m\n\u001b[1;32m    267\u001b[0m \u001b[38;5;28mself\u001b[39m\u001b[38;5;241m.\u001b[39m_inject_starting_params(current_kwargs)\n\u001b[1;32m    268\u001b[0m \u001b[38;5;28;01mwhile\u001b[39;00m \u001b[38;5;28;01mTrue\u001b[39;00m:\n\u001b[0;32m--> 269\u001b[0m     response \u001b[38;5;241m=\u001b[39m \u001b[38;5;28;43mself\u001b[39;49m\u001b[38;5;241;43m.\u001b[39;49m\u001b[43m_make_request\u001b[49m\u001b[43m(\u001b[49m\u001b[43mcurrent_kwargs\u001b[49m\u001b[43m)\u001b[49m\n\u001b[1;32m    270\u001b[0m     parsed \u001b[38;5;241m=\u001b[39m \u001b[38;5;28mself\u001b[39m\u001b[38;5;241m.\u001b[39m_extract_parsed_response(response)\n\u001b[1;32m    271\u001b[0m     \u001b[38;5;28;01mif\u001b[39;00m first_request:\n\u001b[1;32m    272\u001b[0m         \u001b[38;5;66;03m# The first request is handled differently.  We could\u001b[39;00m\n\u001b[1;32m    273\u001b[0m         \u001b[38;5;66;03m# possibly have a resume/starting token that tells us where\u001b[39;00m\n\u001b[1;32m    274\u001b[0m         \u001b[38;5;66;03m# to index into the retrieved page.\u001b[39;00m\n",
      "File \u001b[0;32m~/.conda/envs/giannt/lib/python3.10/site-packages/botocore/paginate.py:357\u001b[0m, in \u001b[0;36mPageIterator._make_request\u001b[0;34m(self, current_kwargs)\u001b[0m\n\u001b[1;32m    356\u001b[0m \u001b[38;5;28;01mdef\u001b[39;00m \u001b[38;5;21m_make_request\u001b[39m(\u001b[38;5;28mself\u001b[39m, current_kwargs):\n\u001b[0;32m--> 357\u001b[0m     \u001b[38;5;28;01mreturn\u001b[39;00m \u001b[38;5;28;43mself\u001b[39;49m\u001b[38;5;241;43m.\u001b[39;49m\u001b[43m_method\u001b[49m\u001b[43m(\u001b[49m\u001b[38;5;241;43m*\u001b[39;49m\u001b[38;5;241;43m*\u001b[39;49m\u001b[43mcurrent_kwargs\u001b[49m\u001b[43m)\u001b[49m\n",
      "File \u001b[0;32m~/.conda/envs/giannt/lib/python3.10/site-packages/botocore/client.py:530\u001b[0m, in \u001b[0;36mClientCreator._create_api_method.<locals>._api_call\u001b[0;34m(self, *args, **kwargs)\u001b[0m\n\u001b[1;32m    526\u001b[0m     \u001b[38;5;28;01mraise\u001b[39;00m \u001b[38;5;167;01mTypeError\u001b[39;00m(\n\u001b[1;32m    527\u001b[0m         \u001b[38;5;124mf\u001b[39m\u001b[38;5;124m\"\u001b[39m\u001b[38;5;132;01m{\u001b[39;00mpy_operation_name\u001b[38;5;132;01m}\u001b[39;00m\u001b[38;5;124m() only accepts keyword arguments.\u001b[39m\u001b[38;5;124m\"\u001b[39m\n\u001b[1;32m    528\u001b[0m     )\n\u001b[1;32m    529\u001b[0m \u001b[38;5;66;03m# The \"self\" in this scope is referring to the BaseClient.\u001b[39;00m\n\u001b[0;32m--> 530\u001b[0m \u001b[38;5;28;01mreturn\u001b[39;00m \u001b[38;5;28;43mself\u001b[39;49m\u001b[38;5;241;43m.\u001b[39;49m\u001b[43m_make_api_call\u001b[49m\u001b[43m(\u001b[49m\u001b[43moperation_name\u001b[49m\u001b[43m,\u001b[49m\u001b[43m \u001b[49m\u001b[43mkwargs\u001b[49m\u001b[43m)\u001b[49m\n",
      "File \u001b[0;32m~/.conda/envs/giannt/lib/python3.10/site-packages/botocore/client.py:960\u001b[0m, in \u001b[0;36mBaseClient._make_api_call\u001b[0;34m(self, operation_name, api_params)\u001b[0m\n\u001b[1;32m    958\u001b[0m     error_code \u001b[38;5;241m=\u001b[39m parsed_response\u001b[38;5;241m.\u001b[39mget(\u001b[38;5;124m\"\u001b[39m\u001b[38;5;124mError\u001b[39m\u001b[38;5;124m\"\u001b[39m, {})\u001b[38;5;241m.\u001b[39mget(\u001b[38;5;124m\"\u001b[39m\u001b[38;5;124mCode\u001b[39m\u001b[38;5;124m\"\u001b[39m)\n\u001b[1;32m    959\u001b[0m     error_class \u001b[38;5;241m=\u001b[39m \u001b[38;5;28mself\u001b[39m\u001b[38;5;241m.\u001b[39mexceptions\u001b[38;5;241m.\u001b[39mfrom_code(error_code)\n\u001b[0;32m--> 960\u001b[0m     \u001b[38;5;28;01mraise\u001b[39;00m error_class(parsed_response, operation_name)\n\u001b[1;32m    961\u001b[0m \u001b[38;5;28;01melse\u001b[39;00m:\n\u001b[1;32m    962\u001b[0m     \u001b[38;5;28;01mreturn\u001b[39;00m parsed_response\n",
      "\u001b[0;31mClientError\u001b[0m: An error occurred (ExpiredToken) when calling the ListObjects operation: The provided token has expired."
     ]
    }
   ],
   "source": [
    "pp_dir = Path('./3_outputs/pairwise_processed/')\n",
    "out_file_p_fs = Path('./3_outputs/pairwise_metrics_feature_selection.csv')\n",
    "nd_dir = Path('./2_outputs/nodewise/')\n",
    "metrics_dir = Path('./3_outputs/metrics/')\n",
    "metrics_dir.mkdir(exist_ok=True, parents=True)\n",
    "\n",
    "pp_files_d = list(pp_dir.glob('*_disease.csv'))\n",
    "pp_files_p = list(pp_dir.glob('*_pathway.csv'))\n",
    "\n",
    "\n",
    "data_store = S3DataStore(\n",
    "    aws_access_key_id=None,\n",
    "    aws_secret_access_key=None,\n",
    "    aws_session_token=None,\n",
    "    bucket_name=\"nnedl-core-prd-eu-central-1-curated\",\n",
    "    prefix=\"compbiosandbox/Projects/NNRCO_KG/Sprint_3_3_IR_Paper/\",\n",
    "    local_directory=\"tmp/s3_files\",\n",
    ")\n",
    "\n",
    "ds = OpenBioLinkDataset(\"./tmp/openbiolink/\")\n",
    "\n",
    "irr_df_obl = pd.read_csv(data_store.get_file(\"Nodes_OpenBioLink_connected_IR.txt\").local_path)\n",
    "irr_df = pd.read_csv(data_store.get_file(\"full_node_info_train_val_test.csv\").local_path, sep=\";\")\n",
    "irr_df[\"irr2\"] = irr_df[\"IR list\"] == \"IR_True\"\n",
    "irr_df = (\n",
    "    ds.get_nodes()\n",
    "    .merge(irr_df[[\"Node ID\", \"irr2\"]], how=\"left\", left_on=\"node_id\", right_on=\"Node ID\")\n",
    "    .drop(columns=[\"Node ID\"])\n",
    ")\n",
    "irr_df[\"irr2\"].fillna(False, inplace=True)\n",
    "irr_df[\"irr\"] = irr_df['node_id'].isin(irr_df_obl['node_id'])\n",
    "\n",
    "def attach_irr(metric_df, col_names=['irr', 'irr2']):\n",
    "    metric_df = metric_df.join(irr_df[col_names], how='left')\n",
    "    n_col = metric_df.shape[1]\n",
    "    return metric_df\n",
    "\n",
    "def select_gene(metric_df):\n",
    "    idx = irr_df[irr_df['node_id'].str.startswith('NCBIGENE:')].index\n",
    "    return metric_df[metric_df.index.isin(idx)]\n",
    "\n",
    "index=None\n",
    "for f in [*pp_files_d, *pp_files_p]:\n",
    "    nm = f.name.split('.')[0]\n",
    "    m_df = pd.read_csv(f, index_col=0)\n",
    "    m_df = attach_irr(m_df)\n",
    "    m_df = select_gene(m_df)\n",
    "    m_df.to_csv(metrics_dir / f'{nm}.csv')\n",
    "    \n",
    "\n",
    "nd_files = list(nd_dir.glob('*.csv'))\n",
    "for f in nd_files:\n",
    "    nm = f.name.split('.')[0]\n",
    "    m_df = attach_irr(pd.read_csv(f))\n",
    "    m_df = select_gene(m_df)\n",
    "    m_df.to_csv(metrics_dir / f'{nm}.csv')"
   ]
  },
  {
   "cell_type": "markdown",
   "id": "17154573-2027-46dc-8e82-9b1d81fc312f",
   "metadata": {
    "tags": []
   },
   "source": [
    "## Machine Learning"
   ]
  },
  {
   "cell_type": "code",
   "execution_count": null,
   "id": "bbf43fcd-4169-4777-883c-f78856326233",
   "metadata": {},
   "outputs": [],
   "source": [
    "import pickle\n",
    "from pathlib import Path\n",
    "import pandas as pd\n",
    "import numpy as np\n",
    "from sklearn.model_selection import train_test_split\n",
    "from imblearn.over_sampling import RandomOverSampler\n",
    "from sklearn.model_selection import GridSearchCV\n",
    "from sklearn.ensemble import RandomForestClassifier\n",
    "from sklearn.metrics import f1_score, recall_score, precision_score, confusion_matrix\n",
    "\n",
    "metrics_dir = Path('./3_outputs/metrics/')\n",
    "metrics_files = list(metrics_dir.glob('*.csv'))"
   ]
  },
  {
   "cell_type": "code",
   "execution_count": null,
   "id": "1ab84855-045d-4fae-a878-8c821d0323db",
   "metadata": {},
   "outputs": [],
   "source": [
    "metrics_file = metrics_files[0]\n",
    "\n",
    "sampling_strategy = 1.0\n",
    "m_df = pd.read_csv(metrics_file, index_col=0)\n",
    "y = m_df['irr'].values\n",
    "idcs = np.arange(len(y))\n",
    "\n",
    "idcs_train, idcs_val = train_test_split(idcs, stratify=y, test_size=0.25)\n",
    "\n",
    "sampler = RandomOverSampler(sampling_strategy=sampling_strategy)\n",
    "idcs_train_rs, y_rs = sampler.fit_resample(idcs_train.reshape(-1, 1), y[idcs_train])\n",
    "idcs_train_rs = idcs_train_rs.flatten()\n",
    "\n",
    "pd.DataFrame(dict(index_train=idcs_train_rs)).to_csv('3_outputs/indices_train_rs.csv', index=False)\n",
    "pd.DataFrame(dict(index_train=idcs_train)).to_csv('3_outputs/indices_train.csv', index=False)\n",
    "pd.DataFrame(dict(index_val=idcs_val)).to_csv('3_outputs/indices_val.csv', index=False)"
   ]
  },
  {
   "cell_type": "code",
   "execution_count": null,
   "id": "e3c5c4d7-fd10-4b77-9c85-2098d914cea4",
   "metadata": {},
   "outputs": [],
   "source": [
    "from sklearn.metrics import f1_score, recall_score, precision_score, confusion_matrix\n",
    "def calc_metrics(y_pred, y_true):\n",
    "    return {\n",
    "        \"f1\": f1_score(y_pred=y_pred, y_true=y_true),\n",
    "        \"recall\": recall_score(y_pred=y_pred, y_true=y_true),\n",
    "        \"precision\": precision_score(y_pred=y_pred, y_true=y_true, zero_division=0),\n",
    "        \"confusion_matrix\": confusion_matrix(y_pred=y_pred, y_true=y_true),\n",
    "    }\n",
    "\n",
    "def custom_scorer_builder(X_val, y_val):\n",
    "    def custom_scorer(clf, X, y):\n",
    "        y_val_pred = clf.predict(X_val)\n",
    "        metrics = calc_metrics(y_pred=y_val_pred, y_true=y_val)\n",
    "        cm = metrics[\"confusion_matrix\"]\n",
    "        metrics[\"TP\"] = cm[0, 0]\n",
    "        metrics[\"FP\"] = cm[0, 1]\n",
    "        metrics[\"FN\"] = cm[1, 0]\n",
    "        metrics[\"TN\"] = cm[1, 1]\n",
    "        del metrics[\"confusion_matrix\"]\n",
    "        return metrics\n",
    "\n",
    "    return custom_scorer\n",
    "\n",
    "def custom_scorer(clf, X, y):\n",
    "    y_pred = clf.predict(X)\n",
    "    metrics = calc_metrics(y_pred=y_pred, y_true=y)\n",
    "    cm = metrics[\"confusion_matrix\"]\n",
    "    metrics[\"TP\"] = cm[0, 0]\n",
    "    metrics[\"FP\"] = cm[0, 1]\n",
    "    metrics[\"FN\"] = cm[1, 0]\n",
    "    metrics[\"TN\"] = cm[1, 1]\n",
    "    del metrics[\"confusion_matrix\"]\n",
    "    return metrics\n",
    "\n",
    "def custom_scorer_builder2(X_val, y_val):\n",
    "    return custom_scorer\n",
    "\n",
    "def fit_model(\n",
    "    m_df,\n",
    "    idcs_train,\n",
    "    idcs_val,\n",
    "    x_col_idcs,\n",
    "    y_col_idx,\n",
    "    model,\n",
    "    parameters,\n",
    "    scoring_builder=custom_scorer_builder,\n",
    "    refit='f1',\n",
    "    cv=5,\n",
    "    **kwargs\n",
    "):\n",
    "    n_col=m_df.shape[1]\n",
    "    X_train = m_df.iloc[idcs_train, x_col_idcs].values\n",
    "    y_train = m_df.iloc[idcs_train, y_col_idx]\n",
    "    X_val = m_df.iloc[idcs_val, x_col_idcs].values\n",
    "    y_val = m_df.iloc[idcs_val, y_col_idx]\n",
    "    \n",
    "    scoring = scoring_builder(X_val, y_val)\n",
    "    \n",
    "    clf = GridSearchCV(model, parameters, scoring=scoring, refit=refit, cv=cv, **kwargs)\n",
    "    clf.fit(X=X_train, y=y_train)\n",
    "    return clf"
   ]
  },
  {
   "cell_type": "code",
   "execution_count": null,
   "id": "82df2971-f576-49f1-9ab1-e489b8d74635",
   "metadata": {},
   "outputs": [],
   "source": [
    "from sklearn.manifold import TSNE\n",
    "\n",
    "tsne = TSNE(n_components=2)\n",
    "X_tf = tsne.fit_transform(m_df.iloc[:, :-1].values)"
   ]
  },
  {
   "cell_type": "code",
   "execution_count": null,
   "id": "09945b54-08ed-4c8e-8b62-f2d755ce7d97",
   "metadata": {},
   "outputs": [],
   "source": [
    "idcs = np.argsort(m_df['irr'])"
   ]
  },
  {
   "cell_type": "code",
   "execution_count": null,
   "id": "314b9c93-f7e4-4138-b0d6-2ade647be871",
   "metadata": {},
   "outputs": [],
   "source": [
    "m_df['irr'].sum()"
   ]
  },
  {
   "cell_type": "code",
   "execution_count": null,
   "id": "d6d808d5-371f-4917-bbf5-59fb9499700b",
   "metadata": {},
   "outputs": [],
   "source": [
    "import seaborn as sns\n",
    "sns.scatterplot(x=X_tf[idcs, 0], y=X_tf[idcs, 1], hue = m_df.iloc[idcs]['irr'], alpha=0.5)"
   ]
  },
  {
   "cell_type": "code",
   "execution_count": null,
   "id": "f6134b62-2c71-4dec-bb06-0d40120f60f1",
   "metadata": {},
   "outputs": [],
   "source": [
    "classifiers_dir = Path('./3_outputs/classifiers/')\n",
    "classifiers_dir.mkdir(exist_ok=True, parents=True)\n",
    "\n",
    "def get_x_col_idcs(m_df):\n",
    "    return np.where(~m_df.columns.isin(['irr', 'irr2']))[0]\n",
    "\n",
    "def get_y_col_idx(m_df, col_name='irr'):\n",
    "    return np.where(m_df.columns == col_name)[0][0]\n",
    "\n",
    "def train_predictor(metrics_file):\n",
    "    m_df = pd.read_csv(metrics_file, index_col=0)\n",
    "    m = RandomForestClassifier()\n",
    "    parameters = dict(\n",
    "        n_estimators=[100, 250, 500],\n",
    "        max_depth=[None, 2, 5, 10],\n",
    "        min_samples_leaf=[1, 32, 128, 256],\n",
    "        max_features=['sqrt', 1, 2, 4, 8,]\n",
    "    )\n",
    "\n",
    "    x_col_idcs=get_x_col_idcs(m_df)\n",
    "    y_col_idx=get_y_col_idx(m_df, 'irr')\n",
    "\n",
    "    clf = fit_model(\n",
    "        m_df=m_df,\n",
    "        idcs_train=idcs_train_rs,\n",
    "        idcs_val=idcs_val,\n",
    "        x_col_idcs=x_col_idcs,\n",
    "        y_col_idx=y_col_idx,\n",
    "        model=m,\n",
    "        parameters=parameters,\n",
    "        scoring_builder=custom_scorer_builder2,\n",
    "        refit='f1',\n",
    "        cv=5,\n",
    "        n_jobs=20,\n",
    "    )\n",
    "\n",
    "    nm = metrics_file.name.split('.')[0]\n",
    "    with open(classifiers_dir / f'{nm}.pkl', 'wb') as f:\n",
    "        pickle.dump(clf, f)\n",
    "    return clf"
   ]
  },
  {
   "cell_type": "code",
   "execution_count": null,
   "id": "6eca08d1-5793-4f80-91e1-40616036cedc",
   "metadata": {},
   "outputs": [],
   "source": [
    "from tqdm import tqdm\n",
    "\n",
    "for metrics_file in tqdm(metrics_files):\n",
    "    train_predictor(metrics_file)"
   ]
  },
  {
   "cell_type": "code",
   "execution_count": 12,
   "id": "6564e251-ba0c-4caa-beec-a570a1ab9baa",
   "metadata": {},
   "outputs": [
    {
     "name": "stdout",
     "output_type": "stream",
     "text": [
      "(19598, 468)\n",
      "(19598, 1462)\n",
      "(19598, 468)\n",
      "(19598, 1462)\n",
      "(19598, 1462)\n",
      "(19598, 468)\n",
      "(19598, 3)\n",
      "(19598, 1462)\n",
      "(19598, 468)\n",
      "(19598, 3)\n",
      "(19598, 3)\n",
      "(19598, 468)\n",
      "(19598, 1462)\n",
      "(19598, 1462)\n",
      "(19598, 3)\n",
      "(19598, 468)\n",
      "(19598, 3)\n",
      "(19598, 3)\n",
      "(19598, 3)\n",
      "(19598, 468)\n",
      "(19598, 3)\n",
      "(19598, 1462)\n",
      "(19598, 3)\n",
      "(19598, 468)\n",
      "(19598, 1462)\n"
     ]
    }
   ],
   "source": [
    "import pickle\n",
    "\n",
    "idcs_train_rs = pd.read_csv('3_outputs/indices_train_rs.csv').iloc[:,0].values\n",
    "idcs_val = pd.read_csv('3_outputs/indices_val.csv').iloc[:,0].values\n",
    "\n",
    "probas = {}\n",
    "val_results = {}\n",
    "index = None\n",
    "\n",
    "for metrics_file in metrics_files:\n",
    "    nm = metrics_file.name.split('.')[0]\n",
    "\n",
    "    with open(f'./3_outputs/classifiers/{nm}.pkl', 'rb') as f:\n",
    "        clf = pickle.load(f)\n",
    "    \n",
    "    m_df = pd.read_csv(f'./3_outputs/metrics/{nm}.csv', index_col=0)\n",
    "    index=m_df.index\n",
    "    print(m_df.shape)\n",
    "    \n",
    "    x_col_idcs=get_x_col_idcs(m_df)\n",
    "    y_col_idx=get_y_col_idx(m_df, 'irr')\n",
    "    \n",
    "    X_val = m_df.iloc[idcs_val,x_col_idcs].values\n",
    "    y_val = m_df.iloc[idcs_val,y_col_idx].values\n",
    "    X = m_df.iloc[:,x_col_idcs].values\n",
    "    y = m_df.iloc[:,y_col_idx].values\n",
    "\n",
    "    probas[nm] = clf.predict_proba(X)[:, 1]\n",
    "    \n",
    "    y_val_pred = clf.predict(X_val)\n",
    "    val_results[nm] = calc_metrics(y_true=y_val, y_pred=y_val_pred)\n",
    "    \n",
    "proba_df = pd.DataFrame(probas, index=index)\n",
    "proba_df['irr'] = m_df['irr']\n",
    "proba_df['irr2'] = m_df['irr2']\n",
    "proba_df.to_csv('3_outputs/probabilities.csv')"
   ]
  },
  {
   "cell_type": "code",
   "execution_count": 1,
   "id": "c072ff04-bceb-4d76-a153-356355dfd26b",
   "metadata": {},
   "outputs": [
    {
     "name": "stderr",
     "output_type": "stream",
     "text": [
      "/nfs_home/users/thzo/.conda/envs/giannt/lib/python3.10/site-packages/sklearn/linear_model/_sag.py:350: ConvergenceWarning: The max_iter was reached which means the coef_ did not converge\n",
      "  warnings.warn(\n"
     ]
    },
    {
     "data": {
      "text/plain": [
       "array([[1.05071119, 0.        , 1.08046135, 1.05122052, 1.03630478,\n",
       "        0.        , 0.        , 0.98026317, 1.13415285, 0.90853858,\n",
       "        0.        , 1.0814191 , 0.98091423, 1.03077432, 0.96219587,\n",
       "        1.12779692, 0.49035091, 0.        , 0.        , 1.12635147,\n",
       "        0.        , 0.98534424, 0.60248069, 1.1397293 , 1.05075471]])"
      ]
     },
     "execution_count": 1,
     "metadata": {},
     "output_type": "execute_result"
    }
   ],
   "source": [
    "from sklearn.linear_model import LogisticRegression, LogisticRegressionCV\n",
    "from sklearn.metrics import f1_score, recall_score, precision_score, confusion_matrix\n",
    "\n",
    "import pandas as pd\n",
    "import numpy as np\n",
    "\n",
    "def get_x_col_idcs(m_df):\n",
    "    return np.where(~m_df.columns.isin(['irr', 'irr2']))[0]\n",
    "\n",
    "def get_y_col_idx(m_df, col_name='irr'):\n",
    "    return np.where(m_df.columns == col_name)[0][0]\n",
    "\n",
    "def calc_metrics(y_pred, y_true):\n",
    "    return {\n",
    "        \"f1\": f1_score(y_pred=y_pred, y_true=y_true),\n",
    "        \"recall\": recall_score(y_pred=y_pred, y_true=y_true),\n",
    "        \"precision\": precision_score(y_pred=y_pred, y_true=y_true, zero_division=0),\n",
    "        \"confusion_matrix\": confusion_matrix(y_pred=y_pred, y_true=y_true),\n",
    "    }\n",
    "\n",
    "\n",
    "proba_df = pd.read_csv('3_outputs/probabilities.csv', index_col=0)\n",
    "index=proba_df.index\n",
    "\n",
    "x_col_idcs=get_x_col_idcs(proba_df)\n",
    "y_col_idx=get_y_col_idx(proba_df, 'irr')\n",
    "\n",
    "X = proba_df.iloc[:,x_col_idcs].values\n",
    "y = proba_df.iloc[:,y_col_idx].values\n",
    "\n",
    "idcs_train_rs = pd.read_csv('3_outputs/indices_train_rs.csv').iloc[:, 0]\n",
    "idcs_train = pd.read_csv('3_outputs/indices_train.csv').iloc[:, 0]\n",
    "idcs_val = pd.read_csv('3_outputs/indices_val.csv').iloc[:, 0]\n",
    "index_val = index[idcs_val]\n",
    "\n",
    "X_train_rs = X[idcs_train_rs, :]\n",
    "y_train_rs = y[idcs_train_rs]\n",
    "X_val = X[idcs_val, :]\n",
    "y_val = y[idcs_val]\n",
    "\n",
    "\n",
    "lr = LogisticRegression(penalty='elasticnet', solver='saga', l1_ratio=(1), max_iter=1000, C=0.5)\n",
    "# lr = LogisticRegression(max_iter=1000)\n",
    "lr.fit(X_train_rs, y_train_rs)\n",
    "lr.coef_"
   ]
  },
  {
   "cell_type": "code",
   "execution_count": 2,
   "id": "a476d3f1-2851-4686-967f-abaea1e8f00c",
   "metadata": {},
   "outputs": [
    {
     "data": {
      "image/png": "[encoded data removed]",
      "text/plain": [
       "<Figure size 640x480 with 1 Axes>"
      ]
     },
     "metadata": {},
     "output_type": "display_data"
    }
   ],
   "source": [
    "import seaborn as sns\n",
    "plot_df = pd.DataFrame({'feature': proba_df.columns[x_col_idcs].values, 'coefficient': lr.coef_[0]})\n",
    "plot_df['coefficient_abs'] = plot_df['coefficient'].abs()\n",
    "\n",
    "plot = sns.barplot(plot_df.sort_values('coefficient_abs'), x='feature', y='coefficient')\n",
    "_ = plot.set_xticklabels(labels=plot.get_xticklabels(), rotation=90, )"
   ]
  },
  {
   "cell_type": "code",
   "execution_count": 3,
   "id": "21905b0a-ea53-43a6-99f4-7a52d5856908",
   "metadata": {},
   "outputs": [
    {
     "data": {
      "text/plain": [
       "{'f1': 0.0,\n",
       " 'recall': 0.0,\n",
       " 'precision': 0.0,\n",
       " 'confusion_matrix': array([[4886,    0],\n",
       "        [  14,    0]])}"
      ]
     },
     "execution_count": 3,
     "metadata": {},
     "output_type": "execute_result"
    }
   ],
   "source": [
    "y_val_pred = lr.predict(X_val)\n",
    "\n",
    "calc_metrics(y_pred=y_val_pred, y_true=y_val)"
   ]
  },
  {
   "cell_type": "code",
   "execution_count": 4,
   "id": "36fcd6f4-b635-4d64-b543-ce1c66559956",
   "metadata": {},
   "outputs": [
    {
     "data": {
      "text/plain": [
       "(418, 420)"
      ]
     },
     "execution_count": 4,
     "metadata": {},
     "output_type": "execute_result"
    }
   ],
   "source": [
    "((~proba_df['irr']) & proba_df['irr2']).sum(), proba_df['irr2'].sum()"
   ]
  },
  {
   "cell_type": "code",
   "execution_count": 5,
   "id": "026c0418-9152-4554-8e15-7238e3975493",
   "metadata": {},
   "outputs": [],
   "source": [
    "test_idcs = (((~proba_df['irr']) & proba_df['irr2']) | ((~proba_df['irr']) & (~proba_df['irr2'])))\n",
    "test_idcs = np.argwhere(test_idcs.values)[:,0]\n",
    "\n",
    "x_col_idcs = get_x_col_idcs(proba_df)\n",
    "y_col_idx = get_y_col_idx(proba_df, col_name='irr2')\n",
    "\n",
    "X_test = proba_df.iloc[test_idcs,x_col_idcs].values\n",
    "y_test = proba_df.iloc[test_idcs,y_col_idx].values\n",
    "test_index = proba_df.index[test_idcs]"
   ]
  },
  {
   "cell_type": "code",
   "execution_count": 6,
   "id": "dbf56478-2070-4f20-90c5-da342794bdf5",
   "metadata": {},
   "outputs": [],
   "source": [
    "y_test_prob = lr.predict_proba(X_test)"
   ]
  },
  {
   "cell_type": "code",
   "execution_count": 7,
   "id": "5d688b14-fea8-4733-a1b5-e9215a6a2923",
   "metadata": {},
   "outputs": [],
   "source": [
    "tmp_df = pd.DataFrame(y_test_prob, index=test_index)\n",
    "tmp_df['irr2'] = y_test\n",
    "tmp_df_sorted = tmp_df.sort_values(0, ascending=True)"
   ]
  },
  {
   "cell_type": "code",
   "execution_count": 8,
   "id": "187bd34e-c1ea-4cb8-b5f2-5f96c2b83559",
   "metadata": {},
   "outputs": [
    {
     "data": {
      "text/html": [
       "<div>\n",
       "<style scoped>\n",
       "    .dataframe tbody tr th:only-of-type {\n",
       "        vertical-align: middle;\n",
       "    }\n",
       "\n",
       "    .dataframe tbody tr th {\n",
       "        vertical-align: top;\n",
       "    }\n",
       "\n",
       "    .dataframe thead th {\n",
       "        text-align: right;\n",
       "    }\n",
       "</style>\n",
       "<table border=\"1\" class=\"dataframe\">\n",
       "  <thead>\n",
       "    <tr style=\"text-align: right;\">\n",
       "      <th></th>\n",
       "      <th>0</th>\n",
       "      <th>1</th>\n",
       "      <th>irr2</th>\n",
       "    </tr>\n",
       "  </thead>\n",
       "  <tbody>\n",
       "    <tr>\n",
       "      <th>103179</th>\n",
       "      <td>0.998134</td>\n",
       "      <td>0.001866</td>\n",
       "      <td>False</td>\n",
       "    </tr>\n",
       "    <tr>\n",
       "      <th>110830</th>\n",
       "      <td>0.998590</td>\n",
       "      <td>0.001410</td>\n",
       "      <td>False</td>\n",
       "    </tr>\n",
       "    <tr>\n",
       "      <th>113836</th>\n",
       "      <td>0.999083</td>\n",
       "      <td>0.000917</td>\n",
       "      <td>False</td>\n",
       "    </tr>\n",
       "    <tr>\n",
       "      <th>109545</th>\n",
       "      <td>0.999121</td>\n",
       "      <td>0.000879</td>\n",
       "      <td>False</td>\n",
       "    </tr>\n",
       "    <tr>\n",
       "      <th>113813</th>\n",
       "      <td>0.999221</td>\n",
       "      <td>0.000779</td>\n",
       "      <td>False</td>\n",
       "    </tr>\n",
       "    <tr>\n",
       "      <th>...</th>\n",
       "      <td>...</td>\n",
       "      <td>...</td>\n",
       "      <td>...</td>\n",
       "    </tr>\n",
       "    <tr>\n",
       "      <th>107075</th>\n",
       "      <td>0.999866</td>\n",
       "      <td>0.000134</td>\n",
       "      <td>True</td>\n",
       "    </tr>\n",
       "    <tr>\n",
       "      <th>107071</th>\n",
       "      <td>0.999866</td>\n",
       "      <td>0.000134</td>\n",
       "      <td>False</td>\n",
       "    </tr>\n",
       "    <tr>\n",
       "      <th>107070</th>\n",
       "      <td>0.999866</td>\n",
       "      <td>0.000134</td>\n",
       "      <td>False</td>\n",
       "    </tr>\n",
       "    <tr>\n",
       "      <th>107068</th>\n",
       "      <td>0.999866</td>\n",
       "      <td>0.000134</td>\n",
       "      <td>False</td>\n",
       "    </tr>\n",
       "    <tr>\n",
       "      <th>103175</th>\n",
       "      <td>0.999866</td>\n",
       "      <td>0.000134</td>\n",
       "      <td>True</td>\n",
       "    </tr>\n",
       "  </tbody>\n",
       "</table>\n",
       "<p>19543 rows × 3 columns</p>\n",
       "</div>"
      ],
      "text/plain": [
       "               0         1   irr2\n",
       "103179  0.998134  0.001866  False\n",
       "110830  0.998590  0.001410  False\n",
       "113836  0.999083  0.000917  False\n",
       "109545  0.999121  0.000879  False\n",
       "113813  0.999221  0.000779  False\n",
       "...          ...       ...    ...\n",
       "107075  0.999866  0.000134   True\n",
       "107071  0.999866  0.000134  False\n",
       "107070  0.999866  0.000134  False\n",
       "107068  0.999866  0.000134  False\n",
       "103175  0.999866  0.000134   True\n",
       "\n",
       "[19543 rows x 3 columns]"
      ]
     },
     "execution_count": 8,
     "metadata": {},
     "output_type": "execute_result"
    }
   ],
   "source": [
    "tmp_df_sorted"
   ]
  },
  {
   "cell_type": "code",
   "execution_count": 9,
   "id": "e3724629-2f10-45f0-ac55-2a4e286cd424",
   "metadata": {},
   "outputs": [
    {
     "data": {
      "text/plain": [
       "0.05"
      ]
     },
     "execution_count": 9,
     "metadata": {},
     "output_type": "execute_result"
    }
   ],
   "source": [
    "n_top = 100\n",
    "\n",
    "tmp_df_sorted.iloc[:n_top]['irr2'].sum() / n_top"
   ]
  },
  {
   "cell_type": "code",
   "execution_count": 14,
   "id": "53dc4e14-2541-4d46-a10b-25e049c0898f",
   "metadata": {},
   "outputs": [
    {
     "data": {
      "text/plain": [
       "0.0"
      ]
     },
     "execution_count": 14,
     "metadata": {},
     "output_type": "execute_result"
    }
   ],
   "source": [
    "n_top = 10\n",
    "\n",
    "tmp_df_sorted.iloc[:n_top]['irr2'].sum() / n_top"
   ]
  },
  {
   "cell_type": "code",
   "execution_count": 10,
   "id": "b3f34acc-8cf2-4bc1-b800-5c6aed571653",
   "metadata": {},
   "outputs": [],
   "source": [
    "y_prob = lr.predict_proba(X)"
   ]
  },
  {
   "cell_type": "code",
   "execution_count": 11,
   "id": "7cdc9e65-aa81-47fd-a1df-5a280f096e6d",
   "metadata": {},
   "outputs": [],
   "source": [
    "y_prob_df = pd.DataFrame(y_prob, index=proba_df.index)\n",
    "y_prob_df.to_csv('3_outputs/y_prob_stacked.csv')"
   ]
  },
  {
   "cell_type": "code",
   "execution_count": 12,
   "id": "b7d2e703-392d-40c0-9f33-208aaeb0076f",
   "metadata": {},
   "outputs": [
    {
     "data": {
      "text/html": [
       "<div>\n",
       "<style scoped>\n",
       "    .dataframe tbody tr th:only-of-type {\n",
       "        vertical-align: middle;\n",
       "    }\n",
       "\n",
       "    .dataframe tbody tr th {\n",
       "        vertical-align: top;\n",
       "    }\n",
       "\n",
       "    .dataframe thead th {\n",
       "        text-align: right;\n",
       "    }\n",
       "</style>\n",
       "<table border=\"1\" class=\"dataframe\">\n",
       "  <thead>\n",
       "    <tr style=\"text-align: right;\">\n",
       "      <th></th>\n",
       "      <th>0</th>\n",
       "      <th>1</th>\n",
       "    </tr>\n",
       "  </thead>\n",
       "  <tbody>\n",
       "    <tr>\n",
       "      <th>103175</th>\n",
       "      <td>0.999866</td>\n",
       "      <td>0.000134</td>\n",
       "    </tr>\n",
       "    <tr>\n",
       "      <th>103176</th>\n",
       "      <td>0.999863</td>\n",
       "      <td>0.000137</td>\n",
       "    </tr>\n",
       "    <tr>\n",
       "      <th>103177</th>\n",
       "      <td>0.999857</td>\n",
       "      <td>0.000143</td>\n",
       "    </tr>\n",
       "    <tr>\n",
       "      <th>103178</th>\n",
       "      <td>0.999856</td>\n",
       "      <td>0.000144</td>\n",
       "    </tr>\n",
       "    <tr>\n",
       "      <th>103179</th>\n",
       "      <td>0.998134</td>\n",
       "      <td>0.001866</td>\n",
       "    </tr>\n",
       "    <tr>\n",
       "      <th>...</th>\n",
       "      <td>...</td>\n",
       "      <td>...</td>\n",
       "    </tr>\n",
       "    <tr>\n",
       "      <th>122768</th>\n",
       "      <td>0.999866</td>\n",
       "      <td>0.000134</td>\n",
       "    </tr>\n",
       "    <tr>\n",
       "      <th>122769</th>\n",
       "      <td>0.999863</td>\n",
       "      <td>0.000137</td>\n",
       "    </tr>\n",
       "    <tr>\n",
       "      <th>122770</th>\n",
       "      <td>0.999864</td>\n",
       "      <td>0.000136</td>\n",
       "    </tr>\n",
       "    <tr>\n",
       "      <th>122771</th>\n",
       "      <td>0.999866</td>\n",
       "      <td>0.000134</td>\n",
       "    </tr>\n",
       "    <tr>\n",
       "      <th>122772</th>\n",
       "      <td>0.999860</td>\n",
       "      <td>0.000140</td>\n",
       "    </tr>\n",
       "  </tbody>\n",
       "</table>\n",
       "<p>19598 rows × 2 columns</p>\n",
       "</div>"
      ],
      "text/plain": [
       "               0         1\n",
       "103175  0.999866  0.000134\n",
       "103176  0.999863  0.000137\n",
       "103177  0.999857  0.000143\n",
       "103178  0.999856  0.000144\n",
       "103179  0.998134  0.001866\n",
       "...          ...       ...\n",
       "122768  0.999866  0.000134\n",
       "122769  0.999863  0.000137\n",
       "122770  0.999864  0.000136\n",
       "122771  0.999866  0.000134\n",
       "122772  0.999860  0.000140\n",
       "\n",
       "[19598 rows x 2 columns]"
      ]
     },
     "execution_count": 12,
     "metadata": {},
     "output_type": "execute_result"
    }
   ],
   "source": [
    "y_prob_df"
   ]
  },
  {
   "cell_type": "code",
   "execution_count": 13,
   "id": "e6207488-0b95-4de1-80de-8344d7dfb84b",
   "metadata": {},
   "outputs": [
    {
     "data": {
      "text/html": [
       "<div>\n",
       "<style scoped>\n",
       "    .dataframe tbody tr th:only-of-type {\n",
       "        vertical-align: middle;\n",
       "    }\n",
       "\n",
       "    .dataframe tbody tr th {\n",
       "        vertical-align: top;\n",
       "    }\n",
       "\n",
       "    .dataframe thead th {\n",
       "        text-align: right;\n",
       "    }\n",
       "</style>\n",
       "<table border=\"1\" class=\"dataframe\">\n",
       "  <thead>\n",
       "    <tr style=\"text-align: right;\">\n",
       "      <th></th>\n",
       "      <th>0</th>\n",
       "      <th>1</th>\n",
       "      <th>node_id</th>\n",
       "      <th>node_type</th>\n",
       "    </tr>\n",
       "  </thead>\n",
       "  <tbody>\n",
       "    <tr>\n",
       "      <th>114276</th>\n",
       "      <td>0.000137</td>\n",
       "      <td>0.999863</td>\n",
       "      <td>NCBIGENE:5167</td>\n",
       "      <td>GENE</td>\n",
       "    </tr>\n",
       "    <tr>\n",
       "      <th>112445</th>\n",
       "      <td>0.000137</td>\n",
       "      <td>0.999863</td>\n",
       "      <td>NCBIGENE:4000</td>\n",
       "      <td>GENE</td>\n",
       "    </tr>\n",
       "    <tr>\n",
       "      <th>112414</th>\n",
       "      <td>0.000137</td>\n",
       "      <td>0.999863</td>\n",
       "      <td>NCBIGENE:3991</td>\n",
       "      <td>GENE</td>\n",
       "    </tr>\n",
       "    <tr>\n",
       "      <th>108685</th>\n",
       "      <td>0.000137</td>\n",
       "      <td>0.999863</td>\n",
       "      <td>NCBIGENE:2353</td>\n",
       "      <td>GENE</td>\n",
       "    </tr>\n",
       "    <tr>\n",
       "      <th>106827</th>\n",
       "      <td>0.000137</td>\n",
       "      <td>0.999863</td>\n",
       "      <td>NCBIGENE:1588</td>\n",
       "      <td>GENE</td>\n",
       "    </tr>\n",
       "    <tr>\n",
       "      <th>...</th>\n",
       "      <td>...</td>\n",
       "      <td>...</td>\n",
       "      <td>...</td>\n",
       "      <td>...</td>\n",
       "    </tr>\n",
       "    <tr>\n",
       "      <th>107400</th>\n",
       "      <td>0.999866</td>\n",
       "      <td>0.000134</td>\n",
       "      <td>NCBIGENE:196500</td>\n",
       "      <td>GENE</td>\n",
       "    </tr>\n",
       "    <tr>\n",
       "      <th>107399</th>\n",
       "      <td>0.999866</td>\n",
       "      <td>0.000134</td>\n",
       "      <td>NCBIGENE:1965</td>\n",
       "      <td>GENE</td>\n",
       "    </tr>\n",
       "    <tr>\n",
       "      <th>114702</th>\n",
       "      <td>0.999866</td>\n",
       "      <td>0.000134</td>\n",
       "      <td>NCBIGENE:54491</td>\n",
       "      <td>GENE</td>\n",
       "    </tr>\n",
       "    <tr>\n",
       "      <th>114704</th>\n",
       "      <td>0.999866</td>\n",
       "      <td>0.000134</td>\n",
       "      <td>NCBIGENE:54494</td>\n",
       "      <td>GENE</td>\n",
       "    </tr>\n",
       "    <tr>\n",
       "      <th>103175</th>\n",
       "      <td>0.999866</td>\n",
       "      <td>0.000134</td>\n",
       "      <td>NCBIGENE:1</td>\n",
       "      <td>GENE</td>\n",
       "    </tr>\n",
       "  </tbody>\n",
       "</table>\n",
       "<p>19598 rows × 4 columns</p>\n",
       "</div>"
      ],
      "text/plain": [
       "               0         1          node_id node_type\n",
       "114276  0.000137  0.999863    NCBIGENE:5167      GENE\n",
       "112445  0.000137  0.999863    NCBIGENE:4000      GENE\n",
       "112414  0.000137  0.999863    NCBIGENE:3991      GENE\n",
       "108685  0.000137  0.999863    NCBIGENE:2353      GENE\n",
       "106827  0.000137  0.999863    NCBIGENE:1588      GENE\n",
       "...          ...       ...              ...       ...\n",
       "107400  0.999866  0.000134  NCBIGENE:196500      GENE\n",
       "107399  0.999866  0.000134    NCBIGENE:1965      GENE\n",
       "114702  0.999866  0.000134   NCBIGENE:54491      GENE\n",
       "114704  0.999866  0.000134   NCBIGENE:54494      GENE\n",
       "103175  0.999866  0.000134       NCBIGENE:1      GENE\n",
       "\n",
       "[19598 rows x 4 columns]"
      ]
     },
     "execution_count": 13,
     "metadata": {},
     "output_type": "execute_result"
    }
   ],
   "source": [
    "from anngel.datasets.openbiolink import OpenBioLinkDataset\n",
    "\n",
    "ds = OpenBioLinkDataset(\"./tmp/openbiolink/\")\n",
    "nodes_df = ds.get_nodes()\n",
    "\n",
    "y_prob_df.join(nodes_df, how='left').sort_values(0)"
   ]
  },
  {
   "cell_type": "code",
   "execution_count": null,
   "id": "83363cf1-a87d-43a2-85be-b525d2042fe2",
   "metadata": {},
   "outputs": [],
   "source": []
  }
 ],
 "metadata": {
  "kernelspec": {
   "display_name": "giannt",
   "language": "python",
   "name": "giannt"
  },
  "language_info": {
   "codemirror_mode": {
    "name": "ipython",
    "version": 3
   },
   "file_extension": ".py",
   "mimetype": "text/x-python",
   "name": "python",
   "nbconvert_exporter": "python",
   "pygments_lexer": "ipython3",
   "version": "3.10.10"
  }
 },
 "nbformat": 4,
 "nbformat_minor": 5
}
