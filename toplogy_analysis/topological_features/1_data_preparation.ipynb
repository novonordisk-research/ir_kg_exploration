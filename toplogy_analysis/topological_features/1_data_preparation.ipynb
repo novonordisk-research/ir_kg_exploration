{
 "cells": [
  {
   "cell_type": "code",
   "execution_count": 3,
   "id": "847b910e-5fdb-4fa4-a5cf-8c2206512097",
   "metadata": {},
   "outputs": [
    {
     "name": "stdout",
     "output_type": "stream",
     "text": [
      "Found 0 files in local directory \"tmp/s3_files\".\n"
     ]
    },
    {
     "name": "stderr",
     "output_type": "stream",
     "text": [
      "HQ_DIR.zip: 109MB [00:40, 2.67MB/s]                              \n",
      "100%|██████████| 27/27 [00:13<00:00,  1.97it/s]\n"
     ]
    },
    {
     "name": "stdout",
     "output_type": "stream",
     "text": [
      "No local copy of file \"full_node_info_train_val_test.csv\" available.\n",
      "Remote copy available. Trying to download...\n",
      "No local copy of file \"IR_related_diseases_DOID_533.tsv\" available.\n",
      "Remote copy available. Trying to download...\n",
      "No local copy of file \"IRrelatedPathways\" available.\n",
      "Remote copy available. Trying to download...\n",
      "No local copy of file \"openbiolink_df.parquet\" available.\n",
      "Remote copy available. Trying to download...\n"
     ]
    }
   ],
   "source": [
    "import pickle\n",
    "\n",
    "from anngel.datasets.openbiolink import OpenBioLinkDataset\n",
    "\n",
    "import pandas as pd\n",
    "import numpy as np\n",
    "\n",
    "from pathlib import Path\n",
    "\n",
    "out_dir = Path(\"tmp\")\n",
    "out_dir.mkdir(exist_ok=True)\n",
    "\n",
    "ds = OpenBioLinkDataset(out_dir / \"openbiolink\")\n",
    "graph = ds.to_networkx()\n",
    "with open(\"graph_obl_directed.pkl\", \"wb\") as f:\n",
    "    pickle.dump(graph, f)\n",
    "with open(\"graph_obl_undirected.pkl\", \"wb\") as f:\n",
    "    pickle.dump(graph.to_undirected(), f)\n",
    "del graph\n",
    "\n",
    "df = pd.read_csv(\"../../data/full_node_info_train_val_test.csv\", sep=\";\")\n",
    "df[\"irr_gene\"] = df[\"IR list\"] == \"IR_True\"\n",
    "df = (\n",
    "    ds.get_nodes()\n",
    "    .merge(\n",
    "        df[[\"Node ID\", \"irr_gene\"]], how=\"left\", left_on=\"node_id\", right_on=\"Node ID\"\n",
    "    )\n",
    "    .drop(columns=[\"Node ID\"])\n",
    ")\n",
    "\n",
    "irr_diseases_df = pd.read_csv(\n",
    "    \"../../data/IR_related_diseases_DOID_533.tsv\", sep=\"\\t\", header=None\n",
    ")\n",
    "irr_diseases_df.columns = [\"Disease\", \"URL\"]\n",
    "irr_diseases_df[\"node_id\"] = (\n",
    "    irr_diseases_df[\"URL\"].str.split(\"/\").apply(lambda r: r[-1].replace(\"_\", \":\"))\n",
    ")\n",
    "irr_diseases_df.to_csv(\"ir_related_diseases.csv\", index=False)\n",
    "df[\"irr_disease\"] = df[\"node_id\"].isin(irr_diseases_df[\"node_id\"])\n",
    "\n",
    "irr_pathways_df = pd.read_csv(\"../../data/IRrelatedPathways\", sep=\"\\t\")\n",
    "df[\"irr_pathway\"] = (\n",
    "    df[\"node_id\"]\n",
    "    .str.split(\":\")\n",
    "    .apply(lambda x: x[1])\n",
    "    .isin(irr_pathways_df[\"Pathway identifier\"])\n",
    ")\n",
    "df.to_parquet(\"openbiolink_df.parquet\", index=False)"
   ]
  },
  {
   "cell_type": "code",
   "execution_count": 4,
   "id": "db35e2de-3a50-4ab8-8939-327f814910d1",
   "metadata": {},
   "outputs": [],
   "source": [
    "irr_pathway_idcs = np.where(df[\"irr_pathway\"])[0]\n",
    "gene_idcs = np.where(df[\"node_type\"] == \"GENE\")[0]\n",
    "pairs_pathway = [(a, b) for a in gene_idcs for b in irr_pathway_idcs]\n",
    "with open(\"pairs_obl_pathway.pkl\", \"wb\") as f:\n",
    "    pickle.dump(pairs_pathway, f)\n",
    "\n",
    "sources = np.sort(np.unique(np.array(pairs_pathway)[:, 0]))\n",
    "targets = np.sort(np.unique(np.array(pairs_pathway)[:, 1]))\n",
    "input_pairs_pathway = [(g_idx, targets) for g_idx in sources]\n",
    "with open(\"input_pairs_obl_pathway.pkl\", \"wb\") as f:\n",
    "    pickle.dump(input_pairs_pathway, f)\n",
    "# input_pairs_pathway_dsf.upload()\n",
    "del pairs_pathway\n",
    "del input_pairs_pathway"
   ]
  },
  {
   "cell_type": "code",
   "execution_count": 5,
   "id": "ee01ea51-2be3-47d5-8312-b438d9e293a5",
   "metadata": {},
   "outputs": [],
   "source": [
    "gene_idcs = np.where(df[\"node_type\"] == \"GENE\")[0]\n",
    "irr_disease_idcs = np.where(df[\"irr_disease\"])[0]\n",
    "pairs_disease = [(a, b) for a in gene_idcs for b in irr_disease_idcs]\n",
    "with open(\"pairs_obl_disease.pkl\", \"wb\") as f:\n",
    "    pickle.dump(pairs_disease, f)\n",
    "\n",
    "sources = np.sort(np.unique(np.array(pairs_disease)[:, 0]))\n",
    "targets = np.sort(np.unique(np.array(pairs_disease)[:, 1]))\n",
    "input_pairs_disease = [(g_idx, targets) for g_idx in sources]\n",
    "\n",
    "with open(\"input_pairs_obl_disease.pkl\", \"wb\") as f:\n",
    "    pickle.dump(input_pairs_disease, f)\n",
    "\n",
    "del pairs_disease\n",
    "del input_pairs_disease"
   ]
  },
  {
   "cell_type": "code",
   "execution_count": 6,
   "id": "f16bf264-6e38-4d11-ae14-67a1cf6435b5",
   "metadata": {},
   "outputs": [],
   "source": [
    "ds.get_nodes().to_csv(\"nodes_obl.csv\", index=False)"
   ]
  }
 ],
 "metadata": {
  "kernelspec": {
   "display_name": "Python 3",
   "language": "python",
   "name": "python3"
  },
  "language_info": {
   "codemirror_mode": {
    "name": "ipython",
    "version": 3
   },
   "file_extension": ".py",
   "mimetype": "text/x-python",
   "name": "python",
   "nbconvert_exporter": "python",
   "pygments_lexer": "ipython3",
   "version": "3.11.6"
  }
 },
 "nbformat": 4,
 "nbformat_minor": 5
}
