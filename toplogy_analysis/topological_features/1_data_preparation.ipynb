{
 "cells": [
  {
   "cell_type": "code",
   "execution_count": 3,
   "id": "847b910e-5fdb-4fa4-a5cf-8c2206512097",
   "metadata": {},
   "outputs": [
    {
     "name": "stdout",
     "output_type": "stream",
     "text": [
      "Found 0 files in local directory \"tmp/s3_files\".\n"
     ]
    },
    {
     "name": "stderr",
     "output_type": "stream",
     "text": [
      "HQ_DIR.zip: 109MB [00:40, 2.67MB/s]                              \n",
      "100%|██████████| 27/27 [00:13<00:00,  1.97it/s]\n"
     ]
    },
    {
     "name": "stdout",
     "output_type": "stream",
     "text": [
      "No local copy of file \"full_node_info_train_val_test.csv\" available.\n",
      "Remote copy available. Trying to download...\n",
      "No local copy of file \"IR_related_diseases_DOID_533.tsv\" available.\n",
      "Remote copy available. Trying to download...\n",
      "No local copy of file \"IRrelatedPathways\" available.\n",
      "Remote copy available. Trying to download...\n",
      "No local copy of file \"openbiolink_df.parquet\" available.\n",
      "Remote copy available. Trying to download...\n"
     ]
    }
   ],
   "source": [
    "import pickle\n",
    "\n",
    "from anngel.datalib.s3datastore import S3DataStore\n",
    "from anngel.datasets.openbiolink import OpenBioLinkDataset\n",
    "\n",
    "import pandas as pd\n",
    "import numpy as np\n",
    "\n",
    "from pathlib import Path\n",
    "\n",
    "out_dir = Path('tmp')\n",
    "out_dir.mkdir(exist_ok=True)\n",
    "\n",
    "data_store = S3DataStore(\n",
    "    aws_access_key_id=None,\n",
    "    aws_secret_access_key=None,\n",
    "    aws_session_token=None,\n",
    "    bucket_name=\"nnedl-core-prd-eu-central-1-curated\",\n",
    "    prefix=\"compbiosandbox/Projects/NNRCO_KG/Sprint_3_3_IR_Paper/\",\n",
    "    local_directory=out_dir / \"s3_files\",\n",
    ")\n",
    "\n",
    "ds = OpenBioLinkDataset(out_dir / \"openbiolink\")\n",
    "graph = ds.to_networkx()\n",
    "graph_directed_dsf = data_store.get_file(\n",
    "    \"graph_obl_directed.pkl\", new_if_not_exist=True\n",
    ")\n",
    "with open(graph_directed_dsf.local_path, \"wb\") as f:\n",
    "    pickle.dump(graph, f)\n",
    "# graph_directed_dsf.upload()\n",
    "graph_undirected_dsf = data_store.get_file(\n",
    "    \"graph_obl_undirected.pkl\", new_if_not_exist=True\n",
    ")\n",
    "with open(graph_undirected_dsf.local_path, \"wb\") as f:\n",
    "    pickle.dump(graph.to_undirected(), f)\n",
    "# graph_undirected_dsf.upload()\n",
    "del graph\n",
    "\n",
    "train_test_dsf = data_store.get_file(\"full_node_info_train_val_test.csv\")\n",
    "df = pd.read_csv(train_test_dsf.local_path, sep=\";\")\n",
    "df[\"irr_gene\"] = df[\"IR list\"] == \"IR_True\"\n",
    "df = (\n",
    "    ds.get_nodes()\n",
    "    .merge(\n",
    "        df[[\"Node ID\", \"irr_gene\"]], how=\"left\", left_on=\"node_id\", right_on=\"Node ID\"\n",
    "    )\n",
    "    .drop(columns=[\"Node ID\"])\n",
    ")\n",
    "\n",
    "irr_diseases_dsf = data_store.get_file(\"IR_related_diseases_DOID_533.tsv\")\n",
    "irr_diseases_df = pd.read_csv(irr_diseases_dsf.local_path, sep=\"\\t\", header=None)\n",
    "irr_diseases_df.columns = [\"Disease\", \"URL\"]\n",
    "irr_diseases_df[\"node_id\"] = (\n",
    "    irr_diseases_df[\"URL\"].str.split(\"/\").apply(lambda r: r[-1].replace(\"_\", \":\"))\n",
    ")\n",
    "irr_diseases_out_dsf = data_store.get_file(\n",
    "    \"ir_related_diseases.csv\", new_if_not_exist=True\n",
    ")\n",
    "irr_diseases_df.to_csv(irr_diseases_out_dsf.local_path, index=False)\n",
    "# irr_diseases_out_dsf.upload()\n",
    "df[\"irr_disease\"] = df[\"node_id\"].isin(irr_diseases_df[\"node_id\"])\n",
    "\n",
    "irr_pathways_dsf = data_store.get_file(\"IRrelatedPathways\")\n",
    "irr_pathways_df = pd.read_csv(irr_pathways_dsf.local_path, sep=\"\\t\")\n",
    "df[\"irr_pathway\"] = (\n",
    "    df[\"node_id\"]\n",
    "    .str.split(\":\")\n",
    "    .apply(lambda x: x[1])\n",
    "    .isin(irr_pathways_df[\"Pathway identifier\"])\n",
    ")\n",
    "obl_df_dfs = data_store.get_file(\"openbiolink_df.parquet\", new_if_not_exist=True)\n",
    "df.to_parquet(obl_df_dfs.local_path, index=False)\n",
    "# obl_df_dfs.upload()"
   ]
  },
  {
   "cell_type": "code",
   "execution_count": 4,
   "id": "db35e2de-3a50-4ab8-8939-327f814910d1",
   "metadata": {},
   "outputs": [],
   "source": [
    "irr_pathway_idcs = np.where(df[\"irr_pathway\"])[0]\n",
    "gene_idcs = np.where(df[\"node_type\"] == \"GENE\")[0]\n",
    "pairs_pathway = [(a, b) for a in gene_idcs for b in irr_pathway_idcs]\n",
    "pairs_pathway_dsf = data_store.get_file(\"pairs_obl_pathway.pkl\", new_if_not_exist=True)\n",
    "with open(pairs_pathway_dsf.local_path, \"wb\") as f:\n",
    "    pickle.dump(pairs_pathway, f)\n",
    "# pairs_pathway_dsf.upload()\n",
    "\n",
    "sources = np.sort(np.unique(np.array(pairs_pathway)[:, 0]))\n",
    "targets = np.sort(np.unique(np.array(pairs_pathway)[:, 1]))\n",
    "input_pairs_pathway = [(g_idx, targets) for g_idx in sources]\n",
    "input_pairs_pathway_dsf = data_store.get_file(\n",
    "    \"input_pairs_obl_pathway.pkl\", new_if_not_exist=True\n",
    ")\n",
    "with open(input_pairs_pathway_dsf.local_path, \"wb\") as f:\n",
    "    pickle.dump(input_pairs_pathway, f)\n",
    "# input_pairs_pathway_dsf.upload()\n",
    "del pairs_pathway\n",
    "del input_pairs_pathway\n"
   ]
  },
  {
   "cell_type": "code",
   "execution_count": 5,
   "id": "ee01ea51-2be3-47d5-8312-b438d9e293a5",
   "metadata": {},
   "outputs": [],
   "source": [
    "gene_idcs = np.where(df[\"node_type\"] == \"GENE\")[0]\n",
    "irr_disease_idcs = np.where(df[\"irr_disease\"])[0]\n",
    "pairs_disease = [(a, b) for a in gene_idcs for b in irr_disease_idcs]\n",
    "pairs_disease_dsf = data_store.get_file(\"pairs_obl_disease.pkl\", new_if_not_exist=True)\n",
    "with open(pairs_disease_dsf.local_path, \"wb\") as f:\n",
    "    pickle.dump(pairs_disease, f)\n",
    "# pairs_disease_dsf.upload()\n",
    "\n",
    "sources = np.sort(np.unique(np.array(pairs_disease)[:, 0]))\n",
    "targets = np.sort(np.unique(np.array(pairs_disease)[:, 1]))\n",
    "input_pairs_disease = [(g_idx, targets) for g_idx in sources]\n",
    "input_pairs_disease_dsf = data_store.get_file(\n",
    "    \"input_pairs_obl_disease.pkl\", new_if_not_exist=True\n",
    ")\n",
    "with open(input_pairs_disease_dsf.local_path, \"wb\") as f:\n",
    "    pickle.dump(input_pairs_disease, f)\n",
    "# input_pairs_disease_dsf.upload()\n",
    "del pairs_disease\n",
    "del input_pairs_disease\n"
   ]
  },
  {
   "cell_type": "code",
   "execution_count": 6,
   "id": "f16bf264-6e38-4d11-ae14-67a1cf6435b5",
   "metadata": {},
   "outputs": [],
   "source": [
    "nodes_df_dfs = data_store.get_file(\"nodes_obl.csv\", new_if_not_exist=True)\n",
    "ds.get_nodes().to_csv(nodes_df_dfs.local_path, index=False)"
   ]
  }
 ],
 "metadata": {
  "kernelspec": {
   "display_name": "giannt",
   "language": "python",
   "name": "giannt"
  },
  "language_info": {
   "codemirror_mode": {
    "name": "ipython",
    "version": 3
   },
   "file_extension": ".py",
   "mimetype": "text/x-python",
   "name": "python",
   "nbconvert_exporter": "python",
   "pygments_lexer": "ipython3",
   "version": "3.10.10"
  }
 },
 "nbformat": 4,
 "nbformat_minor": 5
}
