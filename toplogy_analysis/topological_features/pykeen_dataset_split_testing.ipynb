{
 "cells": [
  {
   "cell_type": "code",
   "execution_count": 1,
   "id": "6c56d890-8396-4d3b-bacb-32da5caa59ce",
   "metadata": {},
   "outputs": [],
   "source": [
    "from pykeen.datasets import Hetionet\n",
    "from pykeen.datasets import OpenBioLink\n",
    "from pykeen.datasets import get_dataset\n",
    "import re"
   ]
  },
  {
   "cell_type": "markdown",
   "id": "9654d090-6605-4d53-9386-ca5fe392be3a",
   "metadata": {},
   "source": [
    "# OpenBioLink"
   ]
  },
  {
   "cell_type": "code",
   "execution_count": 12,
   "id": "c4811f45-06b1-4707-9698-511505addbd0",
   "metadata": {},
   "outputs": [
    {
     "name": "stderr",
     "output_type": "stream",
     "text": [
      "You're trying to map triples with 2052 entities and 0 relations that are not in the training set. These triples will be excluded from the mapping.\n",
      "In total 2047 from 183011 triples were filtered out\n",
      "You're trying to map triples with 2099 entities and 0 relations that are not in the training set. These triples will be excluded from the mapping.\n",
      "In total 2093 from 188394 triples were filtered out\n"
     ]
    }
   ],
   "source": [
    "dataset_openbioLink = OpenBioLink()\n",
    "training = dataset_openbioLink.training\n",
    "testing = dataset_openbioLink.testing\n",
    "validation = dataset_openbioLink.validation"
   ]
  },
  {
   "cell_type": "code",
   "execution_count": 46,
   "id": "d8fe894d-e462-4fc2-a814-def60a138bde",
   "metadata": {},
   "outputs": [
    {
     "data": {
      "text/plain": [
       "55962"
      ]
     },
     "execution_count": 46,
     "metadata": {},
     "output_type": "execute_result"
    }
   ],
   "source": [
    "#ID of IR node in IR_resistance\n",
    "training.entity_to_id['HP:0000855']"
   ]
  },
  {
   "cell_type": "code",
   "execution_count": 47,
   "id": "315bb2b8-e982-4d6d-8aaf-9e36748b7667",
   "metadata": {},
   "outputs": [
    {
     "data": {
      "text/plain": [
       "['DRUG_PHENOTYPE', 'DIS_PHENOTYPE', 'IS_A', 'GENE_PHENOTYPE']"
      ]
     },
     "execution_count": 47,
     "metadata": {},
     "output_type": "execute_result"
    }
   ],
   "source": [
    "# Extract the column as a list\n",
    "unique_relation = set(filtered_tensor[:, 1].tolist())\n",
    "unique_edges_toIR  = set(filtered_tensor[:, 0].tolist())\n",
    "\n",
    "[training.relation_id_to_label[key] for key in unique_relation]"
   ]
  },
  {
   "cell_type": "code",
   "execution_count": 45,
   "id": "143c9a05-aa78-4688-8502-61b472781c7a",
   "metadata": {},
   "outputs": [],
   "source": [
    "def get_genes_in_subset(subset):\n",
    "    # Number to search for (IR Phenotype)\n",
    "    number = 55962\n",
    "\n",
    "    # Find rows that contain the number\n",
    "    mask = subset.mapped_triples[:, 2] == number\n",
    "    filtered_tensor = subset.mapped_triples[mask]\n",
    "    unique_relation = set(filtered_tensor[:, 1].tolist())\n",
    "    unique_edges_toIR  = set(filtered_tensor[:, 0].tolist())\n",
    "    genes = [\n",
    "        subset.entity_id_to_label[key]\n",
    "        for key in unique_edges_toIR\n",
    "        if subset.entity_id_to_label[key].startswith('NCBIGENE:')\n",
    "    ]\n",
    "    return genes"
   ]
  },
  {
   "cell_type": "code",
   "execution_count": 38,
   "id": "c5b29795-9668-43f2-86a0-f5470cb7bf05",
   "metadata": {},
   "outputs": [],
   "source": [
    "training_genes = set(get_genes_in_subset(training))\n",
    "testing_genes = set(get_genes_in_subset(testing))\n",
    "validation_genes = set(get_genes_in_subset(validation))"
   ]
  },
  {
   "cell_type": "code",
   "execution_count": 42,
   "id": "56689995-fac7-4bb7-be51-7b913724b4f8",
   "metadata": {},
   "outputs": [
    {
     "data": {
      "text/plain": [
       "(50, 0, 5)"
      ]
     },
     "execution_count": 42,
     "metadata": {},
     "output_type": "execute_result"
    }
   ],
   "source": [
    "len(training_genes), len(testing_genes), len(validation_genes)"
   ]
  },
  {
   "cell_type": "code",
   "execution_count": 51,
   "id": "0909f21e-c020-403d-a1bb-8c6f9a0e2354",
   "metadata": {},
   "outputs": [
    {
     "data": {
      "text/plain": [
       "0"
      ]
     },
     "execution_count": 51,
     "metadata": {},
     "output_type": "execute_result"
    }
   ],
   "source": [
    "len(training_genes.intersection(testing_genes))"
   ]
  }
 ],
 "metadata": {
  "kernelspec": {
   "display_name": "giannt",
   "language": "python",
   "name": "giannt"
  },
  "language_info": {
   "codemirror_mode": {
    "name": "ipython",
    "version": 3
   },
   "file_extension": ".py",
   "mimetype": "text/x-python",
   "name": "python",
   "nbconvert_exporter": "python",
   "pygments_lexer": "ipython3",
   "version": "3.10.10"
  }
 },
 "nbformat": 4,
 "nbformat_minor": 5
}
